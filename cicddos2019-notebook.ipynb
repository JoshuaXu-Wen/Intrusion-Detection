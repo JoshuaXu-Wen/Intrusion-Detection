{
 "cells": [
  {
   "cell_type": "code",
   "execution_count": 1,
   "id": "f51e0b44",
   "metadata": {
    "execution": {
     "iopub.execute_input": "2021-10-22T00:22:12.084181Z",
     "iopub.status.busy": "2021-10-22T00:22:12.082477Z",
     "iopub.status.idle": "2021-10-22T00:23:05.104830Z",
     "shell.execute_reply": "2021-10-22T00:23:05.105375Z",
     "shell.execute_reply.started": "2021-10-20T07:32:39.084684Z"
    },
    "papermill": {
     "duration": 53.052845,
     "end_time": "2021-10-22T00:23:05.105683",
     "exception": false,
     "start_time": "2021-10-22T00:22:12.052838",
     "status": "completed"
    },
    "tags": []
   },
   "outputs": [
    {
     "name": "stdout",
     "output_type": "stream",
     "text": [
      "Collecting package metadata (current_repodata.json): - \b\b\\ \b\b| \b\b/ \b\b- \b\b\\ \b\b| \b\b/ \b\b- \b\b\\ \b\b| \b\b/ \b\b- \b\b\\ \b\b| \b\b/ \b\b- \b\b\\ \b\b| \b\b/ \b\b- \b\b\\ \b\b| \b\b/ \b\b- \b\b\\ \b\b| \b\b/ \b\b- \b\b\\ \b\b| \b\b/ \b\b- \b\b\\ \b\b| \b\b/ \b\b- \b\b\\ \b\b| \b\b/ \b\b- \b\b\\ \b\b| \b\b/ \b\b- \b\b\\ \b\b| \b\b/ \b\b- \b\b\\ \b\b| \b\b/ \b\b- \b\b\\ \b\b| \b\b/ \b\b- \b\b\\ \b\b| \b\b/ \b\b- \b\b\\ \b\b| \b\b/ \b\b- \b\b\\ \b\b| \b\b/ \b\b- \b\b\\ \b\b| \b\b/ \b\b- \b\b\\ \b\b| \b\b/ \b\b- \b\b\\ \b\b| \b\b/ \b\b- \b\b\\ \b\b| \b\b/ \b\b- \b\b\\ \b\b| \b\b/ \b\b- \b\b\\ \b\b| \b\b/ \b\b- \b\b\\ \b\b| \b\b/ \b\b- \b\b\\ \b\b| \b\b/ \b\b- \b\b\\ \b\b| \b\b/ \b\b- \b\b\\ \b\b| \b\b/ \b\b- \b\b\\ \b\b| \b\b/ \b\b- \b\b\\ \b\b| \b\b/ \b\b- \b\b\\ \b\b| \b\b/ \b\b- \b\b\\ \b\b| \b\b/ \b\b- \b\bdone\r\n",
      "Solving environment: | \b\b/ \b\b- \b\b\\ \b\b| \b\b/ \b\b- \b\b\\ \b\b| \b\b/ \b\b- \b\b\\ \b\b| \b\b/ \b\b- \b\b\\ \b\b| \b\b/ \b\b- \b\b\\ \b\b| \b\b/ \b\b- \b\b\\ \b\b| \b\b/ \b\b- \b\b\\ \b\b| \b\b/ \b\b- \b\b\\ \b\b| \b\b/ \b\b- \b\b\\ \b\b| \b\b/ \b\b- \b\b\\ \b\b| \b\b/ \b\b- \b\b\\ \b\b| \b\b/ \b\b- \b\b\\ \b\b| \b\b/ \b\b- \b\b\\ \b\b| \b\b/ \b\b- \b\b\\ \b\b| \b\b/ \b\b- \b\b\\ \b\b| \b\b/ \b\b- \b\b\\ \b\b| \b\b/ \b\b- \b\b\\ \b\b| \b\b/ \b\b- \b\b\\ \b\b| \b\b/ \b\b- \b\b\\ \b\b| \b\b/ \b\b- \b\b\\ \b\b| \b\b/ \b\b- \b\b\\ \b\b| \b\b/ \b\b- \b\b\\ \b\b| \b\b/ \b\b- \b\b\\ \b\b| \b\b/ \b\b- \b\b\\ \b\b| \b\b/ \b\b- \b\b\\ \b\b| \b\b/ \b\b- \b\b\\ \b\b| \b\b/ \b\b- \b\b\\ \b\b| \b\bdone\r\n",
      "\r\n",
      "## Package Plan ##\r\n",
      "\r\n",
      "  environment location: /opt/conda\r\n",
      "\r\n",
      "  added / updated specs:\r\n",
      "    - imbalanced-learn\r\n",
      "\r\n",
      "\r\n",
      "The following packages will be downloaded:\r\n",
      "\r\n",
      "    package                    |            build\r\n",
      "    ---------------------------|-----------------\r\n",
      "    imbalanced-learn-0.8.1     |     pyhd8ed1ab_0         110 KB  conda-forge\r\n",
      "    ------------------------------------------------------------\r\n",
      "                                           Total:         110 KB\r\n",
      "\r\n",
      "The following NEW packages will be INSTALLED:\r\n",
      "\r\n",
      "  imbalanced-learn   conda-forge/noarch::imbalanced-learn-0.8.1-pyhd8ed1ab_0\r\n",
      "\r\n",
      "\r\n",
      "\r\n",
      "Downloading and Extracting Packages\r\n",
      "imbalanced-learn-0.8 | 110 KB    | ##################################### | 100% \r\n",
      "Preparing transaction: - \b\bdone\r\n",
      "Verifying transaction: | \b\b/ \b\b- \b\b\\ \b\bdone\r\n",
      "Executing transaction: / \b\b- \b\b\\ \b\b| \b\b/ \b\b- \b\b\\ \b\b| \b\b/ \b\b- \b\b\\ \b\b| \b\b/ \b\b- \b\b\\ \b\bdone\r\n"
     ]
    }
   ],
   "source": [
    "!conda install -y -c conda-forge imbalanced-learn"
   ]
  },
  {
   "cell_type": "code",
   "execution_count": 2,
   "id": "984d212b",
   "metadata": {
    "_cell_guid": "b1076dfc-b9ad-4769-8c92-a6c4dae69d19",
    "_uuid": "8f2839f25d086af736a60e9eeb907d3b93b6e0e5",
    "execution": {
     "iopub.execute_input": "2021-10-22T00:23:05.288022Z",
     "iopub.status.busy": "2021-10-22T00:23:05.287319Z",
     "iopub.status.idle": "2021-10-22T00:23:05.318210Z",
     "shell.execute_reply": "2021-10-22T00:23:05.318662Z",
     "shell.execute_reply.started": "2021-10-20T07:33:32.697827Z"
    },
    "papermill": {
     "duration": 0.124864,
     "end_time": "2021-10-22T00:23:05.318800",
     "exception": false,
     "start_time": "2021-10-22T00:23:05.193936",
     "status": "completed"
    },
    "tags": []
   },
   "outputs": [
    {
     "name": "stdout",
     "output_type": "stream",
     "text": [
      "/kaggle/input/ddos2019-5percent/5percent/5percent_Portmap.csv\n",
      "/kaggle/input/ddos2019-5percent/5percent/5percent_LDAP.csv\n",
      "/kaggle/input/ddos2019-5percent/5percent/5percent_UDP.csv\n",
      "/kaggle/input/ddos2019-5percent/5percent/5percent_Syn.csv\n",
      "/kaggle/input/ddos2019-5percent/5percent/5percent_UDPLag.csv\n",
      "/kaggle/input/ddos2019-5percent/5percent/5percent_NetBIOS.csv\n",
      "/kaggle/input/ddos2019-5percent/5percent/5percent_MSSQL.csv\n"
     ]
    }
   ],
   "source": [
    "# This Python 3 environment comes with many helpful analytics libraries installed\n",
    "# It is defined by the kaggle/python Docker image: https://github.com/kaggle/docker-python\n",
    "# For example, here's several helpful packages to load\n",
    "\n",
    "import numpy as np # linear algebra\n",
    "import pandas as pd # data processing, CSV file I/O (e.g. pd.read_csv)\n",
    "import os\n",
    "# Input data files are available in the read-only \"../input/\" directory\n",
    "# For example, running this (by clicking run or pressing Shift+Enter) will list all files under the input directory\n",
    "csv_files = []\n",
    "\n",
    "for dirname, _, filenames in os.walk('/kaggle/input'):\n",
    "    for filename in filenames:\n",
    "        csv_file = os.path.join(dirname, filename)\n",
    "        print(csv_file)\n",
    "        csv_files.append(csv_file)\n",
    "\n",
    "# You can write up to 20GB to the current directory (/kaggle/working/) that gets preserved as output when you create a version using \"Save & Run All\" \n",
    "# You can also write temporary files to /kaggle/temp/, but they won't be saved outside of the current session"
   ]
  },
  {
   "cell_type": "code",
   "execution_count": 3,
   "id": "73423ff1",
   "metadata": {
    "execution": {
     "iopub.execute_input": "2021-10-22T00:23:05.499322Z",
     "iopub.status.busy": "2021-10-22T00:23:05.498674Z",
     "iopub.status.idle": "2021-10-22T00:23:21.591387Z",
     "shell.execute_reply": "2021-10-22T00:23:21.590769Z",
     "shell.execute_reply.started": "2021-10-20T07:33:32.755257Z"
    },
    "papermill": {
     "duration": 16.185595,
     "end_time": "2021-10-22T00:23:21.591568",
     "exception": false,
     "start_time": "2021-10-22T00:23:05.405973",
     "status": "completed"
    },
    "tags": []
   },
   "outputs": [
    {
     "name": "stderr",
     "output_type": "stream",
     "text": [
      "/opt/conda/lib/python3.7/site-packages/ipykernel_launcher.py:1: DtypeWarning: Columns (86) have mixed types.Specify dtype option on import or set low_memory=False.\n",
      "  \"\"\"Entry point for launching an IPython kernel.\n"
     ]
    },
    {
     "name": "stdout",
     "output_type": "stream",
     "text": [
      "['Portmap' 'BENIGN' 'LDAP' 'NetBIOS' 'UDP' 'MSSQL' 'Syn' 'UDPLag']\n",
      "MSSQL      289337\n",
      "Syn        244612\n",
      "UDP        193305\n",
      "NetBIOS    182684\n",
      "LDAP        96006\n",
      "Portmap      9351\n",
      "BENIGN       2834\n",
      "UDPLag         97\n",
      "Name: Label, dtype: int64\n"
     ]
    }
   ],
   "source": [
    "df_original = pd.concat([pd.read_csv(file, index_col=0) for file in csv_files], ignore_index=True)\n",
    "print(df_original.Label.unique())\n",
    "print(df_original['Label'].value_counts())"
   ]
  },
  {
   "cell_type": "code",
   "execution_count": 4,
   "id": "0b1f4256",
   "metadata": {
    "execution": {
     "iopub.execute_input": "2021-10-22T00:23:21.825194Z",
     "iopub.status.busy": "2021-10-22T00:23:21.823566Z",
     "iopub.status.idle": "2021-10-22T00:23:23.331299Z",
     "shell.execute_reply": "2021-10-22T00:23:23.330687Z",
     "shell.execute_reply.started": "2021-10-20T07:37:57.933684Z"
    },
    "papermill": {
     "duration": 1.650609,
     "end_time": "2021-10-22T00:23:23.331461",
     "exception": false,
     "start_time": "2021-10-22T00:23:21.680852",
     "status": "completed"
    },
    "tags": []
   },
   "outputs": [
    {
     "name": "stdout",
     "output_type": "stream",
     "text": [
      "['BENIGN' 'LDAP' 'NetBIOS' 'UDP' 'MSSQL' 'Syn']\n",
      "MSSQL      289337\n",
      "Syn        244612\n",
      "UDP        193305\n",
      "NetBIOS    182684\n",
      "LDAP        96006\n",
      "BENIGN       2834\n",
      "Name: Label, dtype: int64\n"
     ]
    }
   ],
   "source": [
    "# drop two type of attacks: portmap and UDPLag\n",
    "df = df_original.copy()\n",
    "df = df.loc[~df['Label'].isin(['Portmap', 'UDPLag'])]\n",
    "print(df.Label.unique())\n",
    "print(df['Label'].value_counts())"
   ]
  },
  {
   "cell_type": "code",
   "execution_count": 5,
   "id": "8eafc7c1",
   "metadata": {
    "execution": {
     "iopub.execute_input": "2021-10-22T00:23:23.520598Z",
     "iopub.status.busy": "2021-10-22T00:23:23.519778Z",
     "iopub.status.idle": "2021-10-22T00:23:23.523117Z",
     "shell.execute_reply": "2021-10-22T00:23:23.523524Z",
     "shell.execute_reply.started": "2021-10-20T07:38:04.539724Z"
    },
    "papermill": {
     "duration": 0.102409,
     "end_time": "2021-10-22T00:23:23.523702",
     "exception": false,
     "start_time": "2021-10-22T00:23:23.421293",
     "status": "completed"
    },
    "tags": []
   },
   "outputs": [
    {
     "data": {
      "text/plain": [
       "Index(['Unnamed: 0.1', 'Flow ID', 'Source IP', 'Source Port', 'Destination IP',\n",
       "       'Destination Port', 'Protocol', 'Timestamp', 'Flow Duration',\n",
       "       'Total Fwd Packets', 'Total Backward Packets',\n",
       "       'Total Length of Fwd Packets', 'Total Length of Bwd Packets',\n",
       "       'Fwd Packet Length Max', 'Fwd Packet Length Min',\n",
       "       'Fwd Packet Length Mean', 'Fwd Packet Length Std',\n",
       "       'Bwd Packet Length Max', 'Bwd Packet Length Min',\n",
       "       'Bwd Packet Length Mean', 'Bwd Packet Length Std', 'Flow Bytes/s',\n",
       "       'Flow Packets/s', 'Flow IAT Mean', 'Flow IAT Std', 'Flow IAT Max',\n",
       "       'Flow IAT Min', 'Fwd IAT Total', 'Fwd IAT Mean', 'Fwd IAT Std',\n",
       "       'Fwd IAT Max', 'Fwd IAT Min', 'Bwd IAT Total', 'Bwd IAT Mean',\n",
       "       'Bwd IAT Std', 'Bwd IAT Max', 'Bwd IAT Min', 'Fwd PSH Flags',\n",
       "       'Bwd PSH Flags', 'Fwd URG Flags', 'Bwd URG Flags', 'Fwd Header Length',\n",
       "       'Bwd Header Length', 'Fwd Packets/s', 'Bwd Packets/s',\n",
       "       'Min Packet Length', 'Max Packet Length', 'Packet Length Mean',\n",
       "       'Packet Length Std', 'Packet Length Variance', 'FIN Flag Count',\n",
       "       'SYN Flag Count', 'RST Flag Count', 'PSH Flag Count', 'ACK Flag Count',\n",
       "       'URG Flag Count', 'CWE Flag Count', 'ECE Flag Count', 'Down/Up Ratio',\n",
       "       'Average Packet Size', 'Avg Fwd Segment Size', 'Avg Bwd Segment Size',\n",
       "       'Fwd Header Length.1', 'Fwd Avg Bytes/Bulk', 'Fwd Avg Packets/Bulk',\n",
       "       'Fwd Avg Bulk Rate', 'Bwd Avg Bytes/Bulk', 'Bwd Avg Packets/Bulk',\n",
       "       'Bwd Avg Bulk Rate', 'Subflow Fwd Packets', 'Subflow Fwd Bytes',\n",
       "       'Subflow Bwd Packets', 'Subflow Bwd Bytes', 'Init_Win_bytes_forward',\n",
       "       'Init_Win_bytes_backward', 'act_data_pkt_fwd', 'min_seg_size_forward',\n",
       "       'Active Mean', 'Active Std', 'Active Max', 'Active Min', 'Idle Mean',\n",
       "       'Idle Std', 'Idle Max', 'Idle Min', 'SimillarHTTP', 'Inbound', 'Label'],\n",
       "      dtype='object')"
      ]
     },
     "execution_count": 5,
     "metadata": {},
     "output_type": "execute_result"
    }
   ],
   "source": [
    "df.columns"
   ]
  },
  {
   "cell_type": "code",
   "execution_count": 6,
   "id": "907f4a5e",
   "metadata": {
    "execution": {
     "iopub.execute_input": "2021-10-22T00:23:23.714424Z",
     "iopub.status.busy": "2021-10-22T00:23:23.713640Z",
     "iopub.status.idle": "2021-10-22T00:23:23.737747Z",
     "shell.execute_reply": "2021-10-22T00:23:23.738186Z",
     "shell.execute_reply.started": "2021-10-20T07:38:06.293918Z"
    },
    "papermill": {
     "duration": 0.123883,
     "end_time": "2021-10-22T00:23:23.738324",
     "exception": false,
     "start_time": "2021-10-22T00:23:23.614441",
     "status": "completed"
    },
    "tags": []
   },
   "outputs": [
    {
     "data": {
      "text/html": [
       "<div>\n",
       "<style scoped>\n",
       "    .dataframe tbody tr th:only-of-type {\n",
       "        vertical-align: middle;\n",
       "    }\n",
       "\n",
       "    .dataframe tbody tr th {\n",
       "        vertical-align: top;\n",
       "    }\n",
       "\n",
       "    .dataframe thead th {\n",
       "        text-align: right;\n",
       "    }\n",
       "</style>\n",
       "<table border=\"1\" class=\"dataframe\">\n",
       "  <thead>\n",
       "    <tr style=\"text-align: right;\">\n",
       "      <th></th>\n",
       "      <th>Unnamed: 0.1</th>\n",
       "      <th>Flow ID</th>\n",
       "      <th>Source IP</th>\n",
       "      <th>Source Port</th>\n",
       "      <th>Destination IP</th>\n",
       "      <th>Destination Port</th>\n",
       "      <th>Protocol</th>\n",
       "      <th>Timestamp</th>\n",
       "      <th>Flow Duration</th>\n",
       "      <th>Total Fwd Packets</th>\n",
       "      <th>...</th>\n",
       "      <th>Active Std</th>\n",
       "      <th>Active Max</th>\n",
       "      <th>Active Min</th>\n",
       "      <th>Idle Mean</th>\n",
       "      <th>Idle Std</th>\n",
       "      <th>Idle Max</th>\n",
       "      <th>Idle Min</th>\n",
       "      <th>SimillarHTTP</th>\n",
       "      <th>Inbound</th>\n",
       "      <th>Label</th>\n",
       "    </tr>\n",
       "  </thead>\n",
       "  <tbody>\n",
       "    <tr>\n",
       "      <th>3</th>\n",
       "      <td>51489</td>\n",
       "      <td>172.217.9.226-192.168.50.8-443-59665-6</td>\n",
       "      <td>192.168.50.8</td>\n",
       "      <td>59665</td>\n",
       "      <td>172.217.9.226</td>\n",
       "      <td>443</td>\n",
       "      <td>6</td>\n",
       "      <td>2018-11-03 09:37:01.880001</td>\n",
       "      <td>3</td>\n",
       "      <td>2</td>\n",
       "      <td>...</td>\n",
       "      <td>0.0</td>\n",
       "      <td>0.0</td>\n",
       "      <td>0.0</td>\n",
       "      <td>0.0</td>\n",
       "      <td>0.0</td>\n",
       "      <td>0.0</td>\n",
       "      <td>0.0</td>\n",
       "      <td>0</td>\n",
       "      <td>0</td>\n",
       "      <td>BENIGN</td>\n",
       "    </tr>\n",
       "    <tr>\n",
       "      <th>12</th>\n",
       "      <td>119554</td>\n",
       "      <td>192.168.50.6-4.2.2.4-60136-53-17</td>\n",
       "      <td>192.168.50.6</td>\n",
       "      <td>60136</td>\n",
       "      <td>4.2.2.4</td>\n",
       "      <td>53</td>\n",
       "      <td>17</td>\n",
       "      <td>2018-11-03 09:50:56.664466</td>\n",
       "      <td>20787</td>\n",
       "      <td>2</td>\n",
       "      <td>...</td>\n",
       "      <td>0.0</td>\n",
       "      <td>0.0</td>\n",
       "      <td>0.0</td>\n",
       "      <td>0.0</td>\n",
       "      <td>0.0</td>\n",
       "      <td>0.0</td>\n",
       "      <td>0.0</td>\n",
       "      <td>0</td>\n",
       "      <td>0</td>\n",
       "      <td>BENIGN</td>\n",
       "    </tr>\n",
       "    <tr>\n",
       "      <th>16</th>\n",
       "      <td>46351</td>\n",
       "      <td>192.168.50.6-4.2.2.4-63041-53-17</td>\n",
       "      <td>192.168.50.6</td>\n",
       "      <td>63041</td>\n",
       "      <td>4.2.2.4</td>\n",
       "      <td>53</td>\n",
       "      <td>17</td>\n",
       "      <td>2018-11-03 09:48:55.666471</td>\n",
       "      <td>20926</td>\n",
       "      <td>2</td>\n",
       "      <td>...</td>\n",
       "      <td>0.0</td>\n",
       "      <td>0.0</td>\n",
       "      <td>0.0</td>\n",
       "      <td>0.0</td>\n",
       "      <td>0.0</td>\n",
       "      <td>0.0</td>\n",
       "      <td>0.0</td>\n",
       "      <td>0</td>\n",
       "      <td>0</td>\n",
       "      <td>BENIGN</td>\n",
       "    </tr>\n",
       "    <tr>\n",
       "      <th>26</th>\n",
       "      <td>38385</td>\n",
       "      <td>192.168.50.6-74.208.236.171-54944-80-6</td>\n",
       "      <td>74.208.236.171</td>\n",
       "      <td>80</td>\n",
       "      <td>192.168.50.6</td>\n",
       "      <td>54944</td>\n",
       "      <td>6</td>\n",
       "      <td>2018-11-03 09:34:26.964322</td>\n",
       "      <td>298</td>\n",
       "      <td>1</td>\n",
       "      <td>...</td>\n",
       "      <td>0.0</td>\n",
       "      <td>0.0</td>\n",
       "      <td>0.0</td>\n",
       "      <td>0.0</td>\n",
       "      <td>0.0</td>\n",
       "      <td>0.0</td>\n",
       "      <td>0.0</td>\n",
       "      <td>0</td>\n",
       "      <td>1</td>\n",
       "      <td>BENIGN</td>\n",
       "    </tr>\n",
       "    <tr>\n",
       "      <th>34</th>\n",
       "      <td>1026</td>\n",
       "      <td>192.168.50.6-23.194.142.213-55031-443-6</td>\n",
       "      <td>23.194.142.213</td>\n",
       "      <td>443</td>\n",
       "      <td>192.168.50.6</td>\n",
       "      <td>55031</td>\n",
       "      <td>6</td>\n",
       "      <td>2018-11-03 09:44:49.053986</td>\n",
       "      <td>2</td>\n",
       "      <td>3</td>\n",
       "      <td>...</td>\n",
       "      <td>0.0</td>\n",
       "      <td>0.0</td>\n",
       "      <td>0.0</td>\n",
       "      <td>0.0</td>\n",
       "      <td>0.0</td>\n",
       "      <td>0.0</td>\n",
       "      <td>0.0</td>\n",
       "      <td>0</td>\n",
       "      <td>1</td>\n",
       "      <td>BENIGN</td>\n",
       "    </tr>\n",
       "  </tbody>\n",
       "</table>\n",
       "<p>5 rows × 88 columns</p>\n",
       "</div>"
      ],
      "text/plain": [
       "    Unnamed: 0.1                                  Flow ID       Source IP  \\\n",
       "3          51489   172.217.9.226-192.168.50.8-443-59665-6    192.168.50.8   \n",
       "12        119554         192.168.50.6-4.2.2.4-60136-53-17    192.168.50.6   \n",
       "16         46351         192.168.50.6-4.2.2.4-63041-53-17    192.168.50.6   \n",
       "26         38385   192.168.50.6-74.208.236.171-54944-80-6  74.208.236.171   \n",
       "34          1026  192.168.50.6-23.194.142.213-55031-443-6  23.194.142.213   \n",
       "\n",
       "    Source Port Destination IP  Destination Port  Protocol  \\\n",
       "3         59665  172.217.9.226               443         6   \n",
       "12        60136        4.2.2.4                53        17   \n",
       "16        63041        4.2.2.4                53        17   \n",
       "26           80   192.168.50.6             54944         6   \n",
       "34          443   192.168.50.6             55031         6   \n",
       "\n",
       "                     Timestamp  Flow Duration  Total Fwd Packets  ...  \\\n",
       "3   2018-11-03 09:37:01.880001              3                  2  ...   \n",
       "12  2018-11-03 09:50:56.664466          20787                  2  ...   \n",
       "16  2018-11-03 09:48:55.666471          20926                  2  ...   \n",
       "26  2018-11-03 09:34:26.964322            298                  1  ...   \n",
       "34  2018-11-03 09:44:49.053986              2                  3  ...   \n",
       "\n",
       "    Active Std  Active Max  Active Min  Idle Mean  Idle Std  Idle Max  \\\n",
       "3          0.0         0.0         0.0        0.0       0.0       0.0   \n",
       "12         0.0         0.0         0.0        0.0       0.0       0.0   \n",
       "16         0.0         0.0         0.0        0.0       0.0       0.0   \n",
       "26         0.0         0.0         0.0        0.0       0.0       0.0   \n",
       "34         0.0         0.0         0.0        0.0       0.0       0.0   \n",
       "\n",
       "    Idle Min  SimillarHTTP  Inbound   Label  \n",
       "3        0.0             0        0  BENIGN  \n",
       "12       0.0             0        0  BENIGN  \n",
       "16       0.0             0        0  BENIGN  \n",
       "26       0.0             0        1  BENIGN  \n",
       "34       0.0             0        1  BENIGN  \n",
       "\n",
       "[5 rows x 88 columns]"
      ]
     },
     "execution_count": 6,
     "metadata": {},
     "output_type": "execute_result"
    }
   ],
   "source": [
    "df.head()"
   ]
  },
  {
   "cell_type": "code",
   "execution_count": 7,
   "id": "fc76ad43",
   "metadata": {
    "execution": {
     "iopub.execute_input": "2021-10-22T00:23:23.928238Z",
     "iopub.status.busy": "2021-10-22T00:23:23.927322Z",
     "iopub.status.idle": "2021-10-22T00:23:23.930666Z",
     "shell.execute_reply": "2021-10-22T00:23:23.931084Z",
     "shell.execute_reply.started": "2021-10-20T07:38:06.901779Z"
    },
    "papermill": {
     "duration": 0.099572,
     "end_time": "2021-10-22T00:23:23.931229",
     "exception": false,
     "start_time": "2021-10-22T00:23:23.831657",
     "status": "completed"
    },
    "tags": []
   },
   "outputs": [],
   "source": [
    "drop_columns = ['Unnamed: 0.1', 'Flow ID', 'Source IP', 'Source Port', \n",
    "                          'Destination IP', 'Destination Port','Timestamp', 'Flow Bytes/s', \n",
    "                          'Flow Packets/s', 'SimillarHTTP']"
   ]
  },
  {
   "cell_type": "code",
   "execution_count": 8,
   "id": "aa3e3a3b",
   "metadata": {
    "execution": {
     "iopub.execute_input": "2021-10-22T00:23:24.293818Z",
     "iopub.status.busy": "2021-10-22T00:23:24.292837Z",
     "iopub.status.idle": "2021-10-22T00:23:24.299472Z",
     "shell.execute_reply": "2021-10-22T00:23:24.299046Z",
     "shell.execute_reply.started": "2021-10-20T07:38:07.929664Z"
    },
    "papermill": {
     "duration": 0.27622,
     "end_time": "2021-10-22T00:23:24.299617",
     "exception": false,
     "start_time": "2021-10-22T00:23:24.023397",
     "status": "completed"
    },
    "tags": []
   },
   "outputs": [],
   "source": [
    "df.drop(drop_columns, axis=1, inplace=True)"
   ]
  },
  {
   "cell_type": "code",
   "execution_count": 9,
   "id": "c72a1da6",
   "metadata": {
    "execution": {
     "iopub.execute_input": "2021-10-22T00:23:24.486581Z",
     "iopub.status.busy": "2021-10-22T00:23:24.485974Z",
     "iopub.status.idle": "2021-10-22T00:23:24.489136Z",
     "shell.execute_reply": "2021-10-22T00:23:24.489732Z",
     "shell.execute_reply.started": "2021-10-20T07:38:12.225787Z"
    },
    "papermill": {
     "duration": 0.10008,
     "end_time": "2021-10-22T00:23:24.489904",
     "exception": false,
     "start_time": "2021-10-22T00:23:24.389824",
     "status": "completed"
    },
    "tags": []
   },
   "outputs": [
    {
     "name": "stdout",
     "output_type": "stream",
     "text": [
      "(1008778, 78)\n",
      "Index(['Protocol', 'Flow Duration', 'Total Fwd Packets',\n",
      "       'Total Backward Packets', 'Total Length of Fwd Packets',\n",
      "       'Total Length of Bwd Packets', 'Fwd Packet Length Max',\n",
      "       'Fwd Packet Length Min', 'Fwd Packet Length Mean',\n",
      "       'Fwd Packet Length Std', 'Bwd Packet Length Max',\n",
      "       'Bwd Packet Length Min', 'Bwd Packet Length Mean',\n",
      "       'Bwd Packet Length Std', 'Flow IAT Mean', 'Flow IAT Std',\n",
      "       'Flow IAT Max', 'Flow IAT Min', 'Fwd IAT Total', 'Fwd IAT Mean',\n",
      "       'Fwd IAT Std', 'Fwd IAT Max', 'Fwd IAT Min', 'Bwd IAT Total',\n",
      "       'Bwd IAT Mean', 'Bwd IAT Std', 'Bwd IAT Max', 'Bwd IAT Min',\n",
      "       'Fwd PSH Flags', 'Bwd PSH Flags', 'Fwd URG Flags', 'Bwd URG Flags',\n",
      "       'Fwd Header Length', 'Bwd Header Length', 'Fwd Packets/s',\n",
      "       'Bwd Packets/s', 'Min Packet Length', 'Max Packet Length',\n",
      "       'Packet Length Mean', 'Packet Length Std', 'Packet Length Variance',\n",
      "       'FIN Flag Count', 'SYN Flag Count', 'RST Flag Count', 'PSH Flag Count',\n",
      "       'ACK Flag Count', 'URG Flag Count', 'CWE Flag Count', 'ECE Flag Count',\n",
      "       'Down/Up Ratio', 'Average Packet Size', 'Avg Fwd Segment Size',\n",
      "       'Avg Bwd Segment Size', 'Fwd Header Length.1', 'Fwd Avg Bytes/Bulk',\n",
      "       'Fwd Avg Packets/Bulk', 'Fwd Avg Bulk Rate', 'Bwd Avg Bytes/Bulk',\n",
      "       'Bwd Avg Packets/Bulk', 'Bwd Avg Bulk Rate', 'Subflow Fwd Packets',\n",
      "       'Subflow Fwd Bytes', 'Subflow Bwd Packets', 'Subflow Bwd Bytes',\n",
      "       'Init_Win_bytes_forward', 'Init_Win_bytes_backward', 'act_data_pkt_fwd',\n",
      "       'min_seg_size_forward', 'Active Mean', 'Active Std', 'Active Max',\n",
      "       'Active Min', 'Idle Mean', 'Idle Std', 'Idle Max', 'Idle Min',\n",
      "       'Inbound', 'Label'],\n",
      "      dtype='object')\n"
     ]
    }
   ],
   "source": [
    "print(df.shape)\n",
    "print(df.columns)"
   ]
  },
  {
   "cell_type": "code",
   "execution_count": 10,
   "id": "d8ddf590",
   "metadata": {
    "execution": {
     "iopub.execute_input": "2021-10-22T00:23:24.678187Z",
     "iopub.status.busy": "2021-10-22T00:23:24.677071Z",
     "iopub.status.idle": "2021-10-22T00:23:24.931806Z",
     "shell.execute_reply": "2021-10-22T00:23:24.932410Z",
     "shell.execute_reply.started": "2021-10-20T07:38:15.078117Z"
    },
    "papermill": {
     "duration": 0.348418,
     "end_time": "2021-10-22T00:23:24.932632",
     "exception": false,
     "start_time": "2021-10-22T00:23:24.584214",
     "status": "completed"
    },
    "tags": []
   },
   "outputs": [
    {
     "name": "stdout",
     "output_type": "stream",
     "text": [
      "<class 'pandas.core.frame.DataFrame'>\n",
      "Int64Index: 1008778 entries, 3 to 1018225\n",
      "Data columns (total 78 columns):\n",
      " #   Column                       Non-Null Count    Dtype  \n",
      "---  ------                       --------------    -----  \n",
      " 0   Protocol                     1008778 non-null  int64  \n",
      " 1   Flow Duration                1008778 non-null  int64  \n",
      " 2   Total Fwd Packets            1008778 non-null  int64  \n",
      " 3   Total Backward Packets       1008778 non-null  int64  \n",
      " 4   Total Length of Fwd Packets  1008778 non-null  float64\n",
      " 5   Total Length of Bwd Packets  1008778 non-null  float64\n",
      " 6   Fwd Packet Length Max        1008778 non-null  float64\n",
      " 7   Fwd Packet Length Min        1008778 non-null  float64\n",
      " 8   Fwd Packet Length Mean       1008778 non-null  float64\n",
      " 9   Fwd Packet Length Std        1008778 non-null  float64\n",
      " 10  Bwd Packet Length Max        1008778 non-null  float64\n",
      " 11  Bwd Packet Length Min        1008778 non-null  float64\n",
      " 12  Bwd Packet Length Mean       1008778 non-null  float64\n",
      " 13  Bwd Packet Length Std        1008778 non-null  float64\n",
      " 14  Flow IAT Mean                1008778 non-null  float64\n",
      " 15  Flow IAT Std                 1008778 non-null  float64\n",
      " 16  Flow IAT Max                 1008778 non-null  float64\n",
      " 17  Flow IAT Min                 1008778 non-null  float64\n",
      " 18  Fwd IAT Total                1008778 non-null  float64\n",
      " 19  Fwd IAT Mean                 1008778 non-null  float64\n",
      " 20  Fwd IAT Std                  1008778 non-null  float64\n",
      " 21  Fwd IAT Max                  1008778 non-null  float64\n",
      " 22  Fwd IAT Min                  1008778 non-null  float64\n",
      " 23  Bwd IAT Total                1008778 non-null  float64\n",
      " 24  Bwd IAT Mean                 1008778 non-null  float64\n",
      " 25  Bwd IAT Std                  1008778 non-null  float64\n",
      " 26  Bwd IAT Max                  1008778 non-null  float64\n",
      " 27  Bwd IAT Min                  1008778 non-null  float64\n",
      " 28  Fwd PSH Flags                1008778 non-null  int64  \n",
      " 29  Bwd PSH Flags                1008778 non-null  int64  \n",
      " 30  Fwd URG Flags                1008778 non-null  int64  \n",
      " 31  Bwd URG Flags                1008778 non-null  int64  \n",
      " 32  Fwd Header Length            1008778 non-null  int64  \n",
      " 33  Bwd Header Length            1008778 non-null  int64  \n",
      " 34  Fwd Packets/s                1008778 non-null  float64\n",
      " 35  Bwd Packets/s                1008778 non-null  float64\n",
      " 36  Min Packet Length            1008778 non-null  float64\n",
      " 37  Max Packet Length            1008778 non-null  float64\n",
      " 38  Packet Length Mean           1008778 non-null  float64\n",
      " 39  Packet Length Std            1008778 non-null  float64\n",
      " 40  Packet Length Variance       1008778 non-null  float64\n",
      " 41  FIN Flag Count               1008778 non-null  int64  \n",
      " 42  SYN Flag Count               1008778 non-null  int64  \n",
      " 43  RST Flag Count               1008778 non-null  int64  \n",
      " 44  PSH Flag Count               1008778 non-null  int64  \n",
      " 45  ACK Flag Count               1008778 non-null  int64  \n",
      " 46  URG Flag Count               1008778 non-null  int64  \n",
      " 47  CWE Flag Count               1008778 non-null  int64  \n",
      " 48  ECE Flag Count               1008778 non-null  int64  \n",
      " 49  Down/Up Ratio                1008778 non-null  float64\n",
      " 50  Average Packet Size          1008778 non-null  float64\n",
      " 51  Avg Fwd Segment Size         1008778 non-null  float64\n",
      " 52  Avg Bwd Segment Size         1008778 non-null  float64\n",
      " 53  Fwd Header Length.1          1008778 non-null  int64  \n",
      " 54  Fwd Avg Bytes/Bulk           1008778 non-null  int64  \n",
      " 55  Fwd Avg Packets/Bulk         1008778 non-null  int64  \n",
      " 56  Fwd Avg Bulk Rate            1008778 non-null  int64  \n",
      " 57  Bwd Avg Bytes/Bulk           1008778 non-null  int64  \n",
      " 58  Bwd Avg Packets/Bulk         1008778 non-null  int64  \n",
      " 59  Bwd Avg Bulk Rate            1008778 non-null  int64  \n",
      " 60  Subflow Fwd Packets          1008778 non-null  int64  \n",
      " 61  Subflow Fwd Bytes            1008778 non-null  int64  \n",
      " 62  Subflow Bwd Packets          1008778 non-null  int64  \n",
      " 63  Subflow Bwd Bytes            1008778 non-null  int64  \n",
      " 64  Init_Win_bytes_forward       1008778 non-null  int64  \n",
      " 65  Init_Win_bytes_backward      1008778 non-null  int64  \n",
      " 66  act_data_pkt_fwd             1008778 non-null  int64  \n",
      " 67  min_seg_size_forward         1008778 non-null  int64  \n",
      " 68  Active Mean                  1008778 non-null  float64\n",
      " 69  Active Std                   1008778 non-null  float64\n",
      " 70  Active Max                   1008778 non-null  float64\n",
      " 71  Active Min                   1008778 non-null  float64\n",
      " 72  Idle Mean                    1008778 non-null  float64\n",
      " 73  Idle Std                     1008778 non-null  float64\n",
      " 74  Idle Max                     1008778 non-null  float64\n",
      " 75  Idle Min                     1008778 non-null  float64\n",
      " 76  Inbound                      1008778 non-null  int64  \n",
      " 77  Label                        1008778 non-null  object \n",
      "dtypes: float64(43), int64(34), object(1)\n",
      "memory usage: 608.0+ MB\n"
     ]
    }
   ],
   "source": [
    "df.info()"
   ]
  },
  {
   "cell_type": "code",
   "execution_count": 11,
   "id": "68a43fb4",
   "metadata": {
    "execution": {
     "iopub.execute_input": "2021-10-22T00:23:25.314921Z",
     "iopub.status.busy": "2021-10-22T00:23:25.312036Z",
     "iopub.status.idle": "2021-10-22T00:23:27.107732Z",
     "shell.execute_reply": "2021-10-22T00:23:27.108407Z",
     "shell.execute_reply.started": "2021-10-20T07:38:15.461873Z"
    },
    "papermill": {
     "duration": 2.083761,
     "end_time": "2021-10-22T00:23:27.108615",
     "exception": false,
     "start_time": "2021-10-22T00:23:25.024854",
     "status": "completed"
    },
    "tags": []
   },
   "outputs": [
    {
     "data": {
      "text/html": [
       "<div>\n",
       "<style scoped>\n",
       "    .dataframe tbody tr th:only-of-type {\n",
       "        vertical-align: middle;\n",
       "    }\n",
       "\n",
       "    .dataframe tbody tr th {\n",
       "        vertical-align: top;\n",
       "    }\n",
       "\n",
       "    .dataframe thead th {\n",
       "        text-align: right;\n",
       "    }\n",
       "</style>\n",
       "<table border=\"1\" class=\"dataframe\">\n",
       "  <thead>\n",
       "    <tr style=\"text-align: right;\">\n",
       "      <th></th>\n",
       "      <th>Protocol</th>\n",
       "      <th>Flow Duration</th>\n",
       "      <th>Total Fwd Packets</th>\n",
       "      <th>Total Backward Packets</th>\n",
       "      <th>Total Length of Fwd Packets</th>\n",
       "      <th>Total Length of Bwd Packets</th>\n",
       "      <th>Fwd Packet Length Max</th>\n",
       "      <th>Fwd Packet Length Min</th>\n",
       "      <th>Fwd Packet Length Mean</th>\n",
       "      <th>Fwd Packet Length Std</th>\n",
       "      <th>...</th>\n",
       "      <th>min_seg_size_forward</th>\n",
       "      <th>Active Mean</th>\n",
       "      <th>Active Std</th>\n",
       "      <th>Active Max</th>\n",
       "      <th>Active Min</th>\n",
       "      <th>Idle Mean</th>\n",
       "      <th>Idle Std</th>\n",
       "      <th>Idle Max</th>\n",
       "      <th>Idle Min</th>\n",
       "      <th>Inbound</th>\n",
       "    </tr>\n",
       "  </thead>\n",
       "  <tbody>\n",
       "    <tr>\n",
       "      <th>count</th>\n",
       "      <td>1.008778e+06</td>\n",
       "      <td>1.008778e+06</td>\n",
       "      <td>1.008778e+06</td>\n",
       "      <td>1.008778e+06</td>\n",
       "      <td>1.008778e+06</td>\n",
       "      <td>1.008778e+06</td>\n",
       "      <td>1.008778e+06</td>\n",
       "      <td>1.008778e+06</td>\n",
       "      <td>1.008778e+06</td>\n",
       "      <td>1.008778e+06</td>\n",
       "      <td>...</td>\n",
       "      <td>1.008778e+06</td>\n",
       "      <td>1.008778e+06</td>\n",
       "      <td>1.008778e+06</td>\n",
       "      <td>1.008778e+06</td>\n",
       "      <td>1.008778e+06</td>\n",
       "      <td>1.008778e+06</td>\n",
       "      <td>1.008778e+06</td>\n",
       "      <td>1.008778e+06</td>\n",
       "      <td>1.008778e+06</td>\n",
       "      <td>1.008778e+06</td>\n",
       "    </tr>\n",
       "    <tr>\n",
       "      <th>mean</th>\n",
       "      <td>1.431268e+01</td>\n",
       "      <td>1.355757e+06</td>\n",
       "      <td>3.009267e+00</td>\n",
       "      <td>2.832149e-01</td>\n",
       "      <td>9.534658e+02</td>\n",
       "      <td>1.418988e+01</td>\n",
       "      <td>4.178729e+02</td>\n",
       "      <td>4.119456e+02</td>\n",
       "      <td>4.145126e+02</td>\n",
       "      <td>3.040872e+00</td>\n",
       "      <td>...</td>\n",
       "      <td>-4.325324e+07</td>\n",
       "      <td>3.506876e+03</td>\n",
       "      <td>5.306171e+03</td>\n",
       "      <td>1.057770e+04</td>\n",
       "      <td>4.998123e+02</td>\n",
       "      <td>3.998324e+05</td>\n",
       "      <td>1.206114e+05</td>\n",
       "      <td>5.300286e+05</td>\n",
       "      <td>2.870749e+05</td>\n",
       "      <td>9.974236e-01</td>\n",
       "    </tr>\n",
       "    <tr>\n",
       "      <th>std</th>\n",
       "      <td>4.727118e+00</td>\n",
       "      <td>8.427866e+06</td>\n",
       "      <td>1.933966e+02</td>\n",
       "      <td>1.942186e+00</td>\n",
       "      <td>1.024037e+03</td>\n",
       "      <td>1.838449e+03</td>\n",
       "      <td>4.146670e+02</td>\n",
       "      <td>4.151749e+02</td>\n",
       "      <td>4.146888e+02</td>\n",
       "      <td>1.191506e+01</td>\n",
       "      <td>...</td>\n",
       "      <td>2.099993e+08</td>\n",
       "      <td>7.483470e+04</td>\n",
       "      <td>1.004484e+05</td>\n",
       "      <td>1.942199e+05</td>\n",
       "      <td>4.341076e+04</td>\n",
       "      <td>2.591417e+06</td>\n",
       "      <td>9.209224e+05</td>\n",
       "      <td>3.395470e+06</td>\n",
       "      <td>2.014579e+06</td>\n",
       "      <td>5.069269e-02</td>\n",
       "    </tr>\n",
       "    <tr>\n",
       "      <th>min</th>\n",
       "      <td>0.000000e+00</td>\n",
       "      <td>0.000000e+00</td>\n",
       "      <td>1.000000e+00</td>\n",
       "      <td>0.000000e+00</td>\n",
       "      <td>0.000000e+00</td>\n",
       "      <td>0.000000e+00</td>\n",
       "      <td>0.000000e+00</td>\n",
       "      <td>0.000000e+00</td>\n",
       "      <td>0.000000e+00</td>\n",
       "      <td>0.000000e+00</td>\n",
       "      <td>...</td>\n",
       "      <td>-1.408238e+09</td>\n",
       "      <td>0.000000e+00</td>\n",
       "      <td>0.000000e+00</td>\n",
       "      <td>0.000000e+00</td>\n",
       "      <td>0.000000e+00</td>\n",
       "      <td>0.000000e+00</td>\n",
       "      <td>0.000000e+00</td>\n",
       "      <td>0.000000e+00</td>\n",
       "      <td>0.000000e+00</td>\n",
       "      <td>0.000000e+00</td>\n",
       "    </tr>\n",
       "    <tr>\n",
       "      <th>25%</th>\n",
       "      <td>1.700000e+01</td>\n",
       "      <td>1.000000e+00</td>\n",
       "      <td>2.000000e+00</td>\n",
       "      <td>0.000000e+00</td>\n",
       "      <td>4.220000e+02</td>\n",
       "      <td>0.000000e+00</td>\n",
       "      <td>2.110000e+02</td>\n",
       "      <td>2.110000e+02</td>\n",
       "      <td>2.110000e+02</td>\n",
       "      <td>0.000000e+00</td>\n",
       "      <td>...</td>\n",
       "      <td>8.000000e+00</td>\n",
       "      <td>0.000000e+00</td>\n",
       "      <td>0.000000e+00</td>\n",
       "      <td>0.000000e+00</td>\n",
       "      <td>0.000000e+00</td>\n",
       "      <td>0.000000e+00</td>\n",
       "      <td>0.000000e+00</td>\n",
       "      <td>0.000000e+00</td>\n",
       "      <td>0.000000e+00</td>\n",
       "      <td>1.000000e+00</td>\n",
       "    </tr>\n",
       "    <tr>\n",
       "      <th>50%</th>\n",
       "      <td>1.700000e+01</td>\n",
       "      <td>1.000000e+00</td>\n",
       "      <td>2.000000e+00</td>\n",
       "      <td>0.000000e+00</td>\n",
       "      <td>8.020000e+02</td>\n",
       "      <td>0.000000e+00</td>\n",
       "      <td>3.830000e+02</td>\n",
       "      <td>3.300000e+02</td>\n",
       "      <td>3.595000e+02</td>\n",
       "      <td>0.000000e+00</td>\n",
       "      <td>...</td>\n",
       "      <td>2.000000e+01</td>\n",
       "      <td>0.000000e+00</td>\n",
       "      <td>0.000000e+00</td>\n",
       "      <td>0.000000e+00</td>\n",
       "      <td>0.000000e+00</td>\n",
       "      <td>0.000000e+00</td>\n",
       "      <td>0.000000e+00</td>\n",
       "      <td>0.000000e+00</td>\n",
       "      <td>0.000000e+00</td>\n",
       "      <td>1.000000e+00</td>\n",
       "    </tr>\n",
       "    <tr>\n",
       "      <th>75%</th>\n",
       "      <td>1.700000e+01</td>\n",
       "      <td>4.800000e+01</td>\n",
       "      <td>2.000000e+00</td>\n",
       "      <td>0.000000e+00</td>\n",
       "      <td>1.236000e+03</td>\n",
       "      <td>0.000000e+00</td>\n",
       "      <td>4.720000e+02</td>\n",
       "      <td>4.720000e+02</td>\n",
       "      <td>4.720000e+02</td>\n",
       "      <td>0.000000e+00</td>\n",
       "      <td>...</td>\n",
       "      <td>2.000000e+01</td>\n",
       "      <td>0.000000e+00</td>\n",
       "      <td>0.000000e+00</td>\n",
       "      <td>0.000000e+00</td>\n",
       "      <td>0.000000e+00</td>\n",
       "      <td>0.000000e+00</td>\n",
       "      <td>0.000000e+00</td>\n",
       "      <td>0.000000e+00</td>\n",
       "      <td>0.000000e+00</td>\n",
       "      <td>1.000000e+00</td>\n",
       "    </tr>\n",
       "    <tr>\n",
       "      <th>max</th>\n",
       "      <td>1.700000e+01</td>\n",
       "      <td>1.199929e+08</td>\n",
       "      <td>8.699000e+04</td>\n",
       "      <td>6.790000e+02</td>\n",
       "      <td>5.312800e+04</td>\n",
       "      <td>8.418110e+05</td>\n",
       "      <td>3.602000e+03</td>\n",
       "      <td>2.069000e+03</td>\n",
       "      <td>2.069000e+03</td>\n",
       "      <td>1.223178e+03</td>\n",
       "      <td>...</td>\n",
       "      <td>6.724045e+07</td>\n",
       "      <td>1.113396e+07</td>\n",
       "      <td>6.411805e+06</td>\n",
       "      <td>1.257518e+07</td>\n",
       "      <td>1.113396e+07</td>\n",
       "      <td>1.161325e+08</td>\n",
       "      <td>4.355792e+07</td>\n",
       "      <td>1.161325e+08</td>\n",
       "      <td>1.161325e+08</td>\n",
       "      <td>1.000000e+00</td>\n",
       "    </tr>\n",
       "  </tbody>\n",
       "</table>\n",
       "<p>8 rows × 77 columns</p>\n",
       "</div>"
      ],
      "text/plain": [
       "           Protocol  Flow Duration  Total Fwd Packets  Total Backward Packets  \\\n",
       "count  1.008778e+06   1.008778e+06       1.008778e+06            1.008778e+06   \n",
       "mean   1.431268e+01   1.355757e+06       3.009267e+00            2.832149e-01   \n",
       "std    4.727118e+00   8.427866e+06       1.933966e+02            1.942186e+00   \n",
       "min    0.000000e+00   0.000000e+00       1.000000e+00            0.000000e+00   \n",
       "25%    1.700000e+01   1.000000e+00       2.000000e+00            0.000000e+00   \n",
       "50%    1.700000e+01   1.000000e+00       2.000000e+00            0.000000e+00   \n",
       "75%    1.700000e+01   4.800000e+01       2.000000e+00            0.000000e+00   \n",
       "max    1.700000e+01   1.199929e+08       8.699000e+04            6.790000e+02   \n",
       "\n",
       "       Total Length of Fwd Packets  Total Length of Bwd Packets  \\\n",
       "count                 1.008778e+06                 1.008778e+06   \n",
       "mean                  9.534658e+02                 1.418988e+01   \n",
       "std                   1.024037e+03                 1.838449e+03   \n",
       "min                   0.000000e+00                 0.000000e+00   \n",
       "25%                   4.220000e+02                 0.000000e+00   \n",
       "50%                   8.020000e+02                 0.000000e+00   \n",
       "75%                   1.236000e+03                 0.000000e+00   \n",
       "max                   5.312800e+04                 8.418110e+05   \n",
       "\n",
       "       Fwd Packet Length Max  Fwd Packet Length Min  Fwd Packet Length Mean  \\\n",
       "count           1.008778e+06           1.008778e+06            1.008778e+06   \n",
       "mean            4.178729e+02           4.119456e+02            4.145126e+02   \n",
       "std             4.146670e+02           4.151749e+02            4.146888e+02   \n",
       "min             0.000000e+00           0.000000e+00            0.000000e+00   \n",
       "25%             2.110000e+02           2.110000e+02            2.110000e+02   \n",
       "50%             3.830000e+02           3.300000e+02            3.595000e+02   \n",
       "75%             4.720000e+02           4.720000e+02            4.720000e+02   \n",
       "max             3.602000e+03           2.069000e+03            2.069000e+03   \n",
       "\n",
       "       Fwd Packet Length Std  ...  min_seg_size_forward   Active Mean  \\\n",
       "count           1.008778e+06  ...          1.008778e+06  1.008778e+06   \n",
       "mean            3.040872e+00  ...         -4.325324e+07  3.506876e+03   \n",
       "std             1.191506e+01  ...          2.099993e+08  7.483470e+04   \n",
       "min             0.000000e+00  ...         -1.408238e+09  0.000000e+00   \n",
       "25%             0.000000e+00  ...          8.000000e+00  0.000000e+00   \n",
       "50%             0.000000e+00  ...          2.000000e+01  0.000000e+00   \n",
       "75%             0.000000e+00  ...          2.000000e+01  0.000000e+00   \n",
       "max             1.223178e+03  ...          6.724045e+07  1.113396e+07   \n",
       "\n",
       "         Active Std    Active Max    Active Min     Idle Mean      Idle Std  \\\n",
       "count  1.008778e+06  1.008778e+06  1.008778e+06  1.008778e+06  1.008778e+06   \n",
       "mean   5.306171e+03  1.057770e+04  4.998123e+02  3.998324e+05  1.206114e+05   \n",
       "std    1.004484e+05  1.942199e+05  4.341076e+04  2.591417e+06  9.209224e+05   \n",
       "min    0.000000e+00  0.000000e+00  0.000000e+00  0.000000e+00  0.000000e+00   \n",
       "25%    0.000000e+00  0.000000e+00  0.000000e+00  0.000000e+00  0.000000e+00   \n",
       "50%    0.000000e+00  0.000000e+00  0.000000e+00  0.000000e+00  0.000000e+00   \n",
       "75%    0.000000e+00  0.000000e+00  0.000000e+00  0.000000e+00  0.000000e+00   \n",
       "max    6.411805e+06  1.257518e+07  1.113396e+07  1.161325e+08  4.355792e+07   \n",
       "\n",
       "           Idle Max      Idle Min       Inbound  \n",
       "count  1.008778e+06  1.008778e+06  1.008778e+06  \n",
       "mean   5.300286e+05  2.870749e+05  9.974236e-01  \n",
       "std    3.395470e+06  2.014579e+06  5.069269e-02  \n",
       "min    0.000000e+00  0.000000e+00  0.000000e+00  \n",
       "25%    0.000000e+00  0.000000e+00  1.000000e+00  \n",
       "50%    0.000000e+00  0.000000e+00  1.000000e+00  \n",
       "75%    0.000000e+00  0.000000e+00  1.000000e+00  \n",
       "max    1.161325e+08  1.161325e+08  1.000000e+00  \n",
       "\n",
       "[8 rows x 77 columns]"
      ]
     },
     "execution_count": 11,
     "metadata": {},
     "output_type": "execute_result"
    }
   ],
   "source": [
    "df.describe()"
   ]
  },
  {
   "cell_type": "code",
   "execution_count": null,
   "id": "3604ebed",
   "metadata": {
    "papermill": {
     "duration": 0.092697,
     "end_time": "2021-10-22T00:23:27.299962",
     "exception": false,
     "start_time": "2021-10-22T00:23:27.207265",
     "status": "completed"
    },
    "tags": []
   },
   "outputs": [],
   "source": []
  },
  {
   "cell_type": "code",
   "execution_count": 12,
   "id": "483323fb",
   "metadata": {
    "execution": {
     "iopub.execute_input": "2021-10-22T00:23:27.490392Z",
     "iopub.status.busy": "2021-10-22T00:23:27.489599Z",
     "iopub.status.idle": "2021-10-22T00:23:31.663798Z",
     "shell.execute_reply": "2021-10-22T00:23:31.664606Z",
     "shell.execute_reply.started": "2021-10-20T07:38:41.994645Z"
    },
    "papermill": {
     "duration": 4.273843,
     "end_time": "2021-10-22T00:23:31.664841",
     "exception": false,
     "start_time": "2021-10-22T00:23:27.390998",
     "status": "completed"
    },
    "tags": []
   },
   "outputs": [
    {
     "name": "stdout",
     "output_type": "stream",
     "text": [
      "number of labels: 6\n",
      "instances per label\n",
      " MSSQL      289337\n",
      "Syn        244612\n",
      "UDP        193305\n",
      "NetBIOS    182684\n",
      "LDAP        96006\n",
      "BENIGN       2834\n",
      "Name: Label, dtype: int64\n",
      "labels: ['BENIGN' 'LDAP' 'NetBIOS' 'UDP' 'MSSQL' 'Syn']\n",
      "instances per label in training set\n",
      " MSSQL      217003\n",
      "Syn        183459\n",
      "UDP        144979\n",
      "NetBIOS    137013\n",
      "LDAP        72004\n",
      "BENIGN       2125\n",
      "Name: Label, dtype: int64\n",
      "instances per label in test set\n",
      " MSSQL      72334\n",
      "Syn        61153\n",
      "UDP        48326\n",
      "NetBIOS    45671\n",
      "LDAP       24002\n",
      "BENIGN       709\n",
      "Name: Label, dtype: int64\n"
     ]
    }
   ],
   "source": [
    "from sklearn.compose import ColumnTransformer\n",
    "from sklearn.preprocessing import OneHotEncoder, LabelEncoder, MinMaxScaler\n",
    "from imblearn.over_sampling import SMOTE\n",
    "from imblearn.under_sampling import RandomUnderSampler\n",
    "from imblearn.pipeline import Pipeline\n",
    "from collections import Counter\n",
    "from sklearn.model_selection import train_test_split\n",
    "y = df.Label\n",
    "X = df.drop(columns='Label')\n",
    "labels = y.unique()\n",
    "classes = y.nunique()\n",
    "print(\"number of labels:\", classes)\n",
    "print(\"instances per label\\n\", y.value_counts())\n",
    "print(\"labels:\", labels)\n",
    "\n",
    "\n",
    "\n",
    "X_train, X_test, y_train, y_test = train_test_split(\n",
    "    X, y, test_size=0.25, random_state=42, stratify=y)\n",
    "\n",
    "print(\"instances per label in training set\\n\", y_train.value_counts())\n",
    "print(\"instances per label in test set\\n\", y_test.value_counts())"
   ]
  },
  {
   "cell_type": "code",
   "execution_count": 13,
   "id": "2fbd4870",
   "metadata": {
    "execution": {
     "iopub.execute_input": "2021-10-22T00:23:32.042870Z",
     "iopub.status.busy": "2021-10-22T00:23:32.041992Z",
     "iopub.status.idle": "2021-10-22T00:23:33.241827Z",
     "shell.execute_reply": "2021-10-22T00:23:33.241104Z",
     "shell.execute_reply.started": "2021-10-20T07:39:01.105638Z"
    },
    "papermill": {
     "duration": 1.374438,
     "end_time": "2021-10-22T00:23:33.241980",
     "exception": false,
     "start_time": "2021-10-22T00:23:31.867542",
     "status": "completed"
    },
    "tags": []
   },
   "outputs": [
    {
     "name": "stdout",
     "output_type": "stream",
     "text": [
      "(756583, 77)\n",
      "(252195, 77)\n",
      "{'BENIGN': 0, 'LDAP': 1, 'MSSQL': 2, 'NetBIOS': 3, 'Syn': 4, 'UDP': 5}\n"
     ]
    }
   ],
   "source": [
    "scaler = MinMaxScaler()\n",
    "le = LabelEncoder()\n",
    "\n",
    "X_train = scaler.fit_transform(X_train)\n",
    "X_test = scaler.transform(X_test)\n",
    "\n",
    "y_train = le.fit_transform(y_train)\n",
    "y_test = le.transform(y_test)\n",
    "\n",
    "print(X_train.shape)\n",
    "print(X_test.shape)\n",
    "labels_dict = dict(zip(le.classes_, range(len(le.classes_))))\n",
    "print(labels_dict)"
   ]
  },
  {
   "cell_type": "code",
   "execution_count": 14,
   "id": "5df099ab",
   "metadata": {
    "execution": {
     "iopub.execute_input": "2021-10-22T00:23:33.438740Z",
     "iopub.status.busy": "2021-10-22T00:23:33.437890Z",
     "iopub.status.idle": "2021-10-22T00:23:34.328121Z",
     "shell.execute_reply": "2021-10-22T00:23:34.328569Z",
     "shell.execute_reply.started": "2021-10-20T07:39:55.306312Z"
    },
    "papermill": {
     "duration": 0.990769,
     "end_time": "2021-10-22T00:23:34.328726",
     "exception": false,
     "start_time": "2021-10-22T00:23:33.337957",
     "status": "completed"
    },
    "tags": []
   },
   "outputs": [
    {
     "name": "stdout",
     "output_type": "stream",
     "text": [
      "Counter({0: 40000, 1: 40000, 2: 40000, 3: 40000, 4: 40000, 5: 40000})\n"
     ]
    }
   ],
   "source": [
    "# training data sampling\n",
    "from imblearn.over_sampling import SMOTE\n",
    "from imblearn.under_sampling import RandomUnderSampler\n",
    "from imblearn.pipeline import Pipeline\n",
    "from collections import Counter\n",
    "over = SMOTE(sampling_strategy='not majority')\n",
    "under = RandomUnderSampler(sampling_strategy=\n",
    "                           {labels_dict['MSSQL']:40000, labels_dict['Syn']:40000, \n",
    "                            labels_dict['UDP']:40000, labels_dict['NetBIOS']:40000,\n",
    "                           labels_dict['LDAP']:40000})\n",
    "steps = [('u', under), ('o', over)]\n",
    "pipeline = Pipeline(steps=steps)\n",
    "X_train, y_train = pipeline.fit_resample(X_train, y_train)\n",
    "counter = Counter(y_train)\n",
    "print(counter)"
   ]
  },
  {
   "cell_type": "code",
   "execution_count": 15,
   "id": "89a5f9ce",
   "metadata": {
    "execution": {
     "iopub.execute_input": "2021-10-22T00:23:34.524503Z",
     "iopub.status.busy": "2021-10-22T00:23:34.522842Z",
     "iopub.status.idle": "2021-10-22T00:23:34.525148Z",
     "shell.execute_reply": "2021-10-22T00:23:34.525609Z",
     "shell.execute_reply.started": "2021-10-20T07:39:56.401646Z"
    },
    "papermill": {
     "duration": 0.102624,
     "end_time": "2021-10-22T00:23:34.525751",
     "exception": false,
     "start_time": "2021-10-22T00:23:34.423127",
     "status": "completed"
    },
    "tags": []
   },
   "outputs": [],
   "source": [
    "# from sklearn.compose import ColumnTransformer\n",
    "# from sklearn.preprocessing import OneHotEncoder, LabelEncoder, MinMaxScaler\n",
    "# from imblearn.over_sampling import SMOTE\n",
    "# from imblearn.under_sampling import RandomUnderSampler\n",
    "# from imblearn.pipeline import Pipeline\n",
    "# from collections import Counter\n",
    "# from sklearn.model_selection import train_test_split\n",
    "# y = df.Label\n",
    "# X = df.drop(columns='Label')\n",
    "# labels = y.unique()\n",
    "# classes = y.nunique()\n",
    "# print(\"number of labels:\", classes)\n",
    "# print(\"instances per label\\n\", y.value_counts())\n",
    "# print(\"labels:\", labels)\n",
    "\n",
    "# X_train, X_test, y_train, y_test = train_test_split(\n",
    "#     X, y, test_size=0.25, random_state=42, stratify=y)\n",
    "\n",
    "# pipe = ColumnTransformer([(\"scaler\", MinMaxScaler(), numerical_columns),\n",
    "#                           (\"encoding\", OneHotEncoder(handle_unknown='ignore'), categorical_columns)])\n",
    "\n",
    "# X_train = pipe.fit_transform(X_train)\n",
    "# X_test = pipe.transform(X_test)\n",
    "# le = LabelEncoder()\n",
    "# print(\"instances per label in training set\\n\", y_train.value_counts())\n",
    "# y_train = le.fit_transform(y_train)\n",
    "# print(\"instances per label in test set\\n\", y_test.value_counts())\n",
    "# y_test = le.transform(y_test)\n",
    "# labels_dict = dict(zip(le.classes_, range(len(le.classes_))))\n",
    "# print(labels_dict)\n",
    "\n",
    "# # sampling\n",
    "# over = SMOTE(sampling_strategy='minority')\n",
    "# under = RandomUnderSampler(sampling_strategy={labels_dict['DDoS']:200000, labels_dict['DoS']:200000})\n",
    "# steps = [('u', under), ('o', over)]\n",
    "# pipeline = Pipeline(steps=steps)\n",
    "# X_train, y_train = pipeline.fit_resample(X_train, y_train)\n",
    "# counter = Counter(y_train)\n",
    "# print(counter)"
   ]
  },
  {
   "cell_type": "code",
   "execution_count": 16,
   "id": "a00fa666",
   "metadata": {
    "execution": {
     "iopub.execute_input": "2021-10-22T00:23:34.722369Z",
     "iopub.status.busy": "2021-10-22T00:23:34.721840Z",
     "iopub.status.idle": "2021-10-22T00:25:53.953488Z",
     "shell.execute_reply": "2021-10-22T00:25:53.953032Z",
     "shell.execute_reply.started": "2021-10-20T07:39:56.408912Z"
    },
    "papermill": {
     "duration": 139.333433,
     "end_time": "2021-10-22T00:25:53.953650",
     "exception": false,
     "start_time": "2021-10-22T00:23:34.620217",
     "status": "completed"
    },
    "tags": []
   },
   "outputs": [
    {
     "name": "stdout",
     "output_type": "stream",
     "text": [
      "input shape: 77\n"
     ]
    },
    {
     "name": "stderr",
     "output_type": "stream",
     "text": [
      "2021-10-22 00:23:38.814631: I tensorflow/stream_executor/cuda/cuda_gpu_executor.cc:937] successful NUMA node read from SysFS had negative value (-1), but there must be at least one NUMA node, so returning NUMA node zero\n",
      "2021-10-22 00:23:38.894579: I tensorflow/stream_executor/cuda/cuda_gpu_executor.cc:937] successful NUMA node read from SysFS had negative value (-1), but there must be at least one NUMA node, so returning NUMA node zero\n",
      "2021-10-22 00:23:38.895264: I tensorflow/stream_executor/cuda/cuda_gpu_executor.cc:937] successful NUMA node read from SysFS had negative value (-1), but there must be at least one NUMA node, so returning NUMA node zero\n",
      "2021-10-22 00:23:38.897230: I tensorflow/core/platform/cpu_feature_guard.cc:142] This TensorFlow binary is optimized with oneAPI Deep Neural Network Library (oneDNN) to use the following CPU instructions in performance-critical operations:  AVX2 AVX512F FMA\n",
      "To enable them in other operations, rebuild TensorFlow with the appropriate compiler flags.\n",
      "2021-10-22 00:23:38.898256: I tensorflow/stream_executor/cuda/cuda_gpu_executor.cc:937] successful NUMA node read from SysFS had negative value (-1), but there must be at least one NUMA node, so returning NUMA node zero\n",
      "2021-10-22 00:23:38.899174: I tensorflow/stream_executor/cuda/cuda_gpu_executor.cc:937] successful NUMA node read from SysFS had negative value (-1), but there must be at least one NUMA node, so returning NUMA node zero\n",
      "2021-10-22 00:23:38.900038: I tensorflow/stream_executor/cuda/cuda_gpu_executor.cc:937] successful NUMA node read from SysFS had negative value (-1), but there must be at least one NUMA node, so returning NUMA node zero\n",
      "2021-10-22 00:23:40.673100: I tensorflow/stream_executor/cuda/cuda_gpu_executor.cc:937] successful NUMA node read from SysFS had negative value (-1), but there must be at least one NUMA node, so returning NUMA node zero\n",
      "2021-10-22 00:23:40.673901: I tensorflow/stream_executor/cuda/cuda_gpu_executor.cc:937] successful NUMA node read from SysFS had negative value (-1), but there must be at least one NUMA node, so returning NUMA node zero\n",
      "2021-10-22 00:23:40.674538: I tensorflow/stream_executor/cuda/cuda_gpu_executor.cc:937] successful NUMA node read from SysFS had negative value (-1), but there must be at least one NUMA node, so returning NUMA node zero\n",
      "2021-10-22 00:23:40.675155: I tensorflow/core/common_runtime/gpu/gpu_device.cc:1510] Created device /job:localhost/replica:0/task:0/device:GPU:0 with 15403 MB memory:  -> device: 0, name: Tesla P100-PCIE-16GB, pci bus id: 0000:00:04.0, compute capability: 6.0\n",
      "2021-10-22 00:23:41.367446: I tensorflow/compiler/mlir/mlir_graph_optimization_pass.cc:185] None of the MLIR Optimization Passes are enabled (registered 2)\n"
     ]
    },
    {
     "name": "stdout",
     "output_type": "stream",
     "text": [
      "Epoch 1/20\n",
      "3000/3000 [==============================] - 8s 2ms/step - loss: 0.0016 - val_loss: 0.0065\n",
      "Epoch 2/20\n",
      "3000/3000 [==============================] - 6s 2ms/step - loss: 1.2085e-04 - val_loss: 0.0034\n",
      "Epoch 3/20\n",
      "3000/3000 [==============================] - 6s 2ms/step - loss: 9.6367e-05 - val_loss: 0.0026\n",
      "Epoch 4/20\n",
      "3000/3000 [==============================] - 7s 2ms/step - loss: 7.9630e-05 - val_loss: 0.0026\n",
      "Epoch 5/20\n",
      "3000/3000 [==============================] - 7s 2ms/step - loss: 6.8796e-05 - val_loss: 0.0023\n",
      "Epoch 6/20\n",
      "3000/3000 [==============================] - 6s 2ms/step - loss: 6.6494e-05 - val_loss: 0.0023\n",
      "Epoch 7/20\n",
      "3000/3000 [==============================] - 7s 2ms/step - loss: 6.3866e-05 - val_loss: 0.0022\n",
      "Epoch 8/20\n",
      "3000/3000 [==============================] - 7s 2ms/step - loss: 6.1713e-05 - val_loss: 0.0020\n",
      "Epoch 9/20\n",
      "3000/3000 [==============================] - 7s 2ms/step - loss: 5.9288e-05 - val_loss: 0.0020\n",
      "Epoch 10/20\n",
      "3000/3000 [==============================] - 6s 2ms/step - loss: 5.6661e-05 - val_loss: 0.0019\n",
      "Epoch 11/20\n",
      "3000/3000 [==============================] - 6s 2ms/step - loss: 5.4067e-05 - val_loss: 0.0018\n",
      "Epoch 12/20\n",
      "3000/3000 [==============================] - 6s 2ms/step - loss: 5.1610e-05 - val_loss: 0.0017\n",
      "Epoch 13/20\n",
      "3000/3000 [==============================] - 7s 2ms/step - loss: 4.9838e-05 - val_loss: 0.0017\n",
      "Epoch 14/20\n",
      "3000/3000 [==============================] - 7s 2ms/step - loss: 4.7884e-05 - val_loss: 0.0016\n",
      "Epoch 15/20\n",
      "3000/3000 [==============================] - 6s 2ms/step - loss: 4.6546e-05 - val_loss: 0.0016\n",
      "Epoch 16/20\n",
      "3000/3000 [==============================] - 7s 2ms/step - loss: 4.4530e-05 - val_loss: 0.0015\n",
      "Epoch 17/20\n",
      "3000/3000 [==============================] - 6s 2ms/step - loss: 4.3170e-05 - val_loss: 0.0015\n",
      "Epoch 18/20\n",
      "3000/3000 [==============================] - 7s 2ms/step - loss: 4.2136e-05 - val_loss: 0.0014\n",
      "Epoch 19/20\n",
      "3000/3000 [==============================] - 6s 2ms/step - loss: 4.1561e-05 - val_loss: 0.0015\n",
      "Epoch 20/20\n",
      "3000/3000 [==============================] - 6s 2ms/step - loss: 4.0730e-05 - val_loss: 0.0015\n"
     ]
    }
   ],
   "source": [
    "# Autoencoder model to extract latent features\n",
    "\n",
    "from tensorflow.keras import Model, Sequential, Input\n",
    "from tensorflow.keras.layers import Dense\n",
    "from tensorflow.keras.callbacks import EarlyStopping\n",
    "callback = EarlyStopping(patience=3, mode='min')\n",
    "\n",
    "input_shape = X_train.shape[1]\n",
    "print(f\"input shape: {input_shape}\")\n",
    "encoding_dim = 10\n",
    "encoder = Sequential([\n",
    "    Dense(32, activation='relu', input_shape=(input_shape, )),\n",
    "    Dense(encoding_dim, activation='relu')\n",
    "])\n",
    "decoder = Sequential([\n",
    "    Dense(32, activation='relu', input_shape=(encoding_dim,)),\n",
    "    Dense(input_shape)\n",
    "])\n",
    "autoencoder = Sequential([encoder, decoder])\n",
    "autoencoder.compile(loss='mse', optimizer='Adam')\n",
    "history = autoencoder.fit(X_train, X_train, batch_size=64,\n",
    "                          epochs=20, validation_split=0.2)"
   ]
  },
  {
   "cell_type": "code",
   "execution_count": 17,
   "id": "e0fc757a",
   "metadata": {
    "execution": {
     "iopub.execute_input": "2021-10-22T00:25:55.518263Z",
     "iopub.status.busy": "2021-10-22T00:25:55.517210Z",
     "iopub.status.idle": "2021-10-22T00:26:14.901190Z",
     "shell.execute_reply": "2021-10-22T00:26:14.900544Z",
     "shell.execute_reply.started": "2021-10-20T07:42:25.117761Z"
    },
    "papermill": {
     "duration": 20.234283,
     "end_time": "2021-10-22T00:26:14.901350",
     "exception": false,
     "start_time": "2021-10-22T00:25:54.667067",
     "status": "completed"
    },
    "tags": []
   },
   "outputs": [],
   "source": [
    "X_train_encode = encoder.predict(X_train)\n",
    "X_test_encode = encoder.predict(X_test)"
   ]
  },
  {
   "cell_type": "code",
   "execution_count": 18,
   "id": "a2c93eba",
   "metadata": {
    "execution": {
     "iopub.execute_input": "2021-10-22T00:26:16.243975Z",
     "iopub.status.busy": "2021-10-22T00:26:16.242812Z",
     "iopub.status.idle": "2021-10-22T00:26:16.961361Z",
     "shell.execute_reply": "2021-10-22T00:26:16.962236Z",
     "shell.execute_reply.started": "2021-10-20T07:42:43.991998Z"
    },
    "papermill": {
     "duration": 1.392171,
     "end_time": "2021-10-22T00:26:16.962529",
     "exception": false,
     "start_time": "2021-10-22T00:26:15.570358",
     "status": "completed"
    },
    "tags": []
   },
   "outputs": [
    {
     "data": {
      "image/png": "[encoded data removed]",
      "text/plain": [
       "<Figure size 576x432 with 1 Axes>"
      ]
     },
     "metadata": {
      "needs_background": "light"
     },
     "output_type": "display_data"
    }
   ],
   "source": [
    "from sklearn.decomposition import PCA\n",
    "import matplotlib.pyplot as plt\n",
    "import seaborn as sns\n",
    "from sklearn.utils import resample\n",
    "%matplotlib inline\n",
    "\n",
    "X_train_pca, y_train_pca = resample(\n",
    "    X_train_encode, y_train, n_samples=30000, random_state=42, stratify=y_train)\n",
    "pca = PCA(n_components=2)\n",
    "projected = pca.fit_transform(X_train_pca)\n",
    "fig, ax = plt.subplots(figsize=(8,6))\n",
    "scat = ax.scatter(projected[:, 0], projected[:, 1],\n",
    "            c=y_train_pca, edgecolor='none', cmap=\"Paired\", alpha=0.7)\n",
    "plt.legend(handles=scat.legend_elements()[0], labels=list(le.classes_), loc=\"upper right\", title=\"Classes\")\n",
    "plt.axis('off')\n",
    "plt.title(\"PCA at latent space of CIC-DDoS2019 training set\")\n",
    "plt.show()"
   ]
  },
  {
   "cell_type": "code",
   "execution_count": 19,
   "id": "47b3da1b",
   "metadata": {
    "execution": {
     "iopub.execute_input": "2021-10-22T00:26:18.381666Z",
     "iopub.status.busy": "2021-10-22T00:26:18.380676Z",
     "iopub.status.idle": "2021-10-22T00:26:19.982159Z",
     "shell.execute_reply": "2021-10-22T00:26:19.982599Z",
     "shell.execute_reply.started": "2021-10-20T07:42:44.52933Z"
    },
    "papermill": {
     "duration": 2.26809,
     "end_time": "2021-10-22T00:26:19.982753",
     "exception": false,
     "start_time": "2021-10-22T00:26:17.714663",
     "status": "completed"
    },
    "tags": []
   },
   "outputs": [
    {
     "data": {
      "image/png": "[encoded data removed]",
      "text/plain": [
       "<Figure size 576x432 with 1 Axes>"
      ]
     },
     "metadata": {
      "needs_background": "light"
     },
     "output_type": "display_data"
    }
   ],
   "source": [
    "# X_test_pca, y_test_pca = resample(\n",
    "#     X_test_encode, y_test, n_samples=100000, random_state=42, stratify=y_test)\n",
    "X_test_pca = X_test_encode\n",
    "y_test_pca = y_test\n",
    "pca = PCA(n_components=2)\n",
    "projected = pca.fit_transform(X_test_pca)\n",
    "fig, ax = plt.subplots(figsize=(8,6))\n",
    "scat = ax.scatter(projected[:, 0], projected[:, 1],\n",
    "            c=y_test_pca, edgecolor='none', cmap=\"Paired\", alpha=0.7)\n",
    "plt.legend(handles=scat.legend_elements()[0], labels=list(le.classes_), loc=\"upper right\", title=\"Classes\")\n",
    "plt.axis('off')\n",
    "plt.title(\"PCA at latent space of CIC-DDoS2019 test set\")\n",
    "plt.show()"
   ]
  },
  {
   "cell_type": "code",
   "execution_count": 20,
   "id": "70b92f44",
   "metadata": {
    "execution": {
     "iopub.execute_input": "2021-10-22T00:26:21.303864Z",
     "iopub.status.busy": "2021-10-22T00:26:21.302951Z",
     "iopub.status.idle": "2021-10-22T00:27:14.440673Z",
     "shell.execute_reply": "2021-10-22T00:27:14.441185Z",
     "shell.execute_reply.started": "2021-10-20T07:42:46.147321Z"
    },
    "papermill": {
     "duration": 53.802907,
     "end_time": "2021-10-22T00:27:14.441351",
     "exception": false,
     "start_time": "2021-10-22T00:26:20.638444",
     "status": "completed"
    },
    "tags": []
   },
   "outputs": [
    {
     "name": "stdout",
     "output_type": "stream",
     "text": [
      "Epoch 1/20\n",
      "3000/3000 [==============================] - 7s 2ms/step - loss: 0.4255 - accuracy: 0.8764 - val_loss: 0.4371 - val_accuracy: 0.8900\n",
      "Epoch 2/20\n",
      "3000/3000 [==============================] - 6s 2ms/step - loss: 0.1489 - accuracy: 0.9634 - val_loss: 0.2476 - val_accuracy: 0.9690\n",
      "Epoch 3/20\n",
      "3000/3000 [==============================] - 6s 2ms/step - loss: 0.1184 - accuracy: 0.9701 - val_loss: 0.1853 - val_accuracy: 0.9768\n",
      "Epoch 4/20\n",
      "3000/3000 [==============================] - 7s 2ms/step - loss: 0.1074 - accuracy: 0.9714 - val_loss: 0.1573 - val_accuracy: 0.9826\n",
      "Epoch 5/20\n",
      "3000/3000 [==============================] - 7s 2ms/step - loss: 0.1015 - accuracy: 0.9731 - val_loss: 0.1565 - val_accuracy: 0.9831\n",
      "Epoch 6/20\n",
      "3000/3000 [==============================] - 7s 2ms/step - loss: 0.0982 - accuracy: 0.9734 - val_loss: 0.1576 - val_accuracy: 0.9835\n",
      "Epoch 7/20\n",
      "3000/3000 [==============================] - 6s 2ms/step - loss: 0.0961 - accuracy: 0.9737 - val_loss: 0.1768 - val_accuracy: 0.9831\n",
      "Epoch 8/20\n",
      "3000/3000 [==============================] - 7s 2ms/step - loss: 0.0946 - accuracy: 0.9735 - val_loss: 0.1580 - val_accuracy: 0.9838\n"
     ]
    }
   ],
   "source": [
    "classifier = Sequential()\n",
    "classifier.add(Input(shape=(encoding_dim,)))\n",
    "classifier.add(Dense(32, activation='relu'))\n",
    "classifier.add(Dense(classes, activation='softmax'))\n",
    "classifier.compile(loss='sparse_categorical_crossentropy', optimizer='Adam', metrics=['accuracy'])\n",
    "history = classifier.fit(X_train_encode,y_train, batch_size=64, epochs=20, \n",
    "                         validation_split=0.2, callbacks=[callback])"
   ]
  },
  {
   "cell_type": "code",
   "execution_count": 21,
   "id": "1acef345",
   "metadata": {
    "execution": {
     "iopub.execute_input": "2021-10-22T00:27:16.378541Z",
     "iopub.status.busy": "2021-10-22T00:27:16.377717Z",
     "iopub.status.idle": "2021-10-22T00:28:04.101228Z",
     "shell.execute_reply": "2021-10-22T00:28:04.100724Z",
     "shell.execute_reply.started": "2021-10-20T07:43:37.062758Z"
    },
    "papermill": {
     "duration": 48.740296,
     "end_time": "2021-10-22T00:28:04.101368",
     "exception": false,
     "start_time": "2021-10-22T00:27:15.361072",
     "status": "completed"
    },
    "tags": []
   },
   "outputs": [],
   "source": [
    "# predicting on training set\n",
    "y_train_pred_prob = classifier.predict(X_train_encode)\n",
    "y_test_pred_prob = classifier.predict(X_test_encode)\n",
    "y_train_pred = np.argmax(y_train_pred_prob, axis=1)\n",
    "y_test_pred = np.argmax(y_test_pred_prob, axis=1)"
   ]
  },
  {
   "cell_type": "code",
   "execution_count": 22,
   "id": "5f40aefb",
   "metadata": {
    "execution": {
     "iopub.execute_input": "2021-10-22T00:28:05.860768Z",
     "iopub.status.busy": "2021-10-22T00:28:05.859921Z",
     "iopub.status.idle": "2021-10-22T00:28:06.499191Z",
     "shell.execute_reply": "2021-10-22T00:28:06.499629Z",
     "shell.execute_reply.started": "2021-10-20T07:44:28.929548Z"
    },
    "papermill": {
     "duration": 1.529069,
     "end_time": "2021-10-22T00:28:06.499773",
     "exception": false,
     "start_time": "2021-10-22T00:28:04.970704",
     "status": "completed"
    },
    "tags": []
   },
   "outputs": [
    {
     "data": {
      "image/png": "[encoded data removed]",
      "text/plain": [
       "<Figure size 864x864 with 2 Axes>"
      ]
     },
     "metadata": {
      "needs_background": "light"
     },
     "output_type": "display_data"
    }
   ],
   "source": [
    "from sklearn.metrics import confusion_matrix, ConfusionMatrixDisplay\n",
    "import matplotlib.pyplot as plt\n",
    "import seaborn as sns\n",
    "%matplotlib inline\n",
    "cm = confusion_matrix(y_train, y_train_pred)\n",
    "fig, ax = plt.subplots(figsize=(12, 12))\n",
    "ConfusionMatrixDisplay(confusion_matrix=cm, display_labels=le.classes_).plot(ax=ax)\n",
    "plt.show()"
   ]
  },
  {
   "cell_type": "code",
   "execution_count": 23,
   "id": "4884526f",
   "metadata": {
    "execution": {
     "iopub.execute_input": "2021-10-22T00:28:08.542366Z",
     "iopub.status.busy": "2021-10-22T00:28:08.541516Z",
     "iopub.status.idle": "2021-10-22T00:28:09.196356Z",
     "shell.execute_reply": "2021-10-22T00:28:09.195358Z",
     "shell.execute_reply.started": "2021-10-20T07:44:29.589874Z"
    },
    "papermill": {
     "duration": 1.541859,
     "end_time": "2021-10-22T00:28:09.196500",
     "exception": false,
     "start_time": "2021-10-22T00:28:07.654641",
     "status": "completed"
    },
    "tags": []
   },
   "outputs": [
    {
     "data": {
      "image/png": "[encoded data removed]",
      "text/plain": [
       "<Figure size 864x864 with 2 Axes>"
      ]
     },
     "metadata": {
      "needs_background": "light"
     },
     "output_type": "display_data"
    }
   ],
   "source": [
    "cm = confusion_matrix(y_test, y_test_pred)\n",
    "fig, ax = plt.subplots(figsize=(12, 12))\n",
    "ConfusionMatrixDisplay(confusion_matrix=cm, display_labels=le.classes_).plot(ax=ax)\n",
    "plt.show()"
   ]
  },
  {
   "cell_type": "code",
   "execution_count": 24,
   "id": "126bd099",
   "metadata": {
    "execution": {
     "iopub.execute_input": "2021-10-22T00:28:10.956570Z",
     "iopub.status.busy": "2021-10-22T00:28:10.955800Z",
     "iopub.status.idle": "2021-10-22T00:28:10.958329Z",
     "shell.execute_reply": "2021-10-22T00:28:10.958787Z",
     "shell.execute_reply.started": "2021-10-20T07:44:30.247601Z"
    },
    "papermill": {
     "duration": 0.888404,
     "end_time": "2021-10-22T00:28:10.958930",
     "exception": false,
     "start_time": "2021-10-22T00:28:10.070526",
     "status": "completed"
    },
    "tags": []
   },
   "outputs": [],
   "source": [
    "def multilabel_matrix(y_true, y_pred, labels=None):\n",
    "    mlm = multilabel_confusion_matrix(y_true, y_pred, labels=labels)\n",
    "    df_performance = pd.DataFrame(index=labels, columns=['accuracy', 'precision', 'recall', 'f1_score'])\n",
    "    for i, label in enumerate(labels):\n",
    "        tn, fp, fn, tp = mlm[i].ravel()\n",
    "        accuracy = (tn + tp) / (tn + fp + fn + tp)\n",
    "        precision = tp / (tp + fp)\n",
    "        recall = tp / (tp + fn)\n",
    "\n",
    "        f1_score = 2*precision * recall / (precision + recall)\n",
    "        df_performance.loc[label] = [round(accuracy, 4), round(precision,4), \\\n",
    "                                     round(recall, 4), round(f1_score,4)]\n",
    "    return df_performance"
   ]
  },
  {
   "cell_type": "code",
   "execution_count": 25,
   "id": "4876f404",
   "metadata": {
    "execution": {
     "iopub.execute_input": "2021-10-22T00:28:12.724971Z",
     "iopub.status.busy": "2021-10-22T00:28:12.718493Z",
     "iopub.status.idle": "2021-10-22T00:28:12.728147Z",
     "shell.execute_reply": "2021-10-22T00:28:12.728587Z",
     "shell.execute_reply.started": "2021-10-20T07:44:30.257307Z"
    },
    "papermill": {
     "duration": 0.899967,
     "end_time": "2021-10-22T00:28:12.728737",
     "exception": false,
     "start_time": "2021-10-22T00:28:11.828770",
     "status": "completed"
    },
    "tags": []
   },
   "outputs": [],
   "source": [
    "from tensorflow.keras.utils import to_categorical\n",
    "from sklearn.metrics import roc_curve, auc\n",
    "from sklearn.metrics import roc_auc_score\n",
    "from itertools import cycle\n",
    "def RoC_Curve(y_score, y, labels, title): \n",
    "    y_cat = to_categorical(y)\n",
    "    \n",
    "    # Compute ROC curve and ROC area for each class\n",
    "    fpr = dict()\n",
    "    tpr = dict()\n",
    "    roc_auc = dict()\n",
    "    lw = 2\n",
    "    # First aggregate all false positive rates\n",
    "    n_classes = len(labels)\n",
    "#     print('n_classes:', n_classes)\n",
    "\n",
    "    for i in range(n_classes):\n",
    "        fpr[i], tpr[i], _ = roc_curve(y_cat[:, i], y_score[:, i])\n",
    "        roc_auc[i] = auc(fpr[i], tpr[i])\n",
    "\n",
    "    # Compute micro-average ROC curve and ROC area\n",
    "    fpr[\"micro\"], tpr[\"micro\"], _ = roc_curve(y_cat.ravel(), y_score.ravel())\n",
    "    roc_auc[\"micro\"] = auc(fpr[\"micro\"], tpr[\"micro\"])\n",
    "\n",
    "    # First aggregate all false positive rates\n",
    "    all_fpr = np.unique(np.concatenate([fpr[i] for i in range(n_classes)]))\n",
    "\n",
    "    # Then interpolate all ROC curves at this points\n",
    "    mean_tpr = np.zeros_like(all_fpr)\n",
    "    for i in range(n_classes):\n",
    "        mean_tpr += np.interp(all_fpr, fpr[i], tpr[i])\n",
    "\n",
    "    # Finally average it and compute AUC\n",
    "    mean_tpr /= n_classes\n",
    "\n",
    "    fpr[\"macro\"] = all_fpr\n",
    "    tpr[\"macro\"] = mean_tpr\n",
    "    roc_auc[\"macro\"] = auc(fpr[\"macro\"], tpr[\"macro\"])\n",
    "\n",
    "    # Plot all ROC curves\n",
    "    plt.figure(figsize=(8,8))\n",
    "    plt.plot(fpr[\"micro\"], tpr[\"micro\"],\n",
    "             label='micro-average ROC curve (area = {0:0.4f})'\n",
    "                   ''.format(roc_auc[\"micro\"]),\n",
    "             color='deeppink', linestyle=':', linewidth=4)\n",
    "\n",
    "    plt.plot(fpr[\"macro\"], tpr[\"macro\"],\n",
    "             label='macro-average ROC curve (area = {0:0.4f})'\n",
    "                   ''.format(roc_auc[\"macro\"]),\n",
    "             color='navy', linestyle=':', linewidth=4)\n",
    "\n",
    "    for i in range(n_classes):\n",
    "        plt.plot(fpr[i], tpr[i], lw=lw,\n",
    "                 label=f'ROC curve of class {labels[i]} (area = {roc_auc[i]:0.4f})')\n",
    "\n",
    "    plt.plot([0, 1], [0, 1], 'k--', lw=lw)\n",
    "    plt.xlim([0.0, 1.0])\n",
    "    plt.ylim([0.0, 1.05])\n",
    "    plt.xlabel('False Positive Rate')\n",
    "    plt.ylabel('True Positive Rate')\n",
    "    plt.title(title, fontsize=16)\n",
    "    plt.legend(loc=\"lower right\")\n",
    "    plt.show()"
   ]
  },
  {
   "cell_type": "code",
   "execution_count": 26,
   "id": "63d57cbc",
   "metadata": {
    "execution": {
     "iopub.execute_input": "2021-10-22T00:28:14.510880Z",
     "iopub.status.busy": "2021-10-22T00:28:14.510028Z",
     "iopub.status.idle": "2021-10-22T00:28:29.286349Z",
     "shell.execute_reply": "2021-10-22T00:28:29.286805Z",
     "shell.execute_reply.started": "2021-10-20T07:44:30.275436Z"
    },
    "papermill": {
     "duration": 15.651858,
     "end_time": "2021-10-22T00:28:29.286969",
     "exception": false,
     "start_time": "2021-10-22T00:28:13.635111",
     "status": "completed"
    },
    "tags": []
   },
   "outputs": [
    {
     "name": "stdout",
     "output_type": "stream",
     "text": [
      "              precision    recall  f1-score   support\n",
      "\n",
      "      BENIGN       1.00      0.99      0.99     40000\n",
      "        LDAP       0.97      0.99      0.98     40000\n",
      "       MSSQL       0.97      0.94      0.95     40000\n",
      "     NetBIOS       1.00      1.00      1.00     40000\n",
      "         Syn       0.99      1.00      0.99     40000\n",
      "         UDP       0.97      0.97      0.97     40000\n",
      "\n",
      "    accuracy                           0.98    240000\n",
      "   macro avg       0.98      0.98      0.98    240000\n",
      "weighted avg       0.98      0.98      0.98    240000\n",
      "\n"
     ]
    },
    {
     "data": {
      "text/html": [
       "<div>\n",
       "<style scoped>\n",
       "    .dataframe tbody tr th:only-of-type {\n",
       "        vertical-align: middle;\n",
       "    }\n",
       "\n",
       "    .dataframe tbody tr th {\n",
       "        vertical-align: top;\n",
       "    }\n",
       "\n",
       "    .dataframe thead th {\n",
       "        text-align: right;\n",
       "    }\n",
       "</style>\n",
       "<table border=\"1\" class=\"dataframe\">\n",
       "  <thead>\n",
       "    <tr style=\"text-align: right;\">\n",
       "      <th></th>\n",
       "      <th>accuracy</th>\n",
       "      <th>precision</th>\n",
       "      <th>recall</th>\n",
       "      <th>f1_score</th>\n",
       "    </tr>\n",
       "  </thead>\n",
       "  <tbody>\n",
       "    <tr>\n",
       "      <th>BENIGN</th>\n",
       "      <td>0.9975</td>\n",
       "      <td>0.9862</td>\n",
       "      <td>0.999</td>\n",
       "      <td>0.9925</td>\n",
       "    </tr>\n",
       "    <tr>\n",
       "      <th>LDAP</th>\n",
       "      <td>0.993</td>\n",
       "      <td>0.9918</td>\n",
       "      <td>0.967</td>\n",
       "      <td>0.9792</td>\n",
       "    </tr>\n",
       "    <tr>\n",
       "      <th>MSSQL</th>\n",
       "      <td>0.9847</td>\n",
       "      <td>0.9422</td>\n",
       "      <td>0.9654</td>\n",
       "      <td>0.9536</td>\n",
       "    </tr>\n",
       "    <tr>\n",
       "      <th>NetBIOS</th>\n",
       "      <td>0.9989</td>\n",
       "      <td>0.9969</td>\n",
       "      <td>0.9963</td>\n",
       "      <td>0.9966</td>\n",
       "    </tr>\n",
       "    <tr>\n",
       "      <th>Syn</th>\n",
       "      <td>0.998</td>\n",
       "      <td>0.9987</td>\n",
       "      <td>0.9896</td>\n",
       "      <td>0.9941</td>\n",
       "    </tr>\n",
       "    <tr>\n",
       "      <th>UDP</th>\n",
       "      <td>0.9913</td>\n",
       "      <td>0.9745</td>\n",
       "      <td>0.9731</td>\n",
       "      <td>0.9738</td>\n",
       "    </tr>\n",
       "  </tbody>\n",
       "</table>\n",
       "</div>"
      ],
      "text/plain": [
       "        accuracy precision  recall f1_score\n",
       "BENIGN    0.9975    0.9862   0.999   0.9925\n",
       "LDAP       0.993    0.9918   0.967   0.9792\n",
       "MSSQL     0.9847    0.9422  0.9654   0.9536\n",
       "NetBIOS   0.9989    0.9969  0.9963   0.9966\n",
       "Syn        0.998    0.9987  0.9896   0.9941\n",
       "UDP       0.9913    0.9745  0.9731   0.9738"
      ]
     },
     "execution_count": 26,
     "metadata": {},
     "output_type": "execute_result"
    }
   ],
   "source": [
    "from sklearn.metrics import classification_report, multilabel_confusion_matrix\n",
    "y_train_pred_labels = le.inverse_transform(y_train_pred)\n",
    "y_train_labels = le.inverse_transform(y_train)\n",
    "print(classification_report(y_train_labels, y_train_pred_labels))\n",
    "performance = multilabel_matrix(y_train_pred_labels, y_train_labels, labels=le.classes_)\n",
    "performance"
   ]
  },
  {
   "cell_type": "code",
   "execution_count": 27,
   "id": "bd086e12",
   "metadata": {
    "execution": {
     "iopub.execute_input": "2021-10-22T00:28:31.052960Z",
     "iopub.status.busy": "2021-10-22T00:28:31.052149Z",
     "iopub.status.idle": "2021-10-22T00:28:44.311872Z",
     "shell.execute_reply": "2021-10-22T00:28:44.312493Z",
     "shell.execute_reply.started": "2021-10-20T07:44:44.72239Z"
    },
    "papermill": {
     "duration": 14.139336,
     "end_time": "2021-10-22T00:28:44.312816",
     "exception": false,
     "start_time": "2021-10-22T00:28:30.173480",
     "status": "completed"
    },
    "tags": []
   },
   "outputs": [
    {
     "name": "stdout",
     "output_type": "stream",
     "text": [
      "              precision    recall  f1-score   support\n",
      "\n",
      "      BENIGN       0.91      0.99      0.95       709\n",
      "        LDAP       0.91      0.99      0.95     24002\n",
      "       MSSQL       0.98      0.94      0.96     72334\n",
      "     NetBIOS       1.00      1.00      1.00     45671\n",
      "         Syn       1.00      1.00      1.00     61153\n",
      "         UDP       0.96      0.97      0.97     48326\n",
      "\n",
      "    accuracy                           0.98    252195\n",
      "   macro avg       0.96      0.98      0.97    252195\n",
      "weighted avg       0.98      0.98      0.98    252195\n",
      "\n"
     ]
    }
   ],
   "source": [
    "y_test_pred_labels = le.inverse_transform(y_test_pred)\n",
    "y_test_true_labels = le.inverse_transform(y_test)\n",
    "print(classification_report(y_test_true_labels,y_test_pred_labels))"
   ]
  },
  {
   "cell_type": "code",
   "execution_count": 28,
   "id": "953c6380",
   "metadata": {
    "execution": {
     "iopub.execute_input": "2021-10-22T00:28:46.297726Z",
     "iopub.status.busy": "2021-10-22T00:28:46.296902Z",
     "iopub.status.idle": "2021-10-22T00:28:47.590940Z",
     "shell.execute_reply": "2021-10-22T00:28:47.590320Z",
     "shell.execute_reply.started": "2021-10-20T07:44:58.330264Z"
    },
    "papermill": {
     "duration": 2.401296,
     "end_time": "2021-10-22T00:28:47.591072",
     "exception": false,
     "start_time": "2021-10-22T00:28:45.189776",
     "status": "completed"
    },
    "tags": []
   },
   "outputs": [
    {
     "data": {
      "text/html": [
       "<div>\n",
       "<style scoped>\n",
       "    .dataframe tbody tr th:only-of-type {\n",
       "        vertical-align: middle;\n",
       "    }\n",
       "\n",
       "    .dataframe tbody tr th {\n",
       "        vertical-align: top;\n",
       "    }\n",
       "\n",
       "    .dataframe thead th {\n",
       "        text-align: right;\n",
       "    }\n",
       "</style>\n",
       "<table border=\"1\" class=\"dataframe\">\n",
       "  <thead>\n",
       "    <tr style=\"text-align: right;\">\n",
       "      <th></th>\n",
       "      <th>accuracy</th>\n",
       "      <th>precision</th>\n",
       "      <th>recall</th>\n",
       "      <th>f1_score</th>\n",
       "    </tr>\n",
       "  </thead>\n",
       "  <tbody>\n",
       "    <tr>\n",
       "      <th>BENIGN</th>\n",
       "      <td>0.9997</td>\n",
       "      <td>0.913</td>\n",
       "      <td>0.9915</td>\n",
       "      <td>0.9506</td>\n",
       "    </tr>\n",
       "    <tr>\n",
       "      <th>LDAP</th>\n",
       "      <td>0.9901</td>\n",
       "      <td>0.9126</td>\n",
       "      <td>0.9915</td>\n",
       "      <td>0.9504</td>\n",
       "    </tr>\n",
       "    <tr>\n",
       "      <th>MSSQL</th>\n",
       "      <td>0.9781</td>\n",
       "      <td>0.979</td>\n",
       "      <td>0.9439</td>\n",
       "      <td>0.9611</td>\n",
       "    </tr>\n",
       "    <tr>\n",
       "      <th>NetBIOS</th>\n",
       "      <td>0.9994</td>\n",
       "      <td>0.9994</td>\n",
       "      <td>0.9973</td>\n",
       "      <td>0.9983</td>\n",
       "    </tr>\n",
       "    <tr>\n",
       "      <th>Syn</th>\n",
       "      <td>0.9995</td>\n",
       "      <td>0.9997</td>\n",
       "      <td>0.9984</td>\n",
       "      <td>0.9991</td>\n",
       "    </tr>\n",
       "    <tr>\n",
       "      <th>UDP</th>\n",
       "      <td>0.9876</td>\n",
       "      <td>0.9617</td>\n",
       "      <td>0.9743</td>\n",
       "      <td>0.968</td>\n",
       "    </tr>\n",
       "  </tbody>\n",
       "</table>\n",
       "</div>"
      ],
      "text/plain": [
       "        accuracy precision  recall f1_score\n",
       "BENIGN    0.9997     0.913  0.9915   0.9506\n",
       "LDAP      0.9901    0.9126  0.9915   0.9504\n",
       "MSSQL     0.9781     0.979  0.9439   0.9611\n",
       "NetBIOS   0.9994    0.9994  0.9973   0.9983\n",
       "Syn       0.9995    0.9997  0.9984   0.9991\n",
       "UDP       0.9876    0.9617  0.9743    0.968"
      ]
     },
     "execution_count": 28,
     "metadata": {},
     "output_type": "execute_result"
    }
   ],
   "source": [
    "performance = multilabel_matrix(y_test_true_labels, y_test_pred_labels, labels=le.classes_)\n",
    "performance"
   ]
  },
  {
   "cell_type": "code",
   "execution_count": 29,
   "id": "eca19ba6",
   "metadata": {
    "execution": {
     "iopub.execute_input": "2021-10-22T00:28:49.367707Z",
     "iopub.status.busy": "2021-10-22T00:28:49.366829Z",
     "iopub.status.idle": "2021-10-22T00:28:50.115358Z",
     "shell.execute_reply": "2021-10-22T00:28:50.115923Z",
     "shell.execute_reply.started": "2021-10-20T07:45:00.155562Z"
    },
    "papermill": {
     "duration": 1.639969,
     "end_time": "2021-10-22T00:28:50.116142",
     "exception": false,
     "start_time": "2021-10-22T00:28:48.476173",
     "status": "completed"
    },
    "tags": []
   },
   "outputs": [
    {
     "data": {
      "image/png": "[encoded data removed]",
      "text/plain": [
       "<Figure size 576x576 with 1 Axes>"
      ]
     },
     "metadata": {
      "needs_background": "light"
     },
     "output_type": "display_data"
    }
   ],
   "source": [
    "RoC_Curve(y_train_pred_prob, y_train, le.classes_, title='ROC for CIC-DDoS2019 training set')"
   ]
  },
  {
   "cell_type": "code",
   "execution_count": 30,
   "id": "220115db",
   "metadata": {
    "execution": {
     "iopub.execute_input": "2021-10-22T00:28:52.201603Z",
     "iopub.status.busy": "2021-10-22T00:28:52.200459Z",
     "iopub.status.idle": "2021-10-22T00:28:53.292362Z",
     "shell.execute_reply": "2021-10-22T00:28:53.293434Z",
     "shell.execute_reply.started": "2021-10-20T07:45:00.876286Z"
    },
    "papermill": {
     "duration": 1.986584,
     "end_time": "2021-10-22T00:28:53.293678",
     "exception": false,
     "start_time": "2021-10-22T00:28:51.307094",
     "status": "completed"
    },
    "tags": []
   },
   "outputs": [
    {
     "data": {
      "image/png": "[encoded data removed]",
      "text/plain": [
       "<Figure size 576x576 with 1 Axes>"
      ]
     },
     "metadata": {
      "needs_background": "light"
     },
     "output_type": "display_data"
    }
   ],
   "source": [
    "RoC_Curve(y_test_pred_prob, y_test, le.classes_, title='ROC for CIC-DDoS2019 test set')"
   ]
  },
  {
   "cell_type": "code",
   "execution_count": null,
   "id": "7e5d8849",
   "metadata": {
    "papermill": {
     "duration": 0.887319,
     "end_time": "2021-10-22T00:28:55.399643",
     "exception": false,
     "start_time": "2021-10-22T00:28:54.512324",
     "status": "completed"
    },
    "tags": []
   },
   "outputs": [],
   "source": []
  },
  {
   "cell_type": "code",
   "execution_count": null,
   "id": "8dc691c5",
   "metadata": {
    "papermill": {
     "duration": 0.885967,
     "end_time": "2021-10-22T00:28:57.172913",
     "exception": false,
     "start_time": "2021-10-22T00:28:56.286946",
     "status": "completed"
    },
    "tags": []
   },
   "outputs": [],
   "source": []
  },
  {
   "cell_type": "code",
   "execution_count": null,
   "id": "7e735b4d",
   "metadata": {
    "papermill": {
     "duration": 0.896202,
     "end_time": "2021-10-22T00:28:58.956263",
     "exception": false,
     "start_time": "2021-10-22T00:28:58.060061",
     "status": "completed"
    },
    "tags": []
   },
   "outputs": [],
   "source": []
  }
 ],
 "metadata": {
  "kernelspec": {
   "display_name": "Python 3",
   "language": "python",
   "name": "python3"
  },
  "language_info": {
   "codemirror_mode": {
    "name": "ipython",
    "version": 3
   },
   "file_extension": ".py",
   "mimetype": "text/x-python",
   "name": "python",
   "nbconvert_exporter": "python",
   "pygments_lexer": "ipython3",
   "version": "3.7.10"
  },
  "papermill": {
   "default_parameters": {},
   "duration": 419.022079,
   "end_time": "2021-10-22T00:29:03.576510",
   "environment_variables": {},
   "exception": null,
   "input_path": "__notebook__.ipynb",
   "output_path": "__notebook__.ipynb",
   "parameters": {},
   "start_time": "2021-10-22T00:22:04.554431",
   "version": "2.3.3"
  }
 },
 "nbformat": 4,
 "nbformat_minor": 5
}
