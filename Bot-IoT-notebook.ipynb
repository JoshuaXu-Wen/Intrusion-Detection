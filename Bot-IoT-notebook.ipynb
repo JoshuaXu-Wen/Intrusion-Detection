{
 "cells": [
  {
   "cell_type": "code",
   "execution_count": 1,
   "id": "64a5ad2e",
   "metadata": {
    "execution": {
     "iopub.execute_input": "2021-10-20T06:13:30.903002Z",
     "iopub.status.busy": "2021-10-20T06:13:30.902064Z",
     "iopub.status.idle": "2021-10-20T06:14:23.840602Z",
     "shell.execute_reply": "2021-10-20T06:14:23.841134Z",
     "shell.execute_reply.started": "2021-10-19T03:35:34.199273Z"
    },
    "papermill": {
     "duration": 52.974752,
     "end_time": "2021-10-20T06:14:23.841499",
     "exception": false,
     "start_time": "2021-10-20T06:13:30.866747",
     "status": "completed"
    },
    "tags": []
   },
   "outputs": [
    {
     "name": "stdout",
     "output_type": "stream",
     "text": [
      "Collecting package metadata (current_repodata.json): - \b\b\\ \b\b| \b\b/ \b\b- \b\b\\ \b\b| \b\b/ \b\b- \b\b\\ \b\b| \b\b/ \b\b- \b\b\\ \b\b| \b\b/ \b\b- \b\b\\ \b\b| \b\b/ \b\b- \b\b\\ \b\b| \b\b/ \b\b- \b\b\\ \b\b| \b\b/ \b\b- \b\b\\ \b\b| \b\b/ \b\b- \b\b\\ \b\b| \b\b/ \b\b- \b\b\\ \b\b| \b\b/ \b\b- \b\b\\ \b\b| \b\b/ \b\b- \b\b\\ \b\b| \b\b/ \b\b- \b\b\\ \b\b| \b\b/ \b\b- \b\b\\ \b\b| \b\b/ \b\b- \b\b\\ \b\b| \b\b/ \b\b- \b\b\\ \b\b| \b\b/ \b\b- \b\b\\ \b\b| \b\b/ \b\b- \b\b\\ \b\b| \b\b/ \b\b- \b\b\\ \b\b| \b\b/ \b\b- \b\b\\ \b\b| \b\b/ \b\b- \b\b\\ \b\b| \b\b/ \b\b- \b\b\\ \b\b| \b\b/ \b\b- \b\b\\ \b\b| \b\b/ \b\b- \b\b\\ \b\b| \b\b/ \b\b- \b\b\\ \b\b| \b\b/ \b\b- \b\b\\ \b\b| \b\b/ \b\b- \b\b\\ \b\b| \b\b/ \b\b- \b\b\\ \b\b| \b\b/ \b\b- \b\b\\ \b\b| \b\b/ \b\b- \b\b\\ \b\b| \b\b/ \b\b- \b\b\\ \b\b| \b\b/ \b\b- \b\b\\ \b\b| \b\b/ \b\b- \b\b\\ \b\b| \b\bdone\r\n",
      "Solving environment: - \b\b\\ \b\b| \b\b/ \b\b- \b\b\\ \b\b| \b\b/ \b\b- \b\b\\ \b\b| \b\b/ \b\b- \b\b\\ \b\b| \b\b/ \b\b- \b\b\\ \b\b| \b\b/ \b\b- \b\b\\ \b\b| \b\b/ \b\b- \b\b\\ \b\b| \b\b/ \b\b- \b\b\\ \b\b| \b\b/ \b\b- \b\b\\ \b\b| \b\b/ \b\b- \b\b\\ \b\b| \b\b/ \b\b- \b\b\\ \b\b| \b\b/ \b\b- \b\b\\ \b\b| \b\b/ \b\b- \b\b\\ \b\b| \b\b/ \b\b- \b\b\\ \b\b| \b\b/ \b\b- \b\b\\ \b\b| \b\b/ \b\b- \b\b\\ \b\b| \b\b/ \b\b- \b\b\\ \b\b| \b\b/ \b\b- \b\b\\ \b\b| \b\b/ \b\b- \b\b\\ \b\bdone\r\n",
      "\r\n",
      "## Package Plan ##\r\n",
      "\r\n",
      "  environment location: /opt/conda\r\n",
      "\r\n",
      "  added / updated specs:\r\n",
      "    - imbalanced-learn\r\n",
      "\r\n",
      "\r\n",
      "The following packages will be downloaded:\r\n",
      "\r\n",
      "    package                    |            build\r\n",
      "    ---------------------------|-----------------\r\n",
      "    imbalanced-learn-0.8.1     |     pyhd8ed1ab_0         110 KB  conda-forge\r\n",
      "    ------------------------------------------------------------\r\n",
      "                                           Total:         110 KB\r\n",
      "\r\n",
      "The following NEW packages will be INSTALLED:\r\n",
      "\r\n",
      "  imbalanced-learn   conda-forge/noarch::imbalanced-learn-0.8.1-pyhd8ed1ab_0\r\n",
      "\r\n",
      "\r\n",
      "\r\n",
      "Downloading and Extracting Packages\r\n",
      "imbalanced-learn-0.8 | 110 KB    | ##################################### | 100% \r\n",
      "Preparing transaction: / \b\bdone\r\n",
      "Verifying transaction: \\ \b\b| \b\b/ \b\b- \b\b\\ \b\bdone\r\n",
      "Executing transaction: / \b\b- \b\b\\ \b\b| \b\b/ \b\b- \b\b\\ \b\b| \b\b/ \b\b- \b\b\\ \b\b| \b\b/ \b\b- \b\b\\ \b\b| \b\b/ \b\b- \b\bdone\r\n"
     ]
    }
   ],
   "source": [
    "!conda install -y -c conda-forge imbalanced-learn"
   ]
  },
  {
   "cell_type": "code",
   "execution_count": 2,
   "id": "52ce20a1",
   "metadata": {
    "_cell_guid": "b1076dfc-b9ad-4769-8c92-a6c4dae69d19",
    "_uuid": "8f2839f25d086af736a60e9eeb907d3b93b6e0e5",
    "execution": {
     "iopub.execute_input": "2021-10-20T06:14:24.034230Z",
     "iopub.status.busy": "2021-10-20T06:14:24.029251Z",
     "iopub.status.idle": "2021-10-20T06:14:29.136815Z",
     "shell.execute_reply": "2021-10-20T06:14:29.136053Z",
     "shell.execute_reply.started": "2021-10-19T03:36:26.888395Z"
    },
    "papermill": {
     "duration": 5.202988,
     "end_time": "2021-10-20T06:14:29.137013",
     "exception": false,
     "start_time": "2021-10-20T06:14:23.934025",
     "status": "completed"
    },
    "tags": []
   },
   "outputs": [
    {
     "name": "stdout",
     "output_type": "stream",
     "text": [
      "/kaggle/input/botnet/UNSW_2018_IoT_Botnet_Full5pc_4.csv\n",
      "/kaggle/input/botnet/UNSW_2018_IoT_Botnet_Full5pc_3.csv\n",
      "/kaggle/input/botnet/UNSW_2018_IoT_Botnet_Full5pc_2.csv\n",
      "/kaggle/input/botnet/UNSW_2018_IoT_Botnet_Full5pc_1.csv\n"
     ]
    }
   ],
   "source": [
    "# This Python 3 environment comes with many helpful analytics libraries installed\n",
    "# It is defined by the kaggle/python Docker image: https://github.com/kaggle/docker-python\n",
    "# For example, here's several helpful packages to load\n",
    "\n",
    "import numpy as np # linear algebra\n",
    "import pandas as pd # data processing, CSV file I/O (e.g. pd.read_csv)\n",
    "from tensorflow.keras.utils import get_file\n",
    "\n",
    "\n",
    "# Input data files are available in the read-only \"../input/\" directory\n",
    "# For example, running this (by clicking run or pressing Shift+Enter) will list all files under the input directory\n",
    "\n",
    "import os\n",
    "csv_files = []\n",
    "\n",
    "for dirname, _, filenames in os.walk('/kaggle/input'):\n",
    "    for filename in filenames:\n",
    "        csv_file = os.path.join(dirname, filename)\n",
    "        print(os.path.join(dirname, filename))\n",
    "        csv_files.append(csv_file)\n",
    "        \n",
    "    \n",
    "\n",
    "# You can write up to 20GB to the current directory (/kaggle/working/) that gets preserved as output when you create a version using \"Save & Run All\" \n",
    "# You can also write temporary files to /kaggle/temp/, but they won't be saved outside of the current session"
   ]
  },
  {
   "cell_type": "code",
   "execution_count": 3,
   "id": "ba894aab",
   "metadata": {
    "execution": {
     "iopub.execute_input": "2021-10-20T06:14:29.327469Z",
     "iopub.status.busy": "2021-10-20T06:14:29.326709Z",
     "iopub.status.idle": "2021-10-20T06:15:07.753508Z",
     "shell.execute_reply": "2021-10-20T06:15:07.754406Z",
     "shell.execute_reply.started": "2021-10-19T03:36:30.934285Z"
    },
    "papermill": {
     "duration": 38.522808,
     "end_time": "2021-10-20T06:15:07.754940",
     "exception": false,
     "start_time": "2021-10-20T06:14:29.232132",
     "status": "completed"
    },
    "tags": []
   },
   "outputs": [
    {
     "name": "stderr",
     "output_type": "stream",
     "text": [
      "/opt/conda/lib/python3.7/site-packages/ipykernel_launcher.py:1: DtypeWarning: Columns (7,9) have mixed types.Specify dtype option on import or set low_memory=False.\n",
      "  \"\"\"Entry point for launching an IPython kernel.\n"
     ]
    }
   ],
   "source": [
    "df = pd.concat([pd.read_csv(file) for file in csv_files], ignore_index=True)"
   ]
  },
  {
   "cell_type": "code",
   "execution_count": 4,
   "id": "46d3e156",
   "metadata": {
    "execution": {
     "iopub.execute_input": "2021-10-20T06:15:07.957818Z",
     "iopub.status.busy": "2021-10-20T06:15:07.954850Z",
     "iopub.status.idle": "2021-10-20T06:15:08.832104Z",
     "shell.execute_reply": "2021-10-20T06:15:08.831545Z",
     "shell.execute_reply.started": "2021-10-19T03:37:00.053386Z"
    },
    "papermill": {
     "duration": 0.981177,
     "end_time": "2021-10-20T06:15:08.832261",
     "exception": false,
     "start_time": "2021-10-20T06:15:07.851084",
     "status": "completed"
    },
    "tags": []
   },
   "outputs": [
    {
     "name": "stdout",
     "output_type": "stream",
     "text": [
      "['DDoS' 'Normal' 'Reconnaissance' 'Theft' 'DoS']\n",
      "DDoS              1926624\n",
      "DoS               1650260\n",
      "Reconnaissance      91082\n",
      "Normal                477\n",
      "Theft                  79\n",
      "Name: category, dtype: int64\n"
     ]
    }
   ],
   "source": [
    "print(df.category.unique())\n",
    "print(df['category'].value_counts())"
   ]
  },
  {
   "cell_type": "code",
   "execution_count": 5,
   "id": "c76a7d75",
   "metadata": {
    "execution": {
     "iopub.execute_input": "2021-10-20T06:15:09.113087Z",
     "iopub.status.busy": "2021-10-20T06:15:09.112453Z",
     "iopub.status.idle": "2021-10-20T06:15:09.146869Z",
     "shell.execute_reply": "2021-10-20T06:15:09.146313Z",
     "shell.execute_reply.started": "2021-10-19T03:37:00.813337Z"
    },
    "papermill": {
     "duration": 0.220486,
     "end_time": "2021-10-20T06:15:09.147020",
     "exception": false,
     "start_time": "2021-10-20T06:15:08.926534",
     "status": "completed"
    },
    "tags": []
   },
   "outputs": [
    {
     "data": {
      "text/html": [
       "<div>\n",
       "<style scoped>\n",
       "    .dataframe tbody tr th:only-of-type {\n",
       "        vertical-align: middle;\n",
       "    }\n",
       "\n",
       "    .dataframe tbody tr th {\n",
       "        vertical-align: top;\n",
       "    }\n",
       "\n",
       "    .dataframe thead th {\n",
       "        text-align: right;\n",
       "    }\n",
       "</style>\n",
       "<table border=\"1\" class=\"dataframe\">\n",
       "  <thead>\n",
       "    <tr style=\"text-align: right;\">\n",
       "      <th></th>\n",
       "      <th>pkSeqID</th>\n",
       "      <th>stime</th>\n",
       "      <th>flgs</th>\n",
       "      <th>flgs_number</th>\n",
       "      <th>proto</th>\n",
       "      <th>proto_number</th>\n",
       "      <th>saddr</th>\n",
       "      <th>sport</th>\n",
       "      <th>daddr</th>\n",
       "      <th>dport</th>\n",
       "      <th>...</th>\n",
       "      <th>AR_P_Proto_P_DstIP</th>\n",
       "      <th>N_IN_Conn_P_DstIP</th>\n",
       "      <th>N_IN_Conn_P_SrcIP</th>\n",
       "      <th>AR_P_Proto_P_Sport</th>\n",
       "      <th>AR_P_Proto_P_Dport</th>\n",
       "      <th>Pkts_P_State_P_Protocol_P_DestIP</th>\n",
       "      <th>Pkts_P_State_P_Protocol_P_SrcIP</th>\n",
       "      <th>attack</th>\n",
       "      <th>category</th>\n",
       "      <th>subcategory</th>\n",
       "    </tr>\n",
       "  </thead>\n",
       "  <tbody>\n",
       "    <tr>\n",
       "      <th>0</th>\n",
       "      <td>3000001</td>\n",
       "      <td>1.528099e+09</td>\n",
       "      <td>e</td>\n",
       "      <td>1</td>\n",
       "      <td>udp</td>\n",
       "      <td>3</td>\n",
       "      <td>192.168.100.147</td>\n",
       "      <td>6226</td>\n",
       "      <td>192.168.100.3</td>\n",
       "      <td>80</td>\n",
       "      <td>...</td>\n",
       "      <td>1.09825</td>\n",
       "      <td>100</td>\n",
       "      <td>100</td>\n",
       "      <td>1.09827</td>\n",
       "      <td>1.09825</td>\n",
       "      <td>1500</td>\n",
       "      <td>1500</td>\n",
       "      <td>1</td>\n",
       "      <td>DDoS</td>\n",
       "      <td>UDP</td>\n",
       "    </tr>\n",
       "    <tr>\n",
       "      <th>1</th>\n",
       "      <td>3000002</td>\n",
       "      <td>1.528099e+09</td>\n",
       "      <td>e</td>\n",
       "      <td>1</td>\n",
       "      <td>udp</td>\n",
       "      <td>3</td>\n",
       "      <td>192.168.100.147</td>\n",
       "      <td>6227</td>\n",
       "      <td>192.168.100.3</td>\n",
       "      <td>80</td>\n",
       "      <td>...</td>\n",
       "      <td>1.09825</td>\n",
       "      <td>100</td>\n",
       "      <td>100</td>\n",
       "      <td>1.09827</td>\n",
       "      <td>1.09825</td>\n",
       "      <td>1500</td>\n",
       "      <td>1500</td>\n",
       "      <td>1</td>\n",
       "      <td>DDoS</td>\n",
       "      <td>UDP</td>\n",
       "    </tr>\n",
       "  </tbody>\n",
       "</table>\n",
       "<p>2 rows × 46 columns</p>\n",
       "</div>"
      ],
      "text/plain": [
       "   pkSeqID         stime flgs  flgs_number proto  proto_number  \\\n",
       "0  3000001  1.528099e+09    e            1   udp             3   \n",
       "1  3000002  1.528099e+09    e            1   udp             3   \n",
       "\n",
       "             saddr sport          daddr dport  ...  AR_P_Proto_P_DstIP  \\\n",
       "0  192.168.100.147  6226  192.168.100.3    80  ...             1.09825   \n",
       "1  192.168.100.147  6227  192.168.100.3    80  ...             1.09825   \n",
       "\n",
       "   N_IN_Conn_P_DstIP N_IN_Conn_P_SrcIP  AR_P_Proto_P_Sport  \\\n",
       "0                100               100             1.09827   \n",
       "1                100               100             1.09827   \n",
       "\n",
       "   AR_P_Proto_P_Dport  Pkts_P_State_P_Protocol_P_DestIP  \\\n",
       "0             1.09825                              1500   \n",
       "1             1.09825                              1500   \n",
       "\n",
       "   Pkts_P_State_P_Protocol_P_SrcIP  attack  category  subcategory  \n",
       "0                             1500       1      DDoS          UDP  \n",
       "1                             1500       1      DDoS          UDP  \n",
       "\n",
       "[2 rows x 46 columns]"
      ]
     },
     "execution_count": 5,
     "metadata": {},
     "output_type": "execute_result"
    }
   ],
   "source": [
    "df.head(2)"
   ]
  },
  {
   "cell_type": "code",
   "execution_count": 6,
   "id": "7eb7cf84",
   "metadata": {
    "execution": {
     "iopub.execute_input": "2021-10-20T06:15:09.340560Z",
     "iopub.status.busy": "2021-10-20T06:15:09.339530Z",
     "iopub.status.idle": "2021-10-20T06:15:09.345611Z",
     "shell.execute_reply": "2021-10-20T06:15:09.346146Z",
     "shell.execute_reply.started": "2021-10-19T03:37:00.841816Z"
    },
    "papermill": {
     "duration": 0.103989,
     "end_time": "2021-10-20T06:15:09.346328",
     "exception": false,
     "start_time": "2021-10-20T06:15:09.242339",
     "status": "completed"
    },
    "tags": []
   },
   "outputs": [
    {
     "data": {
      "text/plain": [
       "Index(['pkSeqID', 'stime', 'flgs', 'flgs_number', 'proto', 'proto_number',\n",
       "       'saddr', 'sport', 'daddr', 'dport', 'pkts', 'bytes', 'state',\n",
       "       'state_number', 'ltime', 'seq', 'dur', 'mean', 'stddev', 'sum', 'min',\n",
       "       'max', 'spkts', 'dpkts', 'sbytes', 'dbytes', 'rate', 'srate', 'drate',\n",
       "       'TnBPSrcIP', 'TnBPDstIP', 'TnP_PSrcIP', 'TnP_PDstIP', 'TnP_PerProto',\n",
       "       'TnP_Per_Dport', 'AR_P_Proto_P_SrcIP', 'AR_P_Proto_P_DstIP',\n",
       "       'N_IN_Conn_P_DstIP', 'N_IN_Conn_P_SrcIP', 'AR_P_Proto_P_Sport',\n",
       "       'AR_P_Proto_P_Dport', 'Pkts_P_State_P_Protocol_P_DestIP',\n",
       "       'Pkts_P_State_P_Protocol_P_SrcIP', 'attack', 'category', 'subcategory'],\n",
       "      dtype='object')"
      ]
     },
     "execution_count": 6,
     "metadata": {},
     "output_type": "execute_result"
    }
   ],
   "source": [
    "df.columns"
   ]
  },
  {
   "cell_type": "code",
   "execution_count": 7,
   "id": "c00245ef",
   "metadata": {
    "execution": {
     "iopub.execute_input": "2021-10-20T06:15:09.866107Z",
     "iopub.status.busy": "2021-10-20T06:15:09.864134Z",
     "iopub.status.idle": "2021-10-20T06:15:12.673604Z",
     "shell.execute_reply": "2021-10-20T06:15:12.674227Z",
     "shell.execute_reply.started": "2021-10-19T03:37:00.851546Z"
    },
    "papermill": {
     "duration": 3.2336,
     "end_time": "2021-10-20T06:15:12.674407",
     "exception": false,
     "start_time": "2021-10-20T06:15:09.440807",
     "status": "completed"
    },
    "tags": []
   },
   "outputs": [],
   "source": [
    "df = df[df['category'].isin(['DDoS', 'Normal', 'DoS'])]"
   ]
  },
  {
   "cell_type": "code",
   "execution_count": 8,
   "id": "b2a4d45c",
   "metadata": {
    "execution": {
     "iopub.execute_input": "2021-10-20T06:15:12.866188Z",
     "iopub.status.busy": "2021-10-20T06:15:12.865210Z",
     "iopub.status.idle": "2021-10-20T06:15:12.874778Z",
     "shell.execute_reply": "2021-10-20T06:15:12.875297Z",
     "shell.execute_reply.started": "2021-10-19T03:37:03.345908Z"
    },
    "papermill": {
     "duration": 0.106816,
     "end_time": "2021-10-20T06:15:12.875473",
     "exception": false,
     "start_time": "2021-10-20T06:15:12.768657",
     "status": "completed"
    },
    "tags": []
   },
   "outputs": [
    {
     "name": "stdout",
     "output_type": "stream",
     "text": [
      "34 \n",
      " 2 \n",
      " 32\n"
     ]
    }
   ],
   "source": [
    "# columns = ['flgs', 'proto', 'bytes', 'state', 'seq', 'dur', 'spkts', 'dpkts', 'sbytes', 'dbytes', \n",
    "#           'rate', 'srate', 'drate']\n",
    "# drop_columns = ['pkSeqID', 'flgs_number', 'proto_number', 'saddr', 'daddr', 'state_number', \n",
    "#                ]\n",
    "# columns = [ 'stime', 'flgs',  \n",
    "columns = ['seq', 'mean', 'stddev', 'max', 'min', 'state', 'flgs', 'stime', 'ltime', 'dur',\n",
    "           'rate', 'sum', 'spkts', 'pkts', 'sbytes', 'bytes', 'srate', 'drate', 'dbytes', 'dpkts', \n",
    "          'TnBPSrcIP', 'TnBPDstIP', 'TnP_PSrcIP', 'TnP_PDstIP', 'TnP_PerProto',\n",
    "       'TnP_Per_Dport', 'AR_P_Proto_P_SrcIP', 'AR_P_Proto_P_DstIP',\n",
    "       'N_IN_Conn_P_DstIP', 'N_IN_Conn_P_SrcIP', 'AR_P_Proto_P_Sport',\n",
    "       'AR_P_Proto_P_Dport', 'Pkts_P_State_P_Protocol_P_DestIP',\n",
    "       'Pkts_P_State_P_Protocol_P_SrcIP']\n",
    "# label = ['category']\n",
    "\n",
    "categorical_columns = ['flgs', 'state']\n",
    "numerical_columns = list(set(columns) - set(categorical_columns))\n",
    "print(len(columns), '\\n', len(categorical_columns), '\\n', len(numerical_columns))"
   ]
  },
  {
   "cell_type": "code",
   "execution_count": null,
   "id": "d3a8fedd",
   "metadata": {
    "papermill": {
     "duration": 0.096328,
     "end_time": "2021-10-20T06:15:13.066038",
     "exception": false,
     "start_time": "2021-10-20T06:15:12.969710",
     "status": "completed"
    },
    "tags": []
   },
   "outputs": [],
   "source": []
  },
  {
   "cell_type": "code",
   "execution_count": 9,
   "id": "e2b361cf",
   "metadata": {
    "execution": {
     "iopub.execute_input": "2021-10-20T06:15:13.266232Z",
     "iopub.status.busy": "2021-10-20T06:15:13.265434Z",
     "iopub.status.idle": "2021-10-20T06:15:38.184073Z",
     "shell.execute_reply": "2021-10-20T06:15:38.183426Z",
     "shell.execute_reply.started": "2021-10-19T03:37:03.355234Z"
    },
    "papermill": {
     "duration": 25.022076,
     "end_time": "2021-10-20T06:15:38.184234",
     "exception": false,
     "start_time": "2021-10-20T06:15:13.162158",
     "status": "completed"
    },
    "tags": []
   },
   "outputs": [
    {
     "name": "stdout",
     "output_type": "stream",
     "text": [
      "number of labels: 3\n",
      "instances per label\n",
      " DDoS      1926624\n",
      "DoS       1650260\n",
      "Normal        477\n",
      "Name: category, dtype: int64\n",
      "labels: ['DDoS' 'Normal' 'DoS']\n",
      "instances per label in training set\n",
      " DDoS      1444967\n",
      "DoS       1237695\n",
      "Normal        358\n",
      "Name: category, dtype: int64\n",
      "instances per label in test set\n",
      " DDoS      481657\n",
      "DoS       412565\n",
      "Normal       119\n",
      "Name: category, dtype: int64\n",
      "{'DDoS': 0, 'DoS': 1, 'Normal': 2}\n",
      "Counter({0: 200000, 1: 200000, 2: 200000})\n"
     ]
    }
   ],
   "source": [
    "# from sklearn.pipeline import Pipeline\n",
    "from sklearn.compose import ColumnTransformer\n",
    "from sklearn.preprocessing import OneHotEncoder, LabelEncoder, MinMaxScaler\n",
    "from imblearn.over_sampling import SMOTE\n",
    "from imblearn.under_sampling import RandomUnderSampler\n",
    "from imblearn.pipeline import Pipeline\n",
    "from collections import Counter\n",
    "from sklearn.model_selection import train_test_split\n",
    "X = df[columns]\n",
    "y = df.category\n",
    "labels = y.unique()\n",
    "classes = y.nunique()\n",
    "print(\"number of labels:\", classes)\n",
    "print(\"instances per label\\n\", y.value_counts())\n",
    "print(\"labels:\", labels)\n",
    "\n",
    "X_train, X_test, y_train, y_test = train_test_split(\n",
    "    X, y, test_size=0.25, random_state=42, stratify=y)\n",
    "\n",
    "pipe = ColumnTransformer([(\"scaler\", MinMaxScaler(), numerical_columns),\n",
    "                          (\"encoding\", OneHotEncoder(handle_unknown='ignore'), categorical_columns)])\n",
    "\n",
    "X_train = pipe.fit_transform(X_train)\n",
    "X_test = pipe.transform(X_test)\n",
    "le = LabelEncoder()\n",
    "print(\"instances per label in training set\\n\", y_train.value_counts())\n",
    "y_train = le.fit_transform(y_train)\n",
    "print(\"instances per label in test set\\n\", y_test.value_counts())\n",
    "y_test = le.transform(y_test)\n",
    "labels_dict = dict(zip(le.classes_, range(len(le.classes_))))\n",
    "print(labels_dict)\n",
    "\n",
    "# sampling\n",
    "over = SMOTE(sampling_strategy='minority')\n",
    "under = RandomUnderSampler(sampling_strategy={labels_dict['DDoS']:200000, labels_dict['DoS']:200000})\n",
    "steps = [('u', under), ('o', over)]\n",
    "pipeline = Pipeline(steps=steps)\n",
    "X_train, y_train = pipeline.fit_resample(X_train, y_train)\n",
    "counter = Counter(y_train)\n",
    "print(counter)"
   ]
  },
  {
   "cell_type": "code",
   "execution_count": 10,
   "id": "c228e002",
   "metadata": {
    "execution": {
     "iopub.execute_input": "2021-10-20T06:15:38.391968Z",
     "iopub.status.busy": "2021-10-20T06:15:38.391260Z",
     "iopub.status.idle": "2021-10-20T06:15:38.578598Z",
     "shell.execute_reply": "2021-10-20T06:15:38.579141Z",
     "shell.execute_reply.started": "2021-10-19T03:37:23.997857Z"
    },
    "papermill": {
     "duration": 0.296695,
     "end_time": "2021-10-20T06:15:38.579319",
     "exception": false,
     "start_time": "2021-10-20T06:15:38.282624",
     "status": "completed"
    },
    "tags": []
   },
   "outputs": [
    {
     "name": "stdout",
     "output_type": "stream",
     "text": [
      "input shape: 47\n"
     ]
    },
    {
     "name": "stderr",
     "output_type": "stream",
     "text": [
      "\n",
      "User settings:\n",
      "\n",
      "   KMP_AFFINITY=granularity=fine,verbose,compact,1,0\n",
      "   KMP_BLOCKTIME=0\n",
      "   KMP_DUPLICATE_LIB_OK=True\n",
      "   KMP_INIT_AT_FORK=FALSE\n",
      "   KMP_SETTINGS=1\n",
      "   KMP_WARNINGS=0\n",
      "\n",
      "Effective settings:\n",
      "\n",
      "   KMP_ABORT_DELAY=0\n",
      "   KMP_ADAPTIVE_LOCK_PROPS='1,1024'\n",
      "   KMP_ALIGN_ALLOC=64\n",
      "   KMP_ALL_THREADPRIVATE=128\n",
      "   KMP_ATOMIC_MODE=2\n",
      "   KMP_BLOCKTIME=0\n",
      "   KMP_CPUINFO_FILE: value is not defined\n",
      "   KMP_DETERMINISTIC_REDUCTION=false\n",
      "   KMP_DEVICE_THREAD_LIMIT=2147483647\n",
      "   KMP_DISP_NUM_BUFFERS=7\n",
      "   KMP_DUPLICATE_LIB_OK=true\n",
      "   KMP_ENABLE_TASK_THROTTLING=true\n",
      "   KMP_FORCE_REDUCTION: value is not defined\n",
      "   KMP_FOREIGN_THREADS_THREADPRIVATE=true\n",
      "   KMP_FORKJOIN_BARRIER='2,2'\n",
      "   KMP_FORKJOIN_BARRIER_PATTERN='hyper,hyper'\n",
      "   KMP_GTID_MODE=3\n",
      "   KMP_HANDLE_SIGNALS=false\n",
      "   KMP_HOT_TEAMS_MAX_LEVEL=1\n",
      "   KMP_HOT_TEAMS_MODE=0\n",
      "   KMP_INIT_AT_FORK=true\n",
      "   KMP_LIBRARY=throughput\n",
      "   KMP_LOCK_KIND=queuing\n",
      "   KMP_MALLOC_POOL_INCR=1M\n",
      "   KMP_NUM_LOCKS_IN_BLOCK=1\n",
      "   KMP_PLAIN_BARRIER='2,2'\n",
      "   KMP_PLAIN_BARRIER_PATTERN='hyper,hyper'\n",
      "   KMP_REDUCTION_BARRIER='1,1'\n",
      "   KMP_REDUCTION_BARRIER_PATTERN='hyper,hyper'\n",
      "   KMP_SCHEDULE='static,balanced;guided,iterative'\n",
      "   KMP_SETTINGS=true\n",
      "   KMP_SPIN_BACKOFF_PARAMS='4096,100'\n",
      "   KMP_STACKOFFSET=64\n",
      "   KMP_STACKPAD=0\n",
      "   KMP_STACKSIZE=8M\n",
      "   KMP_STORAGE_MAP=false\n",
      "   KMP_TASKING=2\n",
      "   KMP_TASKLOOP_MIN_TASKS=0\n",
      "   KMP_TASK_STEALING_CONSTRAINT=1\n",
      "   KMP_TEAMS_THREAD_LIMIT=4\n",
      "   KMP_TOPOLOGY_METHOD=all\n",
      "   KMP_USE_YIELD=1\n",
      "   KMP_VERSION=false\n",
      "   KMP_WARNINGS=false\n",
      "   OMP_AFFINITY_FORMAT='OMP: pid %P tid %i thread %n bound to OS proc set {%A}'\n",
      "   OMP_ALLOCATOR=omp_default_mem_alloc\n",
      "   OMP_CANCELLATION=false\n",
      "   OMP_DEFAULT_DEVICE=0\n",
      "   OMP_DISPLAY_AFFINITY=false\n",
      "   OMP_DISPLAY_ENV=false\n",
      "   OMP_DYNAMIC=false\n",
      "   OMP_MAX_ACTIVE_LEVELS=1\n",
      "   OMP_MAX_TASK_PRIORITY=0\n",
      "   OMP_NESTED: deprecated; max-active-levels-var=1\n",
      "   OMP_NUM_THREADS: value is not defined\n",
      "   OMP_PLACES: value is not defined\n",
      "   OMP_PROC_BIND='intel'\n",
      "   OMP_SCHEDULE='static'\n",
      "   OMP_STACKSIZE=8M\n",
      "   OMP_TARGET_OFFLOAD=DEFAULT\n",
      "   OMP_THREAD_LIMIT=2147483647\n",
      "   OMP_WAIT_POLICY=PASSIVE\n",
      "   KMP_AFFINITY='verbose,warnings,respect,granularity=fine,compact,1,0'\n",
      "\n",
      "2021-10-20 06:15:38.447855: I tensorflow/core/common_runtime/process_util.cc:146] Creating new thread pool with default inter op setting: 2. Tune using inter_op_parallelism_threads for best performance.\n"
     ]
    }
   ],
   "source": [
    "# Autoencoder model to extract latent features\n",
    "\n",
    "from tensorflow.keras import Model, Sequential, Input\n",
    "from tensorflow.keras.layers import Dense\n",
    "from keras.callbacks import EarlyStopping\n",
    "callback = EarlyStopping(patience=3, mode='min')\n",
    "input_shape = X_train.shape[1]\n",
    "print(f\"input shape: {input_shape}\")\n",
    "encoding_dim = 10\n",
    "encoder = Sequential([\n",
    "    Dense(32, activation='relu', input_shape=(input_shape, )),\n",
    "    Dense(encoding_dim, activation='relu')\n",
    "])\n",
    "decoder = Sequential([\n",
    "    Dense(32, activation='relu', input_shape=(encoding_dim,)),\n",
    "    Dense(input_shape)\n",
    "])\n",
    "autoencoder = Sequential([encoder, decoder])\n",
    "autoencoder.compile(loss='mse', optimizer='Adam')"
   ]
  },
  {
   "cell_type": "code",
   "execution_count": 11,
   "id": "99d1aa61",
   "metadata": {
    "execution": {
     "iopub.execute_input": "2021-10-20T06:15:38.784111Z",
     "iopub.status.busy": "2021-10-20T06:15:38.781394Z",
     "iopub.status.idle": "2021-10-20T06:22:03.567667Z",
     "shell.execute_reply": "2021-10-20T06:22:03.568443Z",
     "shell.execute_reply.started": "2021-10-19T03:37:26.391186Z"
    },
    "papermill": {
     "duration": 384.887787,
     "end_time": "2021-10-20T06:22:03.568713",
     "exception": false,
     "start_time": "2021-10-20T06:15:38.680926",
     "status": "completed"
    },
    "tags": []
   },
   "outputs": [
    {
     "name": "stderr",
     "output_type": "stream",
     "text": [
      "2021-10-20 06:15:39.094008: I tensorflow/compiler/mlir/mlir_graph_optimization_pass.cc:185] None of the MLIR Optimization Passes are enabled (registered 2)\n"
     ]
    },
    {
     "name": "stdout",
     "output_type": "stream",
     "text": [
      "Epoch 1/20\n",
      "7500/7500 [==============================] - 20s 3ms/step - loss: 0.0019 - val_loss: 0.0012\n",
      "Epoch 2/20\n",
      "7500/7500 [==============================] - 20s 3ms/step - loss: 2.7160e-04 - val_loss: 7.7194e-04\n",
      "Epoch 3/20\n",
      "7500/7500 [==============================] - 20s 3ms/step - loss: 2.2455e-04 - val_loss: 6.2312e-04\n",
      "Epoch 4/20\n",
      "7500/7500 [==============================] - 19s 3ms/step - loss: 1.9972e-04 - val_loss: 5.6410e-04\n",
      "Epoch 5/20\n",
      "7500/7500 [==============================] - 20s 3ms/step - loss: 1.6690e-04 - val_loss: 5.2505e-04\n",
      "Epoch 6/20\n",
      "7500/7500 [==============================] - 19s 3ms/step - loss: 1.4980e-04 - val_loss: 4.9134e-04\n",
      "Epoch 7/20\n",
      "7500/7500 [==============================] - 20s 3ms/step - loss: 1.3708e-04 - val_loss: 4.7611e-04\n",
      "Epoch 8/20\n",
      "7500/7500 [==============================] - 20s 3ms/step - loss: 1.2392e-04 - val_loss: 4.2291e-04\n",
      "Epoch 9/20\n",
      "7500/7500 [==============================] - 20s 3ms/step - loss: 1.1600e-04 - val_loss: 3.8752e-04\n",
      "Epoch 10/20\n",
      "7500/7500 [==============================] - 20s 3ms/step - loss: 1.1143e-04 - val_loss: 3.8400e-04\n",
      "Epoch 11/20\n",
      "7500/7500 [==============================] - 18s 2ms/step - loss: 1.0806e-04 - val_loss: 3.5307e-04\n",
      "Epoch 12/20\n",
      "7500/7500 [==============================] - 19s 3ms/step - loss: 1.0547e-04 - val_loss: 3.4747e-04\n",
      "Epoch 13/20\n",
      "7500/7500 [==============================] - 19s 3ms/step - loss: 1.0359e-04 - val_loss: 3.5002e-04\n",
      "Epoch 14/20\n",
      "7500/7500 [==============================] - 19s 2ms/step - loss: 1.0181e-04 - val_loss: 3.3178e-04\n",
      "Epoch 15/20\n",
      "7500/7500 [==============================] - 19s 2ms/step - loss: 9.9916e-05 - val_loss: 3.2155e-04\n",
      "Epoch 16/20\n",
      "7500/7500 [==============================] - 18s 2ms/step - loss: 9.8430e-05 - val_loss: 3.2210e-04\n",
      "Epoch 17/20\n",
      "7500/7500 [==============================] - 19s 3ms/step - loss: 9.6994e-05 - val_loss: 3.1360e-04\n",
      "Epoch 18/20\n",
      "7500/7500 [==============================] - 19s 3ms/step - loss: 9.5466e-05 - val_loss: 3.5652e-04\n",
      "Epoch 19/20\n",
      "7500/7500 [==============================] - 19s 2ms/step - loss: 9.4067e-05 - val_loss: 2.9788e-04\n",
      "Epoch 20/20\n",
      "7500/7500 [==============================] - 19s 3ms/step - loss: 9.2593e-05 - val_loss: 2.8783e-04\n"
     ]
    }
   ],
   "source": [
    "history = autoencoder.fit(X_train, X_train, batch_size=64, \n",
    "                          epochs=20, validation_split=0.2)"
   ]
  },
  {
   "cell_type": "code",
   "execution_count": 12,
   "id": "da763792",
   "metadata": {
    "execution": {
     "iopub.execute_input": "2021-10-20T06:22:07.787522Z",
     "iopub.status.busy": "2021-10-20T06:22:07.783673Z",
     "iopub.status.idle": "2021-10-20T06:22:54.399098Z",
     "shell.execute_reply": "2021-10-20T06:22:54.399933Z",
     "shell.execute_reply.started": "2021-10-19T03:42:49.123669Z"
    },
    "papermill": {
     "duration": 48.706592,
     "end_time": "2021-10-20T06:22:54.400268",
     "exception": false,
     "start_time": "2021-10-20T06:22:05.693676",
     "status": "completed"
    },
    "tags": []
   },
   "outputs": [],
   "source": [
    "X_train_encode = encoder.predict(X_train)\n",
    "# X_val_encode = encoder.predict(X_val)\n",
    "X_test_encode = encoder.predict(X_test)"
   ]
  },
  {
   "cell_type": "code",
   "execution_count": 13,
   "id": "036f217c",
   "metadata": {
    "execution": {
     "iopub.execute_input": "2021-10-20T06:22:58.702243Z",
     "iopub.status.busy": "2021-10-20T06:22:58.701532Z",
     "iopub.status.idle": "2021-10-20T06:22:59.342114Z",
     "shell.execute_reply": "2021-10-20T06:22:59.341491Z",
     "shell.execute_reply.started": "2021-10-19T03:49:39.501124Z"
    },
    "papermill": {
     "duration": 2.792086,
     "end_time": "2021-10-20T06:22:59.342265",
     "exception": false,
     "start_time": "2021-10-20T06:22:56.550179",
     "status": "completed"
    },
    "tags": []
   },
   "outputs": [
    {
     "data": {
      "image/png": "[encoded data removed]",
      "text/plain": [
       "<Figure size 576x432 with 1 Axes>"
      ]
     },
     "metadata": {
      "needs_background": "light"
     },
     "output_type": "display_data"
    }
   ],
   "source": [
    "from sklearn.decomposition import PCA\n",
    "import matplotlib.pyplot as plt\n",
    "import seaborn as sns\n",
    "from sklearn.utils import resample\n",
    "%matplotlib inline\n",
    "\n",
    "X_train_pca, y_train_pca = resample(\n",
    "    X_train_encode, y_train, n_samples=30000, random_state=42, stratify=y_train)\n",
    "pca = PCA(n_components=2)\n",
    "projected = pca.fit_transform(X_train_pca)\n",
    "fig, ax = plt.subplots(figsize=(8,6))\n",
    "scat = ax.scatter(projected[:, 0], projected[:, 1],\n",
    "            c=y_train_pca, edgecolor='none', cmap=\"Paired\", alpha=0.7)\n",
    "plt.legend(handles=scat.legend_elements()[0], labels=list(le.classes_), loc=\"upper left\", title=\"Classes\")\n",
    "plt.axis('off')\n",
    "plt.title(\"PCA at latent space of Bot-IoT training set\")\n",
    "plt.show()"
   ]
  },
  {
   "cell_type": "code",
   "execution_count": 14,
   "id": "b1311cb4",
   "metadata": {
    "execution": {
     "iopub.execute_input": "2021-10-20T06:23:03.536420Z",
     "iopub.status.busy": "2021-10-20T06:23:03.535323Z",
     "iopub.status.idle": "2021-10-20T06:23:04.555984Z",
     "shell.execute_reply": "2021-10-20T06:23:04.556476Z",
     "shell.execute_reply.started": "2021-10-19T03:49:10.719311Z"
    },
    "papermill": {
     "duration": 3.122414,
     "end_time": "2021-10-20T06:23:04.556658",
     "exception": false,
     "start_time": "2021-10-20T06:23:01.434244",
     "status": "completed"
    },
    "tags": []
   },
   "outputs": [
    {
     "data": {
      "image/png": "[encoded data removed]",
      "text/plain": [
       "<Figure size 576x432 with 1 Axes>"
      ]
     },
     "metadata": {
      "needs_background": "light"
     },
     "output_type": "display_data"
    }
   ],
   "source": [
    "X_test_pca, y_test_pca = resample(\n",
    "    X_test_encode, y_test, n_samples=100000, random_state=42, stratify=y_test)\n",
    "pca = PCA(n_components=2)\n",
    "projected = pca.fit_transform(X_test_pca)\n",
    "fig, ax = plt.subplots(figsize=(8,6))\n",
    "scat = ax.scatter(projected[:, 0], projected[:, 1],\n",
    "            c=y_test_pca, edgecolor='none', cmap=\"Paired\", alpha=0.7)\n",
    "plt.legend(handles=scat.legend_elements()[0], labels=list(le.classes_), loc=\"upper left\", title=\"Classes\")\n",
    "plt.axis('off')\n",
    "plt.title(\"PCA at latent space of Bot-IoT test set\")\n",
    "plt.show()"
   ]
  },
  {
   "cell_type": "code",
   "execution_count": 15,
   "id": "59fd082a",
   "metadata": {
    "execution": {
     "iopub.execute_input": "2021-10-20T06:23:08.785081Z",
     "iopub.status.busy": "2021-10-20T06:23:08.784335Z",
     "iopub.status.idle": "2021-10-20T06:27:23.015678Z",
     "shell.execute_reply": "2021-10-20T06:27:23.016403Z",
     "shell.execute_reply.started": "2021-10-18T07:35:52.289499Z"
    },
    "papermill": {
     "duration": 256.377464,
     "end_time": "2021-10-20T06:27:23.016632",
     "exception": false,
     "start_time": "2021-10-20T06:23:06.639168",
     "status": "completed"
    },
    "tags": []
   },
   "outputs": [
    {
     "name": "stdout",
     "output_type": "stream",
     "text": [
      "Epoch 1/20\n",
      "7500/7500 [==============================] - 13s 2ms/step - loss: 0.3366 - accuracy: 0.8591 - val_loss: 2.5122e-04 - val_accuracy: 1.0000\n",
      "Epoch 2/20\n",
      "7500/7500 [==============================] - 12s 2ms/step - loss: 0.2198 - accuracy: 0.9107 - val_loss: 3.8003e-06 - val_accuracy: 1.0000\n",
      "Epoch 3/20\n",
      "7500/7500 [==============================] - 13s 2ms/step - loss: 0.2022 - accuracy: 0.9174 - val_loss: 2.0116e-06 - val_accuracy: 1.0000\n",
      "Epoch 4/20\n",
      "7500/7500 [==============================] - 12s 2ms/step - loss: 0.1919 - accuracy: 0.9229 - val_loss: 1.9115e-06 - val_accuracy: 1.0000\n",
      "Epoch 5/20\n",
      "7500/7500 [==============================] - 12s 2ms/step - loss: 0.1831 - accuracy: 0.9276 - val_loss: 1.6790e-06 - val_accuracy: 1.0000\n",
      "Epoch 6/20\n",
      "7500/7500 [==============================] - 13s 2ms/step - loss: 0.1760 - accuracy: 0.9303 - val_loss: 6.4250e-07 - val_accuracy: 1.0000\n",
      "Epoch 7/20\n",
      "7500/7500 [==============================] - 12s 2ms/step - loss: 0.1701 - accuracy: 0.9328 - val_loss: 1.6717e-07 - val_accuracy: 1.0000\n",
      "Epoch 8/20\n",
      "7500/7500 [==============================] - 13s 2ms/step - loss: 0.1647 - accuracy: 0.9350 - val_loss: 6.1700e-08 - val_accuracy: 1.0000\n",
      "Epoch 9/20\n",
      "7500/7500 [==============================] - 14s 2ms/step - loss: 0.1585 - accuracy: 0.9378 - val_loss: 8.9993e-09 - val_accuracy: 1.0000\n",
      "Epoch 10/20\n",
      "7500/7500 [==============================] - 13s 2ms/step - loss: 0.1524 - accuracy: 0.9412 - val_loss: 1.9130e-08 - val_accuracy: 1.0000\n",
      "Epoch 11/20\n",
      "7500/7500 [==============================] - 13s 2ms/step - loss: 0.1460 - accuracy: 0.9447 - val_loss: 1.6192e-09 - val_accuracy: 1.0000\n",
      "Epoch 12/20\n",
      "7500/7500 [==============================] - 12s 2ms/step - loss: 0.1403 - accuracy: 0.9481 - val_loss: 6.9836e-10 - val_accuracy: 1.0000\n",
      "Epoch 13/20\n",
      "7500/7500 [==============================] - 13s 2ms/step - loss: 0.1363 - accuracy: 0.9497 - val_loss: 5.0763e-10 - val_accuracy: 1.0000\n",
      "Epoch 14/20\n",
      "7500/7500 [==============================] - 13s 2ms/step - loss: 0.1327 - accuracy: 0.9512 - val_loss: 2.2948e-10 - val_accuracy: 1.0000\n",
      "Epoch 15/20\n",
      "7500/7500 [==============================] - 12s 2ms/step - loss: 0.1296 - accuracy: 0.9528 - val_loss: 2.1060e-10 - val_accuracy: 1.0000\n",
      "Epoch 16/20\n",
      "7500/7500 [==============================] - 13s 2ms/step - loss: 0.1268 - accuracy: 0.9541 - val_loss: 5.9605e-11 - val_accuracy: 1.0000\n",
      "Epoch 17/20\n",
      "7500/7500 [==============================] - 12s 2ms/step - loss: 0.1250 - accuracy: 0.9547 - val_loss: 5.8611e-11 - val_accuracy: 1.0000\n",
      "Epoch 18/20\n",
      "7500/7500 [==============================] - 12s 2ms/step - loss: 0.1235 - accuracy: 0.9554 - val_loss: 8.3446e-11 - val_accuracy: 1.0000\n",
      "Epoch 19/20\n",
      "7500/7500 [==============================] - 13s 2ms/step - loss: 0.1215 - accuracy: 0.9560 - val_loss: 3.9538e-10 - val_accuracy: 1.0000\n",
      "Epoch 20/20\n",
      "7500/7500 [==============================] - 12s 2ms/step - loss: 0.1206 - accuracy: 0.9562 - val_loss: 8.9109e-10 - val_accuracy: 1.0000\n"
     ]
    }
   ],
   "source": [
    "classifier = Sequential()\n",
    "classifier.add(Input(shape=(encoding_dim,)))\n",
    "classifier.add(Dense(32, activation='relu'))\n",
    "classifier.add(Dense(classes, activation='softmax'))\n",
    "classifier.compile(loss='sparse_categorical_crossentropy', optimizer='Adam', metrics=['accuracy'])\n",
    "history = classifier.fit(X_train_encode,y_train, batch_size=64, epochs=20, \n",
    "                         validation_split=0.2, callbacks=[callback])"
   ]
  },
  {
   "cell_type": "code",
   "execution_count": 16,
   "id": "92b88eb3",
   "metadata": {
    "execution": {
     "iopub.execute_input": "2021-10-20T06:27:29.920136Z",
     "iopub.status.busy": "2021-10-20T06:27:29.918962Z",
     "iopub.status.idle": "2021-10-20T06:27:29.920916Z",
     "shell.execute_reply": "2021-10-20T06:27:29.921425Z",
     "shell.execute_reply.started": "2021-10-18T07:39:00.648267Z"
    },
    "papermill": {
     "duration": 3.462448,
     "end_time": "2021-10-20T06:27:29.921601",
     "exception": false,
     "start_time": "2021-10-20T06:27:26.459153",
     "status": "completed"
    },
    "tags": []
   },
   "outputs": [],
   "source": [
    "# classifier.predict(X_train_encode)"
   ]
  },
  {
   "cell_type": "code",
   "execution_count": 17,
   "id": "385fe71f",
   "metadata": {
    "execution": {
     "iopub.execute_input": "2021-10-20T06:27:36.762337Z",
     "iopub.status.busy": "2021-10-20T06:27:36.746503Z",
     "iopub.status.idle": "2021-10-20T06:29:13.668645Z",
     "shell.execute_reply": "2021-10-20T06:29:13.667995Z",
     "shell.execute_reply.started": "2021-10-18T07:47:20.236975Z"
    },
    "papermill": {
     "duration": 100.307442,
     "end_time": "2021-10-20T06:29:13.668866",
     "exception": false,
     "start_time": "2021-10-20T06:27:33.361424",
     "status": "completed"
    },
    "tags": []
   },
   "outputs": [],
   "source": [
    "# predicting on testing set\n",
    "y_train_pred_prob = classifier.predict(X_train_encode)\n",
    "y_test_pred_prob = classifier.predict(X_test_encode)\n",
    "y_train_pred = np.argmax(y_train_pred_prob, axis=1)\n",
    "y_test_pred = np.argmax(y_test_pred_prob, axis=1)"
   ]
  },
  {
   "cell_type": "code",
   "execution_count": 18,
   "id": "d524b2c1",
   "metadata": {
    "execution": {
     "iopub.execute_input": "2021-10-20T06:29:20.547244Z",
     "iopub.status.busy": "2021-10-20T06:29:20.546541Z",
     "iopub.status.idle": "2021-10-20T06:29:21.661767Z",
     "shell.execute_reply": "2021-10-20T06:29:21.660807Z",
     "shell.execute_reply.started": "2021-10-18T07:39:49.768544Z"
    },
    "papermill": {
     "duration": 4.528288,
     "end_time": "2021-10-20T06:29:21.661926",
     "exception": false,
     "start_time": "2021-10-20T06:29:17.133638",
     "status": "completed"
    },
    "tags": []
   },
   "outputs": [
    {
     "data": {
      "image/png": "[encoded data removed]",
      "text/plain": [
       "<Figure size 576x576 with 2 Axes>"
      ]
     },
     "metadata": {
      "needs_background": "light"
     },
     "output_type": "display_data"
    }
   ],
   "source": [
    "from sklearn.metrics import confusion_matrix, ConfusionMatrixDisplay\n",
    "import matplotlib.pyplot as plt\n",
    "import seaborn as sns\n",
    "%matplotlib inline\n",
    "cm = confusion_matrix(y_train, y_train_pred)\n",
    "fig, ax = plt.subplots(figsize=(8, 8))\n",
    "ConfusionMatrixDisplay(confusion_matrix=cm, display_labels=le.classes_).plot(ax=ax)\n",
    "plt.show()"
   ]
  },
  {
   "cell_type": "code",
   "execution_count": 19,
   "id": "e07a6ab2",
   "metadata": {
    "execution": {
     "iopub.execute_input": "2021-10-20T06:29:28.518045Z",
     "iopub.status.busy": "2021-10-20T06:29:28.517357Z",
     "iopub.status.idle": "2021-10-20T06:29:30.047070Z",
     "shell.execute_reply": "2021-10-20T06:29:30.046477Z",
     "shell.execute_reply.started": "2021-10-18T07:39:50.841177Z"
    },
    "papermill": {
     "duration": 4.910332,
     "end_time": "2021-10-20T06:29:30.047229",
     "exception": false,
     "start_time": "2021-10-20T06:29:25.136897",
     "status": "completed"
    },
    "tags": []
   },
   "outputs": [
    {
     "data": {
      "image/png": "[encoded data removed]",
      "text/plain": [
       "<Figure size 576x576 with 2 Axes>"
      ]
     },
     "metadata": {
      "needs_background": "light"
     },
     "output_type": "display_data"
    }
   ],
   "source": [
    "cm_test = confusion_matrix(y_test, y_test_pred)\n",
    "fig, ax = plt.subplots(figsize=(8, 8))\n",
    "ConfusionMatrixDisplay(confusion_matrix=cm_test, display_labels=le.classes_).plot(ax=ax)\n",
    "plt.show()"
   ]
  },
  {
   "cell_type": "code",
   "execution_count": 20,
   "id": "a6545cc4",
   "metadata": {
    "execution": {
     "iopub.execute_input": "2021-10-20T06:29:36.904889Z",
     "iopub.status.busy": "2021-10-20T06:29:36.904185Z",
     "iopub.status.idle": "2021-10-20T06:29:36.911416Z",
     "shell.execute_reply": "2021-10-20T06:29:36.911908Z",
     "shell.execute_reply.started": "2021-10-18T07:39:52.161017Z"
    },
    "papermill": {
     "duration": 3.413611,
     "end_time": "2021-10-20T06:29:36.912094",
     "exception": false,
     "start_time": "2021-10-20T06:29:33.498483",
     "status": "completed"
    },
    "tags": []
   },
   "outputs": [],
   "source": [
    "def multilabel_matrix(y_true, y_pred, labels=None):\n",
    "    mlm = multilabel_confusion_matrix(y_true, y_pred, labels=labels)\n",
    "    df_performance = pd.DataFrame(index=labels, columns=['accuracy', 'precision', 'recall', 'f1_score'])\n",
    "\n",
    "    for i, label in enumerate(labels):\n",
    "        tn, fp, fn, tp = mlm[i].ravel()\n",
    "        accuracy = (tn + tp) / (tn + fp + fn + tp)\n",
    "        precision = tp / (tp + fp)\n",
    "        recall = tp / (tp + fn)\n",
    "#         fpr = fp / (fp + tn)\n",
    "        f1_score = 2*precision * recall / (precision + recall)\n",
    "        df_performance.loc[label] = [round(accuracy, 4), round(precision,4), \\\n",
    "                                     round(recall, 4), round(f1_score,4)]\n",
    "    \n",
    "    return df_performance"
   ]
  },
  {
   "cell_type": "code",
   "execution_count": 21,
   "id": "62df636d",
   "metadata": {
    "execution": {
     "iopub.execute_input": "2021-10-20T06:29:43.831327Z",
     "iopub.status.busy": "2021-10-20T06:29:43.830594Z",
     "iopub.status.idle": "2021-10-20T06:29:43.841415Z",
     "shell.execute_reply": "2021-10-20T06:29:43.841945Z",
     "shell.execute_reply.started": "2021-10-18T08:06:59.1825Z"
    },
    "papermill": {
     "duration": 3.499518,
     "end_time": "2021-10-20T06:29:43.842124",
     "exception": false,
     "start_time": "2021-10-20T06:29:40.342606",
     "status": "completed"
    },
    "tags": []
   },
   "outputs": [],
   "source": [
    "from tensorflow.keras.utils import to_categorical\n",
    "from sklearn.metrics import roc_curve, auc\n",
    "from sklearn.metrics import roc_auc_score\n",
    "from itertools import cycle\n",
    "def RoC_Curve(y_score, y, labels, title): \n",
    "    y_cat = to_categorical(y)\n",
    "#     pred_RFC_proba = classifier.predict(X)\n",
    "#     y_score = pred_RFC_proba\n",
    "    \n",
    "    # Compute ROC curve and ROC area for each class\n",
    "    fpr = dict()\n",
    "    tpr = dict()\n",
    "    roc_auc = dict()\n",
    "    lw = 2\n",
    "    # First aggregate all false positive rates\n",
    "    n_classes = len(labels)\n",
    "    print('n_classes:', n_classes)\n",
    "\n",
    "    for i in range(n_classes):\n",
    "        fpr[i], tpr[i], _ = roc_curve(y_cat[:, i], y_score[:, i])\n",
    "        roc_auc[i] = auc(fpr[i], tpr[i])\n",
    "\n",
    "    # Compute micro-average ROC curve and ROC area\n",
    "    fpr[\"micro\"], tpr[\"micro\"], _ = roc_curve(y_cat.ravel(), y_score.ravel())\n",
    "    roc_auc[\"micro\"] = auc(fpr[\"micro\"], tpr[\"micro\"])\n",
    "\n",
    "    # First aggregate all false positive rates\n",
    "    all_fpr = np.unique(np.concatenate([fpr[i] for i in range(n_classes)]))\n",
    "\n",
    "    # Then interpolate all ROC curves at this points\n",
    "    mean_tpr = np.zeros_like(all_fpr)\n",
    "    for i in range(n_classes):\n",
    "        mean_tpr += np.interp(all_fpr, fpr[i], tpr[i])\n",
    "\n",
    "    # Finally average it and compute AUC\n",
    "    mean_tpr /= n_classes\n",
    "\n",
    "    fpr[\"macro\"] = all_fpr\n",
    "    tpr[\"macro\"] = mean_tpr\n",
    "    roc_auc[\"macro\"] = auc(fpr[\"macro\"], tpr[\"macro\"])\n",
    "\n",
    "    # Plot all ROC curves\n",
    "    plt.figure(figsize=(8,8))\n",
    "    plt.plot(fpr[\"micro\"], tpr[\"micro\"],\n",
    "             label='micro-average ROC curve (area = {0:0.4f})'\n",
    "                   ''.format(roc_auc[\"micro\"]),\n",
    "             color='deeppink', linestyle=':', linewidth=4)\n",
    "\n",
    "    plt.plot(fpr[\"macro\"], tpr[\"macro\"],\n",
    "             label='macro-average ROC curve (area = {0:0.4f})'\n",
    "                   ''.format(roc_auc[\"macro\"]),\n",
    "             color='navy', linestyle=':', linewidth=4)\n",
    "\n",
    "    colors = cycle(['aqua', 'darkorange', 'cornflowerblue'])\n",
    "    for i, color in zip(range(n_classes), colors):\n",
    "        plt.plot(fpr[i], tpr[i], color=color, lw=lw,\n",
    "                 label=f'ROC curve of class {labels[i]} (area = {roc_auc[i]:0.4f})')\n",
    "\n",
    "    plt.plot([0, 1], [0, 1], 'k--', lw=lw)\n",
    "    plt.xlim([0.0, 1.0])\n",
    "    plt.ylim([0.0, 1.05])\n",
    "    plt.xlabel('False Positive Rate')\n",
    "    plt.ylabel('True Positive Rate')\n",
    "    plt.title(title, fontsize=16)\n",
    "    plt.legend(loc=\"lower right\")\n",
    "    plt.show()"
   ]
  },
  {
   "cell_type": "code",
   "execution_count": 22,
   "id": "53b91e3f",
   "metadata": {
    "execution": {
     "iopub.execute_input": "2021-10-20T06:29:50.686106Z",
     "iopub.status.busy": "2021-10-20T06:29:50.685412Z",
     "iopub.status.idle": "2021-10-20T06:29:55.731661Z",
     "shell.execute_reply": "2021-10-20T06:29:55.731082Z",
     "shell.execute_reply.started": "2021-10-18T07:39:52.188659Z"
    },
    "papermill": {
     "duration": 8.50353,
     "end_time": "2021-10-20T06:29:55.731829",
     "exception": false,
     "start_time": "2021-10-20T06:29:47.228299",
     "status": "completed"
    },
    "tags": []
   },
   "outputs": [
    {
     "name": "stdout",
     "output_type": "stream",
     "text": [
      "              precision    recall  f1-score   support\n",
      "\n",
      "        DDoS       0.95      0.96      0.95    200000\n",
      "         DoS       0.96      0.94      0.95    200000\n",
      "      Normal       1.00      1.00      1.00    200000\n",
      "\n",
      "    accuracy                           0.97    600000\n",
      "   macro avg       0.97      0.97      0.97    600000\n",
      "weighted avg       0.97      0.97      0.97    600000\n",
      "\n"
     ]
    },
    {
     "data": {
      "text/html": [
       "<div>\n",
       "<style scoped>\n",
       "    .dataframe tbody tr th:only-of-type {\n",
       "        vertical-align: middle;\n",
       "    }\n",
       "\n",
       "    .dataframe tbody tr th {\n",
       "        vertical-align: top;\n",
       "    }\n",
       "\n",
       "    .dataframe thead th {\n",
       "        text-align: right;\n",
       "    }\n",
       "</style>\n",
       "<table border=\"1\" class=\"dataframe\">\n",
       "  <thead>\n",
       "    <tr style=\"text-align: right;\">\n",
       "      <th></th>\n",
       "      <th>accuracy</th>\n",
       "      <th>precision</th>\n",
       "      <th>recall</th>\n",
       "      <th>f1_score</th>\n",
       "    </tr>\n",
       "  </thead>\n",
       "  <tbody>\n",
       "    <tr>\n",
       "      <th>DDoS</th>\n",
       "      <td>0.9671</td>\n",
       "      <td>0.945</td>\n",
       "      <td>0.957</td>\n",
       "      <td>0.951</td>\n",
       "    </tr>\n",
       "    <tr>\n",
       "      <th>DoS</th>\n",
       "      <td>0.9671</td>\n",
       "      <td>0.9564</td>\n",
       "      <td>0.9443</td>\n",
       "      <td>0.9503</td>\n",
       "    </tr>\n",
       "    <tr>\n",
       "      <th>Normal</th>\n",
       "      <td>1.0</td>\n",
       "      <td>1.0</td>\n",
       "      <td>1.0</td>\n",
       "      <td>1.0</td>\n",
       "    </tr>\n",
       "  </tbody>\n",
       "</table>\n",
       "</div>"
      ],
      "text/plain": [
       "       accuracy precision  recall f1_score\n",
       "DDoS     0.9671     0.945   0.957    0.951\n",
       "DoS      0.9671    0.9564  0.9443   0.9503\n",
       "Normal      1.0       1.0     1.0      1.0"
      ]
     },
     "execution_count": 22,
     "metadata": {},
     "output_type": "execute_result"
    }
   ],
   "source": [
    "from sklearn.metrics import classification_report, multilabel_confusion_matrix\n",
    "y_train_pred_labels = le.inverse_transform(y_train_pred)\n",
    "y_train_true_labels = le.inverse_transform(y_train)\n",
    "print(classification_report(y_train, y_train_pred, target_names=le.classes_))\n",
    "performance = multilabel_matrix(y_train_true_labels, y_train_pred_labels, labels=le.classes_)\n",
    "performance"
   ]
  },
  {
   "cell_type": "code",
   "execution_count": 23,
   "id": "43738d62",
   "metadata": {
    "execution": {
     "iopub.execute_input": "2021-10-20T06:30:02.577900Z",
     "iopub.status.busy": "2021-10-20T06:30:02.577224Z",
     "iopub.status.idle": "2021-10-20T06:30:10.838195Z",
     "shell.execute_reply": "2021-10-20T06:30:10.837489Z",
     "shell.execute_reply.started": "2021-10-18T07:41:00.3014Z"
    },
    "papermill": {
     "duration": 11.729374,
     "end_time": "2021-10-20T06:30:10.838340",
     "exception": false,
     "start_time": "2021-10-20T06:29:59.108966",
     "status": "completed"
    },
    "tags": []
   },
   "outputs": [
    {
     "name": "stdout",
     "output_type": "stream",
     "text": [
      "              precision    recall  f1-score   support\n",
      "\n",
      "        DDoS       0.95      0.96      0.95    481657\n",
      "         DoS       0.95      0.94      0.95    412565\n",
      "      Normal       1.00      1.00      1.00       119\n",
      "\n",
      "    accuracy                           0.95    894341\n",
      "   macro avg       0.97      0.97      0.97    894341\n",
      "weighted avg       0.95      0.95      0.95    894341\n",
      "\n"
     ]
    },
    {
     "data": {
      "text/html": [
       "<div>\n",
       "<style scoped>\n",
       "    .dataframe tbody tr th:only-of-type {\n",
       "        vertical-align: middle;\n",
       "    }\n",
       "\n",
       "    .dataframe tbody tr th {\n",
       "        vertical-align: top;\n",
       "    }\n",
       "\n",
       "    .dataframe thead th {\n",
       "        text-align: right;\n",
       "    }\n",
       "</style>\n",
       "<table border=\"1\" class=\"dataframe\">\n",
       "  <thead>\n",
       "    <tr style=\"text-align: right;\">\n",
       "      <th></th>\n",
       "      <th>accuracy</th>\n",
       "      <th>precision</th>\n",
       "      <th>recall</th>\n",
       "      <th>f1_score</th>\n",
       "    </tr>\n",
       "  </thead>\n",
       "  <tbody>\n",
       "    <tr>\n",
       "      <th>DDoS</th>\n",
       "      <td>0.9509</td>\n",
       "      <td>0.9519</td>\n",
       "      <td>0.9572</td>\n",
       "      <td>0.9545</td>\n",
       "    </tr>\n",
       "    <tr>\n",
       "      <th>DoS</th>\n",
       "      <td>0.9509</td>\n",
       "      <td>0.9497</td>\n",
       "      <td>0.9435</td>\n",
       "      <td>0.9466</td>\n",
       "    </tr>\n",
       "    <tr>\n",
       "      <th>Normal</th>\n",
       "      <td>1.0</td>\n",
       "      <td>1.0</td>\n",
       "      <td>1.0</td>\n",
       "      <td>1.0</td>\n",
       "    </tr>\n",
       "  </tbody>\n",
       "</table>\n",
       "</div>"
      ],
      "text/plain": [
       "       accuracy precision  recall f1_score\n",
       "DDoS     0.9509    0.9519  0.9572   0.9545\n",
       "DoS      0.9509    0.9497  0.9435   0.9466\n",
       "Normal      1.0       1.0     1.0      1.0"
      ]
     },
     "execution_count": 23,
     "metadata": {},
     "output_type": "execute_result"
    }
   ],
   "source": [
    "y_test_pred_labels = le.inverse_transform(y_test_pred)\n",
    "y_test_true_labels = le.inverse_transform(y_test)\n",
    "print(classification_report(y_test, y_test_pred, target_names=le.classes_))\n",
    "performance_test = multilabel_matrix(y_test_true_labels, y_test_pred_labels, labels=le.classes_)\n",
    "performance_test"
   ]
  },
  {
   "cell_type": "code",
   "execution_count": 24,
   "id": "79ec07ea",
   "metadata": {
    "execution": {
     "iopub.execute_input": "2021-10-20T06:30:17.637393Z",
     "iopub.status.busy": "2021-10-20T06:30:17.635923Z",
     "iopub.status.idle": "2021-10-20T06:30:18.769647Z",
     "shell.execute_reply": "2021-10-20T06:30:18.770264Z",
     "shell.execute_reply.started": "2021-10-18T08:14:43.44793Z"
    },
    "papermill": {
     "duration": 4.52704,
     "end_time": "2021-10-20T06:30:18.770452",
     "exception": false,
     "start_time": "2021-10-20T06:30:14.243412",
     "status": "completed"
    },
    "tags": []
   },
   "outputs": [
    {
     "name": "stdout",
     "output_type": "stream",
     "text": [
      "n_classes: 3\n"
     ]
    },
    {
     "data": {
      "image/png": "[encoded data removed]",
      "text/plain": [
       "<Figure size 576x576 with 1 Axes>"
      ]
     },
     "metadata": {
      "needs_background": "light"
     },
     "output_type": "display_data"
    }
   ],
   "source": [
    "RoC_Curve(y_train_pred_prob, y_train, le.classes_, title='ROC for Bot-IoT training set')"
   ]
  },
  {
   "cell_type": "code",
   "execution_count": 25,
   "id": "45b6d635",
   "metadata": {
    "execution": {
     "iopub.execute_input": "2021-10-20T06:30:25.612354Z",
     "iopub.status.busy": "2021-10-20T06:30:25.611267Z",
     "iopub.status.idle": "2021-10-20T06:30:27.425722Z",
     "shell.execute_reply": "2021-10-20T06:30:27.426268Z",
     "shell.execute_reply.started": "2021-10-18T08:07:15.611667Z"
    },
    "papermill": {
     "duration": 5.212849,
     "end_time": "2021-10-20T06:30:27.426445",
     "exception": false,
     "start_time": "2021-10-20T06:30:22.213596",
     "status": "completed"
    },
    "tags": []
   },
   "outputs": [
    {
     "name": "stdout",
     "output_type": "stream",
     "text": [
      "n_classes: 3\n"
     ]
    },
    {
     "data": {
      "image/png": "[encoded data removed]",
      "text/plain": [
       "<Figure size 576x576 with 1 Axes>"
      ]
     },
     "metadata": {
      "needs_background": "light"
     },
     "output_type": "display_data"
    }
   ],
   "source": [
    "RoC_Curve(y_test_pred_prob, y_test, le.classes_, title='ROC for Bot-IoT test set')"
   ]
  },
  {
   "cell_type": "code",
   "execution_count": null,
   "id": "467ad27c",
   "metadata": {
    "papermill": {
     "duration": 3.38682,
     "end_time": "2021-10-20T06:30:34.254504",
     "exception": false,
     "start_time": "2021-10-20T06:30:30.867684",
     "status": "completed"
    },
    "tags": []
   },
   "outputs": [],
   "source": []
  }
 ],
 "metadata": {
  "kernelspec": {
   "display_name": "Python 3",
   "language": "python",
   "name": "python3"
  },
  "language_info": {
   "codemirror_mode": {
    "name": "ipython",
    "version": 3
   },
   "file_extension": ".py",
   "mimetype": "text/x-python",
   "name": "python",
   "nbconvert_exporter": "python",
   "pygments_lexer": "ipython3",
   "version": "3.7.10"
  },
  "papermill": {
   "default_parameters": {},
   "duration": 1039.019458,
   "end_time": "2021-10-20T06:30:40.803969",
   "environment_variables": {},
   "exception": null,
   "input_path": "__notebook__.ipynb",
   "output_path": "__notebook__.ipynb",
   "parameters": {},
   "start_time": "2021-10-20T06:13:21.784511",
   "version": "2.3.3"
  }
 },
 "nbformat": 4,
 "nbformat_minor": 5
}
