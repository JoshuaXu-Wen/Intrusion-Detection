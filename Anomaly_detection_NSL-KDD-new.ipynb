{
 "cells": [
  {
   "cell_type": "code",
   "execution_count": 1,
   "metadata": {},
   "outputs": [
    {
     "name": "stderr",
     "output_type": "stream",
     "text": [
      "Using TensorFlow backend.\n"
     ]
    }
   ],
   "source": [
    "import pandas as pd\n",
    "import numpy as np\n",
    "from keras.utils import get_file\n",
    "from keras.models import Sequential, Input\n",
    "from keras.layers import Dense\n",
    "from keras.callbacks import EarlyStopping\n",
    "import matplotlib.pyplot as plt\n",
    "import seaborn as sns\n",
    "%matplotlib inline"
   ]
  },
  {
   "cell_type": "code",
   "execution_count": 2,
   "metadata": {},
   "outputs": [],
   "source": [
    "sns.set_style(\"white\")"
   ]
  },
  {
   "cell_type": "markdown",
   "metadata": {},
   "source": [
    "## Download datasets"
   ]
  },
  {
   "cell_type": "code",
   "execution_count": 4,
   "metadata": {},
   "outputs": [
    {
     "name": "stdout",
     "output_type": "stream",
     "text": [
      "/Users/xuwen/.keras/datasets/NSL-KDD.zip\n"
     ]
    }
   ],
   "source": [
    "from keras.utils import get_file\n",
    "try:\n",
    "    path = get_file('NSL-KDD.zip', origin=\\\n",
    "                  'http://205.174.165.80/CICDataset/NSL-KDD/Dataset/NSL-KDD.zip')\n",
    "    print(path)\n",
    "except:\n",
    "    print(\"Error downloading\")"
   ]
  },
  {
   "cell_type": "code",
   "execution_count": 5,
   "metadata": {
    "scrolled": true
   },
   "outputs": [
    {
     "name": "stdout",
     "output_type": "stream",
     "text": [
      "['index.html', 'KDDTest1.jpg', 'KDDTest-21.arff', 'KDDTest-21.txt', 'KDDTest+.arff', 'KDDTest+.txt', 'KDDTrain1.jpg', 'KDDTrain+.arff', 'KDDTrain+.txt', 'KDDTrain+_20Percent.arff', 'KDDTrain+_20Percent.txt']\n"
     ]
    }
   ],
   "source": [
    "from zipfile import ZipFile\n",
    "import os\n",
    "filespath = os.path.dirname(path)+\"/NSL-KDD/\"\n",
    "with ZipFile(path, 'r') as zipObj:\n",
    "    zipObj.extractall(filespath)\n",
    "    print(zipObj.namelist())"
   ]
  },
  {
   "cell_type": "code",
   "execution_count": 6,
   "metadata": {},
   "outputs": [],
   "source": [
    "df_train = pd.read_csv(filepath_or_buffer=filespath+'KDDTrain+.txt',delimiter=',', header=None)\n",
    "df_test = pd.read_csv(filepath_or_buffer=filespath+'KDDTest+.txt',delimiter=',', header=None)"
   ]
  },
  {
   "cell_type": "markdown",
   "metadata": {},
   "source": [
    "## Data mining and exploration"
   ]
  },
  {
   "cell_type": "code",
   "execution_count": 7,
   "metadata": {},
   "outputs": [],
   "source": [
    "# The CSV file has no column heads, so add them\n",
    "df_train.columns = [\n",
    "    'duration',\n",
    "    'protocol_type',\n",
    "    'service',\n",
    "    'flag',\n",
    "    'src_bytes',\n",
    "    'dst_bytes',\n",
    "    'land',\n",
    "    'wrong_fragment',\n",
    "    'urgent',\n",
    "    'hot',\n",
    "    'num_failed_logins',\n",
    "    'logged_in',\n",
    "    'num_compromised',\n",
    "    'root_shell',\n",
    "    'su_attempted',\n",
    "    'num_root',\n",
    "    'num_file_creations',\n",
    "    'num_shells',\n",
    "    'num_access_files',\n",
    "    'num_outbound_cmds',\n",
    "    'is_host_login',\n",
    "    'is_guest_login',\n",
    "    'count',\n",
    "    'srv_count',\n",
    "    'serror_rate',\n",
    "    'srv_serror_rate',\n",
    "    'rerror_rate',\n",
    "    'srv_rerror_rate',\n",
    "    'same_srv_rate',\n",
    "    'diff_srv_rate',\n",
    "    'srv_diff_host_rate',\n",
    "    'dst_host_count',\n",
    "    'dst_host_srv_count',\n",
    "    'dst_host_same_srv_rate',\n",
    "    'dst_host_diff_srv_rate',\n",
    "    'dst_host_same_src_port_rate',\n",
    "    'dst_host_srv_diff_host_rate',\n",
    "    'dst_host_serror_rate',\n",
    "    'dst_host_srv_serror_rate',\n",
    "    'dst_host_rerror_rate',\n",
    "    'dst_host_srv_rerror_rate',\n",
    "    'outcome',\n",
    "    'difficulty'\n",
    "]\n",
    "df_test.columns = df_train.columns"
   ]
  },
  {
   "cell_type": "code",
   "execution_count": 8,
   "metadata": {},
   "outputs": [
    {
     "name": "stdout",
     "output_type": "stream",
     "text": [
      "df_train.shape = (125973, 43)\n",
      "df_test.shape = (22544, 43)\n"
     ]
    }
   ],
   "source": [
    "print(f\"df_train.shape = {df_train.shape}\")\n",
    "print(f\"df_test.shape = {df_test.shape}\")"
   ]
  },
  {
   "cell_type": "code",
   "execution_count": 9,
   "metadata": {},
   "outputs": [
    {
     "data": {
      "text/html": [
       "<div>\n",
       "<style scoped>\n",
       "    .dataframe tbody tr th:only-of-type {\n",
       "        vertical-align: middle;\n",
       "    }\n",
       "\n",
       "    .dataframe tbody tr th {\n",
       "        vertical-align: top;\n",
       "    }\n",
       "\n",
       "    .dataframe thead th {\n",
       "        text-align: right;\n",
       "    }\n",
       "</style>\n",
       "<table border=\"1\" class=\"dataframe\">\n",
       "  <thead>\n",
       "    <tr style=\"text-align: right;\">\n",
       "      <th></th>\n",
       "      <th>duration</th>\n",
       "      <th>protocol_type</th>\n",
       "      <th>service</th>\n",
       "      <th>flag</th>\n",
       "      <th>src_bytes</th>\n",
       "      <th>dst_bytes</th>\n",
       "      <th>land</th>\n",
       "      <th>wrong_fragment</th>\n",
       "      <th>urgent</th>\n",
       "      <th>hot</th>\n",
       "      <th>...</th>\n",
       "      <th>dst_host_same_srv_rate</th>\n",
       "      <th>dst_host_diff_srv_rate</th>\n",
       "      <th>dst_host_same_src_port_rate</th>\n",
       "      <th>dst_host_srv_diff_host_rate</th>\n",
       "      <th>dst_host_serror_rate</th>\n",
       "      <th>dst_host_srv_serror_rate</th>\n",
       "      <th>dst_host_rerror_rate</th>\n",
       "      <th>dst_host_srv_rerror_rate</th>\n",
       "      <th>outcome</th>\n",
       "      <th>difficulty</th>\n",
       "    </tr>\n",
       "  </thead>\n",
       "  <tbody>\n",
       "    <tr>\n",
       "      <th>0</th>\n",
       "      <td>0</td>\n",
       "      <td>tcp</td>\n",
       "      <td>ftp_data</td>\n",
       "      <td>SF</td>\n",
       "      <td>491</td>\n",
       "      <td>0</td>\n",
       "      <td>0</td>\n",
       "      <td>0</td>\n",
       "      <td>0</td>\n",
       "      <td>0</td>\n",
       "      <td>...</td>\n",
       "      <td>0.17</td>\n",
       "      <td>0.03</td>\n",
       "      <td>0.17</td>\n",
       "      <td>0.00</td>\n",
       "      <td>0.00</td>\n",
       "      <td>0.00</td>\n",
       "      <td>0.05</td>\n",
       "      <td>0.00</td>\n",
       "      <td>normal</td>\n",
       "      <td>20</td>\n",
       "    </tr>\n",
       "    <tr>\n",
       "      <th>1</th>\n",
       "      <td>0</td>\n",
       "      <td>udp</td>\n",
       "      <td>other</td>\n",
       "      <td>SF</td>\n",
       "      <td>146</td>\n",
       "      <td>0</td>\n",
       "      <td>0</td>\n",
       "      <td>0</td>\n",
       "      <td>0</td>\n",
       "      <td>0</td>\n",
       "      <td>...</td>\n",
       "      <td>0.00</td>\n",
       "      <td>0.60</td>\n",
       "      <td>0.88</td>\n",
       "      <td>0.00</td>\n",
       "      <td>0.00</td>\n",
       "      <td>0.00</td>\n",
       "      <td>0.00</td>\n",
       "      <td>0.00</td>\n",
       "      <td>normal</td>\n",
       "      <td>15</td>\n",
       "    </tr>\n",
       "    <tr>\n",
       "      <th>2</th>\n",
       "      <td>0</td>\n",
       "      <td>tcp</td>\n",
       "      <td>private</td>\n",
       "      <td>S0</td>\n",
       "      <td>0</td>\n",
       "      <td>0</td>\n",
       "      <td>0</td>\n",
       "      <td>0</td>\n",
       "      <td>0</td>\n",
       "      <td>0</td>\n",
       "      <td>...</td>\n",
       "      <td>0.10</td>\n",
       "      <td>0.05</td>\n",
       "      <td>0.00</td>\n",
       "      <td>0.00</td>\n",
       "      <td>1.00</td>\n",
       "      <td>1.00</td>\n",
       "      <td>0.00</td>\n",
       "      <td>0.00</td>\n",
       "      <td>neptune</td>\n",
       "      <td>19</td>\n",
       "    </tr>\n",
       "    <tr>\n",
       "      <th>3</th>\n",
       "      <td>0</td>\n",
       "      <td>tcp</td>\n",
       "      <td>http</td>\n",
       "      <td>SF</td>\n",
       "      <td>232</td>\n",
       "      <td>8153</td>\n",
       "      <td>0</td>\n",
       "      <td>0</td>\n",
       "      <td>0</td>\n",
       "      <td>0</td>\n",
       "      <td>...</td>\n",
       "      <td>1.00</td>\n",
       "      <td>0.00</td>\n",
       "      <td>0.03</td>\n",
       "      <td>0.04</td>\n",
       "      <td>0.03</td>\n",
       "      <td>0.01</td>\n",
       "      <td>0.00</td>\n",
       "      <td>0.01</td>\n",
       "      <td>normal</td>\n",
       "      <td>21</td>\n",
       "    </tr>\n",
       "    <tr>\n",
       "      <th>4</th>\n",
       "      <td>0</td>\n",
       "      <td>tcp</td>\n",
       "      <td>http</td>\n",
       "      <td>SF</td>\n",
       "      <td>199</td>\n",
       "      <td>420</td>\n",
       "      <td>0</td>\n",
       "      <td>0</td>\n",
       "      <td>0</td>\n",
       "      <td>0</td>\n",
       "      <td>...</td>\n",
       "      <td>1.00</td>\n",
       "      <td>0.00</td>\n",
       "      <td>0.00</td>\n",
       "      <td>0.00</td>\n",
       "      <td>0.00</td>\n",
       "      <td>0.00</td>\n",
       "      <td>0.00</td>\n",
       "      <td>0.00</td>\n",
       "      <td>normal</td>\n",
       "      <td>21</td>\n",
       "    </tr>\n",
       "  </tbody>\n",
       "</table>\n",
       "<p>5 rows × 43 columns</p>\n",
       "</div>"
      ],
      "text/plain": [
       "   duration protocol_type   service flag  src_bytes  dst_bytes  land  \\\n",
       "0         0           tcp  ftp_data   SF        491          0     0   \n",
       "1         0           udp     other   SF        146          0     0   \n",
       "2         0           tcp   private   S0          0          0     0   \n",
       "3         0           tcp      http   SF        232       8153     0   \n",
       "4         0           tcp      http   SF        199        420     0   \n",
       "\n",
       "   wrong_fragment  urgent  hot  ...  dst_host_same_srv_rate  \\\n",
       "0               0       0    0  ...                    0.17   \n",
       "1               0       0    0  ...                    0.00   \n",
       "2               0       0    0  ...                    0.10   \n",
       "3               0       0    0  ...                    1.00   \n",
       "4               0       0    0  ...                    1.00   \n",
       "\n",
       "   dst_host_diff_srv_rate  dst_host_same_src_port_rate  \\\n",
       "0                    0.03                         0.17   \n",
       "1                    0.60                         0.88   \n",
       "2                    0.05                         0.00   \n",
       "3                    0.00                         0.03   \n",
       "4                    0.00                         0.00   \n",
       "\n",
       "   dst_host_srv_diff_host_rate  dst_host_serror_rate  \\\n",
       "0                         0.00                  0.00   \n",
       "1                         0.00                  0.00   \n",
       "2                         0.00                  1.00   \n",
       "3                         0.04                  0.03   \n",
       "4                         0.00                  0.00   \n",
       "\n",
       "   dst_host_srv_serror_rate  dst_host_rerror_rate  dst_host_srv_rerror_rate  \\\n",
       "0                      0.00                  0.05                      0.00   \n",
       "1                      0.00                  0.00                      0.00   \n",
       "2                      1.00                  0.00                      0.00   \n",
       "3                      0.01                  0.00                      0.01   \n",
       "4                      0.00                  0.00                      0.00   \n",
       "\n",
       "   outcome  difficulty  \n",
       "0   normal          20  \n",
       "1   normal          15  \n",
       "2  neptune          19  \n",
       "3   normal          21  \n",
       "4   normal          21  \n",
       "\n",
       "[5 rows x 43 columns]"
      ]
     },
     "execution_count": 9,
     "metadata": {},
     "output_type": "execute_result"
    }
   ],
   "source": [
    "df_train.head()"
   ]
  },
  {
   "cell_type": "code",
   "execution_count": 10,
   "metadata": {
    "scrolled": true
   },
   "outputs": [
    {
     "data": {
      "text/html": [
       "<div>\n",
       "<style scoped>\n",
       "    .dataframe tbody tr th:only-of-type {\n",
       "        vertical-align: middle;\n",
       "    }\n",
       "\n",
       "    .dataframe tbody tr th {\n",
       "        vertical-align: top;\n",
       "    }\n",
       "\n",
       "    .dataframe thead th {\n",
       "        text-align: right;\n",
       "    }\n",
       "</style>\n",
       "<table border=\"1\" class=\"dataframe\">\n",
       "  <thead>\n",
       "    <tr style=\"text-align: right;\">\n",
       "      <th></th>\n",
       "      <th>duration</th>\n",
       "      <th>protocol_type</th>\n",
       "      <th>service</th>\n",
       "      <th>flag</th>\n",
       "      <th>src_bytes</th>\n",
       "      <th>dst_bytes</th>\n",
       "      <th>land</th>\n",
       "      <th>wrong_fragment</th>\n",
       "      <th>urgent</th>\n",
       "      <th>hot</th>\n",
       "      <th>...</th>\n",
       "      <th>dst_host_same_srv_rate</th>\n",
       "      <th>dst_host_diff_srv_rate</th>\n",
       "      <th>dst_host_same_src_port_rate</th>\n",
       "      <th>dst_host_srv_diff_host_rate</th>\n",
       "      <th>dst_host_serror_rate</th>\n",
       "      <th>dst_host_srv_serror_rate</th>\n",
       "      <th>dst_host_rerror_rate</th>\n",
       "      <th>dst_host_srv_rerror_rate</th>\n",
       "      <th>outcome</th>\n",
       "      <th>difficulty</th>\n",
       "    </tr>\n",
       "  </thead>\n",
       "  <tbody>\n",
       "    <tr>\n",
       "      <th>0</th>\n",
       "      <td>0</td>\n",
       "      <td>tcp</td>\n",
       "      <td>private</td>\n",
       "      <td>REJ</td>\n",
       "      <td>0</td>\n",
       "      <td>0</td>\n",
       "      <td>0</td>\n",
       "      <td>0</td>\n",
       "      <td>0</td>\n",
       "      <td>0</td>\n",
       "      <td>...</td>\n",
       "      <td>0.04</td>\n",
       "      <td>0.06</td>\n",
       "      <td>0.00</td>\n",
       "      <td>0.00</td>\n",
       "      <td>0.0</td>\n",
       "      <td>0.0</td>\n",
       "      <td>1.00</td>\n",
       "      <td>1.00</td>\n",
       "      <td>neptune</td>\n",
       "      <td>21</td>\n",
       "    </tr>\n",
       "    <tr>\n",
       "      <th>1</th>\n",
       "      <td>0</td>\n",
       "      <td>tcp</td>\n",
       "      <td>private</td>\n",
       "      <td>REJ</td>\n",
       "      <td>0</td>\n",
       "      <td>0</td>\n",
       "      <td>0</td>\n",
       "      <td>0</td>\n",
       "      <td>0</td>\n",
       "      <td>0</td>\n",
       "      <td>...</td>\n",
       "      <td>0.00</td>\n",
       "      <td>0.06</td>\n",
       "      <td>0.00</td>\n",
       "      <td>0.00</td>\n",
       "      <td>0.0</td>\n",
       "      <td>0.0</td>\n",
       "      <td>1.00</td>\n",
       "      <td>1.00</td>\n",
       "      <td>neptune</td>\n",
       "      <td>21</td>\n",
       "    </tr>\n",
       "    <tr>\n",
       "      <th>2</th>\n",
       "      <td>2</td>\n",
       "      <td>tcp</td>\n",
       "      <td>ftp_data</td>\n",
       "      <td>SF</td>\n",
       "      <td>12983</td>\n",
       "      <td>0</td>\n",
       "      <td>0</td>\n",
       "      <td>0</td>\n",
       "      <td>0</td>\n",
       "      <td>0</td>\n",
       "      <td>...</td>\n",
       "      <td>0.61</td>\n",
       "      <td>0.04</td>\n",
       "      <td>0.61</td>\n",
       "      <td>0.02</td>\n",
       "      <td>0.0</td>\n",
       "      <td>0.0</td>\n",
       "      <td>0.00</td>\n",
       "      <td>0.00</td>\n",
       "      <td>normal</td>\n",
       "      <td>21</td>\n",
       "    </tr>\n",
       "    <tr>\n",
       "      <th>3</th>\n",
       "      <td>0</td>\n",
       "      <td>icmp</td>\n",
       "      <td>eco_i</td>\n",
       "      <td>SF</td>\n",
       "      <td>20</td>\n",
       "      <td>0</td>\n",
       "      <td>0</td>\n",
       "      <td>0</td>\n",
       "      <td>0</td>\n",
       "      <td>0</td>\n",
       "      <td>...</td>\n",
       "      <td>1.00</td>\n",
       "      <td>0.00</td>\n",
       "      <td>1.00</td>\n",
       "      <td>0.28</td>\n",
       "      <td>0.0</td>\n",
       "      <td>0.0</td>\n",
       "      <td>0.00</td>\n",
       "      <td>0.00</td>\n",
       "      <td>saint</td>\n",
       "      <td>15</td>\n",
       "    </tr>\n",
       "    <tr>\n",
       "      <th>4</th>\n",
       "      <td>1</td>\n",
       "      <td>tcp</td>\n",
       "      <td>telnet</td>\n",
       "      <td>RSTO</td>\n",
       "      <td>0</td>\n",
       "      <td>15</td>\n",
       "      <td>0</td>\n",
       "      <td>0</td>\n",
       "      <td>0</td>\n",
       "      <td>0</td>\n",
       "      <td>...</td>\n",
       "      <td>0.31</td>\n",
       "      <td>0.17</td>\n",
       "      <td>0.03</td>\n",
       "      <td>0.02</td>\n",
       "      <td>0.0</td>\n",
       "      <td>0.0</td>\n",
       "      <td>0.83</td>\n",
       "      <td>0.71</td>\n",
       "      <td>mscan</td>\n",
       "      <td>11</td>\n",
       "    </tr>\n",
       "  </tbody>\n",
       "</table>\n",
       "<p>5 rows × 43 columns</p>\n",
       "</div>"
      ],
      "text/plain": [
       "   duration protocol_type   service  flag  src_bytes  dst_bytes  land  \\\n",
       "0         0           tcp   private   REJ          0          0     0   \n",
       "1         0           tcp   private   REJ          0          0     0   \n",
       "2         2           tcp  ftp_data    SF      12983          0     0   \n",
       "3         0          icmp     eco_i    SF         20          0     0   \n",
       "4         1           tcp    telnet  RSTO          0         15     0   \n",
       "\n",
       "   wrong_fragment  urgent  hot  ...  dst_host_same_srv_rate  \\\n",
       "0               0       0    0  ...                    0.04   \n",
       "1               0       0    0  ...                    0.00   \n",
       "2               0       0    0  ...                    0.61   \n",
       "3               0       0    0  ...                    1.00   \n",
       "4               0       0    0  ...                    0.31   \n",
       "\n",
       "   dst_host_diff_srv_rate  dst_host_same_src_port_rate  \\\n",
       "0                    0.06                         0.00   \n",
       "1                    0.06                         0.00   \n",
       "2                    0.04                         0.61   \n",
       "3                    0.00                         1.00   \n",
       "4                    0.17                         0.03   \n",
       "\n",
       "   dst_host_srv_diff_host_rate  dst_host_serror_rate  \\\n",
       "0                         0.00                   0.0   \n",
       "1                         0.00                   0.0   \n",
       "2                         0.02                   0.0   \n",
       "3                         0.28                   0.0   \n",
       "4                         0.02                   0.0   \n",
       "\n",
       "   dst_host_srv_serror_rate  dst_host_rerror_rate  dst_host_srv_rerror_rate  \\\n",
       "0                       0.0                  1.00                      1.00   \n",
       "1                       0.0                  1.00                      1.00   \n",
       "2                       0.0                  0.00                      0.00   \n",
       "3                       0.0                  0.00                      0.00   \n",
       "4                       0.0                  0.83                      0.71   \n",
       "\n",
       "   outcome  difficulty  \n",
       "0  neptune          21  \n",
       "1  neptune          21  \n",
       "2   normal          21  \n",
       "3    saint          15  \n",
       "4    mscan          11  \n",
       "\n",
       "[5 rows x 43 columns]"
      ]
     },
     "execution_count": 10,
     "metadata": {},
     "output_type": "execute_result"
    }
   ],
   "source": [
    "df_test.head()"
   ]
  },
  {
   "cell_type": "code",
   "execution_count": 11,
   "metadata": {},
   "outputs": [
    {
     "name": "stdout",
     "output_type": "stream",
     "text": [
      "<class 'pandas.core.frame.DataFrame'>\n",
      "RangeIndex: 125973 entries, 0 to 125972\n",
      "Data columns (total 43 columns):\n",
      " #   Column                       Non-Null Count   Dtype  \n",
      "---  ------                       --------------   -----  \n",
      " 0   duration                     125973 non-null  int64  \n",
      " 1   protocol_type                125973 non-null  object \n",
      " 2   service                      125973 non-null  object \n",
      " 3   flag                         125973 non-null  object \n",
      " 4   src_bytes                    125973 non-null  int64  \n",
      " 5   dst_bytes                    125973 non-null  int64  \n",
      " 6   land                         125973 non-null  int64  \n",
      " 7   wrong_fragment               125973 non-null  int64  \n",
      " 8   urgent                       125973 non-null  int64  \n",
      " 9   hot                          125973 non-null  int64  \n",
      " 10  num_failed_logins            125973 non-null  int64  \n",
      " 11  logged_in                    125973 non-null  int64  \n",
      " 12  num_compromised              125973 non-null  int64  \n",
      " 13  root_shell                   125973 non-null  int64  \n",
      " 14  su_attempted                 125973 non-null  int64  \n",
      " 15  num_root                     125973 non-null  int64  \n",
      " 16  num_file_creations           125973 non-null  int64  \n",
      " 17  num_shells                   125973 non-null  int64  \n",
      " 18  num_access_files             125973 non-null  int64  \n",
      " 19  num_outbound_cmds            125973 non-null  int64  \n",
      " 20  is_host_login                125973 non-null  int64  \n",
      " 21  is_guest_login               125973 non-null  int64  \n",
      " 22  count                        125973 non-null  int64  \n",
      " 23  srv_count                    125973 non-null  int64  \n",
      " 24  serror_rate                  125973 non-null  float64\n",
      " 25  srv_serror_rate              125973 non-null  float64\n",
      " 26  rerror_rate                  125973 non-null  float64\n",
      " 27  srv_rerror_rate              125973 non-null  float64\n",
      " 28  same_srv_rate                125973 non-null  float64\n",
      " 29  diff_srv_rate                125973 non-null  float64\n",
      " 30  srv_diff_host_rate           125973 non-null  float64\n",
      " 31  dst_host_count               125973 non-null  int64  \n",
      " 32  dst_host_srv_count           125973 non-null  int64  \n",
      " 33  dst_host_same_srv_rate       125973 non-null  float64\n",
      " 34  dst_host_diff_srv_rate       125973 non-null  float64\n",
      " 35  dst_host_same_src_port_rate  125973 non-null  float64\n",
      " 36  dst_host_srv_diff_host_rate  125973 non-null  float64\n",
      " 37  dst_host_serror_rate         125973 non-null  float64\n",
      " 38  dst_host_srv_serror_rate     125973 non-null  float64\n",
      " 39  dst_host_rerror_rate         125973 non-null  float64\n",
      " 40  dst_host_srv_rerror_rate     125973 non-null  float64\n",
      " 41  outcome                      125973 non-null  object \n",
      " 42  difficulty                   125973 non-null  int64  \n",
      "dtypes: float64(15), int64(24), object(4)\n",
      "memory usage: 41.3+ MB\n",
      "None\n"
     ]
    }
   ],
   "source": [
    "print(df_train.info())"
   ]
  },
  {
   "cell_type": "code",
   "execution_count": 12,
   "metadata": {},
   "outputs": [
    {
     "data": {
      "text/html": [
       "<div>\n",
       "<style scoped>\n",
       "    .dataframe tbody tr th:only-of-type {\n",
       "        vertical-align: middle;\n",
       "    }\n",
       "\n",
       "    .dataframe tbody tr th {\n",
       "        vertical-align: top;\n",
       "    }\n",
       "\n",
       "    .dataframe thead th {\n",
       "        text-align: right;\n",
       "    }\n",
       "</style>\n",
       "<table border=\"1\" class=\"dataframe\">\n",
       "  <thead>\n",
       "    <tr style=\"text-align: right;\">\n",
       "      <th></th>\n",
       "      <th>duration</th>\n",
       "      <th>src_bytes</th>\n",
       "      <th>dst_bytes</th>\n",
       "      <th>land</th>\n",
       "      <th>wrong_fragment</th>\n",
       "      <th>urgent</th>\n",
       "      <th>hot</th>\n",
       "      <th>num_failed_logins</th>\n",
       "      <th>logged_in</th>\n",
       "      <th>num_compromised</th>\n",
       "      <th>...</th>\n",
       "      <th>dst_host_srv_count</th>\n",
       "      <th>dst_host_same_srv_rate</th>\n",
       "      <th>dst_host_diff_srv_rate</th>\n",
       "      <th>dst_host_same_src_port_rate</th>\n",
       "      <th>dst_host_srv_diff_host_rate</th>\n",
       "      <th>dst_host_serror_rate</th>\n",
       "      <th>dst_host_srv_serror_rate</th>\n",
       "      <th>dst_host_rerror_rate</th>\n",
       "      <th>dst_host_srv_rerror_rate</th>\n",
       "      <th>difficulty</th>\n",
       "    </tr>\n",
       "  </thead>\n",
       "  <tbody>\n",
       "    <tr>\n",
       "      <th>count</th>\n",
       "      <td>125973.00000</td>\n",
       "      <td>1.259730e+05</td>\n",
       "      <td>1.259730e+05</td>\n",
       "      <td>125973.000000</td>\n",
       "      <td>125973.000000</td>\n",
       "      <td>125973.000000</td>\n",
       "      <td>125973.000000</td>\n",
       "      <td>125973.000000</td>\n",
       "      <td>125973.000000</td>\n",
       "      <td>125973.000000</td>\n",
       "      <td>...</td>\n",
       "      <td>125973.000000</td>\n",
       "      <td>125973.000000</td>\n",
       "      <td>125973.000000</td>\n",
       "      <td>125973.000000</td>\n",
       "      <td>125973.000000</td>\n",
       "      <td>125973.000000</td>\n",
       "      <td>125973.000000</td>\n",
       "      <td>125973.000000</td>\n",
       "      <td>125973.000000</td>\n",
       "      <td>125973.000000</td>\n",
       "    </tr>\n",
       "    <tr>\n",
       "      <th>mean</th>\n",
       "      <td>287.14465</td>\n",
       "      <td>4.556674e+04</td>\n",
       "      <td>1.977911e+04</td>\n",
       "      <td>0.000198</td>\n",
       "      <td>0.022687</td>\n",
       "      <td>0.000111</td>\n",
       "      <td>0.204409</td>\n",
       "      <td>0.001222</td>\n",
       "      <td>0.395736</td>\n",
       "      <td>0.279250</td>\n",
       "      <td>...</td>\n",
       "      <td>115.653005</td>\n",
       "      <td>0.521242</td>\n",
       "      <td>0.082951</td>\n",
       "      <td>0.148379</td>\n",
       "      <td>0.032542</td>\n",
       "      <td>0.284452</td>\n",
       "      <td>0.278485</td>\n",
       "      <td>0.118832</td>\n",
       "      <td>0.120240</td>\n",
       "      <td>19.504060</td>\n",
       "    </tr>\n",
       "    <tr>\n",
       "      <th>std</th>\n",
       "      <td>2604.51531</td>\n",
       "      <td>5.870331e+06</td>\n",
       "      <td>4.021269e+06</td>\n",
       "      <td>0.014086</td>\n",
       "      <td>0.253530</td>\n",
       "      <td>0.014366</td>\n",
       "      <td>2.149968</td>\n",
       "      <td>0.045239</td>\n",
       "      <td>0.489010</td>\n",
       "      <td>23.942042</td>\n",
       "      <td>...</td>\n",
       "      <td>110.702741</td>\n",
       "      <td>0.448949</td>\n",
       "      <td>0.188922</td>\n",
       "      <td>0.308997</td>\n",
       "      <td>0.112564</td>\n",
       "      <td>0.444784</td>\n",
       "      <td>0.445669</td>\n",
       "      <td>0.306557</td>\n",
       "      <td>0.319459</td>\n",
       "      <td>2.291503</td>\n",
       "    </tr>\n",
       "    <tr>\n",
       "      <th>min</th>\n",
       "      <td>0.00000</td>\n",
       "      <td>0.000000e+00</td>\n",
       "      <td>0.000000e+00</td>\n",
       "      <td>0.000000</td>\n",
       "      <td>0.000000</td>\n",
       "      <td>0.000000</td>\n",
       "      <td>0.000000</td>\n",
       "      <td>0.000000</td>\n",
       "      <td>0.000000</td>\n",
       "      <td>0.000000</td>\n",
       "      <td>...</td>\n",
       "      <td>0.000000</td>\n",
       "      <td>0.000000</td>\n",
       "      <td>0.000000</td>\n",
       "      <td>0.000000</td>\n",
       "      <td>0.000000</td>\n",
       "      <td>0.000000</td>\n",
       "      <td>0.000000</td>\n",
       "      <td>0.000000</td>\n",
       "      <td>0.000000</td>\n",
       "      <td>0.000000</td>\n",
       "    </tr>\n",
       "    <tr>\n",
       "      <th>25%</th>\n",
       "      <td>0.00000</td>\n",
       "      <td>0.000000e+00</td>\n",
       "      <td>0.000000e+00</td>\n",
       "      <td>0.000000</td>\n",
       "      <td>0.000000</td>\n",
       "      <td>0.000000</td>\n",
       "      <td>0.000000</td>\n",
       "      <td>0.000000</td>\n",
       "      <td>0.000000</td>\n",
       "      <td>0.000000</td>\n",
       "      <td>...</td>\n",
       "      <td>10.000000</td>\n",
       "      <td>0.050000</td>\n",
       "      <td>0.000000</td>\n",
       "      <td>0.000000</td>\n",
       "      <td>0.000000</td>\n",
       "      <td>0.000000</td>\n",
       "      <td>0.000000</td>\n",
       "      <td>0.000000</td>\n",
       "      <td>0.000000</td>\n",
       "      <td>18.000000</td>\n",
       "    </tr>\n",
       "    <tr>\n",
       "      <th>50%</th>\n",
       "      <td>0.00000</td>\n",
       "      <td>4.400000e+01</td>\n",
       "      <td>0.000000e+00</td>\n",
       "      <td>0.000000</td>\n",
       "      <td>0.000000</td>\n",
       "      <td>0.000000</td>\n",
       "      <td>0.000000</td>\n",
       "      <td>0.000000</td>\n",
       "      <td>0.000000</td>\n",
       "      <td>0.000000</td>\n",
       "      <td>...</td>\n",
       "      <td>63.000000</td>\n",
       "      <td>0.510000</td>\n",
       "      <td>0.020000</td>\n",
       "      <td>0.000000</td>\n",
       "      <td>0.000000</td>\n",
       "      <td>0.000000</td>\n",
       "      <td>0.000000</td>\n",
       "      <td>0.000000</td>\n",
       "      <td>0.000000</td>\n",
       "      <td>20.000000</td>\n",
       "    </tr>\n",
       "    <tr>\n",
       "      <th>75%</th>\n",
       "      <td>0.00000</td>\n",
       "      <td>2.760000e+02</td>\n",
       "      <td>5.160000e+02</td>\n",
       "      <td>0.000000</td>\n",
       "      <td>0.000000</td>\n",
       "      <td>0.000000</td>\n",
       "      <td>0.000000</td>\n",
       "      <td>0.000000</td>\n",
       "      <td>1.000000</td>\n",
       "      <td>0.000000</td>\n",
       "      <td>...</td>\n",
       "      <td>255.000000</td>\n",
       "      <td>1.000000</td>\n",
       "      <td>0.070000</td>\n",
       "      <td>0.060000</td>\n",
       "      <td>0.020000</td>\n",
       "      <td>1.000000</td>\n",
       "      <td>1.000000</td>\n",
       "      <td>0.000000</td>\n",
       "      <td>0.000000</td>\n",
       "      <td>21.000000</td>\n",
       "    </tr>\n",
       "    <tr>\n",
       "      <th>max</th>\n",
       "      <td>42908.00000</td>\n",
       "      <td>1.379964e+09</td>\n",
       "      <td>1.309937e+09</td>\n",
       "      <td>1.000000</td>\n",
       "      <td>3.000000</td>\n",
       "      <td>3.000000</td>\n",
       "      <td>77.000000</td>\n",
       "      <td>5.000000</td>\n",
       "      <td>1.000000</td>\n",
       "      <td>7479.000000</td>\n",
       "      <td>...</td>\n",
       "      <td>255.000000</td>\n",
       "      <td>1.000000</td>\n",
       "      <td>1.000000</td>\n",
       "      <td>1.000000</td>\n",
       "      <td>1.000000</td>\n",
       "      <td>1.000000</td>\n",
       "      <td>1.000000</td>\n",
       "      <td>1.000000</td>\n",
       "      <td>1.000000</td>\n",
       "      <td>21.000000</td>\n",
       "    </tr>\n",
       "  </tbody>\n",
       "</table>\n",
       "<p>8 rows × 39 columns</p>\n",
       "</div>"
      ],
      "text/plain": [
       "           duration     src_bytes     dst_bytes           land  \\\n",
       "count  125973.00000  1.259730e+05  1.259730e+05  125973.000000   \n",
       "mean      287.14465  4.556674e+04  1.977911e+04       0.000198   \n",
       "std      2604.51531  5.870331e+06  4.021269e+06       0.014086   \n",
       "min         0.00000  0.000000e+00  0.000000e+00       0.000000   \n",
       "25%         0.00000  0.000000e+00  0.000000e+00       0.000000   \n",
       "50%         0.00000  4.400000e+01  0.000000e+00       0.000000   \n",
       "75%         0.00000  2.760000e+02  5.160000e+02       0.000000   \n",
       "max     42908.00000  1.379964e+09  1.309937e+09       1.000000   \n",
       "\n",
       "       wrong_fragment         urgent            hot  num_failed_logins  \\\n",
       "count   125973.000000  125973.000000  125973.000000      125973.000000   \n",
       "mean         0.022687       0.000111       0.204409           0.001222   \n",
       "std          0.253530       0.014366       2.149968           0.045239   \n",
       "min          0.000000       0.000000       0.000000           0.000000   \n",
       "25%          0.000000       0.000000       0.000000           0.000000   \n",
       "50%          0.000000       0.000000       0.000000           0.000000   \n",
       "75%          0.000000       0.000000       0.000000           0.000000   \n",
       "max          3.000000       3.000000      77.000000           5.000000   \n",
       "\n",
       "           logged_in  num_compromised  ...  dst_host_srv_count  \\\n",
       "count  125973.000000    125973.000000  ...       125973.000000   \n",
       "mean        0.395736         0.279250  ...          115.653005   \n",
       "std         0.489010        23.942042  ...          110.702741   \n",
       "min         0.000000         0.000000  ...            0.000000   \n",
       "25%         0.000000         0.000000  ...           10.000000   \n",
       "50%         0.000000         0.000000  ...           63.000000   \n",
       "75%         1.000000         0.000000  ...          255.000000   \n",
       "max         1.000000      7479.000000  ...          255.000000   \n",
       "\n",
       "       dst_host_same_srv_rate  dst_host_diff_srv_rate  \\\n",
       "count           125973.000000           125973.000000   \n",
       "mean                 0.521242                0.082951   \n",
       "std                  0.448949                0.188922   \n",
       "min                  0.000000                0.000000   \n",
       "25%                  0.050000                0.000000   \n",
       "50%                  0.510000                0.020000   \n",
       "75%                  1.000000                0.070000   \n",
       "max                  1.000000                1.000000   \n",
       "\n",
       "       dst_host_same_src_port_rate  dst_host_srv_diff_host_rate  \\\n",
       "count                125973.000000                125973.000000   \n",
       "mean                      0.148379                     0.032542   \n",
       "std                       0.308997                     0.112564   \n",
       "min                       0.000000                     0.000000   \n",
       "25%                       0.000000                     0.000000   \n",
       "50%                       0.000000                     0.000000   \n",
       "75%                       0.060000                     0.020000   \n",
       "max                       1.000000                     1.000000   \n",
       "\n",
       "       dst_host_serror_rate  dst_host_srv_serror_rate  dst_host_rerror_rate  \\\n",
       "count         125973.000000             125973.000000         125973.000000   \n",
       "mean               0.284452                  0.278485              0.118832   \n",
       "std                0.444784                  0.445669              0.306557   \n",
       "min                0.000000                  0.000000              0.000000   \n",
       "25%                0.000000                  0.000000              0.000000   \n",
       "50%                0.000000                  0.000000              0.000000   \n",
       "75%                1.000000                  1.000000              0.000000   \n",
       "max                1.000000                  1.000000              1.000000   \n",
       "\n",
       "       dst_host_srv_rerror_rate     difficulty  \n",
       "count             125973.000000  125973.000000  \n",
       "mean                   0.120240      19.504060  \n",
       "std                    0.319459       2.291503  \n",
       "min                    0.000000       0.000000  \n",
       "25%                    0.000000      18.000000  \n",
       "50%                    0.000000      20.000000  \n",
       "75%                    0.000000      21.000000  \n",
       "max                    1.000000      21.000000  \n",
       "\n",
       "[8 rows x 39 columns]"
      ]
     },
     "execution_count": 12,
     "metadata": {},
     "output_type": "execute_result"
    }
   ],
   "source": [
    "df_train.describe()"
   ]
  },
  {
   "cell_type": "code",
   "execution_count": 13,
   "metadata": {},
   "outputs": [
    {
     "data": {
      "text/plain": [
       "<AxesSubplot:ylabel='Frequency'>"
      ]
     },
     "execution_count": 13,
     "metadata": {},
     "output_type": "execute_result"
    },
    {
     "data": {
      "image/png": "[encoded data removed]",
      "text/plain": [
       "<Figure size 432x288 with 1 Axes>"
      ]
     },
     "metadata": {},
     "output_type": "display_data"
    }
   ],
   "source": [
    "df_train.dst_host_srv_count.plot(kind='hist')"
   ]
  },
  {
   "cell_type": "code",
   "execution_count": 14,
   "metadata": {},
   "outputs": [
    {
     "data": {
      "text/plain": [
       "0.00     32\n",
       "2.00      2\n",
       "0.09      1\n",
       "18.00     1\n",
       "82.00     1\n",
       "10.00     1\n",
       "0.05      1\n",
       "Name: 25%, dtype: int64"
      ]
     },
     "execution_count": 14,
     "metadata": {},
     "output_type": "execute_result"
    }
   ],
   "source": [
    "df_train.describe().loc['25%',:].value_counts()"
   ]
  },
  {
   "cell_type": "code",
   "execution_count": 15,
   "metadata": {},
   "outputs": [
    {
     "data": {
      "text/plain": [
       "0.00      21\n",
       "1.00       7\n",
       "255.00     2\n",
       "0.06       2\n",
       "21.00      1\n",
       "0.07       1\n",
       "18.00      1\n",
       "0.02       1\n",
       "276.00     1\n",
       "516.00     1\n",
       "143.00     1\n",
       "Name: 75%, dtype: int64"
      ]
     },
     "execution_count": 15,
     "metadata": {},
     "output_type": "execute_result"
    }
   ],
   "source": [
    "df_train.describe().loc['75%',:].value_counts()"
   ]
  },
  {
   "cell_type": "code",
   "execution_count": 16,
   "metadata": {},
   "outputs": [
    {
     "name": "stdout",
     "output_type": "stream",
     "text": [
      "Index(['protocol_type', 'service', 'flag', 'outcome'], dtype='object')\n"
     ]
    }
   ],
   "source": [
    "df_obj_col = df_train.select_dtypes(include='object').columns\n",
    "print(df_obj_col)"
   ]
  },
  {
   "cell_type": "code",
   "execution_count": 17,
   "metadata": {},
   "outputs": [
    {
     "name": "stdout",
     "output_type": "stream",
     "text": [
      "numbers of protocol_type: 3\n",
      "number of 'service' in train datasets: 70\n",
      "number of 'flag' in train datasets: 11\n"
     ]
    }
   ],
   "source": [
    "print(f\"numbers of protocol_type: {len(df_train['protocol_type'].value_counts())}\")\n",
    "print(f\"number of 'service' in train datasets: {len(df_train.service.value_counts())}\")\n",
    "print(f\"number of 'flag' in train datasets: {len(df_train['flag'].value_counts())}\")"
   ]
  },
  {
   "cell_type": "code",
   "execution_count": 18,
   "metadata": {},
   "outputs": [
    {
     "data": {
      "image/png": "[encoded data removed]",
      "text/plain": [
       "<Figure size 432x288 with 1 Axes>"
      ]
     },
     "metadata": {},
     "output_type": "display_data"
    }
   ],
   "source": [
    "df_train[\"protocol_type\"].value_counts().plot(kind='bar', label='protocol type')\n",
    "plt.legend()\n",
    "plt.show()"
   ]
  },
  {
   "cell_type": "code",
   "execution_count": 19,
   "metadata": {},
   "outputs": [
    {
     "data": {
      "image/png": "[encoded data removed]",
      "text/plain": [
       "<Figure size 432x288 with 1 Axes>"
      ]
     },
     "metadata": {},
     "output_type": "display_data"
    }
   ],
   "source": [
    "df_test['service'].value_counts().head(10).plot(kind='bar', color='red', label='test')\n",
    "plt.legend()\n",
    "plt.show()"
   ]
  },
  {
   "cell_type": "code",
   "execution_count": null,
   "metadata": {},
   "outputs": [],
   "source": []
  },
  {
   "cell_type": "code",
   "execution_count": 20,
   "metadata": {
    "scrolled": true
   },
   "outputs": [],
   "source": [
    "new_df = pd.concat([df_test['service'].value_counts(), df_train['service'].value_counts()], axis=1)\n",
    "# new_df.rename(columns={'service':'KDDTest+', 'service':'KDDTrain+'}, inplace=True)\n",
    "new_df.columns=['KDDTest+', 'KDDTrain+']\n"
   ]
  },
  {
   "cell_type": "code",
   "execution_count": 21,
   "metadata": {},
   "outputs": [
    {
     "data": {
      "text/html": [
       "<div>\n",
       "<style scoped>\n",
       "    .dataframe tbody tr th:only-of-type {\n",
       "        vertical-align: middle;\n",
       "    }\n",
       "\n",
       "    .dataframe tbody tr th {\n",
       "        vertical-align: top;\n",
       "    }\n",
       "\n",
       "    .dataframe thead th {\n",
       "        text-align: right;\n",
       "    }\n",
       "</style>\n",
       "<table border=\"1\" class=\"dataframe\">\n",
       "  <thead>\n",
       "    <tr style=\"text-align: right;\">\n",
       "      <th></th>\n",
       "      <th>KDDTest+</th>\n",
       "      <th>KDDTrain+</th>\n",
       "    </tr>\n",
       "  </thead>\n",
       "  <tbody>\n",
       "    <tr>\n",
       "      <th>http</th>\n",
       "      <td>7853.0</td>\n",
       "      <td>40338</td>\n",
       "    </tr>\n",
       "    <tr>\n",
       "      <th>private</th>\n",
       "      <td>4774.0</td>\n",
       "      <td>21853</td>\n",
       "    </tr>\n",
       "    <tr>\n",
       "      <th>telnet</th>\n",
       "      <td>1626.0</td>\n",
       "      <td>2353</td>\n",
       "    </tr>\n",
       "    <tr>\n",
       "      <th>pop_3</th>\n",
       "      <td>1019.0</td>\n",
       "      <td>264</td>\n",
       "    </tr>\n",
       "    <tr>\n",
       "      <th>smtp</th>\n",
       "      <td>934.0</td>\n",
       "      <td>7313</td>\n",
       "    </tr>\n",
       "    <tr>\n",
       "      <th>domain_u</th>\n",
       "      <td>894.0</td>\n",
       "      <td>9043</td>\n",
       "    </tr>\n",
       "    <tr>\n",
       "      <th>ftp_data</th>\n",
       "      <td>851.0</td>\n",
       "      <td>6860</td>\n",
       "    </tr>\n",
       "    <tr>\n",
       "      <th>other</th>\n",
       "      <td>838.0</td>\n",
       "      <td>4359</td>\n",
       "    </tr>\n",
       "    <tr>\n",
       "      <th>ecr_i</th>\n",
       "      <td>752.0</td>\n",
       "      <td>3077</td>\n",
       "    </tr>\n",
       "    <tr>\n",
       "      <th>ftp</th>\n",
       "      <td>692.0</td>\n",
       "      <td>1754</td>\n",
       "    </tr>\n",
       "  </tbody>\n",
       "</table>\n",
       "</div>"
      ],
      "text/plain": [
       "          KDDTest+  KDDTrain+\n",
       "http        7853.0      40338\n",
       "private     4774.0      21853\n",
       "telnet      1626.0       2353\n",
       "pop_3       1019.0        264\n",
       "smtp         934.0       7313\n",
       "domain_u     894.0       9043\n",
       "ftp_data     851.0       6860\n",
       "other        838.0       4359\n",
       "ecr_i        752.0       3077\n",
       "ftp          692.0       1754"
      ]
     },
     "execution_count": 21,
     "metadata": {},
     "output_type": "execute_result"
    }
   ],
   "source": [
    "new_df.sort_values(by='KDDTest+', ascending=False).head(10)"
   ]
  },
  {
   "cell_type": "code",
   "execution_count": 22,
   "metadata": {},
   "outputs": [
    {
     "data": {
      "text/html": [
       "<div>\n",
       "<style scoped>\n",
       "    .dataframe tbody tr th:only-of-type {\n",
       "        vertical-align: middle;\n",
       "    }\n",
       "\n",
       "    .dataframe tbody tr th {\n",
       "        vertical-align: top;\n",
       "    }\n",
       "\n",
       "    .dataframe thead th {\n",
       "        text-align: right;\n",
       "    }\n",
       "</style>\n",
       "<table border=\"1\" class=\"dataframe\">\n",
       "  <thead>\n",
       "    <tr style=\"text-align: right;\">\n",
       "      <th></th>\n",
       "      <th>KDDTest+</th>\n",
       "      <th>KDDTrain+</th>\n",
       "    </tr>\n",
       "  </thead>\n",
       "  <tbody>\n",
       "    <tr>\n",
       "      <th>http</th>\n",
       "      <td>7853.0</td>\n",
       "      <td>40338</td>\n",
       "    </tr>\n",
       "    <tr>\n",
       "      <th>private</th>\n",
       "      <td>4774.0</td>\n",
       "      <td>21853</td>\n",
       "    </tr>\n",
       "    <tr>\n",
       "      <th>domain_u</th>\n",
       "      <td>894.0</td>\n",
       "      <td>9043</td>\n",
       "    </tr>\n",
       "    <tr>\n",
       "      <th>smtp</th>\n",
       "      <td>934.0</td>\n",
       "      <td>7313</td>\n",
       "    </tr>\n",
       "    <tr>\n",
       "      <th>ftp_data</th>\n",
       "      <td>851.0</td>\n",
       "      <td>6860</td>\n",
       "    </tr>\n",
       "    <tr>\n",
       "      <th>eco_i</th>\n",
       "      <td>262.0</td>\n",
       "      <td>4586</td>\n",
       "    </tr>\n",
       "    <tr>\n",
       "      <th>other</th>\n",
       "      <td>838.0</td>\n",
       "      <td>4359</td>\n",
       "    </tr>\n",
       "    <tr>\n",
       "      <th>ecr_i</th>\n",
       "      <td>752.0</td>\n",
       "      <td>3077</td>\n",
       "    </tr>\n",
       "    <tr>\n",
       "      <th>telnet</th>\n",
       "      <td>1626.0</td>\n",
       "      <td>2353</td>\n",
       "    </tr>\n",
       "    <tr>\n",
       "      <th>finger</th>\n",
       "      <td>136.0</td>\n",
       "      <td>1767</td>\n",
       "    </tr>\n",
       "  </tbody>\n",
       "</table>\n",
       "</div>"
      ],
      "text/plain": [
       "          KDDTest+  KDDTrain+\n",
       "http        7853.0      40338\n",
       "private     4774.0      21853\n",
       "domain_u     894.0       9043\n",
       "smtp         934.0       7313\n",
       "ftp_data     851.0       6860\n",
       "eco_i        262.0       4586\n",
       "other        838.0       4359\n",
       "ecr_i        752.0       3077\n",
       "telnet      1626.0       2353\n",
       "finger       136.0       1767"
      ]
     },
     "execution_count": 22,
     "metadata": {},
     "output_type": "execute_result"
    }
   ],
   "source": [
    "new_df.sort_values(by='KDDTrain+', ascending=False).head(10)"
   ]
  },
  {
   "cell_type": "code",
   "execution_count": 23,
   "metadata": {},
   "outputs": [
    {
     "data": {
      "text/plain": [
       "http         40338\n",
       "private      21853\n",
       "domain_u      9043\n",
       "smtp          7313\n",
       "ftp_data      6860\n",
       "             ...  \n",
       "tftp_u           3\n",
       "http_8001        2\n",
       "aol              2\n",
       "harvest          2\n",
       "http_2784        1\n",
       "Name: service, Length: 70, dtype: int64"
      ]
     },
     "execution_count": 23,
     "metadata": {},
     "output_type": "execute_result"
    }
   ],
   "source": [
    "df_train['service'].value_counts()"
   ]
  },
  {
   "cell_type": "code",
   "execution_count": 26,
   "metadata": {},
   "outputs": [
    {
     "data": {
      "image/png": "[encoded data removed]",
      "text/plain": [
       "<Figure size 432x288 with 1 Axes>"
      ]
     },
     "metadata": {},
     "output_type": "display_data"
    }
   ],
   "source": [
    "\n",
    "ax = pd.concat([df_test['service'].value_counts().head(10),df_train['service'].value_counts().head(10)],axis=1).plot(kind='bar')\n",
    "ax.spines['top'].set_visible(False)\n",
    "ax.spines['right'].set_visible(False)\n",
    "plt.legend(['KDDTest+', 'KDDTrain+'])\n",
    "plt.show()"
   ]
  },
  {
   "cell_type": "code",
   "execution_count": 27,
   "metadata": {},
   "outputs": [
    {
     "data": {
      "text/plain": [
       "http        7853\n",
       "private     4774\n",
       "telnet      1626\n",
       "pop_3       1019\n",
       "smtp         934\n",
       "domain_u     894\n",
       "ftp_data     851\n",
       "other        838\n",
       "ecr_i        752\n",
       "ftp          692\n",
       "Name: service, dtype: int64"
      ]
     },
     "execution_count": 27,
     "metadata": {},
     "output_type": "execute_result"
    }
   ],
   "source": [
    "df_test['service'].value_counts().head(10)"
   ]
  },
  {
   "cell_type": "code",
   "execution_count": 28,
   "metadata": {},
   "outputs": [],
   "source": [
    "test_top10 = df_test['service'].value_counts().head(10)\n",
    "train_top10 = df_train['service'].value_counts().head(10)"
   ]
  },
  {
   "cell_type": "code",
   "execution_count": 29,
   "metadata": {},
   "outputs": [
    {
     "data": {
      "text/plain": [
       "http        7853\n",
       "private     4774\n",
       "telnet      1626\n",
       "pop_3       1019\n",
       "smtp         934\n",
       "domain_u     894\n",
       "ftp_data     851\n",
       "other        838\n",
       "ecr_i        752\n",
       "ftp          692\n",
       "Name: service, dtype: int64"
      ]
     },
     "execution_count": 29,
     "metadata": {},
     "output_type": "execute_result"
    }
   ],
   "source": [
    "test_top10"
   ]
  },
  {
   "cell_type": "code",
   "execution_count": 30,
   "metadata": {},
   "outputs": [
    {
     "data": {
      "image/png": "[encoded data removed]",
      "text/plain": [
       "<Figure size 432x288 with 1 Axes>"
      ]
     },
     "metadata": {},
     "output_type": "display_data"
    }
   ],
   "source": [
    "fig, ax = plt.subplots()\n",
    "plt.rcParams['axes.unicode_minus']=False\n",
    "plt.barh(train_top10.index, -train_top10)\n",
    "plt.barh(test_top10.index, test_top10)\n",
    "\n",
    "# df_train['service'].value_counts().head(10).plot(kind='barh', ax=ax1)\n",
    "ax.spines['top'].set_visible(False)\n",
    "ax.spines['right'].set_visible(False)\n",
    "plt.legend(['KDDTrain+','KDDTest+'])\n",
    "plt.show()"
   ]
  },
  {
   "cell_type": "code",
   "execution_count": 32,
   "metadata": {},
   "outputs": [
    {
     "data": {
      "image/png": "[encoded data removed]",
      "text/plain": [
       "<Figure size 432x288 with 1 Axes>"
      ]
     },
     "metadata": {},
     "output_type": "display_data"
    }
   ],
   "source": [
    "import matplotlib.pyplot as plt  \n",
    "  \n",
    "name_list = ['Monday','Tuesday','Friday','Sunday']  \n",
    "num_list = [1.5,0.6,7.8,6]  \n",
    "plt.barh(range(len(num_list)), num_list,tick_label = name_list)  \n",
    "plt.show() "
   ]
  },
  {
   "cell_type": "code",
   "execution_count": 33,
   "metadata": {},
   "outputs": [],
   "source": [
    "# plt.barh(df_test['service'].value_counts().head(10), width=8)\n",
    "# plt.show()"
   ]
  },
  {
   "cell_type": "code",
   "execution_count": 34,
   "metadata": {},
   "outputs": [
    {
     "data": {
      "text/plain": [
       "http        7853\n",
       "private     4774\n",
       "telnet      1626\n",
       "pop_3       1019\n",
       "smtp         934\n",
       "domain_u     894\n",
       "ftp_data     851\n",
       "other        838\n",
       "ecr_i        752\n",
       "ftp          692\n",
       "Name: service, dtype: int64"
      ]
     },
     "execution_count": 34,
     "metadata": {},
     "output_type": "execute_result"
    }
   ],
   "source": [
    "df_test['service'].value_counts().head(10)"
   ]
  },
  {
   "cell_type": "code",
   "execution_count": 35,
   "metadata": {},
   "outputs": [
    {
     "data": {
      "text/plain": [
       "http        40338\n",
       "private     21853\n",
       "domain_u     9043\n",
       "smtp         7313\n",
       "ftp_data     6860\n",
       "eco_i        4586\n",
       "other        4359\n",
       "ecr_i        3077\n",
       "telnet       2353\n",
       "finger       1767\n",
       "Name: service, dtype: int64"
      ]
     },
     "execution_count": 35,
     "metadata": {},
     "output_type": "execute_result"
    }
   ],
   "source": [
    "df_train['service'].value_counts().head(10)"
   ]
  },
  {
   "cell_type": "code",
   "execution_count": 36,
   "metadata": {},
   "outputs": [
    {
     "data": {
      "text/plain": [
       "http        40338\n",
       "private     21853\n",
       "domain_u     9043\n",
       "smtp         7313\n",
       "ftp_data     6860\n",
       "eco_i        4586\n",
       "other        4359\n",
       "ecr_i        3077\n",
       "telnet       2353\n",
       "finger       1767\n",
       "Name: service, dtype: int64"
      ]
     },
     "execution_count": 36,
     "metadata": {},
     "output_type": "execute_result"
    }
   ],
   "source": [
    "df_train['service'].value_counts().head(10)"
   ]
  },
  {
   "cell_type": "code",
   "execution_count": null,
   "metadata": {},
   "outputs": [],
   "source": []
  },
  {
   "cell_type": "code",
   "execution_count": 37,
   "metadata": {},
   "outputs": [
    {
     "data": {
      "image/png": "[encoded data removed]",
      "text/plain": [
       "<Figure size 432x288 with 1 Axes>"
      ]
     },
     "metadata": {},
     "output_type": "display_data"
    }
   ],
   "source": [
    "df_train[\"flag\"].value_counts().plot(kind='bar')\n",
    "plt.legend()\n",
    "plt.show()"
   ]
  },
  {
   "cell_type": "code",
   "execution_count": 38,
   "metadata": {},
   "outputs": [
    {
     "data": {
      "image/png": "[encoded data removed]",
      "text/plain": [
       "<Figure size 1296x360 with 3 Axes>"
      ]
     },
     "metadata": {},
     "output_type": "display_data"
    }
   ],
   "source": [
    "plt.figure(figsize=(18, 5))\n",
    "plt.subplot(131)\n",
    "df_train[\"protocol_type\"].value_counts().plot(kind='bar', label='protocol type')\n",
    "plt.legend()\n",
    "plt.subplot(132)\n",
    "df_train['service'].value_counts().head(10).plot(kind='bar')\n",
    "plt.legend()\n",
    "plt.subplot(133)\n",
    "df_train[\"flag\"].value_counts().plot(kind='bar')\n",
    "plt.legend()\n",
    "plt.show()"
   ]
  },
  {
   "cell_type": "code",
   "execution_count": 39,
   "metadata": {},
   "outputs": [],
   "source": [
    "df_train['label'] = np.where(df_train['outcome'].str.contains('normal'), 0, 1)\n",
    "df_test['label'] = np.where(df_test['outcome'].str.contains('normal'), 0, 1)"
   ]
  },
  {
   "cell_type": "code",
   "execution_count": null,
   "metadata": {},
   "outputs": [],
   "source": []
  },
  {
   "cell_type": "code",
   "execution_count": null,
   "metadata": {},
   "outputs": [],
   "source": []
  },
  {
   "cell_type": "code",
   "execution_count": null,
   "metadata": {},
   "outputs": [],
   "source": []
  },
  {
   "cell_type": "markdown",
   "metadata": {},
   "source": [
    "## Data preprocessing"
   ]
  },
  {
   "cell_type": "markdown",
   "metadata": {},
   "source": [
    "First, we divided the features to two groups: numeric features and category features."
   ]
  },
  {
   "cell_type": "code",
   "execution_count": 40,
   "metadata": {},
   "outputs": [
    {
     "name": "stdout",
     "output_type": "stream",
     "text": [
      "shape of numeric features: (125973, 38)\n",
      "shape of object features: (125973, 3)\n"
     ]
    }
   ],
   "source": [
    "df_train_obj = df_train.iloc[:, :-3].select_dtypes(include='object')\n",
    "df_train_num = df_train.iloc[:, :-3].select_dtypes(exclude='object')\n",
    "\n",
    "print(f\"shape of numeric features: {df_train_num.shape}\")\n",
    "print(f\"shape of object features: {df_train_obj.shape}\")"
   ]
  },
  {
   "cell_type": "code",
   "execution_count": 41,
   "metadata": {},
   "outputs": [
    {
     "name": "stdout",
     "output_type": "stream",
     "text": [
      "shape of numeric features: (22544, 38)\n",
      "shape of object features: (22544, 3)\n"
     ]
    }
   ],
   "source": [
    "df_test_obj = df_test.iloc[:, :-3].select_dtypes(include='object')\n",
    "df_test_num = df_test.iloc[:, :-3].select_dtypes(exclude='object')\n",
    "\n",
    "print(f\"shape of numeric features: {df_test_num.shape}\")\n",
    "print(f\"shape of object features: {df_test_obj.shape}\")"
   ]
  },
  {
   "cell_type": "code",
   "execution_count": 42,
   "metadata": {},
   "outputs": [],
   "source": [
    "from sklearn.preprocessing import MinMaxScaler, StandardScaler, OneHotEncoder, OrdinalEncoder, RobustScaler\n",
    "enc = OneHotEncoder(handle_unknown='ignore')\n",
    "X_train_enc = enc.fit_transform(df_train_obj)\n",
    "X_train = np.c_[df_train_num, X_train_enc.toarray()][df_train.outcome == 'normal']\n",
    "# scaler = StandardScaler()\n",
    "# scaler.fit_transform(X_train)\n",
    "X_test_enc = enc.transform(df_test_obj)\n",
    "X_test_normal = np.c_[df_test_num, X_test_enc.toarray()][df_test.outcome == 'normal']\n",
    "X_test_abnormal = np.c_[df_test_num, X_test_enc.toarray()][df_test.outcome != 'normal']"
   ]
  },
  {
   "cell_type": "code",
   "execution_count": 43,
   "metadata": {},
   "outputs": [],
   "source": [
    "X_test = np.c_[df_test_num, X_test_enc.toarray()]\n",
    "y_test = df_test['label']"
   ]
  },
  {
   "cell_type": "code",
   "execution_count": 44,
   "metadata": {},
   "outputs": [
    {
     "data": {
      "text/html": [
       "<div>\n",
       "<style scoped>\n",
       "    .dataframe tbody tr th:only-of-type {\n",
       "        vertical-align: middle;\n",
       "    }\n",
       "\n",
       "    .dataframe tbody tr th {\n",
       "        vertical-align: top;\n",
       "    }\n",
       "\n",
       "    .dataframe thead th {\n",
       "        text-align: right;\n",
       "    }\n",
       "</style>\n",
       "<table border=\"1\" class=\"dataframe\">\n",
       "  <thead>\n",
       "    <tr style=\"text-align: right;\">\n",
       "      <th></th>\n",
       "      <th>0</th>\n",
       "      <th>1</th>\n",
       "      <th>2</th>\n",
       "      <th>3</th>\n",
       "      <th>4</th>\n",
       "      <th>5</th>\n",
       "      <th>6</th>\n",
       "      <th>7</th>\n",
       "      <th>8</th>\n",
       "      <th>9</th>\n",
       "      <th>...</th>\n",
       "      <th>112</th>\n",
       "      <th>113</th>\n",
       "      <th>114</th>\n",
       "      <th>115</th>\n",
       "      <th>116</th>\n",
       "      <th>117</th>\n",
       "      <th>118</th>\n",
       "      <th>119</th>\n",
       "      <th>120</th>\n",
       "      <th>121</th>\n",
       "    </tr>\n",
       "  </thead>\n",
       "  <tbody>\n",
       "    <tr>\n",
       "      <th>count</th>\n",
       "      <td>67343.000000</td>\n",
       "      <td>6.734300e+04</td>\n",
       "      <td>6.734300e+04</td>\n",
       "      <td>67343.000000</td>\n",
       "      <td>67343.0</td>\n",
       "      <td>67343.000000</td>\n",
       "      <td>67343.000000</td>\n",
       "      <td>67343.000000</td>\n",
       "      <td>67343.000000</td>\n",
       "      <td>67343.000000</td>\n",
       "      <td>...</td>\n",
       "      <td>67343.000000</td>\n",
       "      <td>67343.000000</td>\n",
       "      <td>67343.0</td>\n",
       "      <td>67343.000000</td>\n",
       "      <td>67343.000000</td>\n",
       "      <td>67343.000000</td>\n",
       "      <td>67343.000000</td>\n",
       "      <td>67343.000000</td>\n",
       "      <td>67343.000000</td>\n",
       "      <td>67343.00000</td>\n",
       "    </tr>\n",
       "    <tr>\n",
       "      <th>mean</th>\n",
       "      <td>168.587396</td>\n",
       "      <td>1.313328e+04</td>\n",
       "      <td>4.329685e+03</td>\n",
       "      <td>0.000104</td>\n",
       "      <td>0.0</td>\n",
       "      <td>0.000148</td>\n",
       "      <td>0.230655</td>\n",
       "      <td>0.001381</td>\n",
       "      <td>0.710646</td>\n",
       "      <td>0.507076</td>\n",
       "      <td>...</td>\n",
       "      <td>0.039989</td>\n",
       "      <td>0.003252</td>\n",
       "      <td>0.0</td>\n",
       "      <td>0.002168</td>\n",
       "      <td>0.005257</td>\n",
       "      <td>0.005361</td>\n",
       "      <td>0.001767</td>\n",
       "      <td>0.000668</td>\n",
       "      <td>0.941345</td>\n",
       "      <td>0.00003</td>\n",
       "    </tr>\n",
       "    <tr>\n",
       "      <th>std</th>\n",
       "      <td>1304.452127</td>\n",
       "      <td>4.181131e+05</td>\n",
       "      <td>6.546282e+04</td>\n",
       "      <td>0.010195</td>\n",
       "      <td>0.0</td>\n",
       "      <td>0.017233</td>\n",
       "      <td>2.308336</td>\n",
       "      <td>0.049480</td>\n",
       "      <td>0.453466</td>\n",
       "      <td>32.743321</td>\n",
       "      <td>...</td>\n",
       "      <td>0.195936</td>\n",
       "      <td>0.056934</td>\n",
       "      <td>0.0</td>\n",
       "      <td>0.046512</td>\n",
       "      <td>0.072313</td>\n",
       "      <td>0.073020</td>\n",
       "      <td>0.042000</td>\n",
       "      <td>0.025842</td>\n",
       "      <td>0.234979</td>\n",
       "      <td>0.00545</td>\n",
       "    </tr>\n",
       "    <tr>\n",
       "      <th>min</th>\n",
       "      <td>0.000000</td>\n",
       "      <td>0.000000e+00</td>\n",
       "      <td>0.000000e+00</td>\n",
       "      <td>0.000000</td>\n",
       "      <td>0.0</td>\n",
       "      <td>0.000000</td>\n",
       "      <td>0.000000</td>\n",
       "      <td>0.000000</td>\n",
       "      <td>0.000000</td>\n",
       "      <td>0.000000</td>\n",
       "      <td>...</td>\n",
       "      <td>0.000000</td>\n",
       "      <td>0.000000</td>\n",
       "      <td>0.0</td>\n",
       "      <td>0.000000</td>\n",
       "      <td>0.000000</td>\n",
       "      <td>0.000000</td>\n",
       "      <td>0.000000</td>\n",
       "      <td>0.000000</td>\n",
       "      <td>0.000000</td>\n",
       "      <td>0.00000</td>\n",
       "    </tr>\n",
       "    <tr>\n",
       "      <th>25%</th>\n",
       "      <td>0.000000</td>\n",
       "      <td>1.290000e+02</td>\n",
       "      <td>1.050000e+02</td>\n",
       "      <td>0.000000</td>\n",
       "      <td>0.0</td>\n",
       "      <td>0.000000</td>\n",
       "      <td>0.000000</td>\n",
       "      <td>0.000000</td>\n",
       "      <td>0.000000</td>\n",
       "      <td>0.000000</td>\n",
       "      <td>...</td>\n",
       "      <td>0.000000</td>\n",
       "      <td>0.000000</td>\n",
       "      <td>0.0</td>\n",
       "      <td>0.000000</td>\n",
       "      <td>0.000000</td>\n",
       "      <td>0.000000</td>\n",
       "      <td>0.000000</td>\n",
       "      <td>0.000000</td>\n",
       "      <td>1.000000</td>\n",
       "      <td>0.00000</td>\n",
       "    </tr>\n",
       "    <tr>\n",
       "      <th>50%</th>\n",
       "      <td>0.000000</td>\n",
       "      <td>2.330000e+02</td>\n",
       "      <td>3.790000e+02</td>\n",
       "      <td>0.000000</td>\n",
       "      <td>0.0</td>\n",
       "      <td>0.000000</td>\n",
       "      <td>0.000000</td>\n",
       "      <td>0.000000</td>\n",
       "      <td>1.000000</td>\n",
       "      <td>0.000000</td>\n",
       "      <td>...</td>\n",
       "      <td>0.000000</td>\n",
       "      <td>0.000000</td>\n",
       "      <td>0.0</td>\n",
       "      <td>0.000000</td>\n",
       "      <td>0.000000</td>\n",
       "      <td>0.000000</td>\n",
       "      <td>0.000000</td>\n",
       "      <td>0.000000</td>\n",
       "      <td>1.000000</td>\n",
       "      <td>0.00000</td>\n",
       "    </tr>\n",
       "    <tr>\n",
       "      <th>75%</th>\n",
       "      <td>0.000000</td>\n",
       "      <td>3.240000e+02</td>\n",
       "      <td>2.056000e+03</td>\n",
       "      <td>0.000000</td>\n",
       "      <td>0.0</td>\n",
       "      <td>0.000000</td>\n",
       "      <td>0.000000</td>\n",
       "      <td>0.000000</td>\n",
       "      <td>1.000000</td>\n",
       "      <td>0.000000</td>\n",
       "      <td>...</td>\n",
       "      <td>0.000000</td>\n",
       "      <td>0.000000</td>\n",
       "      <td>0.0</td>\n",
       "      <td>0.000000</td>\n",
       "      <td>0.000000</td>\n",
       "      <td>0.000000</td>\n",
       "      <td>0.000000</td>\n",
       "      <td>0.000000</td>\n",
       "      <td>1.000000</td>\n",
       "      <td>0.00000</td>\n",
       "    </tr>\n",
       "    <tr>\n",
       "      <th>max</th>\n",
       "      <td>40504.000000</td>\n",
       "      <td>8.958152e+07</td>\n",
       "      <td>7.028652e+06</td>\n",
       "      <td>1.000000</td>\n",
       "      <td>0.0</td>\n",
       "      <td>3.000000</td>\n",
       "      <td>77.000000</td>\n",
       "      <td>4.000000</td>\n",
       "      <td>1.000000</td>\n",
       "      <td>7479.000000</td>\n",
       "      <td>...</td>\n",
       "      <td>1.000000</td>\n",
       "      <td>1.000000</td>\n",
       "      <td>0.0</td>\n",
       "      <td>1.000000</td>\n",
       "      <td>1.000000</td>\n",
       "      <td>1.000000</td>\n",
       "      <td>1.000000</td>\n",
       "      <td>1.000000</td>\n",
       "      <td>1.000000</td>\n",
       "      <td>1.00000</td>\n",
       "    </tr>\n",
       "  </tbody>\n",
       "</table>\n",
       "<p>8 rows × 122 columns</p>\n",
       "</div>"
      ],
      "text/plain": [
       "                0             1             2             3        4    \\\n",
       "count  67343.000000  6.734300e+04  6.734300e+04  67343.000000  67343.0   \n",
       "mean     168.587396  1.313328e+04  4.329685e+03      0.000104      0.0   \n",
       "std     1304.452127  4.181131e+05  6.546282e+04      0.010195      0.0   \n",
       "min        0.000000  0.000000e+00  0.000000e+00      0.000000      0.0   \n",
       "25%        0.000000  1.290000e+02  1.050000e+02      0.000000      0.0   \n",
       "50%        0.000000  2.330000e+02  3.790000e+02      0.000000      0.0   \n",
       "75%        0.000000  3.240000e+02  2.056000e+03      0.000000      0.0   \n",
       "max    40504.000000  8.958152e+07  7.028652e+06      1.000000      0.0   \n",
       "\n",
       "                5             6             7             8             9    \\\n",
       "count  67343.000000  67343.000000  67343.000000  67343.000000  67343.000000   \n",
       "mean       0.000148      0.230655      0.001381      0.710646      0.507076   \n",
       "std        0.017233      2.308336      0.049480      0.453466     32.743321   \n",
       "min        0.000000      0.000000      0.000000      0.000000      0.000000   \n",
       "25%        0.000000      0.000000      0.000000      0.000000      0.000000   \n",
       "50%        0.000000      0.000000      0.000000      1.000000      0.000000   \n",
       "75%        0.000000      0.000000      0.000000      1.000000      0.000000   \n",
       "max        3.000000     77.000000      4.000000      1.000000   7479.000000   \n",
       "\n",
       "       ...           112           113      114           115           116  \\\n",
       "count  ...  67343.000000  67343.000000  67343.0  67343.000000  67343.000000   \n",
       "mean   ...      0.039989      0.003252      0.0      0.002168      0.005257   \n",
       "std    ...      0.195936      0.056934      0.0      0.046512      0.072313   \n",
       "min    ...      0.000000      0.000000      0.0      0.000000      0.000000   \n",
       "25%    ...      0.000000      0.000000      0.0      0.000000      0.000000   \n",
       "50%    ...      0.000000      0.000000      0.0      0.000000      0.000000   \n",
       "75%    ...      0.000000      0.000000      0.0      0.000000      0.000000   \n",
       "max    ...      1.000000      1.000000      0.0      1.000000      1.000000   \n",
       "\n",
       "                117           118           119           120          121  \n",
       "count  67343.000000  67343.000000  67343.000000  67343.000000  67343.00000  \n",
       "mean       0.005361      0.001767      0.000668      0.941345      0.00003  \n",
       "std        0.073020      0.042000      0.025842      0.234979      0.00545  \n",
       "min        0.000000      0.000000      0.000000      0.000000      0.00000  \n",
       "25%        0.000000      0.000000      0.000000      1.000000      0.00000  \n",
       "50%        0.000000      0.000000      0.000000      1.000000      0.00000  \n",
       "75%        0.000000      0.000000      0.000000      1.000000      0.00000  \n",
       "max        1.000000      1.000000      1.000000      1.000000      1.00000  \n",
       "\n",
       "[8 rows x 122 columns]"
      ]
     },
     "execution_count": 44,
     "metadata": {},
     "output_type": "execute_result"
    }
   ],
   "source": [
    "pd.DataFrame(X_train).describe()"
   ]
  },
  {
   "cell_type": "code",
   "execution_count": 45,
   "metadata": {},
   "outputs": [
    {
     "name": "stdout",
     "output_type": "stream",
     "text": [
      "shape of X_train: (67343, 122)\n",
      "shape of X_test_normal: (9711, 122)\n",
      "shape of X_test_abnormal: (12833, 122)\n"
     ]
    }
   ],
   "source": [
    "print(f\"shape of X_train: {X_train.shape}\")\n",
    "print(f\"shape of X_test_normal: {X_test_normal.shape}\")\n",
    "print(f\"shape of X_test_abnormal: {X_test_abnormal.shape}\")"
   ]
  },
  {
   "cell_type": "code",
   "execution_count": 46,
   "metadata": {},
   "outputs": [],
   "source": [
    "from sklearn.preprocessing import RobustScaler, MinMaxScaler\n",
    "# scaler = RobustScaler()\n",
    "scaler = MinMaxScaler()\n",
    "X_train_scaled = scaler.fit_transform(X_train)\n",
    "X_test_normal_scaled = scaler.transform(X_test_normal)\n",
    "X_test_abnormal_scaled = scaler.transform(X_test_abnormal)\n"
   ]
  },
  {
   "cell_type": "code",
   "execution_count": null,
   "metadata": {},
   "outputs": [],
   "source": []
  },
  {
   "cell_type": "code",
   "execution_count": null,
   "metadata": {},
   "outputs": [],
   "source": [
    "from sklearn.manifold import TSNE\n",
    "X_train_all = np.c_[df_train_num, X_train_enc.toarray()]\n",
    "X_embedded = TSNE(n_components=2, random_state=42).fit_transform(X=X_train_all)\n",
    "X_embedded.shape"
   ]
  },
  {
   "cell_type": "code",
   "execution_count": null,
   "metadata": {},
   "outputs": [],
   "source": [
    "X_embedded_normal = X_embedded[np.where(df_train['label']==0)]\n",
    "X_embedded_abnormal = X_embedded[np.where(df_train['label']==1)]\n",
    "fig, ax = plt.subplots(figsize=(8,8))\n",
    "ax.scatter(*zip(*X_embedded_normal), c='g', s=2, alpha=0.7, label='normal')\n",
    "ax.scatter(*zip(*X_embedded_abnormal), c='r', s=2, alpha=0.7, label='abnormal')\n",
    "plt.legend()\n",
    "plt.show()"
   ]
  },
  {
   "cell_type": "code",
   "execution_count": null,
   "metadata": {},
   "outputs": [],
   "source": [
    "X_embedded_normal"
   ]
  },
  {
   "cell_type": "code",
   "execution_count": null,
   "metadata": {},
   "outputs": [],
   "source": []
  },
  {
   "cell_type": "code",
   "execution_count": null,
   "metadata": {},
   "outputs": [],
   "source": []
  },
  {
   "cell_type": "code",
   "execution_count": null,
   "metadata": {},
   "outputs": [],
   "source": []
  },
  {
   "cell_type": "markdown",
   "metadata": {},
   "source": [
    "# Building model and train the model"
   ]
  },
  {
   "cell_type": "code",
   "execution_count": 163,
   "metadata": {},
   "outputs": [
    {
     "name": "stdout",
     "output_type": "stream",
     "text": [
      "input shape: 122\n"
     ]
    }
   ],
   "source": [
    "from keras.models import Model, Sequential\n",
    "from keras.layers import Dense\n",
    "from keras import Input\n",
    "from keras.callbacks import EarlyStopping\n",
    "callback = EarlyStopping(patience=3, mode='min')\n",
    "\n",
    "input_shape = X_train_scaled.shape[1]\n",
    "print(f\"input shape: {input_shape}\")\n",
    "encoding_dim = 5\n",
    "autoencoder = Sequential([\n",
    "    Dense(32, activation='relu', input_shape=(input_shape, )),\n",
    "    Dense(encoding_dim, activation='relu'),  \n",
    "    Dense(32, activation='relu', input_shape=(encoding_dim,)),\n",
    "    Dense(input_shape)\n",
    "])\n",
    "autoencoder.compile(loss='mse', optimizer='Adam')"
   ]
  },
  {
   "cell_type": "code",
   "execution_count": 165,
   "metadata": {},
   "outputs": [
    {
     "name": "stdout",
     "output_type": "stream",
     "text": [
      "Model: \"sequential_1\"\n",
      "_________________________________________________________________\n",
      "Layer (type)                 Output Shape              Param #   \n",
      "=================================================================\n",
      "dense_1 (Dense)              (None, 32)                3936      \n",
      "_________________________________________________________________\n",
      "dense_2 (Dense)              (None, 5)                 165       \n",
      "_________________________________________________________________\n",
      "dense_3 (Dense)              (None, 32)                192       \n",
      "_________________________________________________________________\n",
      "dense_4 (Dense)              (None, 122)               4026      \n",
      "=================================================================\n",
      "Total params: 8,319\n",
      "Trainable params: 8,319\n",
      "Non-trainable params: 0\n",
      "_________________________________________________________________\n"
     ]
    },
    {
     "data": {
      "image/png": "[encoded data removed]",
      "text/plain": [
       "<IPython.core.display.Image object>"
      ]
     },
     "execution_count": 165,
     "metadata": {},
     "output_type": "execute_result"
    }
   ],
   "source": [
    "from keras.utils.vis_utils import plot_model\n",
    "autoencoder.summary()\n",
    "plot_model(autoencoder, to_file='autoencoder_model_plot.png', show_shapes=True, show_layer_names=True)"
   ]
  },
  {
   "cell_type": "code",
   "execution_count": 20,
   "metadata": {},
   "outputs": [
    {
     "name": "stdout",
     "output_type": "stream",
     "text": [
      "input shape: 122\n"
     ]
    }
   ],
   "source": [
    "from keras.models import Model, Sequential\n",
    "from keras.layers import Dense\n",
    "from keras import Input\n",
    "from keras.callbacks import EarlyStopping\n",
    "callback = EarlyStopping(patience=3, mode='min')\n",
    "\n",
    "input_shape = X_train_scaled.shape[1]\n",
    "print(f\"input shape: {input_shape}\")\n",
    "encoding_dim = 5\n",
    "encoder = Sequential([\n",
    "    Dense(32, activation='relu', input_shape=(input_shape, )),\n",
    "    Dense(encoding_dim, activation='relu')\n",
    "])\n",
    "decoder = Sequential([\n",
    "    Dense(32, activation='relu', input_shape=(encoding_dim,)),\n",
    "    Dense(input_shape)\n",
    "])\n",
    "\n",
    "autoencoder = Sequential([encoder, decoder])\n",
    "autoencoder.compile(loss='mse', optimizer='Adam')"
   ]
  },
  {
   "cell_type": "code",
   "execution_count": 21,
   "metadata": {},
   "outputs": [
    {
     "name": "stdout",
     "output_type": "stream",
     "text": [
      "Model: \"sequential_1\"\n",
      "_________________________________________________________________\n",
      "Layer (type)                 Output Shape              Param #   \n",
      "=================================================================\n",
      "dense_1 (Dense)              (None, 32)                3936      \n",
      "_________________________________________________________________\n",
      "dense_2 (Dense)              (None, 5)                 165       \n",
      "=================================================================\n",
      "Total params: 4,101\n",
      "Trainable params: 4,101\n",
      "Non-trainable params: 0\n",
      "_________________________________________________________________\n",
      "None\n",
      "\n",
      "###########################################\n",
      "\n",
      "Model: \"sequential_2\"\n",
      "_________________________________________________________________\n",
      "Layer (type)                 Output Shape              Param #   \n",
      "=================================================================\n",
      "dense_3 (Dense)              (None, 32)                192       \n",
      "_________________________________________________________________\n",
      "dense_4 (Dense)              (None, 122)               4026      \n",
      "=================================================================\n",
      "Total params: 4,218\n",
      "Trainable params: 4,218\n",
      "Non-trainable params: 0\n",
      "_________________________________________________________________\n",
      "None\n",
      "\n",
      "###########################################\n",
      "\n",
      "Model: \"sequential_3\"\n",
      "_________________________________________________________________\n",
      "Layer (type)                 Output Shape              Param #   \n",
      "=================================================================\n",
      "sequential_1 (Sequential)    (None, 5)                 4101      \n",
      "_________________________________________________________________\n",
      "sequential_2 (Sequential)    (None, 122)               4218      \n",
      "=================================================================\n",
      "Total params: 8,319\n",
      "Trainable params: 8,319\n",
      "Non-trainable params: 0\n",
      "_________________________________________________________________\n",
      "None\n"
     ]
    }
   ],
   "source": [
    "print(encoder.summary())\n",
    "print(\"\\n###########################################\\n\")\n",
    "print(decoder.summary())\n",
    "print(\"\\n###########################################\\n\")\n",
    "print(autoencoder.summary())"
   ]
  },
  {
   "cell_type": "code",
   "execution_count": 22,
   "metadata": {},
   "outputs": [
    {
     "name": "stdout",
     "output_type": "stream",
     "text": [
      "Train on 53874 samples, validate on 13469 samples\n",
      "Epoch 1/20\n",
      "53874/53874 [==============================] - 8s 151us/step - loss: 0.0063 - val_loss: 0.0029\n",
      "Epoch 2/20\n",
      "53874/53874 [==============================] - 7s 126us/step - loss: 0.0025 - val_loss: 0.0022\n",
      "Epoch 3/20\n",
      "53874/53874 [==============================] - 6s 120us/step - loss: 0.0021 - val_loss: 0.0020\n",
      "Epoch 4/20\n",
      "53874/53874 [==============================] - 7s 122us/step - loss: 0.0019 - val_loss: 0.0019\n",
      "Epoch 5/20\n",
      "53874/53874 [==============================] - 7s 128us/step - loss: 0.0018 - val_loss: 0.0018\n",
      "Epoch 6/20\n",
      "53874/53874 [==============================] - 7s 123us/step - loss: 0.0017 - val_loss: 0.0017\n",
      "Epoch 7/20\n",
      "53874/53874 [==============================] - 7s 121us/step - loss: 0.0016 - val_loss: 0.0016\n",
      "Epoch 8/20\n",
      "53874/53874 [==============================] - 7s 122us/step - loss: 0.0016 - val_loss: 0.0015\n",
      "Epoch 9/20\n",
      "53874/53874 [==============================] - 7s 122us/step - loss: 0.0015 - val_loss: 0.0015\n",
      "Epoch 10/20\n",
      "53874/53874 [==============================] - 7s 123us/step - loss: 0.0015 - val_loss: 0.0014\n",
      "Epoch 11/20\n",
      "53874/53874 [==============================] - 7s 124us/step - loss: 0.0014 - val_loss: 0.0014\n",
      "Epoch 12/20\n",
      "53874/53874 [==============================] - 7s 124us/step - loss: 0.0014 - val_loss: 0.0014\n",
      "Epoch 13/20\n",
      "53874/53874 [==============================] - 7s 121us/step - loss: 0.0014 - val_loss: 0.0013\n",
      "Epoch 14/20\n",
      "53874/53874 [==============================] - 7s 123us/step - loss: 0.0013 - val_loss: 0.0013\n",
      "Epoch 15/20\n",
      "53874/53874 [==============================] - 7s 131us/step - loss: 0.0013 - val_loss: 0.0013\n",
      "Epoch 16/20\n",
      "53874/53874 [==============================] - 7s 128us/step - loss: 0.0013 - val_loss: 0.0013\n",
      "Epoch 17/20\n",
      "53874/53874 [==============================] - 7s 121us/step - loss: 0.0013 - val_loss: 0.0013\n",
      "Epoch 18/20\n",
      "53874/53874 [==============================] - 6s 121us/step - loss: 0.0012 - val_loss: 0.0012\n",
      "Epoch 19/20\n",
      "53874/53874 [==============================] - 7s 122us/step - loss: 0.0012 - val_loss: 0.0012\n",
      "Epoch 20/20\n",
      "53874/53874 [==============================] - 7s 124us/step - loss: 0.0012 - val_loss: 0.0012\n"
     ]
    }
   ],
   "source": [
    "history = autoencoder.fit(X_train_scaled, X_train_scaled, epochs=20, validation_split=0.2, callbacks=[callback])\n"
   ]
  },
  {
   "cell_type": "code",
   "execution_count": 111,
   "metadata": {},
   "outputs": [
    {
     "data": {
      "image/png": "[encoded data removed]",
      "text/plain": [
       "<Figure size 576x432 with 1 Axes>"
      ]
     },
     "metadata": {
      "needs_background": "light"
     },
     "output_type": "display_data"
    }
   ],
   "source": [
    "pd.DataFrame(history.history).plot(kind='line', xlabel='epoches', figsize=(8, 6))\n",
    "plt.show()"
   ]
  },
  {
   "cell_type": "markdown",
   "metadata": {},
   "source": [
    "# Detecting anomalies with RMSE"
   ]
  },
  {
   "cell_type": "code",
   "execution_count": 24,
   "metadata": {},
   "outputs": [],
   "source": [
    "from sklearn.metrics import mean_squared_error, mean_absolute_error\n",
    "X_train_pred = autoencoder.predict(X_train_scaled)\n",
    "rmse = mean_squared_error(X_train_scaled.T, X_train_pred.T, multioutput='raw_values', squared=False)\n",
    "mae = mean_absolute_error(X_train_scaled.T, X_train_pred.T, multioutput='raw_values')"
   ]
  },
  {
   "cell_type": "code",
   "execution_count": 25,
   "metadata": {},
   "outputs": [
    {
     "data": {
      "image/png": "[encoded data removed]",
      "text/plain": [
       "<Figure size 1008x360 with 2 Axes>"
      ]
     },
     "metadata": {
      "needs_background": "light"
     },
     "output_type": "display_data"
    }
   ],
   "source": [
    "plt.figure(figsize=(14,5))\n",
    "plt.subplot(121)\n",
    "plt.hist(rmse, bins=50, label=\"RMSE loss\")\n",
    "plt.xlabel(\"train RMSE loss\")\n",
    "plt.ylabel(\"No of samples\")\n",
    "plt.legend()\n",
    "\n",
    "plt.subplot(122)\n",
    "plt.hist(mae, bins=50, label=\"MAE loss\")\n",
    "plt.xlabel(\"train MAE loss\")\n",
    "plt.ylabel(\"No of samples\")\n",
    "plt.legend()\n",
    "\n",
    "plt.show()"
   ]
  },
  {
   "cell_type": "code",
   "execution_count": 26,
   "metadata": {
    "scrolled": true
   },
   "outputs": [
    {
     "name": "stdout",
     "output_type": "stream",
     "text": [
      "Reconstruction error RMSE threshold:  0.08028203665476981\n",
      "Reconstruction error MAE threshold:  0.027474285264036585\n"
     ]
    }
   ],
   "source": [
    "threshold_rmse = np.percentile(rmse,95)\n",
    "threshold_mae = np.percentile(mae,95)\n",
    "print(\"Reconstruction error RMSE threshold: \", threshold_rmse)\n",
    "print(\"Reconstruction error MAE threshold: \", threshold_mae)"
   ]
  },
  {
   "cell_type": "code",
   "execution_count": 27,
   "metadata": {
    "scrolled": true
   },
   "outputs": [],
   "source": [
    "X_test_normal_pred = autoencoder.predict(X_test_normal_scaled)\n",
    "rmse_test_normal = mean_squared_error(X_test_normal_scaled.T, X_test_normal_pred.T, multioutput='raw_values', squared=False)\n",
    "mae_test_normal = mean_absolute_error(X_test_normal_scaled.T, X_test_normal_pred.T, multioutput='raw_values')\n",
    "\n",
    "\n",
    "X_test_abnormal_pred = autoencoder.predict(X_test_abnormal_scaled)\n",
    "rmse_test_abnormal = mean_squared_error(X_test_abnormal_scaled.T, X_test_abnormal_pred.T, multioutput='raw_values', squared=False)\n",
    "mae_test_abnormal = mean_absolute_error(X_test_abnormal_scaled.T, X_test_abnormal_pred.T, multioutput='raw_values')\n",
    "\n",
    "\n"
   ]
  },
  {
   "cell_type": "code",
   "execution_count": 28,
   "metadata": {},
   "outputs": [
    {
     "data": {
      "image/png": "[encoded data removed]",
      "text/plain": [
       "<Figure size 1152x432 with 2 Axes>"
      ]
     },
     "metadata": {
      "needs_background": "light"
     },
     "output_type": "display_data"
    }
   ],
   "source": [
    "plt.figure(figsize=(16,6))\n",
    "plt.subplot(121)\n",
    "plt.hist(rmse_test_normal, bins=50, label=\"RMSE loss\")\n",
    "plt.axvline(x=threshold_rmse, color='r', ls='--', label='threshold')\n",
    "plt.xlabel(\"normal test dataset RMSE loss\")\n",
    "plt.ylabel(\"No of samples\")\n",
    "plt.legend()\n",
    "\n",
    "plt.subplot(122)\n",
    "plt.hist(rmse_test_abnormal, bins=50, label=\"RMSE loss\")\n",
    "plt.axvline(x=threshold_rmse, color='r', ls='--', label='threshold')\n",
    "plt.xlabel(\"abnormal test dataset RMSE loss\")\n",
    "plt.ylabel(\"No of samples\")\n",
    "plt.legend()\n",
    "\n",
    "plt.show()"
   ]
  },
  {
   "cell_type": "code",
   "execution_count": 29,
   "metadata": {},
   "outputs": [
    {
     "name": "stdout",
     "output_type": "stream",
     "text": [
      "False Positive : 892\n",
      "True Negative : 8819\n",
      "True Positive : 10767\n",
      "False Negative : 2066\n"
     ]
    },
    {
     "data": {
      "image/png": "[encoded data removed]",
      "text/plain": [
       "<Figure size 432x288 with 2 Axes>"
      ]
     },
     "metadata": {
      "needs_background": "light"
     },
     "output_type": "display_data"
    }
   ],
   "source": [
    "FP = np.sum(rmse_test_normal > threshold_rmse)\n",
    "TN = len(rmse_test_normal) - FP\n",
    "TP = np.sum(rmse_test_abnormal > threshold_rmse)\n",
    "FN = np.sum(rmse_test_abnormal <= threshold_rmse)\n",
    "\n",
    "print(f\"False Positive : {FP}\")\n",
    "print(f\"True Negative : {TN}\")\n",
    "print(f\"True Positive : {TP}\")\n",
    "print(f\"False Negative : {FN}\")\n",
    "\n",
    "ticklabels = ['Negative', 'Positive']\n",
    "confusion_matrix = [[TN, FP], [FN, TP]]\n",
    "sns.heatmap(confusion_matrix, annot=True, fmt=\"d\", xticklabels=ticklabels, yticklabels=ticklabels)\n",
    "plt.show()"
   ]
  },
  {
   "cell_type": "code",
   "execution_count": 30,
   "metadata": {},
   "outputs": [
    {
     "name": "stdout",
     "output_type": "stream",
     "text": [
      "precision = 0.9234925808388369\n",
      "recall = 0.8390088054235175\n",
      "accuracy = 0.8687899219304471\n",
      "F1 = 0.8792258696717296\n"
     ]
    }
   ],
   "source": [
    "precision = TP / (TP + FP)\n",
    "recall = TP / (TP + FN)\n",
    "print(f\"precision = {precision}\")\n",
    "print(f\"recall = {recall}\")\n",
    "\n",
    "Accuracy = (TP + TN) / (TP + TN + FP + FN)\n",
    "F1 = 2 * precision * recall / (precision + recall)\n",
    "print(f\"accuracy = {Accuracy}\")\n",
    "print(f\"F1 = {F1}\")"
   ]
  },
  {
   "cell_type": "code",
   "execution_count": null,
   "metadata": {},
   "outputs": [],
   "source": []
  },
  {
   "cell_type": "code",
   "execution_count": 31,
   "metadata": {},
   "outputs": [
    {
     "data": {
      "text/plain": [
       "<matplotlib.legend.Legend at 0x160d18bd0>"
      ]
     },
     "execution_count": 31,
     "metadata": {},
     "output_type": "execute_result"
    },
    {
     "data": {
      "image/png": "[encoded data removed]",
      "text/plain": [
       "<Figure size 1152x432 with 2 Axes>"
      ]
     },
     "metadata": {
      "needs_background": "light"
     },
     "output_type": "display_data"
    }
   ],
   "source": [
    "plt.figure(figsize=(16,6))\n",
    "plt.subplot(121)\n",
    "plt.hist(mae_test_normal, bins=50, label=\"MAE loss\")\n",
    "plt.axvline(x=threshold_mae, color='r', ls='--', label='threshold')\n",
    "plt.xlabel(\"normal test dataset MAE loss\")\n",
    "plt.ylabel(\"No of samples\")\n",
    "plt.legend()\n",
    "\n",
    "plt.subplot(122)\n",
    "plt.hist(mae_test_abnormal, bins=50, label=\"MAE loss\")\n",
    "plt.axvline(x=threshold_mae, color='r', ls='--', label='threshold')\n",
    "plt.xlabel(\"abnormal test dataset MAE loss\")\n",
    "plt.ylabel(\"No of samples\")\n",
    "plt.legend()\n"
   ]
  },
  {
   "cell_type": "markdown",
   "metadata": {},
   "source": [
    "## using MAE as estimation"
   ]
  },
  {
   "cell_type": "code",
   "execution_count": 32,
   "metadata": {},
   "outputs": [
    {
     "name": "stdout",
     "output_type": "stream",
     "text": [
      "False Positive : 873\n",
      "True Negative : 8838\n",
      "True Positive : 10595\n",
      "False Negative : 2238\n"
     ]
    },
    {
     "data": {
      "image/png": "[encoded data removed]",
      "text/plain": [
       "<Figure size 432x288 with 2 Axes>"
      ]
     },
     "metadata": {
      "needs_background": "light"
     },
     "output_type": "display_data"
    }
   ],
   "source": [
    "FP_mae = np.sum(mae_test_normal > threshold_mae)\n",
    "TN_mae = len(mae_test_normal) - FP_mae\n",
    "TP_mae = np.sum(mae_test_abnormal > threshold_mae)\n",
    "FN_mae = np.sum(mae_test_abnormal <= threshold_mae)\n",
    "\n",
    "print(f\"False Positive : {FP_mae}\")\n",
    "print(f\"True Negative : {TN_mae}\")\n",
    "print(f\"True Positive : {TP_mae}\")\n",
    "print(f\"False Negative : {FN_mae}\")\n",
    "\n",
    "confusion_matrix_mae = [[TN_mae, FP_mae], [FN_mae, TP_mae]]\n",
    "sns.heatmap(confusion_matrix_mae, annot=True, fmt=\"d\", xticklabels=ticklabels, yticklabels=ticklabels)\n",
    "plt.show()"
   ]
  },
  {
   "cell_type": "code",
   "execution_count": 33,
   "metadata": {},
   "outputs": [
    {
     "name": "stdout",
     "output_type": "stream",
     "text": [
      "precision = 0.9238751307987443\n",
      "recall = 0.8256058598924647\n",
      "accuracy = 0.8620031937544358\n",
      "F1 = 0.8719805769309904\n"
     ]
    }
   ],
   "source": [
    "precision_mae = TP_mae / (TP_mae + FP_mae)\n",
    "recall_mae = TP_mae / (TP_mae + FN_mae)\n",
    "print(f\"precision = {precision_mae}\")\n",
    "print(f\"recall = {recall_mae}\")\n",
    "Accuracy_mae = (TP_mae + TN_mae) / (TP_mae + TN_mae + FP_mae + FN_mae)\n",
    "F1_mae = 2 * precision_mae * recall_mae / (precision_mae + recall_mae)\n",
    "print(f\"accuracy = {Accuracy_mae}\")\n",
    "print(f\"F1 = {F1_mae}\")"
   ]
  },
  {
   "cell_type": "code",
   "execution_count": null,
   "metadata": {},
   "outputs": [],
   "source": []
  },
  {
   "cell_type": "code",
   "execution_count": null,
   "metadata": {},
   "outputs": [],
   "source": []
  },
  {
   "cell_type": "code",
   "execution_count": null,
   "metadata": {},
   "outputs": [],
   "source": []
  },
  {
   "cell_type": "code",
   "execution_count": null,
   "metadata": {},
   "outputs": [],
   "source": []
  },
  {
   "cell_type": "code",
   "execution_count": null,
   "metadata": {},
   "outputs": [],
   "source": []
  },
  {
   "cell_type": "markdown",
   "metadata": {},
   "source": [
    "## experiment 2: remove outliers before feeding into ML model"
   ]
  },
  {
   "cell_type": "markdown",
   "metadata": {},
   "source": [
    "### upper outliers are the main issue we need to handle, here we set 95th percentile as our upper outlier fence, any number that greater than 95th percentile will marked as outliers and remove from the dataset.  "
   ]
  },
  {
   "cell_type": "code",
   "execution_count": 47,
   "metadata": {},
   "outputs": [
    {
     "data": {
      "text/plain": [
       "(39252, 122)"
      ]
     },
     "execution_count": 47,
     "metadata": {},
     "output_type": "execute_result"
    }
   ],
   "source": [
    "outlier_fence_95 = np.percentile(X_train, 95, axis=0)\n",
    "X_train_new = X_train.copy()\n",
    "for index, fence in enumerate(outlier_fence_95):\n",
    "    boolarr = X_train_new[:,index] <= fence\n",
    "    X_train_new = X_train_new[boolarr]\n",
    "X_train_new.shape"
   ]
  },
  {
   "cell_type": "code",
   "execution_count": 48,
   "metadata": {},
   "outputs": [
    {
     "data": {
      "text/plain": [
       "491.0"
      ]
     },
     "execution_count": 48,
     "metadata": {},
     "output_type": "execute_result"
    }
   ],
   "source": [
    "X_train_new[0][1]"
   ]
  },
  {
   "cell_type": "code",
   "execution_count": 49,
   "metadata": {
    "scrolled": true
   },
   "outputs": [
    {
     "data": {
      "text/plain": [
       "(67343, 122)"
      ]
     },
     "execution_count": 49,
     "metadata": {},
     "output_type": "execute_result"
    }
   ],
   "source": [
    "X_train.shape"
   ]
  },
  {
   "cell_type": "code",
   "execution_count": 50,
   "metadata": {},
   "outputs": [],
   "source": [
    "X_v_abnormal = np.c_[df_train_num, X_train_enc.toarray()][df_train.outcome != 'normal']\n"
   ]
  },
  {
   "cell_type": "code",
   "execution_count": 51,
   "metadata": {},
   "outputs": [
    {
     "data": {
      "text/plain": [
       "array([0.00e+00, 0.00e+00, 0.00e+00, 0.00e+00, 0.00e+00, 0.00e+00,\n",
       "       0.00e+00, 0.00e+00, 0.00e+00, 0.00e+00, 0.00e+00, 0.00e+00,\n",
       "       0.00e+00, 0.00e+00, 0.00e+00, 0.00e+00, 0.00e+00, 0.00e+00,\n",
       "       0.00e+00, 9.60e+01, 1.60e+01, 1.00e+00, 1.00e+00, 0.00e+00,\n",
       "       0.00e+00, 1.70e-01, 5.00e-02, 0.00e+00, 2.55e+02, 2.00e+00,\n",
       "       1.00e-02, 6.00e-02, 0.00e+00, 0.00e+00, 1.00e+00, 1.00e+00,\n",
       "       0.00e+00, 0.00e+00, 0.00e+00, 1.00e+00, 0.00e+00, 0.00e+00,\n",
       "       0.00e+00, 0.00e+00, 0.00e+00, 0.00e+00, 0.00e+00, 0.00e+00,\n",
       "       0.00e+00, 0.00e+00, 0.00e+00, 0.00e+00, 0.00e+00, 0.00e+00,\n",
       "       0.00e+00, 0.00e+00, 0.00e+00, 0.00e+00, 0.00e+00, 0.00e+00,\n",
       "       0.00e+00, 0.00e+00, 0.00e+00, 0.00e+00, 0.00e+00, 0.00e+00,\n",
       "       0.00e+00, 0.00e+00, 0.00e+00, 0.00e+00, 0.00e+00, 0.00e+00,\n",
       "       0.00e+00, 0.00e+00, 0.00e+00, 0.00e+00, 0.00e+00, 0.00e+00,\n",
       "       0.00e+00, 1.00e+00, 0.00e+00, 0.00e+00, 0.00e+00, 0.00e+00,\n",
       "       0.00e+00, 0.00e+00, 0.00e+00, 0.00e+00, 0.00e+00, 0.00e+00,\n",
       "       0.00e+00, 0.00e+00, 0.00e+00, 0.00e+00, 0.00e+00, 0.00e+00,\n",
       "       0.00e+00, 0.00e+00, 0.00e+00, 0.00e+00, 0.00e+00, 0.00e+00,\n",
       "       0.00e+00, 0.00e+00, 0.00e+00, 0.00e+00, 0.00e+00, 0.00e+00,\n",
       "       0.00e+00, 0.00e+00, 0.00e+00, 0.00e+00, 0.00e+00, 0.00e+00,\n",
       "       0.00e+00, 0.00e+00, 1.00e+00, 0.00e+00, 0.00e+00, 0.00e+00,\n",
       "       0.00e+00, 0.00e+00])"
      ]
     },
     "execution_count": 51,
     "metadata": {},
     "output_type": "execute_result"
    }
   ],
   "source": [
    "X_v_abnormal[10]"
   ]
  },
  {
   "cell_type": "code",
   "execution_count": null,
   "metadata": {},
   "outputs": [],
   "source": [
    "from sklearn.manifold import TSNE\n",
    "X_train_all_95per = np.r_[X_train_new, X_v_abnormal]\n",
    "X_embedded_95per = TSNE(n_components=2, random_state=42).fit_transform(X=X_train_all_95per)\n",
    "X_embedded_95per.shape"
   ]
  },
  {
   "cell_type": "code",
   "execution_count": null,
   "metadata": {},
   "outputs": [],
   "source": [
    "X_embedded_95per[0:X_train_new.shape[0]].shape"
   ]
  },
  {
   "cell_type": "code",
   "execution_count": 56,
   "metadata": {},
   "outputs": [
    {
     "data": {
      "image/png": "[encoded data removed]",
      "text/plain": [
       "<Figure size 576x576 with 1 Axes>"
      ]
     },
     "metadata": {
      "needs_background": "light"
     },
     "output_type": "display_data"
    }
   ],
   "source": [
    "X_embedded_normal_95per = X_embedded_95per[0:X_train_new.shape[0]]\n",
    "X_embedded_abnormal_95per = X_embedded_95per[X_train_new.shape[0]:]\n",
    "fig, ax = plt.subplots(figsize=(8,8))\n",
    "ax.scatter(*zip(*X_embedded_normal_95per), c='g', s=2, alpha=0.7, label='normal')\n",
    "ax.scatter(*zip(*X_embedded_abnormal_95per), c='r', s=2, alpha=0.7, label='abnormal')\n",
    "plt.legend()\n",
    "plt.show()"
   ]
  },
  {
   "cell_type": "code",
   "execution_count": null,
   "metadata": {},
   "outputs": [],
   "source": []
  },
  {
   "cell_type": "code",
   "execution_count": null,
   "metadata": {},
   "outputs": [],
   "source": []
  },
  {
   "cell_type": "code",
   "execution_count": 172,
   "metadata": {},
   "outputs": [],
   "source": [
    "from sklearn.preprocessing import RobustScaler, MinMaxScaler\n",
    "# scaler = RobustScaler()\n",
    "scaler = MinMaxScaler()\n",
    "X_train_scaled = scaler.fit_transform(X_train_new)\n",
    "X_test_normal_scaled = scaler.transform(X_test_normal)\n",
    "X_test_abnormal_scaled = scaler.transform(X_test_abnormal)\n"
   ]
  },
  {
   "cell_type": "code",
   "execution_count": 175,
   "metadata": {},
   "outputs": [
    {
     "name": "stdout",
     "output_type": "stream",
     "text": [
      "input shape: 122\n"
     ]
    }
   ],
   "source": [
    "callback = EarlyStopping(patience=3, mode='min')\n",
    "\n",
    "input_shape = X_train_scaled.shape[1]\n",
    "print(f\"input shape: {input_shape}\")\n",
    "encoding_dim = 5\n",
    "encoder = Sequential([\n",
    "    Dense(32, activation='relu', input_shape=(input_shape, )),\n",
    "    Dense(encoding_dim, activation='relu')\n",
    "])\n",
    "decoder = Sequential([\n",
    "    Dense(32, activation='relu', input_shape=(encoding_dim,)),\n",
    "    Dense(input_shape)\n",
    "])\n",
    "\n",
    "autoencoder = Sequential([encoder, decoder])\n",
    "autoencoder.compile(loss='mse', optimizer='Adam')"
   ]
  },
  {
   "cell_type": "code",
   "execution_count": 176,
   "metadata": {},
   "outputs": [
    {
     "name": "stdout",
     "output_type": "stream",
     "text": [
      "Train on 31401 samples, validate on 7851 samples\n",
      "Epoch 1/20\n",
      "31401/31401 [==============================] - 5s 156us/step - loss: 0.0058 - val_loss: 0.0019\n",
      "Epoch 2/20\n",
      "31401/31401 [==============================] - 4s 131us/step - loss: 0.0017 - val_loss: 0.0016\n",
      "Epoch 3/20\n",
      "31401/31401 [==============================] - 4s 133us/step - loss: 0.0014 - val_loss: 0.0013\n",
      "Epoch 4/20\n",
      "31401/31401 [==============================] - 4s 131us/step - loss: 0.0012 - val_loss: 0.0012\n",
      "Epoch 5/20\n",
      "31401/31401 [==============================] - 4s 131us/step - loss: 0.0010 - val_loss: 0.0010\n",
      "Epoch 6/20\n",
      "31401/31401 [==============================] - 4s 133us/step - loss: 9.4783e-04 - val_loss: 9.5089e-04\n",
      "Epoch 7/20\n",
      "31401/31401 [==============================] - 4s 132us/step - loss: 8.8873e-04 - val_loss: 8.7792e-04\n",
      "Epoch 8/20\n",
      "31401/31401 [==============================] - 4s 126us/step - loss: 8.3363e-04 - val_loss: 8.5272e-04\n",
      "Epoch 9/20\n",
      "31401/31401 [==============================] - 4s 126us/step - loss: 7.7895e-04 - val_loss: 7.6759e-04\n",
      "Epoch 10/20\n",
      "31401/31401 [==============================] - 4s 128us/step - loss: 7.3021e-04 - val_loss: 7.2360e-04\n",
      "Epoch 11/20\n",
      "31401/31401 [==============================] - 4s 129us/step - loss: 6.9325e-04 - val_loss: 6.9164e-04\n",
      "Epoch 12/20\n",
      "31401/31401 [==============================] - 4s 134us/step - loss: 6.6274e-04 - val_loss: 6.6262e-04\n",
      "Epoch 13/20\n",
      "31401/31401 [==============================] - 4s 136us/step - loss: 6.4296e-04 - val_loss: 6.5382e-04\n",
      "Epoch 14/20\n",
      "31401/31401 [==============================] - 4s 136us/step - loss: 6.2790e-04 - val_loss: 6.4291e-04\n",
      "Epoch 15/20\n",
      "31401/31401 [==============================] - 4s 137us/step - loss: 6.1583e-04 - val_loss: 6.2968e-04\n",
      "Epoch 16/20\n",
      "31401/31401 [==============================] - 4s 134us/step - loss: 6.0635e-04 - val_loss: 6.1914e-04\n",
      "Epoch 17/20\n",
      "31401/31401 [==============================] - 4s 135us/step - loss: 5.9814e-04 - val_loss: 5.9628e-04\n",
      "Epoch 18/20\n",
      "31401/31401 [==============================] - 4s 133us/step - loss: 5.8935e-04 - val_loss: 5.9223e-04\n",
      "Epoch 19/20\n",
      "31401/31401 [==============================] - 4s 134us/step - loss: 5.8370e-04 - val_loss: 6.2049e-04\n",
      "Epoch 20/20\n",
      "31401/31401 [==============================] - 4s 133us/step - loss: 5.7792e-04 - val_loss: 6.2634e-04\n"
     ]
    }
   ],
   "source": [
    "history2 = autoencoder.fit(X_train_scaled, X_train_scaled, epochs=20, validation_split=0.2, callbacks=[callback])\n"
   ]
  },
  {
   "cell_type": "code",
   "execution_count": 183,
   "metadata": {},
   "outputs": [
    {
     "data": {
      "text/plain": [
       "<AxesSubplot:xlabel='epoches'>"
      ]
     },
     "execution_count": 183,
     "metadata": {},
     "output_type": "execute_result"
    },
    {
     "data": {
      "image/png": "[encoded data removed]",
      "text/plain": [
       "<Figure size 576x432 with 1 Axes>"
      ]
     },
     "metadata": {},
     "output_type": "display_data"
    }
   ],
   "source": [
    "pd.DataFrame(history2.history).plot(kind='line', xlabel='epoches', figsize=(8, 6))"
   ]
  },
  {
   "cell_type": "code",
   "execution_count": 180,
   "metadata": {},
   "outputs": [],
   "source": [
    "from sklearn.metrics import mean_squared_error, mean_absolute_error\n",
    "X_train_pred = autoencoder.predict(X_train_scaled)\n",
    "rmse = mean_squared_error(X_train_scaled.T, X_train_pred.T, multioutput='raw_values', squared=False)\n",
    "mae = mean_absolute_error(X_train_scaled.T, X_train_pred.T, multioutput='raw_values')"
   ]
  },
  {
   "cell_type": "code",
   "execution_count": 181,
   "metadata": {
    "scrolled": true
   },
   "outputs": [
    {
     "data": {
      "image/png": "[encoded data removed]",
      "text/plain": [
       "<Figure size 1008x360 with 2 Axes>"
      ]
     },
     "metadata": {},
     "output_type": "display_data"
    }
   ],
   "source": [
    "plt.figure(figsize=(14,5))\n",
    "plt.subplot(121)\n",
    "plt.hist(rmse, bins=50, label=\"RMSE based RL\")\n",
    "plt.xlabel(\"reconstruction loss\")\n",
    "plt.ylabel(\"No of samples\")\n",
    "plt.legend()\n",
    "\n",
    "plt.subplot(122)\n",
    "plt.hist(mae, bins=50, label=\"MAE based RL\")\n",
    "plt.xlabel(\"reconstruction loss\")\n",
    "plt.ylabel(\"No of samples\")\n",
    "plt.legend()\n",
    "\n",
    "plt.show()"
   ]
  },
  {
   "cell_type": "code",
   "execution_count": 182,
   "metadata": {},
   "outputs": [
    {
     "name": "stdout",
     "output_type": "stream",
     "text": [
      "Reconstruction error RMSE threshold:  0.14120278055628704\n",
      "Reconstruction error MAE threshold:  0.04413944991656507\n"
     ]
    }
   ],
   "source": [
    "threshold_rmse = np.max(rmse)\n",
    "threshold_mae = np.max(mae)\n",
    "print(\"Reconstruction error RMSE threshold: \", threshold_rmse)\n",
    "print(\"Reconstruction error MAE threshold: \", threshold_mae)"
   ]
  },
  {
   "cell_type": "code",
   "execution_count": 182,
   "metadata": {},
   "outputs": [],
   "source": [
    "X_test_normal_pred = autoencoder.predict(X_test_normal_scaled)\n",
    "rmse_test_normal = mean_squared_error(X_test_normal_scaled.T, X_test_normal_pred.T, multioutput='raw_values', squared=False)\n",
    "mae_test_normal = mean_absolute_error(X_test_normal_scaled.T, X_test_normal_pred.T, multioutput='raw_values')\n",
    "\n",
    "X_test_abnormal_pred = autoencoder.predict(X_test_abnormal_scaled)\n",
    "rmse_test_abnormal = mean_squared_error(X_test_abnormal_scaled.T, X_test_abnormal_pred.T, multioutput='raw_values', squared=False)\n",
    "mae_test_abnormal = mean_absolute_error(X_test_abnormal_scaled.T, X_test_abnormal_pred.T, multioutput='raw_values')\n"
   ]
  },
  {
   "cell_type": "code",
   "execution_count": 184,
   "metadata": {},
   "outputs": [
    {
     "data": {
      "image/png": "[encoded data removed]",
      "text/plain": [
       "<Figure size 1152x432 with 2 Axes>"
      ]
     },
     "metadata": {
      "needs_background": "light"
     },
     "output_type": "display_data"
    }
   ],
   "source": [
    "plt.figure(figsize=(16,6))\n",
    "plt.subplot(121)\n",
    "plt.hist(rmse_test_normal, bins=50, range=(0, 2), label=\"RMSE loss\")\n",
    "plt.axvline(x=threshold_rmse, color='r', ls='--', label='threshold')\n",
    "plt.xlabel(\"normal test dataset RMSE loss\")\n",
    "plt.ylabel(\"No of samples\")\n",
    "plt.legend()\n",
    "\n",
    "plt.subplot(122)\n",
    "plt.hist(rmse_test_abnormal, bins=50, range=(0, 2), label=\"RMSE loss\")\n",
    "plt.axvline(x=threshold_rmse, color='r', ls='--', label='threshold')\n",
    "plt.xlabel(\"abnormal test dataset RMSE loss\")\n",
    "plt.ylabel(\"No of samples\")\n",
    "plt.legend()\n",
    "\n",
    "plt.show()"
   ]
  },
  {
   "cell_type": "code",
   "execution_count": 110,
   "metadata": {},
   "outputs": [
    {
     "data": {
      "text/plain": [
       "<matplotlib.legend.Legend at 0x16c7ae450>"
      ]
     },
     "execution_count": 110,
     "metadata": {},
     "output_type": "execute_result"
    },
    {
     "data": {
      "image/png": "[encoded data removed]",
      "text/plain": [
       "<Figure size 1152x432 with 2 Axes>"
      ]
     },
     "metadata": {
      "needs_background": "light"
     },
     "output_type": "display_data"
    }
   ],
   "source": [
    "plt.figure(figsize=(16,6))\n",
    "plt.subplot(121)\n",
    "plt.hist(mae_test_normal, bins=50, range=(0, 2), label=\"MAE loss\")\n",
    "plt.axvline(x=threshold_mae, color='r', ls='--', label='threshold')\n",
    "plt.xlabel(\"normal test dataset MAE loss\")\n",
    "plt.ylabel(\"No of samples\")\n",
    "plt.legend()\n",
    "\n",
    "plt.subplot(122)\n",
    "plt.hist(mae_test_abnormal, bins=50, range=(0, 2), label=\"MAE loss\")\n",
    "plt.axvline(x=threshold_mae, color='r', ls='--', label='threshold')\n",
    "plt.xlabel(\"abnormal test dataset MAE loss\")\n",
    "plt.ylabel(\"No of samples\")\n",
    "plt.legend()"
   ]
  },
  {
   "cell_type": "code",
   "execution_count": 185,
   "metadata": {},
   "outputs": [
    {
     "name": "stdout",
     "output_type": "stream",
     "text": [
      "False Positive : 1875\n",
      "True Negative : 7836\n",
      "True Positive : 12597\n",
      "False Negative : 236\n",
      "#####################\n",
      "precision = 0.8704394693200663\n",
      "recall = 0.9816099119457649\n",
      "accuracy = 0.906360894251242\n",
      "F1 = 0.9226881523530489\n",
      "#####################\n"
     ]
    },
    {
     "data": {
      "image/png": "[encoded data removed]",
      "text/plain": [
       "<Figure size 432x288 with 2 Axes>"
      ]
     },
     "metadata": {
      "needs_background": "light"
     },
     "output_type": "display_data"
    }
   ],
   "source": [
    "FP = np.sum(rmse_test_normal > threshold_rmse)\n",
    "TN = len(rmse_test_normal) - FP\n",
    "TP = np.sum(rmse_test_abnormal > threshold_rmse)\n",
    "FN = np.sum(rmse_test_abnormal <= threshold_rmse)\n",
    "\n",
    "print(f\"False Positive : {FP}\")\n",
    "print(f\"True Negative : {TN}\")\n",
    "print(f\"True Positive : {TP}\")\n",
    "print(f\"False Negative : {FN}\")\n",
    "print(\"#####################\")\n",
    "\n",
    "precision = TP / (TP + FP)\n",
    "recall = TP / (TP + FN)\n",
    "print(f\"precision = {precision}\")\n",
    "print(f\"recall = {recall}\")\n",
    "\n",
    "Accuracy = (TP + TN) / (TP + TN + FP + FN)\n",
    "F1 = 2 * precision * recall / (precision + recall)\n",
    "print(f\"accuracy = {Accuracy}\")\n",
    "print(f\"F1 = {F1}\")\n",
    "print(\"#####################\")\n",
    "\n",
    "ticklabels = ['Negative', 'Positive']\n",
    "confusion_matrix = [[TN, FP], [FN, TP]]\n",
    "sns.heatmap(confusion_matrix, annot=True, fmt=\"d\", xticklabels=ticklabels, yticklabels=ticklabels)\n",
    "plt.show()"
   ]
  },
  {
   "cell_type": "markdown",
   "metadata": {},
   "source": [
    "## using MAE as estimation"
   ]
  },
  {
   "cell_type": "code",
   "execution_count": 186,
   "metadata": {},
   "outputs": [
    {
     "name": "stdout",
     "output_type": "stream",
     "text": [
      "False Positive : 1682\n",
      "True Negative : 8029\n",
      "True Positive : 12476\n",
      "False Negative : 357\n"
     ]
    },
    {
     "data": {
      "image/png": "[encoded data removed]",
      "text/plain": [
       "<Figure size 432x288 with 2 Axes>"
      ]
     },
     "metadata": {
      "needs_background": "light"
     },
     "output_type": "display_data"
    }
   ],
   "source": [
    "FP_mae = np.sum(mae_test_normal > threshold_mae)\n",
    "TN_mae = len(mae_test_normal) - FP_mae\n",
    "TP_mae = np.sum(mae_test_abnormal > threshold_mae)\n",
    "FN_mae = np.sum(mae_test_abnormal <= threshold_mae)\n",
    "\n",
    "print(f\"False Positive : {FP_mae}\")\n",
    "print(f\"True Negative : {TN_mae}\")\n",
    "print(f\"True Positive : {TP_mae}\")\n",
    "print(f\"False Negative : {FN_mae}\")\n",
    "\n",
    "confusion_matrix_mae = [[TN_mae, FP_mae], [FN_mae, TP_mae]]\n",
    "sns.heatmap(confusion_matrix_mae, annot=True, fmt=\"d\", xticklabels=ticklabels, yticklabels=ticklabels)\n",
    "plt.show()"
   ]
  },
  {
   "cell_type": "code",
   "execution_count": 187,
   "metadata": {
    "scrolled": true
   },
   "outputs": [
    {
     "name": "stdout",
     "output_type": "stream",
     "text": [
      "precision = 0.8811979093092245\n",
      "recall = 0.972181095612873\n",
      "accuracy = 0.9095546486870121\n",
      "F1 = 0.9244563002482309\n"
     ]
    }
   ],
   "source": [
    "precision_mae = TP_mae / (TP_mae + FP_mae)\n",
    "recall_mae = TP_mae / (TP_mae + FN_mae)\n",
    "print(f\"precision = {precision_mae}\")\n",
    "print(f\"recall = {recall_mae}\")\n",
    "Accuracy_mae = (TP_mae + TN_mae) / (TP_mae + TN_mae + FP_mae + FN_mae)\n",
    "F1_mae = 2 * precision_mae * recall_mae / (precision_mae + recall_mae)\n",
    "print(f\"accuracy = {Accuracy_mae}\")\n",
    "print(f\"F1 = {F1_mae}\")"
   ]
  },
  {
   "cell_type": "code",
   "execution_count": null,
   "metadata": {},
   "outputs": [],
   "source": []
  },
  {
   "cell_type": "code",
   "execution_count": null,
   "metadata": {},
   "outputs": [],
   "source": []
  },
  {
   "cell_type": "code",
   "execution_count": null,
   "metadata": {},
   "outputs": [],
   "source": []
  },
  {
   "cell_type": "code",
   "execution_count": null,
   "metadata": {},
   "outputs": [],
   "source": []
  },
  {
   "cell_type": "markdown",
   "metadata": {},
   "source": [
    "## 50 Epoch"
   ]
  },
  {
   "cell_type": "code",
   "execution_count": 157,
   "metadata": {},
   "outputs": [
    {
     "name": "stdout",
     "output_type": "stream",
     "text": [
      "input shape: 122\n",
      "Train on 31401 samples, validate on 7851 samples\n",
      "Epoch 1/50\n",
      "31401/31401 [==============================] - 5s 159us/step - loss: 0.0052 - val_loss: 0.0020\n",
      "Epoch 2/50\n",
      "31401/31401 [==============================] - 4s 132us/step - loss: 0.0016 - val_loss: 0.0015\n",
      "Epoch 3/50\n",
      "31401/31401 [==============================] - 4s 128us/step - loss: 0.0014 - val_loss: 0.0013\n",
      "Epoch 4/50\n",
      "31401/31401 [==============================] - 4s 130us/step - loss: 0.0012 - val_loss: 0.0011\n",
      "Epoch 5/50\n",
      "31401/31401 [==============================] - 4s 124us/step - loss: 9.8155e-04 - val_loss: 9.4663e-04\n",
      "Epoch 6/50\n",
      "31401/31401 [==============================] - 4s 122us/step - loss: 8.9395e-04 - val_loss: 8.9700e-04\n",
      "Epoch 7/50\n",
      "31401/31401 [==============================] - 4s 121us/step - loss: 8.4878e-04 - val_loss: 8.5343e-04\n",
      "Epoch 8/50\n",
      "31401/31401 [==============================] - 4s 123us/step - loss: 8.1484e-04 - val_loss: 8.3706e-04\n",
      "Epoch 9/50\n",
      "31401/31401 [==============================] - 4s 128us/step - loss: 7.8601e-04 - val_loss: 7.9844e-04\n",
      "Epoch 10/50\n",
      "31401/31401 [==============================] - 4s 140us/step - loss: 7.6419e-04 - val_loss: 7.8305e-04\n",
      "Epoch 11/50\n",
      "31401/31401 [==============================] - 4s 129us/step - loss: 7.4731e-04 - val_loss: 7.6878e-04\n",
      "Epoch 12/50\n",
      "31401/31401 [==============================] - 4s 133us/step - loss: 7.3784e-04 - val_loss: 7.5284e-04\n",
      "Epoch 13/50\n",
      "31401/31401 [==============================] - 4s 134us/step - loss: 7.2972e-04 - val_loss: 7.5056e-04\n",
      "Epoch 14/50\n",
      "31401/31401 [==============================] - 4s 134us/step - loss: 7.2286e-04 - val_loss: 7.4394e-04\n",
      "Epoch 15/50\n",
      "31401/31401 [==============================] - 4s 133us/step - loss: 7.1849e-04 - val_loss: 7.4347e-04\n",
      "Epoch 16/50\n",
      "31401/31401 [==============================] - 4s 131us/step - loss: 7.1086e-04 - val_loss: 7.2452e-04\n",
      "Epoch 17/50\n",
      "31401/31401 [==============================] - 4s 141us/step - loss: 7.0515e-04 - val_loss: 7.2899e-04\n",
      "Epoch 18/50\n",
      "31401/31401 [==============================] - 4s 139us/step - loss: 6.9877e-04 - val_loss: 7.2517e-04\n",
      "Epoch 19/50\n",
      "31401/31401 [==============================] - 4s 134us/step - loss: 6.9469e-04 - val_loss: 7.0548e-04\n",
      "Epoch 20/50\n",
      "31401/31401 [==============================] - 4s 139us/step - loss: 6.8892e-04 - val_loss: 7.1372e-04\n",
      "Epoch 21/50\n",
      "31401/31401 [==============================] - 4s 137us/step - loss: 6.8361e-04 - val_loss: 7.0305e-04\n",
      "Epoch 22/50\n",
      "31401/31401 [==============================] - 5s 147us/step - loss: 6.7669e-04 - val_loss: 6.9369e-04\n",
      "Epoch 23/50\n",
      "31401/31401 [==============================] - 5s 147us/step - loss: 6.7337e-04 - val_loss: 6.8562e-04\n",
      "Epoch 24/50\n",
      "31401/31401 [==============================] - 4s 139us/step - loss: 6.6580e-04 - val_loss: 6.8222e-04\n",
      "Epoch 25/50\n",
      "31401/31401 [==============================] - 5s 148us/step - loss: 6.6139e-04 - val_loss: 6.9265e-04\n",
      "Epoch 26/50\n",
      "31401/31401 [==============================] - 4s 138us/step - loss: 6.5390e-04 - val_loss: 6.7414e-04\n",
      "Epoch 27/50\n",
      "31401/31401 [==============================] - 4s 139us/step - loss: 6.4679e-04 - val_loss: 6.6454e-04\n",
      "Epoch 28/50\n",
      "31401/31401 [==============================] - 5s 150us/step - loss: 6.3749e-04 - val_loss: 6.6171e-04\n",
      "Epoch 29/50\n",
      "31401/31401 [==============================] - 5s 154us/step - loss: 6.2759e-04 - val_loss: 6.4577e-04\n",
      "Epoch 30/50\n",
      "31401/31401 [==============================] - 5s 145us/step - loss: 6.1877e-04 - val_loss: 6.3072e-04\n",
      "Epoch 31/50\n",
      "31401/31401 [==============================] - 4s 143us/step - loss: 6.0925e-04 - val_loss: 6.2880e-04\n",
      "Epoch 32/50\n",
      "31401/31401 [==============================] - 6s 199us/step - loss: 5.9923e-04 - val_loss: 6.3554e-04\n",
      "Epoch 33/50\n",
      "31401/31401 [==============================] - 11s 346us/step - loss: 5.8976e-04 - val_loss: 6.0514e-04\n",
      "Epoch 34/50\n",
      "31401/31401 [==============================] - 10s 307us/step - loss: 5.8118e-04 - val_loss: 5.9937e-04\n",
      "Epoch 35/50\n",
      "31401/31401 [==============================] - 9s 294us/step - loss: 5.7300e-04 - val_loss: 5.9526e-04\n",
      "Epoch 36/50\n",
      "31401/31401 [==============================] - 5s 162us/step - loss: 5.6678e-04 - val_loss: 5.8943e-04\n",
      "Epoch 37/50\n",
      "31401/31401 [==============================] - 4s 143us/step - loss: 5.6037e-04 - val_loss: 5.7774e-04\n",
      "Epoch 38/50\n",
      "31401/31401 [==============================] - 4s 139us/step - loss: 5.5463e-04 - val_loss: 5.7622e-04\n",
      "Epoch 39/50\n",
      "31401/31401 [==============================] - 4s 130us/step - loss: 5.4929e-04 - val_loss: 5.6139e-04\n",
      "Epoch 40/50\n",
      "31401/31401 [==============================] - 4s 132us/step - loss: 5.4432e-04 - val_loss: 5.6563e-04\n",
      "Epoch 41/50\n",
      "31401/31401 [==============================] - 4s 136us/step - loss: 5.3909e-04 - val_loss: 5.5507e-04\n",
      "Epoch 42/50\n",
      "31401/31401 [==============================] - 4s 132us/step - loss: 5.3322e-04 - val_loss: 5.4612e-04\n",
      "Epoch 43/50\n",
      "31401/31401 [==============================] - 4s 130us/step - loss: 5.2693e-04 - val_loss: 5.5723e-04\n",
      "Epoch 44/50\n",
      "31401/31401 [==============================] - 4s 128us/step - loss: 5.2126e-04 - val_loss: 5.3501e-04\n",
      "Epoch 45/50\n",
      "31401/31401 [==============================] - 4s 128us/step - loss: 5.1454e-04 - val_loss: 5.3309e-04\n",
      "Epoch 46/50\n",
      "31401/31401 [==============================] - 4s 131us/step - loss: 5.0913e-04 - val_loss: 5.2159e-04\n",
      "Epoch 47/50\n",
      "31401/31401 [==============================] - 4s 135us/step - loss: 5.0434e-04 - val_loss: 5.2308e-04\n",
      "Epoch 48/50\n",
      "31401/31401 [==============================] - 4s 131us/step - loss: 4.9870e-04 - val_loss: 5.2788e-04\n",
      "Epoch 49/50\n",
      "31401/31401 [==============================] - 4s 130us/step - loss: 4.9418e-04 - val_loss: 5.0737e-04\n",
      "Epoch 50/50\n",
      "31401/31401 [==============================] - 4s 139us/step - loss: 4.8852e-04 - val_loss: 5.1340e-04\n"
     ]
    }
   ],
   "source": [
    "def model(X_train):\n",
    "    callback = EarlyStopping(patience=3, mode='min')\n",
    "    input_shape = X_train.shape[1]\n",
    "    print(f\"input shape: {input_shape}\")\n",
    "    encoding_dim = 5\n",
    "    encoder = Sequential([\n",
    "    Dense(32, activation='relu', input_shape=(input_shape, )),\n",
    "    Dense(encoding_dim, activation='relu')\n",
    "    ])\n",
    "    decoder = Sequential([\n",
    "    Dense(32, activation='relu', input_shape=(encoding_dim,)),\n",
    "    Dense(input_shape)\n",
    "    ])\n",
    "\n",
    "    autoencoder = Sequential([encoder, decoder])\n",
    "    autoencoder.compile(loss='mse', optimizer='Adam')\n",
    "    autoencoder.fit(X_train, X_train, epochs=50, validation_split=0.2, callbacks=[callback])\n",
    "    return autoencoder\n",
    "del autoencoder\n",
    "autoencoder = model(X_train_scaled)"
   ]
  },
  {
   "cell_type": "code",
   "execution_count": 158,
   "metadata": {},
   "outputs": [
    {
     "data": {
      "text/plain": [
       "<AxesSubplot:xlabel='epoches'>"
      ]
     },
     "execution_count": 158,
     "metadata": {},
     "output_type": "execute_result"
    },
    {
     "data": {
      "image/png": "[encoded data removed]",
      "text/plain": [
       "<Figure size 576x432 with 1 Axes>"
      ]
     },
     "metadata": {
      "needs_background": "light"
     },
     "output_type": "display_data"
    }
   ],
   "source": [
    "pd.DataFrame(autoencoder.history.history).plot(kind='line', xlabel='epoches', figsize=(8, 6))"
   ]
  },
  {
   "cell_type": "code",
   "execution_count": 52,
   "metadata": {},
   "outputs": [],
   "source": [
    "from keras.models import load_model\n",
    "autoencoder_draw = load_model('autoencoder.hdf5', compile=True)"
   ]
  },
  {
   "cell_type": "code",
   "execution_count": 53,
   "metadata": {},
   "outputs": [
    {
     "name": "stdout",
     "output_type": "stream",
     "text": [
      "Model: \"sequential_84\"\n",
      "_________________________________________________________________\n",
      "Layer (type)                 Output Shape              Param #   \n",
      "=================================================================\n",
      "sequential_82 (Sequential)   (None, 5)                 4101      \n",
      "_________________________________________________________________\n",
      "sequential_83 (Sequential)   (None, 122)               4218      \n",
      "=================================================================\n",
      "Total params: 8,319\n",
      "Trainable params: 8,319\n",
      "Non-trainable params: 0\n",
      "_________________________________________________________________\n"
     ]
    }
   ],
   "source": [
    "autoencoder_draw.summary()"
   ]
  },
  {
   "cell_type": "code",
   "execution_count": 55,
   "metadata": {},
   "outputs": [
    {
     "data": {
      "image/png": "[encoded data removed]",
      "text/plain": [
       "<Figure size 1008x360 with 2 Axes>"
      ]
     },
     "metadata": {},
     "output_type": "display_data"
    },
    {
     "name": "stdout",
     "output_type": "stream",
     "text": [
      "Reconstruction error RMSE threshold:  0.1286360449506866\n",
      "Reconstruction error MAE threshold:  0.030079469362814002\n"
     ]
    }
   ],
   "source": [
    "from sklearn.metrics import mean_squared_error, mean_absolute_error\n",
    "outlier_fence_95 = np.percentile(X_train, 95, axis=0)\n",
    "X_train_new = X_train.copy()\n",
    "for index, fence in enumerate(outlier_fence_95):\n",
    "    boolarr = X_train_new[:,index] <= fence\n",
    "    X_train_new = X_train_new[boolarr]\n",
    "# X_train_new.shape\n",
    "from sklearn.preprocessing import MinMaxScaler\n",
    "# scaler = RobustScaler()\n",
    "scaler = MinMaxScaler()\n",
    "X_train_scaled = scaler.fit_transform(X_train_new)\n",
    "X_test_normal_scaled = scaler.transform(X_test_normal)\n",
    "X_test_abnormal_scaled = scaler.transform(X_test_abnormal)\n",
    "X_train_pred_draw = autoencoder_draw.predict(X_train_scaled)\n",
    "rmse_draw = mean_squared_error(X_train_scaled.T, X_train_pred_draw.T, multioutput='raw_values', squared=False)\n",
    "mae_draw = mean_absolute_error(X_train_scaled.T, X_train_pred_draw.T, multioutput='raw_values')\n",
    "plt.figure(figsize=(14,5))\n",
    "plt.subplot(121)\n",
    "plt.hist(rmse_draw, bins=50, label=\"RMSE based RL\")\n",
    "plt.xlabel(\"RMSE based reconstruction loss\")\n",
    "plt.ylabel(\"No of samples\")\n",
    "plt.legend()\n",
    "\n",
    "plt.subplot(122)\n",
    "plt.hist(mae_draw, bins=50, label=\"MAE base RL\")\n",
    "plt.xlabel(\"MAE based reconstruction loss\")\n",
    "plt.ylabel(\"No of samples\")\n",
    "plt.legend()\n",
    "\n",
    "plt.show()\n",
    "\n",
    "threshold_rmse_draw = np.max(rmse_draw)\n",
    "threshold_mae_draw = np.max(mae_draw)\n",
    "print(\"Reconstruction error RMSE threshold: \", threshold_rmse_draw)\n",
    "print(\"Reconstruction error MAE threshold: \", threshold_mae_draw)"
   ]
  },
  {
   "cell_type": "code",
   "execution_count": 56,
   "metadata": {},
   "outputs": [
    {
     "data": {
      "image/png": "[encoded data removed]",
      "text/plain": [
       "<Figure size 576x432 with 1 Axes>"
      ]
     },
     "metadata": {},
     "output_type": "display_data"
    }
   ],
   "source": [
    "plt.figure(figsize=(8,6))\n",
    "# plt.subplot(121)\n",
    "plt.hist(rmse_draw, bins=50, label=\"RMSE based RL\")\n",
    "plt.xlabel(\"RMSE based reconstruction loss\")\n",
    "plt.ylabel(\"No of samples\")\n",
    "plt.legend()\n",
    "plt.show()"
   ]
  },
  {
   "cell_type": "code",
   "execution_count": 57,
   "metadata": {},
   "outputs": [
    {
     "data": {
      "image/png": "[encoded data removed]",
      "text/plain": [
       "<Figure size 576x432 with 1 Axes>"
      ]
     },
     "metadata": {},
     "output_type": "display_data"
    },
    {
     "name": "stdout",
     "output_type": "stream",
     "text": [
      "Reconstruction error RMSE threshold:  0.1286360449506866\n",
      "Reconstruction error MAE threshold:  0.030079469362814002\n"
     ]
    }
   ],
   "source": [
    "plt.figure(figsize=(8,6))\n",
    "# plt.subplot(122)\n",
    "plt.hist(mae_draw, bins=50, label=\"MAE base RL\")\n",
    "plt.xlabel(\"MAE based reconstruction loss\")\n",
    "plt.ylabel(\"No of samples\")\n",
    "plt.legend()\n",
    "\n",
    "plt.show()\n",
    "\n",
    "threshold_rmse_draw = np.max(rmse_draw)\n",
    "threshold_mae_draw = np.max(mae_draw)\n",
    "print(\"Reconstruction error RMSE threshold: \", threshold_rmse_draw)\n",
    "print(\"Reconstruction error MAE threshold: \", threshold_mae_draw)"
   ]
  },
  {
   "cell_type": "code",
   "execution_count": 59,
   "metadata": {},
   "outputs": [
    {
     "data": {
      "image/png": "[encoded data removed]",
      "text/plain": [
       "<Figure size 1008x360 with 2 Axes>"
      ]
     },
     "metadata": {},
     "output_type": "display_data"
    },
    {
     "name": "stdout",
     "output_type": "stream",
     "text": [
      "Reconstruction error RMSE threshold:  0.1286360449506866\n",
      "Reconstruction error MAE threshold:  0.030079469362814002\n"
     ]
    }
   ],
   "source": [
    "from sklearn.metrics import mean_squared_error, mean_absolute_error\n",
    "\n",
    "\n",
    "# X_train_pred = autoencoder.predict(X_train_scaled)\n",
    "X_train_pred = autoencoder_draw.predict(X_train_scaled)\n",
    "\n",
    "rmse = mean_squared_error(X_train_scaled.T, X_train_pred.T, multioutput='raw_values', squared=False)\n",
    "mae = mean_absolute_error(X_train_scaled.T, X_train_pred.T, multioutput='raw_values')\n",
    "plt.figure(figsize=(14,5))\n",
    "plt.subplot(121)\n",
    "plt.hist(rmse, bins=50, label=\"RMSE loss\")\n",
    "plt.xlabel(\"train RMSE loss\")\n",
    "plt.ylabel(\"No of samples\")\n",
    "plt.legend()\n",
    "\n",
    "plt.subplot(122)\n",
    "plt.hist(mae, bins=50, label=\"MAE loss\")\n",
    "plt.xlabel(\"train MAE loss\")\n",
    "plt.ylabel(\"No of samples\")\n",
    "plt.legend()\n",
    "\n",
    "plt.show()\n",
    "\n",
    "threshold_rmse = np.max(rmse)\n",
    "threshold_mae = np.max(mae)\n",
    "print(\"Reconstruction error RMSE threshold: \", threshold_rmse)\n",
    "print(\"Reconstruction error MAE threshold: \", threshold_mae)"
   ]
  },
  {
   "cell_type": "code",
   "execution_count": 62,
   "metadata": {},
   "outputs": [],
   "source": [
    "# X_test_normal_pred = autoencoder.predict(X_test_normal_scaled)\n",
    "X_test_normal_pred = autoencoder_draw.predict(X_test_normal_scaled)\n",
    "rmse_test_normal = mean_squared_error(X_test_normal_scaled.T, X_test_normal_pred.T, multioutput='raw_values', squared=False)\n",
    "mae_test_normal = mean_absolute_error(X_test_normal_scaled.T, X_test_normal_pred.T, multioutput='raw_values')\n",
    "\n",
    "# X_test_abnormal_pred = autoencoder.predict(X_test_abnormal_scaled)\n",
    "X_test_abnormal_pred = autoencoder_draw.predict(X_test_abnormal_scaled)\n",
    "rmse_test_abnormal = mean_squared_error(X_test_abnormal_scaled.T, X_test_abnormal_pred.T, multioutput='raw_values', squared=False)\n",
    "mae_test_abnormal = mean_absolute_error(X_test_abnormal_scaled.T, X_test_abnormal_pred.T, multioutput='raw_values')\n"
   ]
  },
  {
   "cell_type": "code",
   "execution_count": 79,
   "metadata": {},
   "outputs": [
    {
     "data": {
      "image/png": "[encoded data removed]",
      "text/plain": [
       "<Figure size 504x360 with 1 Axes>"
      ]
     },
     "metadata": {},
     "output_type": "display_data"
    }
   ],
   "source": [
    "fig, ax = plt.subplots(figsize=(7,5))\n",
    "# plt.subplot(121)\n",
    "ax.hist(rmse_test_normal, bins=50, range=(0, 2), density=True, alpha=.8, color='g', label=\"normal\")\n",
    "ax.hist(rmse_test_abnormal, bins=50, range=(0, 2), density=True, alpha=.8, color='r', label=\"abnormal\")\n",
    "ax.axvline(x=threshold_rmse_draw, color='k', ls='--', label='threshold')\n",
    "# plt.xlabel(\"KDDTest+ dataset reconstruction losses with RMSE in [0, 2]\")\n",
    "# plt.ylabel(\"Number of instances\")\n",
    "ax.get_yaxis().set_visible(False)\n",
    "ax.text(0.20, 17.5, 'threshold=0.129', fontsize=16)\n",
    "plt.legend()\n",
    "plt.show()"
   ]
  },
  {
   "cell_type": "code",
   "execution_count": 192,
   "metadata": {},
   "outputs": [
    {
     "data": {
      "image/png": "[encoded data removed]",
      "text/plain": [
       "<Figure size 1152x432 with 2 Axes>"
      ]
     },
     "metadata": {},
     "output_type": "display_data"
    }
   ],
   "source": [
    "plt.figure(figsize=(16,6))\n",
    "plt.subplot(121)\n",
    "plt.hist(rmse_test_normal, bins=50, range=(0, 2), label=\"RMSE loss\")\n",
    "plt.axvline(x=threshold_rmse, color='r', ls='--', label='threshold')\n",
    "plt.xlabel(\"normal test dataset RMSE loss\")\n",
    "plt.ylabel(\"No of samples\")\n",
    "plt.legend()\n",
    "\n",
    "plt.subplot(122)\n",
    "plt.hist(rmse_test_abnormal, bins=50, range=(0, 2), label=\"RMSE loss\")\n",
    "plt.axvline(x=threshold_rmse, color='r', ls='--', label='threshold')\n",
    "plt.xlabel(\"abnormal test dataset RMSE loss\")\n",
    "plt.ylabel(\"No of samples\")\n",
    "plt.legend()\n",
    "\n",
    "plt.show()"
   ]
  },
  {
   "cell_type": "code",
   "execution_count": 235,
   "metadata": {},
   "outputs": [
    {
     "data": {
      "text/plain": [
       "<matplotlib.legend.Legend at 0x161187a10>"
      ]
     },
     "execution_count": 235,
     "metadata": {},
     "output_type": "execute_result"
    },
    {
     "data": {
      "image/png": "[encoded data removed]",
      "text/plain": [
       "<Figure size 1152x432 with 2 Axes>"
      ]
     },
     "metadata": {},
     "output_type": "display_data"
    }
   ],
   "source": [
    "plt.figure(figsize=(16,6))\n",
    "plt.subplot(121)\n",
    "plt.hist(mae_test_normal, bins=50, range=(0, 2), label=\"MAE loss\")\n",
    "plt.axvline(x=threshold_mae, color='r', ls='--', label='threshold')\n",
    "plt.xlabel(\"normal test dataset MAE loss\")\n",
    "plt.ylabel(\"No of samples\")\n",
    "plt.legend()\n",
    "\n",
    "plt.subplot(122)\n",
    "plt.hist(mae_test_abnormal, bins=50, range=(0, 2), label=\"MAE loss\")\n",
    "plt.axvline(x=threshold_mae, color='r', ls='--', label='threshold')\n",
    "plt.xlabel(\"abnormal test dataset MAE loss\")\n",
    "plt.ylabel(\"No of samples\")\n",
    "plt.legend()"
   ]
  },
  {
   "cell_type": "code",
   "execution_count": 75,
   "metadata": {},
   "outputs": [
    {
     "data": {
      "image/png": "[encoded data removed]",
      "text/plain": [
       "<Figure size 504x360 with 1 Axes>"
      ]
     },
     "metadata": {},
     "output_type": "display_data"
    }
   ],
   "source": [
    "fig, ax = plt.subplots(figsize=(7,5))\n",
    "# plt.subplot(121)\n",
    "ax.hist(mae_test_normal, bins=50, range=(0, 2), density=True, alpha=.8, color='g', label=\"normal\")\n",
    "ax.hist(mae_test_abnormal, bins=50, range=(0, 2), density=True, alpha=.8, color='r', label=\"abnormal\")\n",
    "ax.axvline(x=threshold_mae_draw, color='k', ls='--', label='threshold')\n",
    "ax.get_yaxis().set_visible(False)\n",
    "ax.text(0.1, 20, 'threshold=0.030', fontsize=16)\n",
    "plt.legend()\n",
    "plt.show()"
   ]
  },
  {
   "cell_type": "code",
   "execution_count": 163,
   "metadata": {},
   "outputs": [
    {
     "name": "stdout",
     "output_type": "stream",
     "text": [
      "False Positive : 1919\n",
      "True Negative : 7792\n",
      "True Positive : 12603\n",
      "False Negative : 230\n",
      "#####################\n",
      "precision = 0.8678556672634623\n",
      "recall = 0.9820774565573132\n",
      "accuracy = 0.9046753016323634\n",
      "F1 = 0.9214403216962164\n",
      "#####################\n"
     ]
    }
   ],
   "source": [
    "FP = np.sum(rmse_test_normal > threshold_rmse)\n",
    "TN = len(rmse_test_normal) - FP\n",
    "TP = np.sum(rmse_test_abnormal > threshold_rmse)\n",
    "FN = np.sum(rmse_test_abnormal <= threshold_rmse)\n",
    "\n",
    "print(f\"False Positive : {FP}\")\n",
    "print(f\"True Negative : {TN}\")\n",
    "print(f\"True Positive : {TP}\")\n",
    "print(f\"False Negative : {FN}\")\n",
    "print(\"#####################\")\n",
    "\n",
    "precision = TP / (TP + FP)\n",
    "recall = TP / (TP + FN)\n",
    "print(f\"precision = {precision}\")\n",
    "print(f\"recall = {recall}\")\n",
    "\n",
    "Accuracy = (TP + TN) / (TP + TN + FP + FN)\n",
    "F1 = 2 * precision * recall / (precision + recall)\n",
    "print(f\"accuracy = {Accuracy}\")\n",
    "print(f\"F1 = {F1}\")\n",
    "print(\"#####################\")\n"
   ]
  },
  {
   "cell_type": "code",
   "execution_count": 164,
   "metadata": {},
   "outputs": [
    {
     "name": "stdout",
     "output_type": "stream",
     "text": [
      "False Positive : 1916\n",
      "True Negative : 7795\n",
      "True Positive : 12631\n",
      "False Negative : 202\n",
      "#####################\n",
      "precision = 0.8682889942943562\n",
      "recall = 0.9842593314112055\n",
      "accuracy = 0.9060503903477644\n",
      "F1 = 0.9226442658875091\n"
     ]
    }
   ],
   "source": [
    "FP_mae = np.sum(mae_test_normal > threshold_mae)\n",
    "TN_mae = len(mae_test_normal) - FP_mae\n",
    "TP_mae = np.sum(mae_test_abnormal > threshold_mae)\n",
    "FN_mae = np.sum(mae_test_abnormal <= threshold_mae)\n",
    "\n",
    "print(f\"False Positive : {FP_mae}\")\n",
    "print(f\"True Negative : {TN_mae}\")\n",
    "print(f\"True Positive : {TP_mae}\")\n",
    "print(f\"False Negative : {FN_mae}\")\n",
    "print(\"#####################\")\n",
    "precision_mae = TP_mae / (TP_mae + FP_mae)\n",
    "recall_mae = TP_mae / (TP_mae + FN_mae)\n",
    "print(f\"precision = {precision_mae}\")\n",
    "print(f\"recall = {recall_mae}\")\n",
    "Accuracy_mae = (TP_mae + TN_mae) / (TP_mae + TN_mae + FP_mae + FN_mae)\n",
    "F1_mae = 2 * precision_mae * recall_mae / (precision_mae + recall_mae)\n",
    "print(f\"accuracy = {Accuracy_mae}\")\n",
    "print(f\"F1 = {F1_mae}\")"
   ]
  },
  {
   "cell_type": "code",
   "execution_count": 169,
   "metadata": {},
   "outputs": [],
   "source": [
    "# autoencoder.save(\"autoencoder.hdf5\", overwrite=True, include_optimizer=True)"
   ]
  },
  {
   "cell_type": "code",
   "execution_count": 254,
   "metadata": {},
   "outputs": [],
   "source": [
    "from sklearn.metrics import roc_auc_score, roc_curve, auc"
   ]
  },
  {
   "cell_type": "code",
   "execution_count": 261,
   "metadata": {},
   "outputs": [
    {
     "name": "stdout",
     "output_type": "stream",
     "text": [
      "(22544, 122)\n"
     ]
    },
    {
     "data": {
      "text/plain": [
       "array([0.11157139, 0.11119176, 0.02849818, ..., 0.01706041, 0.01751879,\n",
       "       0.11655217])"
      ]
     },
     "execution_count": 261,
     "metadata": {},
     "output_type": "execute_result"
    }
   ],
   "source": [
    "# X_test_scaled = np.r_[X_test_normal_scaled, X_test_abnormal_scaled]\n",
    "# X_test_scaled.shape\n",
    "X_test_scaled = scaler.fit_transform(X_test)\n",
    "print(X_test_scaled.shape)\n",
    "X_test_all_pred = autoencoder.predict(X_test_scaled)\n",
    "mae_test_all = mean_absolute_error(X_test_scaled.T, X_test_all_pred.T, multioutput='raw_values')\n",
    "mae_test_all\n"
   ]
  },
  {
   "cell_type": "code",
   "execution_count": 291,
   "metadata": {},
   "outputs": [
    {
     "data": {
      "text/plain": [
       "(2835,)"
      ]
     },
     "execution_count": 291,
     "metadata": {},
     "output_type": "execute_result"
    }
   ],
   "source": [
    "fpr.shape"
   ]
  },
  {
   "cell_type": "code",
   "execution_count": 271,
   "metadata": {},
   "outputs": [
    {
     "data": {
      "image/png": "[encoded data removed]",
      "text/plain": [
       "<Figure size 432x288 with 1 Axes>"
      ]
     },
     "metadata": {},
     "output_type": "display_data"
    }
   ],
   "source": [
    "fpr, tpr, thresholds = roc_curve(y_test, mae_test_all)\n",
    "roc_auc = roc_auc_score(y_test, mae_test_all)\n",
    "print()\n",
    "plt.plot(fpr, tpr, label=f'AUC = {roc_auc:0.3f}' )\n",
    "plt.legend()\n",
    "plt.show()"
   ]
  },
  {
   "cell_type": "code",
   "execution_count": 287,
   "metadata": {},
   "outputs": [
    {
     "data": {
      "text/plain": [
       "0.932860085040223"
      ]
     },
     "execution_count": 287,
     "metadata": {},
     "output_type": "execute_result"
    }
   ],
   "source": [
    "roc_auc"
   ]
  },
  {
   "cell_type": "code",
   "execution_count": 284,
   "metadata": {},
   "outputs": [],
   "source": [
    "with open ('fpr_AE.npy', 'wb') as f:\n",
    "    np.save(f, fpr)\n",
    "    np.save(f, tpr)"
   ]
  },
  {
   "cell_type": "code",
   "execution_count": 190,
   "metadata": {},
   "outputs": [],
   "source": [
    "def performance(rloss_normal, rloss_abnormal, threshold):\n",
    "    FP = np.sum(rloss_normal > threshold)\n",
    "    TN = len(rloss_normal) - FP\n",
    "    TP = np.sum(rloss_abnormal > threshold)\n",
    "    FN = np.sum(rloss_abnormal <= threshold)\n",
    "\n",
    "    print(f\"False Positive : {FP}\")\n",
    "    print(f\"True Negative : {TN}\")\n",
    "    print(f\"True Positive : {TP}\")\n",
    "    print(f\"False Negative : {FN}\")\n",
    "    print(\"#####################\")\n",
    "\n",
    "    Precision = TP / (TP + FP)\n",
    "    Recall = TP / (TP + FN)\n",
    "    print(f\"precision = {Precision}\")\n",
    "    print(f\"recall = {Recall}\")\n",
    "\n",
    "    Accuracy = (TP + TN) / (TP + TN + FP + FN)\n",
    "    F1 = 2 * Precision * Recall / (Precision + Recall)\n",
    "    print(f\"accuracy = {Accuracy}\")\n",
    "    print(f\"F1 = {F1}\")\n",
    "    print(\"#####################\")\n",
    "    return Accuracy, Precision, Recall, F1"
   ]
  },
  {
   "cell_type": "code",
   "execution_count": 191,
   "metadata": {},
   "outputs": [],
   "source": [
    "def model(X_train):\n",
    "    callback = EarlyStopping(patience=3, mode='min')\n",
    "    input_shape = X_train.shape[1]\n",
    "    print(f\"input shape: {input_shape}\")\n",
    "    encoding_dim = 5\n",
    "    encoder = Sequential([\n",
    "    Dense(32, activation='relu', input_shape=(input_shape, )),\n",
    "    Dense(encoding_dim, activation='relu')\n",
    "    ])\n",
    "    decoder = Sequential([\n",
    "    Dense(32, activation='relu', input_shape=(encoding_dim,)),\n",
    "    Dense(input_shape)\n",
    "    ])\n",
    "\n",
    "    autoencoder = Sequential([encoder, decoder])\n",
    "    autoencoder.compile(loss='mse', optimizer='Adam')\n",
    "    autoencoder.fit(X_train, X_train, epochs=50, validation_split=0.2, callbacks=[callback])\n",
    "    return autoencoder\n",
    "    "
   ]
  },
  {
   "cell_type": "code",
   "execution_count": 192,
   "metadata": {
    "scrolled": true
   },
   "outputs": [
    {
     "name": "stdout",
     "output_type": "stream",
     "text": [
      "the percentile is: 100%\n",
      "X_train_new shape: (67343, 122)\n",
      "input shape: 122\n",
      "Train on 53874 samples, validate on 13469 samples\n",
      "Epoch 1/50\n",
      "53874/53874 [==============================] - 8s 148us/step - loss: 0.0066 - val_loss: 0.0029\n",
      "Epoch 2/50\n",
      "53874/53874 [==============================] - 8s 151us/step - loss: 0.0026 - val_loss: 0.0023\n",
      "Epoch 3/50\n",
      "53874/53874 [==============================] - 8s 146us/step - loss: 0.0022 - val_loss: 0.0021\n",
      "Epoch 4/50\n",
      "53874/53874 [==============================] - 9s 158us/step - loss: 0.0020 - val_loss: 0.0019\n",
      "Epoch 5/50\n",
      "53874/53874 [==============================] - 8s 146us/step - loss: 0.0018 - val_loss: 0.0017\n",
      "Epoch 6/50\n",
      "53874/53874 [==============================] - 7s 136us/step - loss: 0.0017 - val_loss: 0.0016\n",
      "Epoch 7/50\n",
      "53874/53874 [==============================] - 7s 132us/step - loss: 0.0016 - val_loss: 0.0016\n",
      "Epoch 8/50\n",
      "53874/53874 [==============================] - 7s 130us/step - loss: 0.0015 - val_loss: 0.0015\n",
      "Epoch 9/50\n",
      "53874/53874 [==============================] - 7s 126us/step - loss: 0.0015 - val_loss: 0.0015\n",
      "Epoch 10/50\n",
      "53874/53874 [==============================] - 7s 122us/step - loss: 0.0015 - val_loss: 0.0014\n",
      "Epoch 11/50\n",
      "53874/53874 [==============================] - 7s 124us/step - loss: 0.0014 - val_loss: 0.0014\n",
      "Epoch 12/50\n",
      "53874/53874 [==============================] - 6s 119us/step - loss: 0.0014 - val_loss: 0.0014\n",
      "Epoch 13/50\n",
      "53874/53874 [==============================] - 6s 119us/step - loss: 0.0014 - val_loss: 0.0014\n",
      "Epoch 14/50\n",
      "53874/53874 [==============================] - 6s 120us/step - loss: 0.0014 - val_loss: 0.0014\n",
      "Epoch 15/50\n",
      "53874/53874 [==============================] - 6s 119us/step - loss: 0.0013 - val_loss: 0.0013\n",
      "Epoch 16/50\n",
      "53874/53874 [==============================] - 7s 132us/step - loss: 0.0013 - val_loss: 0.0013\n",
      "Epoch 17/50\n",
      "53874/53874 [==============================] - 7s 129us/step - loss: 0.0013 - val_loss: 0.0013\n",
      "Epoch 18/50\n",
      "53874/53874 [==============================] - 7s 130us/step - loss: 0.0013 - val_loss: 0.0013\n",
      "Epoch 19/50\n",
      "53874/53874 [==============================] - 7s 122us/step - loss: 0.0013 - val_loss: 0.0013\n",
      "Epoch 20/50\n",
      "53874/53874 [==============================] - 7s 126us/step - loss: 0.0013 - val_loss: 0.0013\n",
      "Epoch 21/50\n",
      "53874/53874 [==============================] - 6s 118us/step - loss: 0.0013 - val_loss: 0.0012\n",
      "Epoch 22/50\n",
      "53874/53874 [==============================] - 7s 123us/step - loss: 0.0012 - val_loss: 0.0012\n",
      "Epoch 23/50\n",
      "53874/53874 [==============================] - 6s 120us/step - loss: 0.0012 - val_loss: 0.0012\n",
      "Epoch 24/50\n",
      "53874/53874 [==============================] - 7s 123us/step - loss: 0.0012 - val_loss: 0.0012\n",
      "Epoch 25/50\n",
      "53874/53874 [==============================] - 7s 129us/step - loss: 0.0012 - val_loss: 0.0012\n",
      "Epoch 26/50\n",
      "53874/53874 [==============================] - 6s 119us/step - loss: 0.0012 - val_loss: 0.0012\n",
      "Epoch 27/50\n",
      "53874/53874 [==============================] - 6s 118us/step - loss: 0.0012 - val_loss: 0.0012\n",
      "Epoch 28/50\n",
      "53874/53874 [==============================] - 6s 119us/step - loss: 0.0012 - val_loss: 0.0012\n",
      "Epoch 29/50\n",
      "53874/53874 [==============================] - 7s 121us/step - loss: 0.0012 - val_loss: 0.0012\n",
      "Epoch 30/50\n",
      "53874/53874 [==============================] - 7s 125us/step - loss: 0.0012 - val_loss: 0.0012\n",
      "Epoch 31/50\n",
      "53874/53874 [==============================] - 7s 126us/step - loss: 0.0012 - val_loss: 0.0012\n",
      "Epoch 32/50\n",
      "53874/53874 [==============================] - 7s 136us/step - loss: 0.0012 - val_loss: 0.0012\n",
      "Epoch 33/50\n",
      "53874/53874 [==============================] - 7s 125us/step - loss: 0.0011 - val_loss: 0.0011\n",
      "Epoch 34/50\n",
      "53874/53874 [==============================] - 6s 120us/step - loss: 0.0011 - val_loss: 0.0012\n",
      "Epoch 35/50\n",
      "53874/53874 [==============================] - 6s 119us/step - loss: 0.0011 - val_loss: 0.0012\n",
      "Epoch 36/50\n",
      "53874/53874 [==============================] - 7s 121us/step - loss: 0.0011 - val_loss: 0.0011\n",
      "Reconstruction error RMSE threshold:  0.2601061743214479\n",
      "Reconstruction error MAE threshold:  0.09709652020601328\n",
      "performance of RMSE:\n",
      "False Positive : 38\n",
      "True Negative : 9673\n",
      "True Positive : 305\n",
      "False Negative : 12528\n",
      "#####################\n",
      "precision = 0.8892128279883382\n",
      "recall = 0.023766851087041223\n",
      "accuracy = 0.4426011355571327\n",
      "F1 = 0.046296296296296294\n",
      "#####################\n",
      "############################\n",
      "performance of MAE:\n",
      "False Positive : 2\n",
      "True Negative : 9709\n",
      "True Positive : 442\n",
      "False Negative : 12391\n",
      "#####################\n",
      "precision = 0.9954954954954955\n",
      "recall = 0.03444245305072859\n",
      "accuracy = 0.4502750177430802\n",
      "F1 = 0.06658130601792574\n",
      "#####################\n",
      "the percentile is: 99.7%\n",
      "X_train_new shape: (64628, 122)\n",
      "input shape: 122\n",
      "Train on 51702 samples, validate on 12926 samples\n",
      "Epoch 1/50\n",
      "51702/51702 [==============================] - 7s 139us/step - loss: 0.0058 - val_loss: 0.0025\n",
      "Epoch 2/50\n",
      "51702/51702 [==============================] - 6s 117us/step - loss: 0.0021 - val_loss: 0.0019\n",
      "Epoch 3/50\n",
      "51702/51702 [==============================] - 6s 118us/step - loss: 0.0017 - val_loss: 0.0016\n",
      "Epoch 4/50\n",
      "51702/51702 [==============================] - 6s 121us/step - loss: 0.0016 - val_loss: 0.0015\n",
      "Epoch 5/50\n",
      "51702/51702 [==============================] - 6s 124us/step - loss: 0.0015 - val_loss: 0.0014\n",
      "Epoch 6/50\n",
      "51702/51702 [==============================] - 6s 121us/step - loss: 0.0014 - val_loss: 0.0013\n",
      "Epoch 7/50\n",
      "51702/51702 [==============================] - 7s 132us/step - loss: 0.0013 - val_loss: 0.0013\n",
      "Epoch 8/50\n",
      "51702/51702 [==============================] - 7s 132us/step - loss: 0.0013 - val_loss: 0.0012\n",
      "Epoch 9/50\n",
      "51702/51702 [==============================] - 7s 128us/step - loss: 0.0012 - val_loss: 0.0012\n",
      "Epoch 10/50\n",
      "51702/51702 [==============================] - 6s 125us/step - loss: 0.0012 - val_loss: 0.0011\n",
      "Epoch 11/50\n",
      "51702/51702 [==============================] - 6s 123us/step - loss: 0.0011 - val_loss: 0.0011\n",
      "Epoch 12/50\n",
      "51702/51702 [==============================] - 6s 125us/step - loss: 0.0011 - val_loss: 0.0011\n",
      "Epoch 13/50\n",
      "51702/51702 [==============================] - 6s 124us/step - loss: 0.0011 - val_loss: 0.0010\n",
      "Epoch 14/50\n",
      "51702/51702 [==============================] - 6s 126us/step - loss: 0.0010 - val_loss: 0.0010\n",
      "Epoch 15/50\n",
      "51702/51702 [==============================] - 6s 123us/step - loss: 0.0010 - val_loss: 9.9634e-04\n",
      "Epoch 16/50\n",
      "51702/51702 [==============================] - 6s 122us/step - loss: 9.9437e-04 - val_loss: 9.7426e-04\n",
      "Epoch 17/50\n",
      "51702/51702 [==============================] - 7s 133us/step - loss: 9.7714e-04 - val_loss: 9.7750e-04\n",
      "Epoch 18/50\n",
      "51702/51702 [==============================] - 7s 138us/step - loss: 9.6204e-04 - val_loss: 9.4248e-04\n",
      "Epoch 19/50\n",
      "51702/51702 [==============================] - 7s 127us/step - loss: 9.4492e-04 - val_loss: 9.3700e-04\n",
      "Epoch 20/50\n",
      "51702/51702 [==============================] - 6s 123us/step - loss: 9.2871e-04 - val_loss: 9.1667e-04\n",
      "Epoch 21/50\n",
      "51702/51702 [==============================] - 6s 123us/step - loss: 9.1334e-04 - val_loss: 9.1565e-04\n",
      "Epoch 22/50\n",
      "51702/51702 [==============================] - 6s 123us/step - loss: 9.0126e-04 - val_loss: 8.9597e-04\n",
      "Epoch 23/50\n",
      "51702/51702 [==============================] - 7s 127us/step - loss: 8.8983e-04 - val_loss: 8.9675e-04\n",
      "Epoch 24/50\n",
      "51702/51702 [==============================] - 6s 121us/step - loss: 8.7680e-04 - val_loss: 8.7729e-04\n",
      "Epoch 25/50\n",
      "51702/51702 [==============================] - 6s 125us/step - loss: 8.6711e-04 - val_loss: 8.5948e-04\n",
      "Epoch 26/50\n",
      "51702/51702 [==============================] - 7s 136us/step - loss: 8.5549e-04 - val_loss: 8.7110e-04\n",
      "Epoch 27/50\n",
      "51702/51702 [==============================] - 7s 127us/step - loss: 8.4683e-04 - val_loss: 8.4882e-04\n",
      "Epoch 28/50\n",
      "51702/51702 [==============================] - 6s 122us/step - loss: 8.3772e-04 - val_loss: 8.3955e-04\n",
      "Epoch 29/50\n",
      "51702/51702 [==============================] - 6s 124us/step - loss: 8.3108e-04 - val_loss: 8.2551e-04\n",
      "Epoch 30/50\n",
      "51702/51702 [==============================] - 7s 133us/step - loss: 8.2311e-04 - val_loss: 8.4099e-04\n",
      "Epoch 31/50\n",
      "51702/51702 [==============================] - 7s 127us/step - loss: 8.1646e-04 - val_loss: 8.3504e-04\n",
      "Epoch 32/50\n",
      "51702/51702 [==============================] - 6s 123us/step - loss: 8.1106e-04 - val_loss: 8.1708e-04\n",
      "Epoch 33/50\n",
      "51702/51702 [==============================] - 6s 121us/step - loss: 8.0452e-04 - val_loss: 8.2339e-04\n",
      "Epoch 34/50\n",
      "51702/51702 [==============================] - 6s 123us/step - loss: 8.0033e-04 - val_loss: 7.9442e-04\n",
      "Epoch 35/50\n",
      "51702/51702 [==============================] - 6s 123us/step - loss: 7.9643e-04 - val_loss: 8.2977e-04\n",
      "Epoch 36/50\n",
      "51702/51702 [==============================] - 6s 122us/step - loss: 7.9177e-04 - val_loss: 8.0416e-04\n",
      "Epoch 37/50\n",
      "51702/51702 [==============================] - 6s 123us/step - loss: 7.8652e-04 - val_loss: 8.0637e-04\n",
      "Reconstruction error RMSE threshold:  0.1997924865537554\n",
      "Reconstruction error MAE threshold:  0.06904105128736206\n",
      "performance of RMSE:\n",
      "False Positive : 489\n",
      "True Negative : 9222\n",
      "True Positive : 5883\n",
      "False Negative : 6950\n",
      "#####################\n",
      "precision = 0.9232580037664784\n",
      "recall = 0.45842749162315904\n",
      "accuracy = 0.6700230660042583\n",
      "F1 = 0.612652954959646\n",
      "#####################\n",
      "############################\n",
      "performance of MAE:\n",
      "False Positive : 95\n",
      "True Negative : 9616\n",
      "True Positive : 6142\n",
      "False Negative : 6691\n",
      "#####################\n",
      "precision = 0.9847683181016514\n",
      "recall = 0.4786098340216629\n",
      "accuracy = 0.6989886444286728\n",
      "F1 = 0.6441531200839014\n",
      "#####################\n",
      "the percentile is: 99%\n",
      "X_train_new shape: (57872, 122)\n",
      "input shape: 122\n",
      "Train on 46297 samples, validate on 11575 samples\n",
      "Epoch 1/50\n",
      "46297/46297 [==============================] - 6s 139us/step - loss: 0.0065 - val_loss: 0.0025\n",
      "Epoch 2/50\n",
      "46297/46297 [==============================] - 6s 127us/step - loss: 0.0022 - val_loss: 0.0019\n",
      "Epoch 3/50\n",
      "46297/46297 [==============================] - 6s 130us/step - loss: 0.0017 - val_loss: 0.0016\n",
      "Epoch 4/50\n",
      "46297/46297 [==============================] - 6s 120us/step - loss: 0.0016 - val_loss: 0.0015\n",
      "Epoch 5/50\n",
      "46297/46297 [==============================] - 6s 121us/step - loss: 0.0014 - val_loss: 0.0014\n",
      "Epoch 6/50\n",
      "46297/46297 [==============================] - 6s 123us/step - loss: 0.0013 - val_loss: 0.0013\n",
      "Epoch 7/50\n",
      "46297/46297 [==============================] - 6s 123us/step - loss: 0.0013 - val_loss: 0.0012\n",
      "Epoch 8/50\n",
      "46297/46297 [==============================] - 6s 120us/step - loss: 0.0012 - val_loss: 0.0012\n",
      "Epoch 9/50\n",
      "46297/46297 [==============================] - 6s 123us/step - loss: 0.0012 - val_loss: 0.0011\n",
      "Epoch 10/50\n",
      "46297/46297 [==============================] - 6s 122us/step - loss: 0.0011 - val_loss: 0.0011\n",
      "Epoch 11/50\n",
      "46297/46297 [==============================] - 6s 120us/step - loss: 0.0011 - val_loss: 0.0011\n",
      "Epoch 12/50\n",
      "46297/46297 [==============================] - 6s 120us/step - loss: 0.0010 - val_loss: 0.0010\n",
      "Epoch 13/50\n",
      "46297/46297 [==============================] - 6s 120us/step - loss: 0.0010 - val_loss: 9.9699e-04\n",
      "Epoch 14/50\n",
      "46297/46297 [==============================] - 6s 120us/step - loss: 9.8530e-04 - val_loss: 9.7797e-04\n",
      "Epoch 15/50\n",
      "46297/46297 [==============================] - 6s 124us/step - loss: 9.6441e-04 - val_loss: 9.5602e-04\n",
      "Epoch 16/50\n",
      "46297/46297 [==============================] - 6s 123us/step - loss: 9.4987e-04 - val_loss: 9.4965e-04\n",
      "Epoch 17/50\n",
      "46297/46297 [==============================] - 6s 122us/step - loss: 9.3764e-04 - val_loss: 9.3413e-04\n",
      "Epoch 18/50\n",
      "46297/46297 [==============================] - 6s 122us/step - loss: 9.2551e-04 - val_loss: 9.2710e-04\n",
      "Epoch 19/50\n",
      "46297/46297 [==============================] - 6s 129us/step - loss: 9.1351e-04 - val_loss: 9.1623e-04\n",
      "Epoch 20/50\n",
      "46297/46297 [==============================] - 6s 124us/step - loss: 9.0440e-04 - val_loss: 9.1821e-04\n",
      "Epoch 21/50\n",
      "46297/46297 [==============================] - 6s 128us/step - loss: 8.9564e-04 - val_loss: 8.9138e-04\n",
      "Epoch 22/50\n",
      "46297/46297 [==============================] - 6s 122us/step - loss: 8.8541e-04 - val_loss: 8.7040e-04\n",
      "Epoch 23/50\n",
      "46297/46297 [==============================] - 6s 121us/step - loss: 8.7323e-04 - val_loss: 8.8747e-04\n",
      "Epoch 24/50\n",
      "46297/46297 [==============================] - 6s 127us/step - loss: 8.6476e-04 - val_loss: 8.8116e-04\n",
      "Epoch 25/50\n",
      "46297/46297 [==============================] - 7s 145us/step - loss: 8.5573e-04 - val_loss: 8.5032e-04\n",
      "Epoch 26/50\n",
      "46297/46297 [==============================] - 7s 147us/step - loss: 8.4878e-04 - val_loss: 8.5244e-04\n",
      "Epoch 27/50\n",
      "46297/46297 [==============================] - 6s 133us/step - loss: 8.3948e-04 - val_loss: 8.3568e-04\n",
      "Epoch 28/50\n",
      "46297/46297 [==============================] - 6s 131us/step - loss: 8.3324e-04 - val_loss: 8.2946e-04\n",
      "Epoch 29/50\n",
      "46297/46297 [==============================] - 6s 131us/step - loss: 8.2626e-04 - val_loss: 8.2621e-04\n",
      "Epoch 30/50\n",
      "46297/46297 [==============================] - 6s 135us/step - loss: 8.1851e-04 - val_loss: 8.1065e-04\n",
      "Epoch 31/50\n",
      "46297/46297 [==============================] - 6s 137us/step - loss: 8.1323e-04 - val_loss: 8.1252e-04\n",
      "Epoch 32/50\n",
      "46297/46297 [==============================] - 7s 146us/step - loss: 8.0585e-04 - val_loss: 8.0230e-04\n",
      "Epoch 33/50\n",
      "46297/46297 [==============================] - 7s 142us/step - loss: 7.9896e-04 - val_loss: 8.0662e-04\n",
      "Epoch 34/50\n",
      "46297/46297 [==============================] - 6s 137us/step - loss: 7.9143e-04 - val_loss: 8.1234e-04\n",
      "Epoch 35/50\n",
      "46297/46297 [==============================] - 6s 133us/step - loss: 7.8367e-04 - val_loss: 8.0106e-04\n",
      "Epoch 36/50\n",
      "46297/46297 [==============================] - 6s 134us/step - loss: 7.7867e-04 - val_loss: 7.7926e-04\n",
      "Epoch 37/50\n",
      "46297/46297 [==============================] - 7s 141us/step - loss: 7.7318e-04 - val_loss: 7.7833e-04\n",
      "Epoch 38/50\n",
      "46297/46297 [==============================] - 6s 136us/step - loss: 7.6808e-04 - val_loss: 7.7988e-04\n",
      "Epoch 39/50\n",
      "46297/46297 [==============================] - 6s 132us/step - loss: 7.6466e-04 - val_loss: 7.6864e-04\n",
      "Epoch 40/50\n",
      "46297/46297 [==============================] - 6s 134us/step - loss: 7.5953e-04 - val_loss: 7.5734e-04\n",
      "Epoch 41/50\n",
      "46297/46297 [==============================] - 6s 132us/step - loss: 7.5583e-04 - val_loss: 7.6012e-04\n",
      "Epoch 42/50\n",
      "46297/46297 [==============================] - 6s 139us/step - loss: 7.5320e-04 - val_loss: 7.6225e-04\n",
      "Epoch 43/50\n",
      "46297/46297 [==============================] - 6s 135us/step - loss: 7.4846e-04 - val_loss: 7.6169e-04\n",
      "Reconstruction error RMSE threshold:  0.16652161672488452\n",
      "Reconstruction error MAE threshold:  0.051798719358195806\n",
      "performance of RMSE:\n",
      "False Positive : 827\n",
      "True Negative : 8884\n",
      "True Positive : 9944\n",
      "False Negative : 2889\n",
      "#####################\n",
      "precision = 0.9232197567542475\n",
      "recall = 0.7748772695394686\n",
      "accuracy = 0.835166784953868\n",
      "F1 = 0.8425690560921878\n",
      "#####################\n",
      "############################\n",
      "performance of MAE:\n",
      "False Positive : 824\n",
      "True Negative : 8887\n",
      "True Positive : 9835\n",
      "False Negative : 2998\n",
      "#####################\n",
      "precision = 0.9226944366263252\n",
      "recall = 0.7663835424296735\n",
      "accuracy = 0.8304648687012065\n",
      "F1 = 0.8373063170441002\n",
      "#####################\n",
      "the percentile is: 98%\n",
      "X_train_new shape: (51170, 122)\n",
      "input shape: 122\n",
      "Train on 40936 samples, validate on 10234 samples\n",
      "Epoch 1/50\n",
      "40936/40936 [==============================] - 6s 150us/step - loss: 0.0048 - val_loss: 0.0018\n",
      "Epoch 2/50\n",
      "40936/40936 [==============================] - 5s 134us/step - loss: 0.0017 - val_loss: 0.0015\n",
      "Epoch 3/50\n",
      "40936/40936 [==============================] - 6s 143us/step - loss: 0.0014 - val_loss: 0.0012\n",
      "Epoch 4/50\n",
      "40936/40936 [==============================] - 6s 135us/step - loss: 0.0011 - val_loss: 0.0011\n",
      "Epoch 5/50\n",
      "40936/40936 [==============================] - 5s 134us/step - loss: 0.0010 - val_loss: 0.0010\n",
      "Epoch 6/50\n",
      "40936/40936 [==============================] - 6s 136us/step - loss: 9.7138e-04 - val_loss: 9.4111e-04\n",
      "Epoch 7/50\n",
      "40936/40936 [==============================] - 6s 135us/step - loss: 9.2290e-04 - val_loss: 8.9894e-04\n",
      "Epoch 8/50\n",
      "40936/40936 [==============================] - 6s 136us/step - loss: 8.8210e-04 - val_loss: 8.6157e-04\n",
      "Epoch 9/50\n",
      "40936/40936 [==============================] - 6s 141us/step - loss: 8.4436e-04 - val_loss: 8.2472e-04\n",
      "Epoch 10/50\n",
      "40936/40936 [==============================] - 5s 122us/step - loss: 7.9859e-04 - val_loss: 7.7037e-04\n",
      "Epoch 11/50\n",
      "40936/40936 [==============================] - 5s 129us/step - loss: 7.4346e-04 - val_loss: 7.2869e-04\n",
      "Epoch 12/50\n",
      "40936/40936 [==============================] - 5s 122us/step - loss: 7.0440e-04 - val_loss: 6.9846e-04\n",
      "Epoch 13/50\n",
      "40936/40936 [==============================] - 5s 122us/step - loss: 6.8156e-04 - val_loss: 6.7123e-04\n",
      "Epoch 14/50\n",
      "40936/40936 [==============================] - 5s 124us/step - loss: 6.7035e-04 - val_loss: 6.5405e-04\n",
      "Epoch 15/50\n",
      "40936/40936 [==============================] - 5s 127us/step - loss: 6.6098e-04 - val_loss: 6.6832e-04\n",
      "Epoch 16/50\n",
      "40936/40936 [==============================] - 5s 126us/step - loss: 6.4527e-04 - val_loss: 6.3565e-04\n",
      "Epoch 17/50\n",
      "40936/40936 [==============================] - 5s 119us/step - loss: 6.2630e-04 - val_loss: 6.2292e-04\n",
      "Epoch 18/50\n",
      "40936/40936 [==============================] - 5s 121us/step - loss: 6.1715e-04 - val_loss: 6.0842e-04\n",
      "Epoch 19/50\n",
      "40936/40936 [==============================] - 5s 121us/step - loss: 6.1040e-04 - val_loss: 6.0888e-04\n",
      "Epoch 20/50\n",
      "40936/40936 [==============================] - 5s 122us/step - loss: 6.0416e-04 - val_loss: 6.0124e-04\n",
      "Epoch 21/50\n",
      "40936/40936 [==============================] - 5s 119us/step - loss: 5.9880e-04 - val_loss: 5.8420e-04\n",
      "Epoch 22/50\n",
      "40936/40936 [==============================] - 7s 174us/step - loss: 5.9363e-04 - val_loss: 5.6980e-04\n",
      "Epoch 23/50\n",
      "40936/40936 [==============================] - 6s 137us/step - loss: 5.8567e-04 - val_loss: 5.8129e-04\n",
      "Epoch 24/50\n",
      "40936/40936 [==============================] - 5s 134us/step - loss: 5.7841e-04 - val_loss: 5.7108e-04\n",
      "Epoch 25/50\n",
      "40936/40936 [==============================] - 5s 130us/step - loss: 5.7318e-04 - val_loss: 5.7298e-04\n",
      "Reconstruction error RMSE threshold:  0.17523918877736586\n",
      "Reconstruction error MAE threshold:  0.053847549445075506\n",
      "performance of RMSE:\n",
      "False Positive : 971\n",
      "True Negative : 8740\n",
      "True Positive : 10579\n",
      "False Negative : 2254\n",
      "#####################\n",
      "precision = 0.9159307359307359\n",
      "recall = 0.8243590742616691\n",
      "accuracy = 0.8569464158977999\n",
      "F1 = 0.8677357175081\n",
      "#####################\n",
      "############################\n",
      "performance of MAE:\n",
      "False Positive : 840\n",
      "True Negative : 8871\n",
      "True Positive : 10526\n",
      "False Negative : 2307\n",
      "#####################\n",
      "precision = 0.9260953721625902\n",
      "recall = 0.8202290968596587\n",
      "accuracy = 0.8604063165365508\n",
      "F1 = 0.8699533038555312\n",
      "#####################\n",
      "the percentile is: 97%\n",
      "X_train_new shape: (46300, 122)\n",
      "input shape: 122\n",
      "Train on 37040 samples, validate on 9260 samples\n",
      "Epoch 1/50\n",
      "37040/37040 [==============================] - 5s 142us/step - loss: 0.0057 - val_loss: 0.0021\n",
      "Epoch 2/50\n",
      "37040/37040 [==============================] - 4s 118us/step - loss: 0.0017 - val_loss: 0.0013\n",
      "Epoch 3/50\n",
      "37040/37040 [==============================] - 4s 120us/step - loss: 0.0011 - val_loss: 0.0010\n",
      "Epoch 4/50\n",
      "37040/37040 [==============================] - 5s 123us/step - loss: 8.7991e-04 - val_loss: 8.2923e-04\n",
      "Epoch 5/50\n",
      "37040/37040 [==============================] - 5s 124us/step - loss: 7.6450e-04 - val_loss: 7.3824e-04\n",
      "Epoch 6/50\n",
      "37040/37040 [==============================] - 5s 122us/step - loss: 7.0100e-04 - val_loss: 7.0399e-04\n",
      "Epoch 7/50\n",
      "37040/37040 [==============================] - 4s 121us/step - loss: 6.6848e-04 - val_loss: 6.7020e-04\n",
      "Epoch 8/50\n",
      "37040/37040 [==============================] - 5s 122us/step - loss: 6.4044e-04 - val_loss: 6.4866e-04\n",
      "Epoch 9/50\n",
      "37040/37040 [==============================] - 5s 122us/step - loss: 6.1238e-04 - val_loss: 6.0899e-04\n",
      "Epoch 10/50\n",
      "37040/37040 [==============================] - 4s 120us/step - loss: 5.8718e-04 - val_loss: 6.1154e-04\n",
      "Epoch 11/50\n",
      "37040/37040 [==============================] - 5s 126us/step - loss: 5.6681e-04 - val_loss: 5.6134e-04\n",
      "Epoch 12/50\n",
      "37040/37040 [==============================] - 5s 123us/step - loss: 5.5182e-04 - val_loss: 5.5963e-04\n",
      "Epoch 13/50\n",
      "37040/37040 [==============================] - 5s 122us/step - loss: 5.3868e-04 - val_loss: 5.4946e-04\n",
      "Epoch 14/50\n",
      "37040/37040 [==============================] - 5s 122us/step - loss: 5.2831e-04 - val_loss: 5.3483e-04\n",
      "Epoch 15/50\n",
      "37040/37040 [==============================] - 4s 121us/step - loss: 5.1746e-04 - val_loss: 5.2286e-04\n",
      "Epoch 16/50\n",
      "37040/37040 [==============================] - 5s 128us/step - loss: 5.0695e-04 - val_loss: 5.1800e-04\n",
      "Epoch 17/50\n",
      "37040/37040 [==============================] - 4s 120us/step - loss: 4.9810e-04 - val_loss: 4.9543e-04\n",
      "Epoch 18/50\n",
      "37040/37040 [==============================] - 4s 120us/step - loss: 4.8865e-04 - val_loss: 4.9134e-04\n",
      "Epoch 19/50\n",
      "37040/37040 [==============================] - 5s 124us/step - loss: 4.8115e-04 - val_loss: 4.9792e-04\n",
      "Epoch 20/50\n",
      "37040/37040 [==============================] - 4s 121us/step - loss: 4.7347e-04 - val_loss: 4.9040e-04\n",
      "Epoch 21/50\n",
      "37040/37040 [==============================] - 5s 122us/step - loss: 4.6976e-04 - val_loss: 4.7398e-04\n",
      "Epoch 22/50\n",
      "37040/37040 [==============================] - 4s 121us/step - loss: 4.6401e-04 - val_loss: 4.7674e-04\n",
      "Epoch 23/50\n",
      "37040/37040 [==============================] - 5s 122us/step - loss: 4.5953e-04 - val_loss: 4.6980e-04\n",
      "Epoch 24/50\n",
      "37040/37040 [==============================] - 4s 121us/step - loss: 4.5719e-04 - val_loss: 4.6996e-04\n",
      "Epoch 25/50\n",
      "37040/37040 [==============================] - 5s 129us/step - loss: 4.5170e-04 - val_loss: 4.5973e-04\n",
      "Epoch 26/50\n",
      "37040/37040 [==============================] - 5s 124us/step - loss: 4.4740e-04 - val_loss: 4.7238e-04\n",
      "Epoch 27/50\n",
      "37040/37040 [==============================] - 5s 123us/step - loss: 4.4625e-04 - val_loss: 4.4919e-04\n",
      "Epoch 28/50\n",
      "37040/37040 [==============================] - 5s 123us/step - loss: 4.4157e-04 - val_loss: 4.5161e-04\n",
      "Epoch 29/50\n",
      "37040/37040 [==============================] - 4s 121us/step - loss: 4.3948e-04 - val_loss: 4.4409e-04\n",
      "Epoch 30/50\n",
      "37040/37040 [==============================] - 5s 129us/step - loss: 4.3399e-04 - val_loss: 4.5071e-04\n",
      "Epoch 31/50\n",
      "37040/37040 [==============================] - 5s 122us/step - loss: 4.3146e-04 - val_loss: 4.3242e-04\n",
      "Epoch 32/50\n",
      "37040/37040 [==============================] - 5s 123us/step - loss: 4.2925e-04 - val_loss: 4.4696e-04\n",
      "Epoch 33/50\n",
      "37040/37040 [==============================] - 5s 127us/step - loss: 4.2593e-04 - val_loss: 4.4277e-04\n",
      "Epoch 34/50\n",
      "37040/37040 [==============================] - 5s 122us/step - loss: 4.2363e-04 - val_loss: 4.3103e-04\n",
      "Epoch 35/50\n",
      "37040/37040 [==============================] - 4s 121us/step - loss: 4.2134e-04 - val_loss: 4.3333e-04\n",
      "Epoch 36/50\n",
      "37040/37040 [==============================] - 5s 125us/step - loss: 4.1825e-04 - val_loss: 4.2070e-04\n",
      "Epoch 37/50\n",
      "37040/37040 [==============================] - 5s 123us/step - loss: 4.1748e-04 - val_loss: 4.4744e-04\n",
      "Epoch 38/50\n",
      "37040/37040 [==============================] - 5s 122us/step - loss: 4.1609e-04 - val_loss: 4.3832e-04\n",
      "Epoch 39/50\n",
      "37040/37040 [==============================] - 5s 123us/step - loss: 4.1157e-04 - val_loss: 4.3237e-04\n",
      "Reconstruction error RMSE threshold:  0.16359490223463657\n",
      "Reconstruction error MAE threshold:  0.06426063428403529\n",
      "performance of RMSE:\n",
      "False Positive : 1247\n",
      "True Negative : 8464\n",
      "True Positive : 11209\n",
      "False Negative : 1624\n",
      "#####################\n",
      "precision = 0.8998876043673731\n",
      "recall = 0.8734512584742461\n",
      "accuracy = 0.8726490418736693\n",
      "F1 = 0.8864723792953457\n",
      "#####################\n",
      "############################\n",
      "performance of MAE:\n",
      "False Positive : 957\n",
      "True Negative : 8754\n",
      "True Positive : 10465\n",
      "False Negative : 2368\n",
      "#####################\n",
      "precision = 0.9162143232358606\n",
      "recall = 0.8154757266422504\n",
      "accuracy = 0.8525106458481192\n",
      "F1 = 0.862914862914863\n",
      "#####################\n",
      "the percentile is: 96%\n",
      "X_train_new shape: (42104, 122)\n",
      "input shape: 122\n",
      "Train on 33683 samples, validate on 8421 samples\n",
      "Epoch 1/50\n",
      "33683/33683 [==============================] - 5s 139us/step - loss: 0.0058 - val_loss: 0.0018\n",
      "Epoch 2/50\n",
      "33683/33683 [==============================] - 4s 114us/step - loss: 0.0015 - val_loss: 0.0014\n",
      "Epoch 3/50\n",
      "33683/33683 [==============================] - 4s 115us/step - loss: 0.0012 - val_loss: 0.0011\n",
      "Epoch 4/50\n",
      "33683/33683 [==============================] - 4s 121us/step - loss: 0.0010 - val_loss: 9.5280e-04\n",
      "Epoch 5/50\n",
      "33683/33683 [==============================] - 4s 120us/step - loss: 9.3133e-04 - val_loss: 9.0956e-04\n",
      "Epoch 6/50\n",
      "33683/33683 [==============================] - 4s 120us/step - loss: 9.0133e-04 - val_loss: 8.8887e-04\n",
      "Epoch 7/50\n",
      "33683/33683 [==============================] - 4s 120us/step - loss: 8.8015e-04 - val_loss: 8.7191e-04\n",
      "Epoch 8/50\n",
      "33683/33683 [==============================] - 4s 119us/step - loss: 8.6480e-04 - val_loss: 8.5789e-04\n",
      "Epoch 9/50\n",
      "33683/33683 [==============================] - 4s 120us/step - loss: 8.5315e-04 - val_loss: 8.4447e-04\n",
      "Epoch 10/50\n",
      "33683/33683 [==============================] - 4s 119us/step - loss: 8.4213e-04 - val_loss: 8.3310e-04\n",
      "Epoch 11/50\n",
      "33683/33683 [==============================] - 4s 120us/step - loss: 8.3274e-04 - val_loss: 8.1937e-04\n",
      "Epoch 12/50\n",
      "33683/33683 [==============================] - 4s 118us/step - loss: 8.2379e-04 - val_loss: 8.2009e-04\n",
      "Epoch 13/50\n",
      "33683/33683 [==============================] - 4s 120us/step - loss: 8.1407e-04 - val_loss: 8.0436e-04\n",
      "Epoch 14/50\n",
      "33683/33683 [==============================] - 4s 118us/step - loss: 8.0439e-04 - val_loss: 7.9069e-04\n",
      "Epoch 15/50\n",
      "33683/33683 [==============================] - 4s 120us/step - loss: 7.9312e-04 - val_loss: 7.8710e-04\n",
      "Epoch 16/50\n",
      "33683/33683 [==============================] - 4s 121us/step - loss: 7.8276e-04 - val_loss: 7.7496e-04\n",
      "Epoch 17/50\n",
      "33683/33683 [==============================] - 4s 118us/step - loss: 7.6757e-04 - val_loss: 7.5021e-04\n",
      "Epoch 18/50\n",
      "33683/33683 [==============================] - 4s 121us/step - loss: 7.4473e-04 - val_loss: 7.2917e-04\n",
      "Epoch 19/50\n",
      "33683/33683 [==============================] - 4s 119us/step - loss: 7.0762e-04 - val_loss: 6.7665e-04\n",
      "Epoch 20/50\n",
      "33683/33683 [==============================] - 4s 119us/step - loss: 6.4476e-04 - val_loss: 6.1255e-04\n",
      "Epoch 21/50\n",
      "33683/33683 [==============================] - 4s 123us/step - loss: 5.9254e-04 - val_loss: 5.7558e-04\n",
      "Epoch 22/50\n",
      "33683/33683 [==============================] - 4s 120us/step - loss: 5.6438e-04 - val_loss: 5.4794e-04\n",
      "Epoch 23/50\n",
      "33683/33683 [==============================] - 4s 118us/step - loss: 5.4886e-04 - val_loss: 5.3321e-04\n",
      "Epoch 24/50\n",
      "33683/33683 [==============================] - 4s 120us/step - loss: 5.3546e-04 - val_loss: 5.1590e-04\n",
      "Epoch 25/50\n",
      "33683/33683 [==============================] - 4s 118us/step - loss: 5.2355e-04 - val_loss: 5.0899e-04\n",
      "Epoch 26/50\n",
      "33683/33683 [==============================] - 4s 120us/step - loss: 5.1200e-04 - val_loss: 4.9314e-04\n",
      "Epoch 27/50\n",
      "33683/33683 [==============================] - 4s 121us/step - loss: 5.0184e-04 - val_loss: 4.8930e-04\n",
      "Epoch 28/50\n",
      "33683/33683 [==============================] - 4s 123us/step - loss: 4.9268e-04 - val_loss: 4.8369e-04\n",
      "Epoch 29/50\n",
      "33683/33683 [==============================] - 4s 120us/step - loss: 4.8534e-04 - val_loss: 4.7049e-04\n",
      "Epoch 30/50\n",
      "33683/33683 [==============================] - 4s 120us/step - loss: 4.8129e-04 - val_loss: 4.7884e-04\n",
      "Epoch 31/50\n",
      "33683/33683 [==============================] - 4s 120us/step - loss: 4.7554e-04 - val_loss: 4.6138e-04\n",
      "Epoch 32/50\n",
      "33683/33683 [==============================] - 4s 120us/step - loss: 4.7179e-04 - val_loss: 4.6341e-04\n",
      "Epoch 33/50\n",
      "33683/33683 [==============================] - 4s 120us/step - loss: 4.6912e-04 - val_loss: 4.5520e-04\n",
      "Epoch 34/50\n",
      "33683/33683 [==============================] - 4s 120us/step - loss: 4.6497e-04 - val_loss: 4.6674e-04\n",
      "Epoch 35/50\n",
      "33683/33683 [==============================] - 4s 121us/step - loss: 4.6289e-04 - val_loss: 4.5604e-04\n",
      "Epoch 36/50\n",
      "33683/33683 [==============================] - 4s 119us/step - loss: 4.5836e-04 - val_loss: 4.5197e-04\n",
      "Epoch 37/50\n",
      "33683/33683 [==============================] - 4s 124us/step - loss: 4.5506e-04 - val_loss: 4.4715e-04\n",
      "Epoch 38/50\n",
      "33683/33683 [==============================] - 4s 126us/step - loss: 4.5158e-04 - val_loss: 4.3581e-04\n",
      "Epoch 39/50\n",
      "33683/33683 [==============================] - 4s 126us/step - loss: 4.4818e-04 - val_loss: 4.4399e-04\n",
      "Epoch 40/50\n",
      "33683/33683 [==============================] - 4s 129us/step - loss: 4.4489e-04 - val_loss: 4.3377e-04\n",
      "Epoch 41/50\n",
      "33683/33683 [==============================] - 4s 123us/step - loss: 4.4153e-04 - val_loss: 4.3281e-04\n",
      "Epoch 42/50\n",
      "33683/33683 [==============================] - 4s 121us/step - loss: 4.3830e-04 - val_loss: 4.3036e-04\n",
      "Epoch 43/50\n",
      "33683/33683 [==============================] - 4s 120us/step - loss: 4.3628e-04 - val_loss: 4.2880e-04\n",
      "Epoch 44/50\n",
      "33683/33683 [==============================] - 4s 118us/step - loss: 4.3225e-04 - val_loss: 4.2124e-04\n",
      "Epoch 45/50\n",
      "33683/33683 [==============================] - 4s 121us/step - loss: 4.3091e-04 - val_loss: 4.2043e-04\n",
      "Epoch 46/50\n",
      "33683/33683 [==============================] - 4s 120us/step - loss: 4.2760e-04 - val_loss: 4.2103e-04\n",
      "Epoch 47/50\n",
      "33683/33683 [==============================] - 4s 124us/step - loss: 4.2544e-04 - val_loss: 4.0988e-04\n",
      "Epoch 48/50\n",
      "33683/33683 [==============================] - 4s 120us/step - loss: 4.2160e-04 - val_loss: 4.1866e-04\n",
      "Epoch 49/50\n",
      "33683/33683 [==============================] - 4s 120us/step - loss: 4.1958e-04 - val_loss: 4.0899e-04\n",
      "Epoch 50/50\n",
      "33683/33683 [==============================] - 4s 122us/step - loss: 4.1693e-04 - val_loss: 4.0973e-04\n",
      "Reconstruction error RMSE threshold:  0.14619053859596076\n",
      "Reconstruction error MAE threshold:  0.036048524873949675\n",
      "performance of RMSE:\n",
      "False Positive : 1714\n",
      "True Negative : 7997\n",
      "True Positive : 11760\n",
      "False Negative : 1073\n",
      "#####################\n",
      "precision = 0.8727920439364703\n",
      "recall = 0.9163874386347697\n",
      "accuracy = 0.876375088715401\n",
      "F1 = 0.8940586155776028\n",
      "#####################\n",
      "############################\n",
      "performance of MAE:\n",
      "False Positive : 1623\n",
      "True Negative : 8088\n",
      "True Positive : 11935\n",
      "False Negative : 898\n",
      "#####################\n",
      "precision = 0.8802920784776516\n",
      "recall = 0.9300241564715966\n",
      "accuracy = 0.8881742370475515\n",
      "F1 = 0.9044750104202189\n",
      "#####################\n",
      "the percentile is: 95%\n",
      "X_train_new shape: (39252, 122)\n",
      "input shape: 122\n",
      "Train on 31401 samples, validate on 7851 samples\n",
      "Epoch 1/50\n",
      "31401/31401 [==============================] - 5s 152us/step - loss: 0.0059 - val_loss: 0.0025\n",
      "Epoch 2/50\n",
      "31401/31401 [==============================] - 4s 120us/step - loss: 0.0022 - val_loss: 0.0021\n",
      "Epoch 3/50\n",
      "31401/31401 [==============================] - 4s 131us/step - loss: 0.0020 - val_loss: 0.0019\n",
      "Epoch 4/50\n",
      "31401/31401 [==============================] - 4s 142us/step - loss: 0.0017 - val_loss: 0.0016\n",
      "Epoch 5/50\n",
      "31401/31401 [==============================] - 4s 124us/step - loss: 0.0016 - val_loss: 0.0015\n",
      "Epoch 6/50\n",
      "31401/31401 [==============================] - 4s 137us/step - loss: 0.0015 - val_loss: 0.0015\n",
      "Epoch 7/50\n",
      "31401/31401 [==============================] - 4s 125us/step - loss: 0.0014 - val_loss: 0.0015\n",
      "Epoch 8/50\n",
      "31401/31401 [==============================] - 4s 126us/step - loss: 0.0014 - val_loss: 0.0014\n",
      "Epoch 9/50\n",
      "31401/31401 [==============================] - 4s 124us/step - loss: 0.0014 - val_loss: 0.0014\n",
      "Epoch 10/50\n",
      "31401/31401 [==============================] - 4s 123us/step - loss: 0.0013 - val_loss: 0.0014\n",
      "Epoch 11/50\n",
      "31401/31401 [==============================] - 4s 124us/step - loss: 0.0013 - val_loss: 0.0013\n",
      "Epoch 12/50\n",
      "31401/31401 [==============================] - 4s 125us/step - loss: 0.0013 - val_loss: 0.0013\n",
      "Epoch 13/50\n",
      "31401/31401 [==============================] - 4s 125us/step - loss: 0.0012 - val_loss: 0.0013\n",
      "Epoch 14/50\n",
      "31401/31401 [==============================] - 4s 126us/step - loss: 0.0012 - val_loss: 0.0012\n",
      "Epoch 15/50\n",
      "31401/31401 [==============================] - 4s 124us/step - loss: 0.0012 - val_loss: 0.0012\n",
      "Epoch 16/50\n",
      "31401/31401 [==============================] - 4s 127us/step - loss: 0.0011 - val_loss: 0.0011\n",
      "Epoch 17/50\n",
      "31401/31401 [==============================] - 4s 130us/step - loss: 0.0010 - val_loss: 0.0010\n",
      "Epoch 18/50\n",
      "31401/31401 [==============================] - 4s 124us/step - loss: 9.8307e-04 - val_loss: 0.0010\n",
      "Epoch 19/50\n",
      "31401/31401 [==============================] - 4s 124us/step - loss: 9.4465e-04 - val_loss: 9.5940e-04\n",
      "Epoch 20/50\n",
      "31401/31401 [==============================] - 4s 123us/step - loss: 9.1801e-04 - val_loss: 9.4647e-04\n",
      "Epoch 21/50\n",
      "31401/31401 [==============================] - 4s 128us/step - loss: 9.0182e-04 - val_loss: 9.3877e-04\n",
      "Epoch 22/50\n",
      "31401/31401 [==============================] - 4s 124us/step - loss: 8.9060e-04 - val_loss: 9.2430e-04\n",
      "Epoch 23/50\n",
      "31401/31401 [==============================] - 4s 123us/step - loss: 8.7941e-04 - val_loss: 9.0283e-04\n",
      "Epoch 24/50\n",
      "31401/31401 [==============================] - 4s 124us/step - loss: 8.7240e-04 - val_loss: 8.9500e-04\n",
      "Epoch 25/50\n",
      "31401/31401 [==============================] - 4s 125us/step - loss: 8.6741e-04 - val_loss: 9.1214e-04\n",
      "Epoch 26/50\n",
      "31401/31401 [==============================] - 4s 125us/step - loss: 8.6137e-04 - val_loss: 8.7986e-04\n",
      "Epoch 27/50\n",
      "31401/31401 [==============================] - 4s 123us/step - loss: 8.5387e-04 - val_loss: 8.7379e-04\n",
      "Epoch 28/50\n",
      "31401/31401 [==============================] - 4s 125us/step - loss: 8.5132e-04 - val_loss: 8.8807e-04\n",
      "Epoch 29/50\n",
      "31401/31401 [==============================] - 4s 124us/step - loss: 8.4593e-04 - val_loss: 8.6849e-04\n",
      "Epoch 30/50\n",
      "31401/31401 [==============================] - 4s 125us/step - loss: 8.4050e-04 - val_loss: 8.6038e-04\n",
      "Epoch 31/50\n",
      "31401/31401 [==============================] - 4s 127us/step - loss: 8.3427e-04 - val_loss: 8.6049e-04\n",
      "Epoch 32/50\n",
      "31401/31401 [==============================] - 4s 124us/step - loss: 8.3306e-04 - val_loss: 8.7794e-04\n",
      "Epoch 33/50\n",
      "31401/31401 [==============================] - 4s 123us/step - loss: 8.2881e-04 - val_loss: 8.6467e-04\n",
      "Reconstruction error RMSE threshold:  0.1394625926658317\n",
      "Reconstruction error MAE threshold:  0.030020147277010023\n",
      "performance of RMSE:\n",
      "False Positive : 1777\n",
      "True Negative : 7934\n",
      "True Positive : 12624\n",
      "False Negative : 209\n",
      "#####################\n",
      "precision = 0.8766057912644956\n",
      "recall = 0.9837138626977324\n",
      "accuracy = 0.9119056068133428\n",
      "F1 = 0.9270764485569509\n",
      "#####################\n",
      "############################\n",
      "performance of MAE:\n",
      "False Positive : 1741\n",
      "True Negative : 7970\n",
      "True Positive : 12696\n",
      "False Negative : 137\n",
      "#####################\n",
      "precision = 0.87940707903304\n",
      "recall = 0.9893243980363127\n",
      "accuracy = 0.9166962384669979\n",
      "F1 = 0.9311331133113311\n",
      "#####################\n",
      "the percentile is: 94%\n",
      "X_train_new shape: (36188, 122)\n",
      "input shape: 122\n",
      "Train on 28950 samples, validate on 7238 samples\n",
      "Epoch 1/50\n",
      "28950/28950 [==============================] - 4s 151us/step - loss: 0.0064 - val_loss: 0.0025\n",
      "Epoch 2/50\n",
      "28950/28950 [==============================] - 3s 115us/step - loss: 0.0023 - val_loss: 0.0023\n",
      "Epoch 3/50\n",
      "28950/28950 [==============================] - 3s 116us/step - loss: 0.0022 - val_loss: 0.0021\n",
      "Epoch 4/50\n",
      "28950/28950 [==============================] - 3s 120us/step - loss: 0.0020 - val_loss: 0.0020\n",
      "Epoch 5/50\n",
      "28950/28950 [==============================] - 28s 950us/step - loss: 0.0019 - val_loss: 0.0019\n",
      "Epoch 6/50\n",
      "28950/28950 [==============================] - 12s 422us/step - loss: 0.0018 - val_loss: 0.0018\n",
      "Epoch 7/50\n",
      "28950/28950 [==============================] - 5s 158us/step - loss: 0.0016 - val_loss: 0.0016\n",
      "Epoch 8/50\n",
      "28950/28950 [==============================] - 3s 114us/step - loss: 0.0015 - val_loss: 0.0015\n",
      "Epoch 9/50\n",
      "28950/28950 [==============================] - 3s 114us/step - loss: 0.0015 - val_loss: 0.0015\n",
      "Epoch 10/50\n",
      "28950/28950 [==============================] - 3s 114us/step - loss: 0.0014 - val_loss: 0.0014\n",
      "Epoch 11/50\n",
      "28950/28950 [==============================] - 3s 119us/step - loss: 0.0014 - val_loss: 0.0014\n",
      "Epoch 12/50\n",
      "28950/28950 [==============================] - 3s 119us/step - loss: 0.0014 - val_loss: 0.0014\n",
      "Epoch 13/50\n",
      "28950/28950 [==============================] - 3s 120us/step - loss: 0.0013 - val_loss: 0.0013\n",
      "Epoch 14/50\n",
      "28950/28950 [==============================] - 4s 124us/step - loss: 0.0013 - val_loss: 0.0013\n",
      "Epoch 15/50\n",
      "28950/28950 [==============================] - 4s 124us/step - loss: 0.0012 - val_loss: 0.0012\n",
      "Epoch 16/50\n",
      "28950/28950 [==============================] - 4s 128us/step - loss: 0.0012 - val_loss: 0.0012\n",
      "Epoch 17/50\n",
      "28950/28950 [==============================] - 4s 125us/step - loss: 0.0012 - val_loss: 0.0012\n",
      "Epoch 18/50\n",
      "28950/28950 [==============================] - 947s 33ms/step - loss: 0.0011 - val_loss: 0.0011\n",
      "Epoch 19/50\n",
      "28950/28950 [==============================] - 4s 132us/step - loss: 0.0011 - val_loss: 0.0011\n",
      "Epoch 20/50\n",
      "28950/28950 [==============================] - 4s 133us/step - loss: 0.0011 - val_loss: 0.0011\n",
      "Epoch 21/50\n",
      "28950/28950 [==============================] - 4s 146us/step - loss: 0.0011 - val_loss: 0.0011\n",
      "Epoch 22/50\n",
      "28950/28950 [==============================] - 4s 131us/step - loss: 0.0010 - val_loss: 0.0011\n",
      "Epoch 23/50\n",
      "28950/28950 [==============================] - 4s 131us/step - loss: 0.0010 - val_loss: 0.0010\n",
      "Epoch 24/50\n",
      "28950/28950 [==============================] - 4s 132us/step - loss: 0.0010 - val_loss: 0.0010\n",
      "Epoch 25/50\n",
      "28950/28950 [==============================] - 4s 131us/step - loss: 9.8992e-04 - val_loss: 0.0010\n",
      "Epoch 26/50\n",
      "28950/28950 [==============================] - 4s 144us/step - loss: 9.7318e-04 - val_loss: 9.8202e-04\n",
      "Epoch 27/50\n",
      "28950/28950 [==============================] - 4s 134us/step - loss: 9.5381e-04 - val_loss: 9.7962e-04\n",
      "Epoch 28/50\n",
      "28950/28950 [==============================] - 4s 123us/step - loss: 9.3782e-04 - val_loss: 9.4414e-04\n",
      "Epoch 29/50\n",
      "28950/28950 [==============================] - 4s 126us/step - loss: 9.2459e-04 - val_loss: 9.5425e-04\n",
      "Epoch 30/50\n",
      "28950/28950 [==============================] - 4s 125us/step - loss: 9.1211e-04 - val_loss: 9.2203e-04\n",
      "Epoch 31/50\n",
      "28950/28950 [==============================] - 4s 128us/step - loss: 8.9586e-04 - val_loss: 8.9646e-04\n",
      "Epoch 32/50\n",
      "28950/28950 [==============================] - 4s 127us/step - loss: 8.8630e-04 - val_loss: 9.2268e-04\n",
      "Epoch 33/50\n",
      "28950/28950 [==============================] - 4s 128us/step - loss: 8.7886e-04 - val_loss: 8.8453e-04\n",
      "Epoch 34/50\n",
      "28950/28950 [==============================] - 4s 132us/step - loss: 8.7014e-04 - val_loss: 8.9065e-04\n",
      "Epoch 35/50\n",
      "28950/28950 [==============================] - 4s 139us/step - loss: 8.6426e-04 - val_loss: 8.7902e-04\n",
      "Epoch 36/50\n",
      "28950/28950 [==============================] - 4s 137us/step - loss: 8.5765e-04 - val_loss: 8.9182e-04\n",
      "Epoch 37/50\n",
      "28950/28950 [==============================] - 4s 134us/step - loss: 8.5084e-04 - val_loss: 8.7198e-04\n",
      "Epoch 38/50\n",
      "28950/28950 [==============================] - 4s 140us/step - loss: 8.4186e-04 - val_loss: 8.5373e-04\n",
      "Epoch 39/50\n",
      "28950/28950 [==============================] - 4s 145us/step - loss: 8.3683e-04 - val_loss: 8.8430e-04\n",
      "Epoch 40/50\n",
      "28950/28950 [==============================] - 4s 149us/step - loss: 8.3571e-04 - val_loss: 8.6018e-04\n",
      "Epoch 41/50\n",
      "28950/28950 [==============================] - 4s 149us/step - loss: 8.2828e-04 - val_loss: 8.4601e-04\n",
      "Epoch 42/50\n",
      "28950/28950 [==============================] - 4s 139us/step - loss: 8.2422e-04 - val_loss: 8.2362e-04\n",
      "Epoch 43/50\n",
      "28950/28950 [==============================] - 4s 142us/step - loss: 8.2039e-04 - val_loss: 8.2650e-04\n",
      "Epoch 44/50\n",
      "28950/28950 [==============================] - 4s 131us/step - loss: 8.1722e-04 - val_loss: 8.1627e-04\n",
      "Epoch 45/50\n",
      "28950/28950 [==============================] - 4s 131us/step - loss: 8.1516e-04 - val_loss: 8.1931e-04\n",
      "Epoch 46/50\n",
      "28950/28950 [==============================] - 4s 130us/step - loss: 8.1004e-04 - val_loss: 8.1979e-04\n",
      "Epoch 47/50\n",
      "28950/28950 [==============================] - 4s 142us/step - loss: 8.0800e-04 - val_loss: 8.1892e-04\n",
      "Reconstruction error RMSE threshold:  0.15838959078077178\n",
      "Reconstruction error MAE threshold:  0.041742788094401996\n",
      "performance of RMSE:\n",
      "False Positive : 1583\n",
      "True Negative : 8128\n",
      "True Positive : 12011\n",
      "False Negative : 822\n",
      "#####################\n",
      "precision = 0.8835515668677357\n",
      "recall = 0.9359463882178758\n",
      "accuracy = 0.893319730305181\n",
      "F1 = 0.9089945888674461\n",
      "#####################\n",
      "############################\n",
      "performance of MAE:\n",
      "False Positive : 1467\n",
      "True Negative : 8244\n",
      "True Positive : 12166\n",
      "False Negative : 667\n",
      "#####################\n",
      "precision = 0.8923934570527396\n",
      "recall = 0.9480246240162082\n",
      "accuracy = 0.9053406671398154\n",
      "F1 = 0.9193682460515379\n",
      "#####################\n",
      "the percentile is: 93%\n",
      "X_train_new shape: (31515, 122)\n",
      "input shape: 122\n",
      "Train on 25212 samples, validate on 6303 samples\n",
      "Epoch 1/50\n",
      "25212/25212 [==============================] - 4s 160us/step - loss: 0.0055 - val_loss: 0.0020\n",
      "Epoch 2/50\n",
      "25212/25212 [==============================] - 3s 126us/step - loss: 0.0016 - val_loss: 0.0012\n",
      "Epoch 3/50\n",
      "25212/25212 [==============================] - 3s 128us/step - loss: 0.0010 - val_loss: 9.6586e-04\n",
      "Epoch 4/50\n",
      "25212/25212 [==============================] - 3s 127us/step - loss: 9.2725e-04 - val_loss: 9.1339e-04\n",
      "Epoch 5/50\n",
      "25212/25212 [==============================] - 3s 126us/step - loss: 8.7488e-04 - val_loss: 8.6263e-04\n",
      "Epoch 6/50\n",
      "25212/25212 [==============================] - 3s 127us/step - loss: 8.3644e-04 - val_loss: 8.3108e-04\n",
      "Epoch 7/50\n",
      "25212/25212 [==============================] - 3s 127us/step - loss: 8.0223e-04 - val_loss: 7.9788e-04\n",
      "Epoch 8/50\n",
      "25212/25212 [==============================] - 3s 128us/step - loss: 7.6420e-04 - val_loss: 7.5647e-04\n",
      "Epoch 9/50\n",
      "25212/25212 [==============================] - 3s 129us/step - loss: 7.2322e-04 - val_loss: 7.0443e-04\n",
      "Epoch 10/50\n",
      "25212/25212 [==============================] - 3s 127us/step - loss: 6.8039e-04 - val_loss: 6.7032e-04\n",
      "Epoch 11/50\n",
      "25212/25212 [==============================] - 3s 127us/step - loss: 6.4505e-04 - val_loss: 6.3797e-04\n",
      "Epoch 12/50\n",
      "25212/25212 [==============================] - 3s 129us/step - loss: 6.2199e-04 - val_loss: 6.2604e-04\n",
      "Epoch 13/50\n",
      "25212/25212 [==============================] - 3s 128us/step - loss: 6.0029e-04 - val_loss: 5.9745e-04\n",
      "Epoch 14/50\n",
      "25212/25212 [==============================] - 3s 129us/step - loss: 5.7852e-04 - val_loss: 5.8416e-04\n",
      "Epoch 15/50\n",
      "25212/25212 [==============================] - 3s 130us/step - loss: 5.5918e-04 - val_loss: 5.6970e-04\n",
      "Epoch 16/50\n",
      "25212/25212 [==============================] - 3s 137us/step - loss: 5.4204e-04 - val_loss: 5.6002e-04\n",
      "Epoch 17/50\n",
      "25212/25212 [==============================] - 3s 128us/step - loss: 5.3021e-04 - val_loss: 5.4763e-04\n",
      "Epoch 18/50\n",
      "25212/25212 [==============================] - 3s 128us/step - loss: 5.1914e-04 - val_loss: 5.2414e-04\n",
      "Epoch 19/50\n",
      "25212/25212 [==============================] - 3s 132us/step - loss: 5.1063e-04 - val_loss: 5.2830e-04\n",
      "Epoch 20/50\n",
      "25212/25212 [==============================] - 3s 131us/step - loss: 5.0092e-04 - val_loss: 5.1261e-04\n",
      "Epoch 21/50\n",
      "25212/25212 [==============================] - 3s 133us/step - loss: 4.9582e-04 - val_loss: 5.0470e-04\n",
      "Epoch 22/50\n",
      "25212/25212 [==============================] - 3s 132us/step - loss: 4.8919e-04 - val_loss: 4.9643e-04\n",
      "Epoch 23/50\n",
      "25212/25212 [==============================] - 3s 131us/step - loss: 4.8437e-04 - val_loss: 4.9067e-04\n",
      "Epoch 24/50\n",
      "25212/25212 [==============================] - 3s 133us/step - loss: 4.8026e-04 - val_loss: 4.9283e-04\n",
      "Epoch 25/50\n",
      "25212/25212 [==============================] - 3s 131us/step - loss: 4.7487e-04 - val_loss: 4.8694e-04\n",
      "Epoch 26/50\n",
      "25212/25212 [==============================] - 3s 133us/step - loss: 4.7164e-04 - val_loss: 4.9293e-04\n",
      "Epoch 27/50\n",
      "25212/25212 [==============================] - 3s 132us/step - loss: 4.6764e-04 - val_loss: 4.7825e-04\n",
      "Epoch 28/50\n",
      "25212/25212 [==============================] - 3s 131us/step - loss: 4.6575e-04 - val_loss: 4.7383e-04\n",
      "Epoch 29/50\n",
      "25212/25212 [==============================] - 3s 131us/step - loss: 4.6000e-04 - val_loss: 4.6829e-04\n",
      "Epoch 30/50\n",
      "25212/25212 [==============================] - 3s 134us/step - loss: 4.5667e-04 - val_loss: 4.6593e-04\n",
      "Epoch 31/50\n",
      "25212/25212 [==============================] - 3s 131us/step - loss: 4.5408e-04 - val_loss: 4.6631e-04\n",
      "Epoch 32/50\n",
      "25212/25212 [==============================] - 3s 134us/step - loss: 4.4831e-04 - val_loss: 4.6891e-04\n",
      "Epoch 33/50\n",
      "25212/25212 [==============================] - 3s 132us/step - loss: 4.4300e-04 - val_loss: 4.5893e-04\n",
      "Epoch 34/50\n",
      "25212/25212 [==============================] - 3s 134us/step - loss: 4.3854e-04 - val_loss: 4.4486e-04\n",
      "Epoch 35/50\n",
      "25212/25212 [==============================] - 3s 131us/step - loss: 4.3239e-04 - val_loss: 4.4822e-04\n",
      "Epoch 36/50\n",
      "25212/25212 [==============================] - 3s 133us/step - loss: 4.2935e-04 - val_loss: 4.5232e-04\n",
      "Epoch 37/50\n",
      "25212/25212 [==============================] - 3s 133us/step - loss: 4.2715e-04 - val_loss: 4.3932e-04\n",
      "Epoch 38/50\n",
      "25212/25212 [==============================] - 3s 133us/step - loss: 4.2469e-04 - val_loss: 4.3840e-04\n",
      "Epoch 39/50\n",
      "25212/25212 [==============================] - 3s 133us/step - loss: 4.2229e-04 - val_loss: 4.4509e-04\n",
      "Epoch 40/50\n",
      "25212/25212 [==============================] - 3s 133us/step - loss: 4.2014e-04 - val_loss: 4.3926e-04\n",
      "Epoch 41/50\n",
      "25212/25212 [==============================] - 3s 132us/step - loss: 4.1911e-04 - val_loss: 4.3287e-04\n",
      "Epoch 42/50\n",
      "25212/25212 [==============================] - 4s 140us/step - loss: 4.1649e-04 - val_loss: 4.2480e-04\n",
      "Epoch 43/50\n",
      "25212/25212 [==============================] - 3s 137us/step - loss: 4.1392e-04 - val_loss: 4.3508e-04\n",
      "Epoch 44/50\n",
      "25212/25212 [==============================] - 3s 134us/step - loss: 4.1267e-04 - val_loss: 4.2635e-04\n",
      "Epoch 45/50\n",
      "25212/25212 [==============================] - 3s 132us/step - loss: 4.1036e-04 - val_loss: 4.2444e-04\n",
      "Epoch 46/50\n",
      "25212/25212 [==============================] - 3s 133us/step - loss: 4.0797e-04 - val_loss: 4.1718e-04\n",
      "Epoch 47/50\n",
      "25212/25212 [==============================] - 3s 134us/step - loss: 4.0454e-04 - val_loss: 4.0664e-04\n",
      "Epoch 48/50\n",
      "25212/25212 [==============================] - 3s 132us/step - loss: 3.9961e-04 - val_loss: 4.0259e-04\n",
      "Epoch 49/50\n",
      "25212/25212 [==============================] - 3s 137us/step - loss: 3.9065e-04 - val_loss: 3.9179e-04\n",
      "Epoch 50/50\n",
      "25212/25212 [==============================] - 3s 135us/step - loss: 3.8250e-04 - val_loss: 3.9025e-04\n",
      "Reconstruction error RMSE threshold:  0.14213814974488104\n",
      "Reconstruction error MAE threshold:  0.03733983999524713\n",
      "performance of RMSE:\n",
      "False Positive : 2080\n",
      "True Negative : 7631\n",
      "True Positive : 12690\n",
      "False Negative : 143\n",
      "#####################\n",
      "precision = 0.8591740013540962\n",
      "recall = 0.9888568534247643\n",
      "accuracy = 0.9013928317955997\n",
      "F1 = 0.9194652755135312\n",
      "#####################\n",
      "############################\n",
      "performance of MAE:\n",
      "False Positive : 2045\n",
      "True Negative : 7666\n",
      "True Positive : 12704\n",
      "False Negative : 129\n",
      "#####################\n",
      "precision = 0.861346531968269\n",
      "recall = 0.9899477908517105\n",
      "accuracy = 0.9035663591199432\n",
      "F1 = 0.9211804800232036\n",
      "#####################\n",
      "the percentile is: 92%\n",
      "X_train_new shape: (27924, 122)\n",
      "input shape: 122\n",
      "Train on 22339 samples, validate on 5585 samples\n",
      "Epoch 1/50\n",
      "22339/22339 [==============================] - 4s 161us/step - loss: 0.0056 - val_loss: 0.0023\n",
      "Epoch 2/50\n",
      "22339/22339 [==============================] - 3s 124us/step - loss: 0.0018 - val_loss: 0.0017\n",
      "Epoch 3/50\n",
      "22339/22339 [==============================] - 3s 126us/step - loss: 0.0015 - val_loss: 0.0014\n",
      "Epoch 4/50\n",
      "22339/22339 [==============================] - 3s 131us/step - loss: 0.0012 - val_loss: 0.0012\n",
      "Epoch 5/50\n",
      "22339/22339 [==============================] - 3s 133us/step - loss: 0.0011 - val_loss: 0.0011\n",
      "Epoch 6/50\n",
      "22339/22339 [==============================] - 3s 130us/step - loss: 0.0011 - val_loss: 0.0011\n",
      "Epoch 7/50\n",
      "22339/22339 [==============================] - 3s 133us/step - loss: 9.9030e-04 - val_loss: 9.8859e-04\n",
      "Epoch 8/50\n",
      "22339/22339 [==============================] - 3s 132us/step - loss: 9.4032e-04 - val_loss: 0.0010\n",
      "Epoch 9/50\n",
      "22339/22339 [==============================] - 3s 130us/step - loss: 9.1511e-04 - val_loss: 9.3632e-04\n",
      "Epoch 10/50\n",
      "22339/22339 [==============================] - 3s 134us/step - loss: 8.9823e-04 - val_loss: 9.1234e-04\n",
      "Epoch 11/50\n",
      "22339/22339 [==============================] - 3s 130us/step - loss: 8.8520e-04 - val_loss: 9.0164e-04\n",
      "Epoch 12/50\n",
      "22339/22339 [==============================] - 3s 135us/step - loss: 8.7130e-04 - val_loss: 8.8593e-04\n",
      "Epoch 13/50\n",
      "22339/22339 [==============================] - 3s 140us/step - loss: 8.5740e-04 - val_loss: 8.8293e-04\n",
      "Epoch 14/50\n",
      "22339/22339 [==============================] - 3s 142us/step - loss: 8.4544e-04 - val_loss: 8.5606e-04\n",
      "Epoch 15/50\n",
      "22339/22339 [==============================] - 3s 137us/step - loss: 8.3266e-04 - val_loss: 8.5357e-04\n",
      "Epoch 16/50\n",
      "22339/22339 [==============================] - 3s 136us/step - loss: 8.2241e-04 - val_loss: 8.3797e-04\n",
      "Epoch 17/50\n",
      "22339/22339 [==============================] - 3s 137us/step - loss: 8.1026e-04 - val_loss: 8.3941e-04\n",
      "Epoch 18/50\n",
      "22339/22339 [==============================] - 3s 139us/step - loss: 7.9779e-04 - val_loss: 8.1328e-04\n",
      "Epoch 19/50\n",
      "22339/22339 [==============================] - 3s 137us/step - loss: 7.6986e-04 - val_loss: 7.8260e-04\n",
      "Epoch 20/50\n",
      "22339/22339 [==============================] - 3s 130us/step - loss: 7.2853e-04 - val_loss: 7.3592e-04\n",
      "Epoch 21/50\n",
      "22339/22339 [==============================] - 3s 128us/step - loss: 6.8653e-04 - val_loss: 6.9703e-04\n",
      "Epoch 22/50\n",
      "22339/22339 [==============================] - 3s 130us/step - loss: 6.5930e-04 - val_loss: 6.8563e-04\n",
      "Epoch 23/50\n",
      "22339/22339 [==============================] - 3s 130us/step - loss: 6.4113e-04 - val_loss: 6.5444e-04\n",
      "Epoch 24/50\n",
      "22339/22339 [==============================] - 3s 131us/step - loss: 6.2438e-04 - val_loss: 6.4763e-04\n",
      "Epoch 25/50\n",
      "22339/22339 [==============================] - 3s 130us/step - loss: 6.1021e-04 - val_loss: 6.3243e-04\n",
      "Epoch 26/50\n",
      "22339/22339 [==============================] - 3s 132us/step - loss: 5.9637e-04 - val_loss: 6.2125e-04\n",
      "Epoch 27/50\n",
      "22339/22339 [==============================] - 3s 130us/step - loss: 5.8696e-04 - val_loss: 6.1557e-04\n",
      "Epoch 28/50\n",
      "22339/22339 [==============================] - 3s 131us/step - loss: 5.8020e-04 - val_loss: 6.0858e-04\n",
      "Epoch 29/50\n",
      "22339/22339 [==============================] - 3s 129us/step - loss: 5.7438e-04 - val_loss: 5.9890e-04\n",
      "Epoch 30/50\n",
      "22339/22339 [==============================] - 3s 129us/step - loss: 5.6963e-04 - val_loss: 6.0226e-04\n",
      "Epoch 31/50\n",
      "22339/22339 [==============================] - 3s 131us/step - loss: 5.6628e-04 - val_loss: 6.2188e-04\n",
      "Epoch 32/50\n",
      "22339/22339 [==============================] - 3s 134us/step - loss: 5.6330e-04 - val_loss: 5.8826e-04\n",
      "Epoch 33/50\n",
      "22339/22339 [==============================] - 3s 132us/step - loss: 5.5944e-04 - val_loss: 5.9130e-04\n",
      "Epoch 34/50\n",
      "22339/22339 [==============================] - 3s 127us/step - loss: 5.5692e-04 - val_loss: 5.8355e-04\n",
      "Epoch 35/50\n",
      "22339/22339 [==============================] - 3s 130us/step - loss: 5.5303e-04 - val_loss: 5.9011e-04\n",
      "Epoch 36/50\n",
      "22339/22339 [==============================] - 3s 129us/step - loss: 5.5068e-04 - val_loss: 5.8555e-04\n",
      "Epoch 37/50\n",
      "22339/22339 [==============================] - 3s 131us/step - loss: 5.4765e-04 - val_loss: 5.7272e-04\n",
      "Epoch 38/50\n",
      "22339/22339 [==============================] - 3s 129us/step - loss: 5.4378e-04 - val_loss: 5.7144e-04\n",
      "Epoch 39/50\n",
      "22339/22339 [==============================] - 3s 130us/step - loss: 5.4083e-04 - val_loss: 5.8020e-04\n",
      "Epoch 40/50\n",
      "22339/22339 [==============================] - 3s 132us/step - loss: 5.3959e-04 - val_loss: 5.6099e-04\n",
      "Epoch 41/50\n",
      "22339/22339 [==============================] - 3s 130us/step - loss: 5.3586e-04 - val_loss: 5.6409e-04\n",
      "Epoch 42/50\n",
      "22339/22339 [==============================] - 3s 129us/step - loss: 5.3358e-04 - val_loss: 5.5920e-04\n",
      "Epoch 43/50\n",
      "22339/22339 [==============================] - 3s 131us/step - loss: 5.3122e-04 - val_loss: 5.5211e-04\n",
      "Epoch 44/50\n",
      "22339/22339 [==============================] - 3s 131us/step - loss: 5.2873e-04 - val_loss: 5.7823e-04\n",
      "Epoch 45/50\n",
      "22339/22339 [==============================] - 3s 129us/step - loss: 5.2738e-04 - val_loss: 5.5668e-04\n",
      "Epoch 46/50\n",
      "22339/22339 [==============================] - 3s 129us/step - loss: 5.2466e-04 - val_loss: 5.5690e-04\n",
      "Reconstruction error RMSE threshold:  0.12741323747915984\n",
      "Reconstruction error MAE threshold:  0.033506473609429606\n",
      "performance of RMSE:\n",
      "False Positive : 2720\n",
      "True Negative : 6991\n",
      "True Positive : 12832\n",
      "False Negative : 1\n",
      "#####################\n",
      "precision = 0.8251028806584362\n",
      "recall = 0.9999220758980752\n",
      "accuracy = 0.8793026969481902\n",
      "F1 = 0.9041395103047384\n",
      "#####################\n",
      "############################\n",
      "performance of MAE:\n",
      "False Positive : 2533\n",
      "True Negative : 7178\n",
      "True Positive : 12470\n",
      "False Negative : 363\n",
      "#####################\n",
      "precision = 0.8311670999133507\n",
      "recall = 0.9717135510013247\n",
      "accuracy = 0.8715400993612491\n",
      "F1 = 0.8959620635148728\n",
      "#####################\n",
      "the percentile is: 91%\n",
      "X_train_new shape: (24826, 122)\n",
      "input shape: 122\n",
      "Train on 19860 samples, validate on 4966 samples\n",
      "Epoch 1/50\n",
      "19860/19860 [==============================] - 3s 163us/step - loss: 0.0062 - val_loss: 0.0021\n",
      "Epoch 2/50\n",
      "19860/19860 [==============================] - 2s 121us/step - loss: 0.0018 - val_loss: 0.0016\n",
      "Epoch 3/50\n",
      "19860/19860 [==============================] - 2s 121us/step - loss: 0.0014 - val_loss: 0.0014\n",
      "Epoch 4/50\n",
      "19860/19860 [==============================] - 3s 129us/step - loss: 0.0013 - val_loss: 0.0014\n",
      "Epoch 5/50\n",
      "19860/19860 [==============================] - 3s 130us/step - loss: 0.0013 - val_loss: 0.0013\n",
      "Epoch 6/50\n",
      "19860/19860 [==============================] - 3s 130us/step - loss: 0.0012 - val_loss: 0.0013\n",
      "Epoch 7/50\n",
      "19860/19860 [==============================] - 3s 129us/step - loss: 0.0011 - val_loss: 0.0011\n",
      "Epoch 8/50\n",
      "19860/19860 [==============================] - 3s 126us/step - loss: 0.0010 - val_loss: 0.0010\n",
      "Epoch 9/50\n",
      "19860/19860 [==============================] - 3s 130us/step - loss: 8.4533e-04 - val_loss: 8.1910e-04\n",
      "Epoch 10/50\n",
      "19860/19860 [==============================] - 3s 129us/step - loss: 7.3659e-04 - val_loss: 7.8343e-04\n",
      "Epoch 11/50\n",
      "19860/19860 [==============================] - 3s 131us/step - loss: 6.8266e-04 - val_loss: 7.1261e-04\n",
      "Epoch 12/50\n",
      "19860/19860 [==============================] - 3s 126us/step - loss: 6.2440e-04 - val_loss: 6.6980e-04\n",
      "Epoch 13/50\n",
      "19860/19860 [==============================] - 3s 130us/step - loss: 5.9347e-04 - val_loss: 6.3367e-04\n",
      "Epoch 14/50\n",
      "19860/19860 [==============================] - 3s 128us/step - loss: 5.7312e-04 - val_loss: 6.2178e-04\n",
      "Epoch 15/50\n",
      "19860/19860 [==============================] - 3s 130us/step - loss: 5.5765e-04 - val_loss: 6.0587e-04\n",
      "Epoch 16/50\n",
      "19860/19860 [==============================] - 3s 128us/step - loss: 5.4720e-04 - val_loss: 5.9350e-04\n",
      "Epoch 17/50\n",
      "19860/19860 [==============================] - 3s 131us/step - loss: 5.3955e-04 - val_loss: 5.8690e-04\n",
      "Epoch 18/50\n",
      "19860/19860 [==============================] - 3s 128us/step - loss: 5.3248e-04 - val_loss: 5.7855e-04\n",
      "Epoch 19/50\n",
      "19860/19860 [==============================] - 3s 131us/step - loss: 5.2575e-04 - val_loss: 5.7594e-04\n",
      "Epoch 20/50\n",
      "19860/19860 [==============================] - 3s 127us/step - loss: 5.2178e-04 - val_loss: 5.6775e-04\n",
      "Epoch 21/50\n",
      "19860/19860 [==============================] - 3s 131us/step - loss: 5.1618e-04 - val_loss: 5.6805e-04\n",
      "Epoch 22/50\n",
      "19860/19860 [==============================] - 3s 134us/step - loss: 5.0827e-04 - val_loss: 5.5227e-04\n",
      "Epoch 23/50\n",
      "19860/19860 [==============================] - 3s 134us/step - loss: 5.0090e-04 - val_loss: 5.4285e-04\n",
      "Epoch 24/50\n",
      "19860/19860 [==============================] - 3s 134us/step - loss: 4.8133e-04 - val_loss: 5.0446e-04\n",
      "Epoch 25/50\n",
      "19860/19860 [==============================] - 3s 129us/step - loss: 4.4055e-04 - val_loss: 4.4213e-04\n",
      "Epoch 26/50\n",
      "19860/19860 [==============================] - 3s 127us/step - loss: 3.7431e-04 - val_loss: 3.7439e-04\n",
      "Epoch 27/50\n",
      "19860/19860 [==============================] - 3s 131us/step - loss: 3.2981e-04 - val_loss: 3.4302e-04\n",
      "Epoch 28/50\n",
      "19860/19860 [==============================] - 3s 128us/step - loss: 3.1138e-04 - val_loss: 3.4107e-04\n",
      "Epoch 29/50\n",
      "19860/19860 [==============================] - 3s 131us/step - loss: 3.0374e-04 - val_loss: 3.3140e-04\n",
      "Epoch 30/50\n",
      "19860/19860 [==============================] - 3s 127us/step - loss: 2.9913e-04 - val_loss: 3.2772e-04\n",
      "Epoch 31/50\n",
      "19860/19860 [==============================] - 3s 130us/step - loss: 2.9448e-04 - val_loss: 3.2032e-04\n",
      "Epoch 32/50\n",
      "19860/19860 [==============================] - 3s 127us/step - loss: 2.9053e-04 - val_loss: 3.2351e-04\n",
      "Epoch 33/50\n",
      "19860/19860 [==============================] - 3s 132us/step - loss: 2.8910e-04 - val_loss: 3.1357e-04\n",
      "Epoch 34/50\n",
      "19860/19860 [==============================] - 3s 128us/step - loss: 2.8570e-04 - val_loss: 3.0955e-04\n",
      "Epoch 35/50\n",
      "19860/19860 [==============================] - 3s 129us/step - loss: 2.8257e-04 - val_loss: 3.0854e-04\n",
      "Epoch 36/50\n",
      "19860/19860 [==============================] - 2s 126us/step - loss: 2.8238e-04 - val_loss: 3.0681e-04\n",
      "Epoch 37/50\n",
      "19860/19860 [==============================] - 3s 131us/step - loss: 2.8031e-04 - val_loss: 2.9765e-04\n",
      "Epoch 38/50\n",
      "19860/19860 [==============================] - 3s 127us/step - loss: 2.7898e-04 - val_loss: 2.9556e-04\n",
      "Epoch 39/50\n",
      "19860/19860 [==============================] - 3s 131us/step - loss: 2.7698e-04 - val_loss: 3.0655e-04\n",
      "Epoch 40/50\n",
      "19860/19860 [==============================] - 3s 128us/step - loss: 2.7597e-04 - val_loss: 3.0226e-04\n",
      "Epoch 41/50\n",
      "19860/19860 [==============================] - 3s 129us/step - loss: 2.7416e-04 - val_loss: 2.9655e-04\n",
      "Reconstruction error RMSE threshold:  0.13458420404936544\n",
      "Reconstruction error MAE threshold:  0.05178497317185741\n",
      "performance of RMSE:\n",
      "False Positive : 2571\n",
      "True Negative : 7140\n",
      "True Positive : 12832\n",
      "False Negative : 1\n",
      "#####################\n",
      "precision = 0.8330844640654418\n",
      "recall = 0.9999220758980752\n",
      "accuracy = 0.8859119943222143\n",
      "F1 = 0.9089106105680691\n",
      "#####################\n",
      "############################\n",
      "performance of MAE:\n",
      "False Positive : 1963\n",
      "True Negative : 7748\n",
      "True Positive : 12332\n",
      "False Negative : 501\n",
      "#####################\n",
      "precision = 0.8626792584819867\n",
      "recall = 0.9609600249357126\n",
      "accuracy = 0.8907026259758695\n",
      "F1 = 0.9091713358891182\n",
      "#####################\n",
      "the percentile is: 90%\n",
      "X_train_new shape: (22695, 122)\n",
      "input shape: 122\n",
      "Train on 18156 samples, validate on 4539 samples\n",
      "Epoch 1/50\n",
      "18156/18156 [==============================] - 3s 170us/step - loss: 0.0061 - val_loss: 0.0019\n",
      "Epoch 2/50\n",
      "18156/18156 [==============================] - 2s 126us/step - loss: 0.0016 - val_loss: 0.0016\n",
      "Epoch 3/50\n",
      "18156/18156 [==============================] - 2s 125us/step - loss: 0.0014 - val_loss: 0.0011\n",
      "Epoch 4/50\n",
      "18156/18156 [==============================] - 2s 133us/step - loss: 8.2025e-04 - val_loss: 7.6820e-04\n",
      "Epoch 5/50\n",
      "18156/18156 [==============================] - 2s 136us/step - loss: 7.1956e-04 - val_loss: 7.3463e-04\n",
      "Epoch 6/50\n",
      "18156/18156 [==============================] - 2s 136us/step - loss: 6.8817e-04 - val_loss: 7.0430e-04\n",
      "Epoch 7/50\n",
      "18156/18156 [==============================] - 2s 133us/step - loss: 6.5501e-04 - val_loss: 6.6440e-04\n",
      "Epoch 8/50\n",
      "18156/18156 [==============================] - 2s 135us/step - loss: 6.1485e-04 - val_loss: 6.1748e-04\n",
      "Epoch 9/50\n",
      "18156/18156 [==============================] - 2s 136us/step - loss: 5.6189e-04 - val_loss: 5.6202e-04\n",
      "Epoch 10/50\n",
      "18156/18156 [==============================] - 2s 131us/step - loss: 5.0360e-04 - val_loss: 4.9686e-04\n",
      "Epoch 11/50\n",
      "18156/18156 [==============================] - 3s 138us/step - loss: 4.4835e-04 - val_loss: 4.5425e-04\n",
      "Epoch 12/50\n",
      "18156/18156 [==============================] - 2s 133us/step - loss: 4.0722e-04 - val_loss: 4.2079e-04\n",
      "Epoch 13/50\n",
      "18156/18156 [==============================] - 2s 135us/step - loss: 3.8324e-04 - val_loss: 4.1913e-04\n",
      "Epoch 14/50\n",
      "18156/18156 [==============================] - 2s 134us/step - loss: 3.7060e-04 - val_loss: 3.9787e-04\n",
      "Epoch 15/50\n",
      "18156/18156 [==============================] - 2s 136us/step - loss: 3.6286e-04 - val_loss: 3.9119e-04\n",
      "Epoch 16/50\n",
      "18156/18156 [==============================] - 2s 135us/step - loss: 3.5601e-04 - val_loss: 3.8317e-04\n",
      "Epoch 17/50\n",
      "18156/18156 [==============================] - 2s 132us/step - loss: 3.5177e-04 - val_loss: 3.8787e-04\n",
      "Epoch 18/50\n",
      "18156/18156 [==============================] - 2s 136us/step - loss: 3.4799e-04 - val_loss: 3.7037e-04\n",
      "Epoch 19/50\n",
      "18156/18156 [==============================] - 2s 133us/step - loss: 3.4399e-04 - val_loss: 3.7578e-04\n",
      "Epoch 20/50\n",
      "18156/18156 [==============================] - 2s 135us/step - loss: 3.4092e-04 - val_loss: 3.6934e-04\n",
      "Epoch 21/50\n",
      "18156/18156 [==============================] - 2s 133us/step - loss: 3.3687e-04 - val_loss: 3.6570e-04\n",
      "Epoch 22/50\n",
      "18156/18156 [==============================] - 3s 142us/step - loss: 3.3447e-04 - val_loss: 3.6290e-04\n",
      "Epoch 23/50\n",
      "18156/18156 [==============================] - 2s 131us/step - loss: 3.3034e-04 - val_loss: 3.6355e-04\n",
      "Epoch 24/50\n",
      "18156/18156 [==============================] - 2s 136us/step - loss: 3.2741e-04 - val_loss: 3.5514e-04\n",
      "Epoch 25/50\n",
      "18156/18156 [==============================] - 2s 132us/step - loss: 3.2422e-04 - val_loss: 3.5044e-04\n",
      "Epoch 26/50\n",
      "18156/18156 [==============================] - 2s 135us/step - loss: 3.2209e-04 - val_loss: 3.4671e-04\n",
      "Epoch 27/50\n",
      "18156/18156 [==============================] - 2s 132us/step - loss: 3.1964e-04 - val_loss: 3.5042e-04\n",
      "Epoch 28/50\n",
      "18156/18156 [==============================] - 2s 137us/step - loss: 3.1887e-04 - val_loss: 3.4812e-04\n",
      "Epoch 29/50\n",
      "18156/18156 [==============================] - 2s 132us/step - loss: 3.1629e-04 - val_loss: 3.4895e-04\n",
      "Reconstruction error RMSE threshold:  0.1128644923091117\n",
      "Reconstruction error MAE threshold:  0.03277997417797164\n",
      "performance of RMSE:\n",
      "False Positive : 2969\n",
      "True Negative : 6742\n",
      "True Positive : 12832\n",
      "False Negative : 1\n",
      "#####################\n",
      "precision = 0.8121004999683564\n",
      "recall = 0.9999220758980752\n",
      "accuracy = 0.8682576295244855\n",
      "F1 = 0.8962771530348537\n",
      "#####################\n",
      "############################\n",
      "performance of MAE:\n",
      "False Positive : 2957\n",
      "True Negative : 6754\n",
      "True Positive : 12832\n",
      "False Negative : 1\n",
      "#####################\n",
      "precision = 0.8127177148647793\n",
      "recall = 0.9999220758980752\n",
      "accuracy = 0.8687899219304471\n",
      "F1 = 0.8966529243239466\n",
      "#####################\n"
     ]
    }
   ],
   "source": [
    "from sklearn.metrics import mean_absolute_error, mean_squared_error\n",
    "plist = [100, 99.7, 99, 98, 97, 96, 95, 94, 93, 92, 91, 90]\n",
    "accuracy_rmse_list = []\n",
    "precision_rmse_list = []\n",
    "recall_rmse_list = []\n",
    "f1_rmse_list = []\n",
    "\n",
    "accuracy_mae_list = []\n",
    "precision_mae_list = []\n",
    "recall_mae_list = []\n",
    "f1_mae_list = []\n",
    "\n",
    "for percentile in plist:\n",
    "    print(f\"the percentile is: {percentile}%\")\n",
    "    outlier_fence = np.percentile(X_train, percentile, axis=0)\n",
    "    X_train_new = X_train.copy()\n",
    "    for index, fence in enumerate(outlier_fence):\n",
    "        boolarr = X_train_new[:,index] <= fence\n",
    "        X_train_new = X_train_new[boolarr]\n",
    "    print(f\"X_train_new shape: {X_train_new.shape}\")\n",
    "    \n",
    "    X_train_scaled = scaler.fit_transform(X_train_new)\n",
    "    X_test_normal_scaled = scaler.transform(X_test_normal)\n",
    "    X_test_abnormal_scaled = scaler.transform(X_test_abnormal)\n",
    " \n",
    "    autoencoder = model(X_train=X_train_scaled)\n",
    "    \n",
    "    X_train_pred = autoencoder.predict(X_train_scaled)\n",
    "    rmse = mean_squared_error(X_train_scaled.T, X_train_pred.T, multioutput='raw_values', squared=False)\n",
    "    mae = mean_absolute_error(X_train_scaled.T, X_train_pred.T, multioutput='raw_values')\n",
    "    threshold_rmse = np.max(rmse)\n",
    "    threshold_mae = np.max(mae)\n",
    "    print(\"Reconstruction error RMSE threshold: \", threshold_rmse)\n",
    "    print(\"Reconstruction error MAE threshold: \", threshold_mae)\n",
    "    \n",
    "    X_test_normal_pred = autoencoder.predict(X_test_normal_scaled)\n",
    "    rmse_test_normal = mean_squared_error(X_test_normal_scaled.T, X_test_normal_pred.T, multioutput='raw_values', squared=False)\n",
    "    mae_test_normal = mean_absolute_error(X_test_normal_scaled.T, X_test_normal_pred.T, multioutput='raw_values')\n",
    "\n",
    "    X_test_abnormal_pred = autoencoder.predict(X_test_abnormal_scaled)\n",
    "    rmse_test_abnormal = mean_squared_error(X_test_abnormal_scaled.T, X_test_abnormal_pred.T, multioutput='raw_values', squared=False)\n",
    "    mae_test_abnormal = mean_absolute_error(X_test_abnormal_scaled.T, X_test_abnormal_pred.T, multioutput='raw_values')\n",
    "    print(\"performance of RMSE:\")\n",
    "    Accuracy, Precision, Recall, F1 = performance(rmse_test_normal, rmse_test_abnormal, threshold_rmse)\n",
    "    accuracy_rmse_list.append(Accuracy)\n",
    "    precision_rmse_list.append(Precision)\n",
    "    recall_rmse_list.append(Recall)\n",
    "    f1_rmse_list.append(F1)\n",
    "    print(\"############################\")\n",
    "    print(\"performance of MAE:\")\n",
    "    Accuracy, Precision, Recall, F1 = performance(mae_test_normal, mae_test_abnormal, threshold_mae)\n",
    "    accuracy_mae_list.append(Accuracy)\n",
    "    precision_mae_list.append(Precision)\n",
    "    recall_mae_list.append(Recall)\n",
    "    f1_mae_list.append(F1)\n",
    "   \n"
   ]
  },
  {
   "cell_type": "code",
   "execution_count": 193,
   "metadata": {},
   "outputs": [
    {
     "data": {
      "text/html": [
       "<div>\n",
       "<style scoped>\n",
       "    .dataframe tbody tr th:only-of-type {\n",
       "        vertical-align: middle;\n",
       "    }\n",
       "\n",
       "    .dataframe tbody tr th {\n",
       "        vertical-align: top;\n",
       "    }\n",
       "\n",
       "    .dataframe thead th {\n",
       "        text-align: right;\n",
       "    }\n",
       "</style>\n",
       "<table border=\"1\" class=\"dataframe\">\n",
       "  <thead>\n",
       "    <tr style=\"text-align: right;\">\n",
       "      <th></th>\n",
       "      <th>0</th>\n",
       "      <th>1</th>\n",
       "      <th>2</th>\n",
       "      <th>3</th>\n",
       "    </tr>\n",
       "  </thead>\n",
       "  <tbody>\n",
       "    <tr>\n",
       "      <th>0</th>\n",
       "      <td>0.442601</td>\n",
       "      <td>0.889213</td>\n",
       "      <td>0.023767</td>\n",
       "      <td>0.046296</td>\n",
       "    </tr>\n",
       "    <tr>\n",
       "      <th>1</th>\n",
       "      <td>0.670023</td>\n",
       "      <td>0.923258</td>\n",
       "      <td>0.458427</td>\n",
       "      <td>0.612653</td>\n",
       "    </tr>\n",
       "    <tr>\n",
       "      <th>2</th>\n",
       "      <td>0.835167</td>\n",
       "      <td>0.923220</td>\n",
       "      <td>0.774877</td>\n",
       "      <td>0.842569</td>\n",
       "    </tr>\n",
       "    <tr>\n",
       "      <th>3</th>\n",
       "      <td>0.856946</td>\n",
       "      <td>0.915931</td>\n",
       "      <td>0.824359</td>\n",
       "      <td>0.867736</td>\n",
       "    </tr>\n",
       "    <tr>\n",
       "      <th>4</th>\n",
       "      <td>0.872649</td>\n",
       "      <td>0.899888</td>\n",
       "      <td>0.873451</td>\n",
       "      <td>0.886472</td>\n",
       "    </tr>\n",
       "    <tr>\n",
       "      <th>5</th>\n",
       "      <td>0.876375</td>\n",
       "      <td>0.872792</td>\n",
       "      <td>0.916387</td>\n",
       "      <td>0.894059</td>\n",
       "    </tr>\n",
       "    <tr>\n",
       "      <th>6</th>\n",
       "      <td>0.911906</td>\n",
       "      <td>0.876606</td>\n",
       "      <td>0.983714</td>\n",
       "      <td>0.927076</td>\n",
       "    </tr>\n",
       "    <tr>\n",
       "      <th>7</th>\n",
       "      <td>0.893320</td>\n",
       "      <td>0.883552</td>\n",
       "      <td>0.935946</td>\n",
       "      <td>0.908995</td>\n",
       "    </tr>\n",
       "    <tr>\n",
       "      <th>8</th>\n",
       "      <td>0.901393</td>\n",
       "      <td>0.859174</td>\n",
       "      <td>0.988857</td>\n",
       "      <td>0.919465</td>\n",
       "    </tr>\n",
       "    <tr>\n",
       "      <th>9</th>\n",
       "      <td>0.879303</td>\n",
       "      <td>0.825103</td>\n",
       "      <td>0.999922</td>\n",
       "      <td>0.904140</td>\n",
       "    </tr>\n",
       "    <tr>\n",
       "      <th>10</th>\n",
       "      <td>0.885912</td>\n",
       "      <td>0.833084</td>\n",
       "      <td>0.999922</td>\n",
       "      <td>0.908911</td>\n",
       "    </tr>\n",
       "    <tr>\n",
       "      <th>11</th>\n",
       "      <td>0.868258</td>\n",
       "      <td>0.812100</td>\n",
       "      <td>0.999922</td>\n",
       "      <td>0.896277</td>\n",
       "    </tr>\n",
       "  </tbody>\n",
       "</table>\n",
       "</div>"
      ],
      "text/plain": [
       "           0         1         2         3\n",
       "0   0.442601  0.889213  0.023767  0.046296\n",
       "1   0.670023  0.923258  0.458427  0.612653\n",
       "2   0.835167  0.923220  0.774877  0.842569\n",
       "3   0.856946  0.915931  0.824359  0.867736\n",
       "4   0.872649  0.899888  0.873451  0.886472\n",
       "5   0.876375  0.872792  0.916387  0.894059\n",
       "6   0.911906  0.876606  0.983714  0.927076\n",
       "7   0.893320  0.883552  0.935946  0.908995\n",
       "8   0.901393  0.859174  0.988857  0.919465\n",
       "9   0.879303  0.825103  0.999922  0.904140\n",
       "10  0.885912  0.833084  0.999922  0.908911\n",
       "11  0.868258  0.812100  0.999922  0.896277"
      ]
     },
     "execution_count": 193,
     "metadata": {},
     "output_type": "execute_result"
    }
   ],
   "source": [
    "pd.DataFrame(data=[accuracy_rmse_list, precision_rmse_list, recall_rmse_list, f1_rmse_list]).T"
   ]
  },
  {
   "cell_type": "code",
   "execution_count": 194,
   "metadata": {},
   "outputs": [
    {
     "data": {
      "text/html": [
       "<div>\n",
       "<style scoped>\n",
       "    .dataframe tbody tr th:only-of-type {\n",
       "        vertical-align: middle;\n",
       "    }\n",
       "\n",
       "    .dataframe tbody tr th {\n",
       "        vertical-align: top;\n",
       "    }\n",
       "\n",
       "    .dataframe thead th {\n",
       "        text-align: right;\n",
       "    }\n",
       "</style>\n",
       "<table border=\"1\" class=\"dataframe\">\n",
       "  <thead>\n",
       "    <tr style=\"text-align: right;\">\n",
       "      <th></th>\n",
       "      <th>0</th>\n",
       "      <th>1</th>\n",
       "      <th>2</th>\n",
       "      <th>3</th>\n",
       "    </tr>\n",
       "  </thead>\n",
       "  <tbody>\n",
       "    <tr>\n",
       "      <th>0</th>\n",
       "      <td>0.450275</td>\n",
       "      <td>0.995495</td>\n",
       "      <td>0.034442</td>\n",
       "      <td>0.066581</td>\n",
       "    </tr>\n",
       "    <tr>\n",
       "      <th>1</th>\n",
       "      <td>0.698989</td>\n",
       "      <td>0.984768</td>\n",
       "      <td>0.478610</td>\n",
       "      <td>0.644153</td>\n",
       "    </tr>\n",
       "    <tr>\n",
       "      <th>2</th>\n",
       "      <td>0.830465</td>\n",
       "      <td>0.922694</td>\n",
       "      <td>0.766384</td>\n",
       "      <td>0.837306</td>\n",
       "    </tr>\n",
       "    <tr>\n",
       "      <th>3</th>\n",
       "      <td>0.860406</td>\n",
       "      <td>0.926095</td>\n",
       "      <td>0.820229</td>\n",
       "      <td>0.869953</td>\n",
       "    </tr>\n",
       "    <tr>\n",
       "      <th>4</th>\n",
       "      <td>0.852511</td>\n",
       "      <td>0.916214</td>\n",
       "      <td>0.815476</td>\n",
       "      <td>0.862915</td>\n",
       "    </tr>\n",
       "    <tr>\n",
       "      <th>5</th>\n",
       "      <td>0.888174</td>\n",
       "      <td>0.880292</td>\n",
       "      <td>0.930024</td>\n",
       "      <td>0.904475</td>\n",
       "    </tr>\n",
       "    <tr>\n",
       "      <th>6</th>\n",
       "      <td>0.916696</td>\n",
       "      <td>0.879407</td>\n",
       "      <td>0.989324</td>\n",
       "      <td>0.931133</td>\n",
       "    </tr>\n",
       "    <tr>\n",
       "      <th>7</th>\n",
       "      <td>0.905341</td>\n",
       "      <td>0.892393</td>\n",
       "      <td>0.948025</td>\n",
       "      <td>0.919368</td>\n",
       "    </tr>\n",
       "    <tr>\n",
       "      <th>8</th>\n",
       "      <td>0.903566</td>\n",
       "      <td>0.861347</td>\n",
       "      <td>0.989948</td>\n",
       "      <td>0.921180</td>\n",
       "    </tr>\n",
       "    <tr>\n",
       "      <th>9</th>\n",
       "      <td>0.871540</td>\n",
       "      <td>0.831167</td>\n",
       "      <td>0.971714</td>\n",
       "      <td>0.895962</td>\n",
       "    </tr>\n",
       "    <tr>\n",
       "      <th>10</th>\n",
       "      <td>0.890703</td>\n",
       "      <td>0.862679</td>\n",
       "      <td>0.960960</td>\n",
       "      <td>0.909171</td>\n",
       "    </tr>\n",
       "    <tr>\n",
       "      <th>11</th>\n",
       "      <td>0.868790</td>\n",
       "      <td>0.812718</td>\n",
       "      <td>0.999922</td>\n",
       "      <td>0.896653</td>\n",
       "    </tr>\n",
       "  </tbody>\n",
       "</table>\n",
       "</div>"
      ],
      "text/plain": [
       "           0         1         2         3\n",
       "0   0.450275  0.995495  0.034442  0.066581\n",
       "1   0.698989  0.984768  0.478610  0.644153\n",
       "2   0.830465  0.922694  0.766384  0.837306\n",
       "3   0.860406  0.926095  0.820229  0.869953\n",
       "4   0.852511  0.916214  0.815476  0.862915\n",
       "5   0.888174  0.880292  0.930024  0.904475\n",
       "6   0.916696  0.879407  0.989324  0.931133\n",
       "7   0.905341  0.892393  0.948025  0.919368\n",
       "8   0.903566  0.861347  0.989948  0.921180\n",
       "9   0.871540  0.831167  0.971714  0.895962\n",
       "10  0.890703  0.862679  0.960960  0.909171\n",
       "11  0.868790  0.812718  0.999922  0.896653"
      ]
     },
     "execution_count": 194,
     "metadata": {},
     "output_type": "execute_result"
    }
   ],
   "source": [
    "pd.DataFrame(data=[accuracy_mae_list, precision_mae_list, recall_mae_list, f1_mae_list]).T"
   ]
  },
  {
   "cell_type": "code",
   "execution_count": null,
   "metadata": {},
   "outputs": [],
   "source": []
  },
  {
   "cell_type": "code",
   "execution_count": null,
   "metadata": {},
   "outputs": [],
   "source": []
  },
  {
   "cell_type": "markdown",
   "metadata": {},
   "source": [
    "### Experiment 3: Shallow learning"
   ]
  },
  {
   "cell_type": "markdown",
   "metadata": {},
   "source": [
    "Naive Baysian"
   ]
  },
  {
   "cell_type": "code",
   "execution_count": null,
   "metadata": {},
   "outputs": [],
   "source": []
  },
  {
   "cell_type": "code",
   "execution_count": null,
   "metadata": {},
   "outputs": [],
   "source": []
  },
  {
   "cell_type": "code",
   "execution_count": null,
   "metadata": {},
   "outputs": [],
   "source": []
  }
 ],
 "metadata": {
  "kernelspec": {
   "display_name": "credit60",
   "language": "python",
   "name": "credit60"
  },
  "language_info": {
   "codemirror_mode": {
    "name": "ipython",
    "version": 3
   },
   "file_extension": ".py",
   "mimetype": "text/x-python",
   "name": "python",
   "nbconvert_exporter": "python",
   "pygments_lexer": "ipython3",
   "version": "3.7.10"
  }
 },
 "nbformat": 4,
 "nbformat_minor": 4
}
